{
  "nbformat": 4,
  "nbformat_minor": 0,
  "metadata": {
    "colab": {
      "provenance": [],
      "machine_shape": "hm",
      "include_colab_link": true
    },
    "kernelspec": {
      "display_name": "Python 3",
      "name": "python3"
    },
    "language_info": {
      "codemirror_mode": {
        "name": "ipython",
        "version": 3
      },
      "file_extension": ".py",
      "mimetype": "text/x-python",
      "name": "python",
      "nbconvert_exporter": "python",
      "pygments_lexer": "ipython3",
      "version": "3.7.3"
    }
  },
  "cells": [
    {
      "cell_type": "markdown",
      "metadata": {
        "id": "view-in-github",
        "colab_type": "text"
      },
      "source": [
        "<a href=\"https://colab.research.google.com/github/Goldstein-Berger/law-dmr21-sentence-meaning-annotation/blob/main/dataadv_multilabel_with_synthetic_and_LFs_accuracy_031124.ipynb\" target=\"_parent\"><img src=\"https://colab.research.google.com/assets/colab-badge.svg\" alt=\"Open In Colab\"/></a>"
      ]
    },
    {
      "cell_type": "markdown",
      "metadata": {
        "id": "m5tUoHe9FRhs"
      },
      "source": [
        "## Import Libraries"
      ]
    },
    {
      "cell_type": "markdown",
      "source": [
        "Already created train and test and sub-labeling functions in undated version of this script"
      ],
      "metadata": {
        "id": "tvZpO6UIIhXf"
      }
    },
    {
      "cell_type": "markdown",
      "source": [
        "Based upon:  https://colab.research.google.com/github/rap12391/transformers_multilabel_toxic/blob/master/toxic_multilabel.ipynb#scrollTo=Dr7BCHS-nIRW"
      ],
      "metadata": {
        "id": "y49FbDiF5DiE"
      }
    },
    {
      "cell_type": "code",
      "source": [
        "!pip install sentencepiece"
      ],
      "metadata": {
        "colab": {
          "base_uri": "https://localhost:8080/"
        },
        "id": "lKx2vc68zEXD",
        "outputId": "0769fbd0-ab05-4061-e07f-17bd84bd7a44"
      },
      "execution_count": 1,
      "outputs": [
        {
          "output_type": "stream",
          "name": "stdout",
          "text": [
            "Requirement already satisfied: sentencepiece in /usr/local/lib/python3.10/dist-packages (0.1.99)\n"
          ]
        }
      ]
    },
    {
      "cell_type": "code",
      "metadata": {
        "id": "Dr7BCHS-nIRW",
        "scrolled": true,
        "colab": {
          "base_uri": "https://localhost:8080/"
        },
        "outputId": "70f83d5a-46b7-42bb-e97f-7c37807bd983"
      },
      "source": [
        "!pip install transformers\n",
        "import pandas as pd\n",
        "import numpy as np\n",
        "import tensorflow as tf\n",
        "import torch\n",
        "from torch.nn import BCEWithLogitsLoss, BCELoss\n",
        "from torch.utils.data import TensorDataset, DataLoader, RandomSampler, SequentialSampler\n",
        "#from keras.preprocessing.sequence import pad_sequences\n",
        "from sklearn.model_selection import train_test_split\n",
        "from sklearn.preprocessing import MultiLabelBinarizer\n",
        "from sklearn.metrics import classification_report, confusion_matrix, multilabel_confusion_matrix, f1_score, accuracy_score\n",
        "import pickle\n",
        "from transformers import *\n",
        "from tqdm import tqdm, trange\n",
        "from ast import literal_eval"
      ],
      "execution_count": 2,
      "outputs": [
        {
          "output_type": "stream",
          "name": "stdout",
          "text": [
            "Requirement already satisfied: transformers in /usr/local/lib/python3.10/dist-packages (4.38.2)\n",
            "Requirement already satisfied: filelock in /usr/local/lib/python3.10/dist-packages (from transformers) (3.13.1)\n",
            "Requirement already satisfied: huggingface-hub<1.0,>=0.19.3 in /usr/local/lib/python3.10/dist-packages (from transformers) (0.20.3)\n",
            "Requirement already satisfied: numpy>=1.17 in /usr/local/lib/python3.10/dist-packages (from transformers) (1.25.2)\n",
            "Requirement already satisfied: packaging>=20.0 in /usr/local/lib/python3.10/dist-packages (from transformers) (24.0)\n",
            "Requirement already satisfied: pyyaml>=5.1 in /usr/local/lib/python3.10/dist-packages (from transformers) (6.0.1)\n",
            "Requirement already satisfied: regex!=2019.12.17 in /usr/local/lib/python3.10/dist-packages (from transformers) (2023.12.25)\n",
            "Requirement already satisfied: requests in /usr/local/lib/python3.10/dist-packages (from transformers) (2.31.0)\n",
            "Requirement already satisfied: tokenizers<0.19,>=0.14 in /usr/local/lib/python3.10/dist-packages (from transformers) (0.15.2)\n",
            "Requirement already satisfied: safetensors>=0.4.1 in /usr/local/lib/python3.10/dist-packages (from transformers) (0.4.2)\n",
            "Requirement already satisfied: tqdm>=4.27 in /usr/local/lib/python3.10/dist-packages (from transformers) (4.66.2)\n",
            "Requirement already satisfied: fsspec>=2023.5.0 in /usr/local/lib/python3.10/dist-packages (from huggingface-hub<1.0,>=0.19.3->transformers) (2023.6.0)\n",
            "Requirement already satisfied: typing-extensions>=3.7.4.3 in /usr/local/lib/python3.10/dist-packages (from huggingface-hub<1.0,>=0.19.3->transformers) (4.10.0)\n",
            "Requirement already satisfied: charset-normalizer<4,>=2 in /usr/local/lib/python3.10/dist-packages (from requests->transformers) (3.3.2)\n",
            "Requirement already satisfied: idna<4,>=2.5 in /usr/local/lib/python3.10/dist-packages (from requests->transformers) (3.6)\n",
            "Requirement already satisfied: urllib3<3,>=1.21.1 in /usr/local/lib/python3.10/dist-packages (from requests->transformers) (2.0.7)\n",
            "Requirement already satisfied: certifi>=2017.4.17 in /usr/local/lib/python3.10/dist-packages (from requests->transformers) (2024.2.2)\n"
          ]
        },
        {
          "output_type": "stream",
          "name": "stderr",
          "text": [
            "/usr/local/lib/python3.10/dist-packages/transformers/deepspeed.py:23: FutureWarning: transformers.deepspeed module is deprecated and will be removed in a future version. Please import deepspeed modules directly from transformers.integrations\n",
            "  warnings.warn(\n",
            "/usr/local/lib/python3.10/dist-packages/transformers/generation_utils.py:24: FutureWarning: Importing `GenerationMixin` from `src/transformers/generation_utils.py` is deprecated and will be removed in Transformers v4.40. Import as `from transformers import GenerationMixin` instead.\n",
            "  warnings.warn(\n",
            "/usr/local/lib/python3.10/dist-packages/transformers/generation_tf_utils.py:24: FutureWarning: Importing `TFGenerationMixin` from `src/transformers/generation_tf_utils.py` is deprecated and will be removed in Transformers v4.40. Import as `from transformers import TFGenerationMixin` instead.\n",
            "  warnings.warn(\n",
            "/usr/local/lib/python3.10/dist-packages/transformers/generation_flax_utils.py:24: FutureWarning: Importing `FlaxGenerationMixin` from `src/transformers/generation_flax_utils.py` is deprecated and will be removed in Transformers v4.40. Import as `from transformers import FlaxGenerationMixin` instead.\n",
            "  warnings.warn(\n",
            "No CUDA runtime is found, using CUDA_HOME='/usr/local/cuda'\n"
          ]
        }
      ]
    },
    {
      "cell_type": "code",
      "source": [
        "import pandas as pd\n"
      ],
      "metadata": {
        "id": "XhANbtAOzkvS"
      },
      "execution_count": 3,
      "outputs": []
    },
    {
      "cell_type": "code",
      "source": [
        "#bert\n",
        "# Import Tokenizer and pad_sequences\n",
        "from tensorflow.keras.preprocessing.text import Tokenizer\n",
        "from tensorflow.keras.preprocessing.sequence import pad_sequences\n",
        "#!pip install transformers\n",
        "#from transformers import BertTokenizer"
      ],
      "metadata": {
        "id": "zF1AsYzJ9mH1"
      },
      "execution_count": 4,
      "outputs": []
    },
    {
      "cell_type": "code",
      "metadata": {
        "id": "zB5Dij6JuItX",
        "colab": {
          "base_uri": "https://localhost:8080/"
        },
        "outputId": "8a71106f-a004-48bb-b161-ee7f826200a5"
      },
      "source": [
        "from google.colab import drive\n",
        "drive.mount('/content/drive')"
      ],
      "execution_count": 5,
      "outputs": [
        {
          "output_type": "stream",
          "name": "stdout",
          "text": [
            "Mounted at /content/drive\n"
          ]
        }
      ]
    },
    {
      "cell_type": "code",
      "metadata": {
        "id": "UhjnJEwKnISB",
        "colab": {
          "base_uri": "https://localhost:8080/",
          "height": 193
        },
        "outputId": "0f483ad7-9f21-478c-caec-0e6c1d20b34e"
      },
      "source": [
        "device_name = tf.test.gpu_device_name()\n",
        "if device_name != '/device:GPU:0':\n",
        "  raise SystemError('GPU device not found')\n",
        "print('Found GPU at: {}'.format(device_name))"
      ],
      "execution_count": 6,
      "outputs": [
        {
          "output_type": "error",
          "ename": "SystemError",
          "evalue": "GPU device not found",
          "traceback": [
            "\u001b[0;31m---------------------------------------------------------------------------\u001b[0m",
            "\u001b[0;31mSystemError\u001b[0m                               Traceback (most recent call last)",
            "\u001b[0;32m<ipython-input-6-ce08ddae0a7d>\u001b[0m in \u001b[0;36m<cell line: 2>\u001b[0;34m()\u001b[0m\n\u001b[1;32m      1\u001b[0m \u001b[0mdevice_name\u001b[0m \u001b[0;34m=\u001b[0m \u001b[0mtf\u001b[0m\u001b[0;34m.\u001b[0m\u001b[0mtest\u001b[0m\u001b[0;34m.\u001b[0m\u001b[0mgpu_device_name\u001b[0m\u001b[0;34m(\u001b[0m\u001b[0;34m)\u001b[0m\u001b[0;34m\u001b[0m\u001b[0;34m\u001b[0m\u001b[0m\n\u001b[1;32m      2\u001b[0m \u001b[0;32mif\u001b[0m \u001b[0mdevice_name\u001b[0m \u001b[0;34m!=\u001b[0m \u001b[0;34m'/device:GPU:0'\u001b[0m\u001b[0;34m:\u001b[0m\u001b[0;34m\u001b[0m\u001b[0;34m\u001b[0m\u001b[0m\n\u001b[0;32m----> 3\u001b[0;31m   \u001b[0;32mraise\u001b[0m \u001b[0mSystemError\u001b[0m\u001b[0;34m(\u001b[0m\u001b[0;34m'GPU device not found'\u001b[0m\u001b[0;34m)\u001b[0m\u001b[0;34m\u001b[0m\u001b[0;34m\u001b[0m\u001b[0m\n\u001b[0m\u001b[1;32m      4\u001b[0m \u001b[0mprint\u001b[0m\u001b[0;34m(\u001b[0m\u001b[0;34m'Found GPU at: {}'\u001b[0m\u001b[0;34m.\u001b[0m\u001b[0mformat\u001b[0m\u001b[0;34m(\u001b[0m\u001b[0mdevice_name\u001b[0m\u001b[0;34m)\u001b[0m\u001b[0;34m)\u001b[0m\u001b[0;34m\u001b[0m\u001b[0;34m\u001b[0m\u001b[0m\n",
            "\u001b[0;31mSystemError\u001b[0m: GPU device not found"
          ]
        }
      ]
    },
    {
      "cell_type": "code",
      "metadata": {
        "id": "uorMX_zrnISM",
        "scrolled": true
      },
      "source": [
        "device = torch.device(\"cuda\" if torch.cuda.is_available() else \"cpu\")\n",
        "n_gpu = torch.cuda.device_count()\n",
        "torch.cuda.get_device_name(0)"
      ],
      "execution_count": null,
      "outputs": []
    },
    {
      "cell_type": "code",
      "source": [
        "main_categories=[\"Space\", \"Culture\", \"Tools\", \"Workforce_Needs\"]\n",
        "\n",
        "Space=[\"Aspects\", \"Amenities\", \"Lighting\", \"Interiors\", \"Exteriors\", \"Sound\", \"Windows\", \"Aesthetics\", \"Shared_Spaces\", \"Location\", \"Furniture\"]\n",
        "Culture=[\"Interaction_Culture\", \"Bad_Feelings\", \"Good_Feelings\", \"Autonomy\"]\n",
        "Tools=[\"Technology\", \"Policy_Benefits\", \"Supplies\", \"Video_Conferencing\"]\n",
        "#does misc go into workforce_needs?\n",
        "Workforce_Needs=[\"Policy_Benefits\", \"Health_Safety\"]\n",
        "\n",
        "#Space Subcategories (some of which have labeling functions)\n",
        "Aspects=[\"Air_Quality\", \"Air_Temperature\"]\n",
        "Amenities=[\"Hall\", \"Kitchen\", \"Lobby\", \"Locker_Room\", \"Lounge\", \"Storage\", \"Basement\", \"Amenities\"]\n",
        "Lighting=[\"Lighting_Indoor\", \"Lighting_Outdoor\"]\n",
        "Interiors=[\"Ceiling\", \"Door\", \"Elevator\", \"Flooring\", \"Stairs\", \"Walls\", \"Window_Covering\"]\n",
        "Exteriors=[\"Roof\", \"Signage\", \"Main_entrance\"]\n",
        "Sound=[\"Sound\", \"Noise\", \"Acoustics\", \"Distraction\", \"Privacy\", \"Focus\", \"Music\"]\n",
        "Windows=[\"Windows\", \"View\", \"Natural_Light\"]\n",
        "Aesthetics=[\"Greenery\", \"Open_Plan\", \"Layout\", \"Aesthetics\", \"Art\", \"Design\"]\n",
        "Shared_Spaces=[\"Meeting_Room\", \"Team_Room\", \"Collaboration_Room\", \"Training_Room\", \"Project_Room\"]\n",
        "Location=[\"Commute\", \"Electric_Vehicles\", \"Location\", \"Parking\"]\n",
        "Lighting=[\"Lighting_Indoor\", \"Lighting_Outdoor\"]\n",
        "Furniture=[\"Furniture\", \"Desk\", \"Chair\", \"Cubicle\"]\n",
        "\n",
        "#Culture\n",
        "Interaction_Culture=[\"Collaboration\", \"Communication\", \"Conversation\", \"Impromptu\", \"Interaction\", \"Team\", \"Leadership\", \"Formality\", \"Productivity\"]\n",
        "Bad_Feelings=[\"Cramped\", \"Bad_Culture\", \"Smell\", \"Isolation\", \"Covid_19\", \"Ailments\", \"Stress\"]\n",
        "Good_Feelings=[\"Comfort\", \"Enjoyment\", \"Good_Culture\", \"Trust\", \"Wellness\"]\n",
        "Autonomy=[\"Return_To_Office\", \"Hot_Desk\", \"Personalization\", \"Meetings_In_person\", \"Socialize_In_person\", \"In_Office_Dislike\", \"Impromptu\"]\n",
        "\n",
        "#Tools\n",
        "Technology=[\"Computer\", \"Printer_Copier\", \"Technology\", \"Video_Conference\"]\n",
        "\n",
        "#Workforce Needs\n",
        "Health_Safety=[\"Mold\", \"Vermin\", \"Homeless\", \"Clean_Neat\", \"Messiness_Or_Unclean\", \"Security\", \"Bathrooms\", \"Handicap\"]\n",
        "Policy_Benefits=[\"Policy\", \"Benefits\", \"Fitness\", \"Childcare\", \"Telecommuting\", \"Food_Drinks\", \"Learning\"]\n",
        "#Policy_Benefits Sub-Subcategory\n",
        "Miscellaneous=[\"Anything\", \"Everything\", \"Nothing\", \"Do_Not_Know\"]\n"
      ],
      "metadata": {
        "id": "hNUspx851b1S"
      },
      "execution_count": null,
      "outputs": []
    },
    {
      "cell_type": "code",
      "source": [
        "Label_Names=[\"Acoustics\", \"Aesthetics\", \"Ailments\", \"Air_Quality\", \"Air_Temperature\", \"Amenities\", \"Art\", \"Bad_Culture\", \"Basement\", \"Bathroom\",\n",
        "             \"Benefits\", \"Cafeteria\", \"Ceiling\", \"Chair\", \"Change_Of_Pace\", \"Childcare\", \"Clean_Neat\", \"Collaboration\", \"Commute\",\n",
        "             \"Communication\", \"Computer\", \"Conversation\", \"Covid_19\", \"Cramped\", \"Desk\", \"Door\", \"Elevator\", \"Enjoyment\",\n",
        "             \"Collaboration_Room\", \"Comfort\", \"Communication\", \"Computer\", \"Conversation\", \"Covid_19\", \"Cramped\", \"Cubicle\",\n",
        "             \"Desk\", \"Design\", \"Distraction\", \"Do_Not_Know\", \"Door\", \"Electric_Vehicle\", \"Elevator\", \"Enjoyment\", \"Everything\", \"Fitness\", \"Flooring\",\n",
        "             \"Focus\", \"Food_Drink\", \"Formality\", \"Furniture\", \"Good_Culture\", \"Greenery\", \"Hall\", \"Handicap\", \"Homeless\",\n",
        "             \"Hot_Desk\", \"Impromptu\", \"In_Office\", \"Interaction\", \"Isolation\", \"Kitchen\", \"Lactation\", \"Layout\", \"Leadership\",\n",
        "             \"Learning\", \"Lighting_Indoor\", \"Lighting_Outdoor\", \"Lobby\", \"Location\", \"Locker_Room\", \"Lounge\", \"Meetings_In_Person\",\n",
        "             \"Meeting_Room\", \"Messiness_Or_Unclean\", \"Mold\", \"Music\", \"Natural_Light\", \"No\", \"Noise\", \"Not_Applicable\", \"Open_Plan\", \"Personalization\", \"Printer_Copier\",\n",
        "             \"Privacy\", \"Productivity\", \"Return_To_Office\", \"Roof\", \"Security\", \"Signage\", \"Smell\", \"Socialize_In_Person\", \"Stairs\", \"Storage\", \"Stress\", \"Supplies\", \"Team\",\n",
        "             \"Technology\", \"Telecommuting\", \"Training_Room\", \"Trust\", \"Vermin\", \"Video_Conference\", \"View\", \"Walls\", \"Window_Covering\", \"Wellness\"]\n",
        "\n",
        "Acoustics=[\"acoustics\", \"acoustic\", \"echoes\", \"soundproof\", \"sound\", \"sounds\", \"echo\", \"accoustics\", \"accoustic\"]\n",
        "Aesthetics=[\"aesthetic\", \"aesthetically\", \"aesthetics\", \"atmosphere\", \"appearance\", \"attractive\", \"beautiful\", \"decor\", \"decoration\", \"finishes\", \"ambiance\", \"palette\", \"decor\", \"decoration\", \"outdated\", \"dated\", \"updating\", \"older\", \"age\", \"refresh\", \"aged\", \"uninspired\", \"sameness\", \"blah\", \"ambiance\", \"retro\", \"decor\", \"style\", \"depressed\", \"depressing\", \"environment\", \"dull\", \"dazzling\", \"old\", \"drab\", \"out dated\", \"outdated\", \"color\", \"colour\", \"unattractive\", \"staid\", \"colors\", \"sterile\", \"outdated\", \"ikea\", \"refreshed\", \"inspiring\", \"boring\", \"bland\", \"stale\", \"dreary\", \"modern\", \"out of date\", \"80s\", \"1980s\", \"1970s\", \"70s\", \"1960s\", \"60s\", \"updating\", \"sterile\", \"ugly\", \"tattiness\", \"tacky\", \"threadbare\", \"dingy\"]\n",
        "Ailments=[\"ailments\", \"migraine\", \"headache\", \"migraines\", \"headaches\", \"migrane\", \"migranes\", \"neck pain\", \"back pain\", \"eye strain\", \"sickness\", \"sick\", \"virus\", \"infection\", \"covid\", \"viruses\", \"sicknesses\", \"sinus\", \"sinuses\", \"allergies\", \"allergy\", \"colds\", \"disease\"]\n",
        "Air_Quality=[\"pollution\", \"breathable\", \"air quality\", \"ventilation\", \"dry air\", \"stuffy\", \"breathe\", \"air flow\", \"fresh air\", \"freshair\", \"air vent\", \"air vents\", \"unventiliated\", \"unventilated\"]\n",
        "Air_Temperature=[\"temperature\", \"temp\", \"hot\", \"climate\", \"freezing\", \"cold\", \"warm\", \"temperatures\", \"colder\", \"coldest\", \"coldness\", \"air conditioning\", \"heating\", \"ac\", \"air\", \"hvac\", \"air conditioning\", \"convection\", \"hot\", \"dry\", \"stuffy\", \"uncomfortable\", \"cooling\", \"heat\", \"heater\", \"heated\", \"chilly\", \"temperture\"]\n",
        "Amenities=[\"amenities\", \"amenity\"]\n",
        "Art=[\"art\", \"murals\", \"mural\", \"sculpture\", \"branding\"]\n",
        "Basement=[\"basement\", \"basements\", \"cellar\", \"below ground\"]\n",
        "Bad_Culture=[\"toxic\", \"toxicity\", \"uncaring\", \"feedback\", \"autonomy\", \"fairness\", \"unfairness\", \"inequality\", \"equality\", \"misogyny\", \"sexism\", \"unequitable\", \"mansplaining\", \"negative\", \"dysfunctional\", \"hostile\", \"unproductive\", \"corrosive\", \"blame\", \"blaming\", \"blamed\"]\n",
        "Bathroom=[\"bathroom\", \"toilet\", \"toilets\", \"bathrooms\", \"restroom\", \"plumbing\", \"towels\", \"flush\", \"flushing\", \"sink\", \"women's room\", \"men's room\", \"women room\", \"men room\", \"rest room\", \"bath room\", \"bathroom\", \"restrooms\", \"urinals\", \"urinal\"]\n",
        "Benefits=[\"pto\", \"time off\", \"vacation\", \"health insurance\", \"401K\", \"benefits\", \"paid time off\", \"profit sharing\", \"insurance\", \"leave time\"]\n",
        "Cafeteria=[\"cafe\", \"food\", \"canteen\", \"cafeteria\", \"dining room\", \"cafeterias\", \"lunchroom\", \"eatery\", \"diner\", \"coffeehouse\", \"tea point\", \"tea room\"]\n",
        "Ceiling=[\"ceiling\", \"ceilings\"]\n",
        "Chair=[\"chair\", \"seat\", \"sit\", \"sitting\", \"sat\", \"chairs\", \"seats\"]\n",
        "Change_Of_Pace=[\"change of pace\", \"variety of settings\", \"change of scenery\",  \"a break from working from home\", \"a break from telecommuting\", \"a break from virtual\", \"a break from telework\", \"a break from teleworking\"]\n",
        "Childcare=[\"day care\", \"daycare\", \"after school\", \"afterschool\", \"child care\", \"childcare\", \"preschool\", \"pre-school\"]\n",
        "Clean_Neat=[\"cleanliness\", \"cleaning\", \"clean\", \"cleaned\", \"tidy\", \"cleanest\", \"cleaniest\", \"neat\", \"neatness\", \"hygiene\", \"sanitary\", \"sanitation\", \"orderly\", \"stained\", \"hygienic\", \"cleanest\", \"vacuum\", \"housekeeping\", \"cleaners\", \"cleanliness\"]\n",
        "Collaboration=[\"collaboration\", \"collaborate\"]\n",
        "Collaboration_Room=[\"collaboration room\", \"collaboration rooms\", \"collaborative work space\", \"collaborative work spaces\", \"collaborative workspace\", \"collaborative workspaces\"]\n",
        "Comfort=[\"comfort\", \"comfy\", \"cozy\", \"cushy\", \"homey\", \"comfortable\", \"calming\", \"chaos\", \"serene\", \"serenity\", \"solace\", \"cheer\"]\n",
        "Communication=[\"communication\", \"communicate\", \"communicates\"]\n",
        "Commute=[\"commute\", \"commuter\", \"car\", \"automobile\", \"subway\", \"train\", \"transportation\", \"vehicles\", \"station\", \"metro\", \"commuting\", \"traffic\", \"bike\", \"bicycle\", \"moped\", \"travel\", \"garage\", \"parking\", \"shuttle\", \"vehicle\", \"handicap spots\", \"handicap spot\", \"handicapped spot\", \"handicapped spots\", \"parking spots\"]\n",
        "Computer=[\"computer\", \"computers\", \"desktop\", \"laptop\", \"computer\", \"laptops\", \"desktops\", \"keyboard\", \"mouse\", \"usb\", \"docking station\", \"docking stations\", \"keyboards\", \"software\", \"microsoft\", \"antivirus\", \"CPU\", \"GPU\"]\n",
        "Conversation=[\"conversation\", \"chat\", \"talking\", \"chatting\", \"chit\", \"talk\", \"socialize\", \"socializing\", \"converse\", \"conversations\", \"conversing\"]\n",
        "Covid_19=[\"covid\", \"covid-19\", \"covid 19\", \"coronavirus\", \"corona\", \"corona virus\", \"corona\", \"n95\", \"masks\", \"mask\", \"vaccines\", \"vaccinations\", \"pandemic\"]\n",
        "Cramped=[\"cramped\", \"squished\", \"sardines\", \"small\", \"personal space\", \"insufficient space\", \"crowded\", \"overcrowded\", \"spacious\", \"cluttered\", \"openness\", \"open\", \"roomy\", \"enough room\", \"enclosed\", \"packed in\", \"shoebox\", \"bunched\", \"crowdedness\", \"outgrow\", \"snug\"]\n",
        "Cubicle=[\"cubicles\", \"cubicle\", \"cube\", \"cubes\", \"workstation\"]\n",
        "Design=[\"design\", \"modern\", \"designed\", \"spacious\"]\n",
        "Desk=[\"desk\", \"veradesk\", \"flexistation\", \"adjustable\", \"standing desk\", \"raised desk\", \"sitstand\", \"table\", \"sit to stand desk\"]\n",
        "Distraction=[\"distraction\", \"distracting\", \"distracted\", \"distractions\", \"focus\", \"concentrate\", \"concentration\", \"focused\", \"focusing\", \"concentrating\", \"concentrated\", \"disrupt\", \"disruption\", \"distracting\", \"interruptions\", \"interruption\", \"disruptive\", \"disturbance\", \"distraction\"]\n",
        "Do_Not_Know=[\"do not know\", \"don't know\", \"unsure\", \"not sure\"]\n",
        "Door=[\"door\", \"doors\"]\n",
        "Electric_Vehicle=[\"electric vehicle\", \"electric vehicles\", \"plug-in stations\", \"electric vehicle\", \"charging station\", \"charging stations\", \"plug-in stations\"]\n",
        "Elevator=[\"elevator\", \"elevators\", \"escalator\", \"escalators\"]\n",
        "Enjoyment=[\"enjoyment\", \"fun\", \"happy\", \"enjoy\"]\n",
        "Everything=[\"everything\"]\n",
        "Fitness=[\"gym\", \"fitness\", \"workout\", \"yoga\", \"wellness\", \"exercise\", \"gymnasium\", \"weights\", \"treadmill\", \"treadmills\", \"peloton\", \"aerobics\", \"pilates\", \"barre\", \"pools\", \"swimming\", \"pool\", \"onsite fitness\"]\n",
        "Flooring=[\"carpets\", \"flooring\", \"tile floor\", \"rugs\", \"carpet\", \"wood floor\", \"carpeting\", \"terrazzo\", \"rug\", \"concrete floor\", \"cork floor\"]\n",
        "Focus=[\"focus\", \"concentrate\",  \"focuses\", \"concentrate\", \"concentration\", \"focused\", \"focusing\", \"concentrating\", \"concentrated\"]\n",
        "Food_Drink=[\"snacks\", \"food\", \"salad\", \"vending\", \"snack\", \"snacks\", \"drink\", \"drinks\", \"ice tea\", \"soda\", \"sodapop\", \"soda pop\", \"pepsi\", \"coke\", \"beverages\", \"beverage\", \"juice\", \"coffee\", \"espresso\",  \"nespresso\", \"keurig\"]\n",
        "Formality=[\"formality\", \"formal\", \"informal\"]\n",
        "Furniture=[\"furniture\", \"furnishings\", \"ergonomic\", \"ergonomically\", \"non-ergonomic\", \"modular furniture\", \"tables\", \"booths\", \"couch\", \"couches\"]\n",
        "Good_Culture=[\"energized\", \"agency\", \"supportive environment\", \"recognition\", \"appreciation\", \"trustworthy\", \"caring\", \"feedback\", \"good environment\", \"autonomy\", \"fairness\", \"equality\", \"respect\", \"equitable\", \"trust\", \"emotional support\", \"supportive environment\", \"appreciative\", \"community\", \"loyalty\", \"good culture\", \"positive culture\", \"excellent culture\"]\n",
        "Greenery=[\"greenery\", \"garden\", \"scenery\", \"plants\", \"landscape\",  \"greenspace\", \"landscaping\", \"biofilia\", \"biophilia\", \"tree\", \"trees\", \"gardens\"]\n",
        "Hall=[\"hall\", \"hallway\", \"halls\", \"hallways\", \"corridor\", \"passageway\"]\n",
        "Handicap=[\"handicap access\", \"ADA\", \"accessible\", \"accesible\", \"inclusive design\", \"universal design\"]\n",
        "Homeless=[\"homeless\", \"vagrants\", \"panhandlers\", \"waif\", \"homelessness\", \"tent city\"]\n",
        "Hot_Desk=[\"hot desk\", \"hotdesk\", \"unassigned desk\", \"hoteling\", \"hot-desk\", \"dedicated seat\", \"assigned work place\", \"assigned workplace\", \"assigned workplace\", \"assigned desk\", \"unassigned workplace\"]\n",
        "Impromptu=[\"spontaneity\", \"impromptu\", \"spontaneous\", \"impromptuness\", \"unplanned\", \"not planned\"]\n",
        "In_Office=[\"in person\", \"commute\", \"commuting\", \"in the office\", \"come to the office\", \"coming to the office\", \"at the office\"]\n",
        "Interaction=[\"interaction\", \"engagement\", \"interacting\", \"working with the team\", \"teamwork\", \"working as a team\", \"comradery\", \"cammaraderie\", \"lunch with co workers\", \"lunch with coworkers\", \"socialize\", \"going to lunch\", \"build relationships\", \"impromptu discussions\", \"impromptu discussion\", \"can ask questions\", \"able to ask questions\", \"can ask a question\", \"able to ask questions\", \"interacting\", \"interactions\", \"person to person\", \"side by side\", \"ask questions\", \"connecting with co workers\", \"connecting with coworkers\", \"connecting with colleagues\", \"sharing\", \"meet with colleagues\", \"meet with my colleagues\", \"meet with coworkers\", \"meet with co workers\", \"catching up\", \"cooperation\", \"cooperating\", \"socializing with my coworkers\", \"socializing\", \"friends\", \"friendship\", \"feel closer\", \"closer with colleagues\", \"closer with coworkers\", \"closer with co workers\"]\n",
        "Isolation=[\"isolation\", \"alienation\", \"alienated\", \"bickering\", \"fighting\", \"screaming\", \"isolate\", \"isolated\", \"interact\", \"lonely\", \"loneliness\", \"alienating\", \"disconnected\", \"disconnection\"]\n",
        "Kitchen=[\"kitchen\", \"lunchroom\", \"breakroom\", \"microwave\", \"refrigerator\", \"dishwasher\", \"dish washer\", \"fridge\", \"pantry\", \"lunch room\", \"break room\"]\n",
        "Lactation=[\"breastfeeding\", \"breastfeeding\", \"mothers room\", \"mother's room\", \"lactation\", \"baby\", \"pumping milk\", \"mother and baby room\", \"maternity\"]\n",
        "Layout=[\"layout\", \"floorplan\", \"floor plan\", \"far away\", \"spread out\", \"split up\", \"separate floor\", \"far away from team\", \"distance from the team\", \"lay out\"]\n",
        "Leadership=[\"leader\", \"leaders\", \"leadership\", \"management\", \"manager\", \"managers\", \"executives\", \"c-suite\"]\n",
        "Learning=[\"learning\", \"training\", \"sharing knowledge\", \"knowledge building\", \"learn\", \"courses\", \"education\", \"educate\"]\n",
        "Lighting_Indoor=[\"light\", \"lighting\", \"florescent\", \"eye strain\", \"bright\", \"illuminate\", \"lamp\", \"light bulb\", \"lightbulb\", \"dark\", \"bright\", \"glare\", \"lights\", \"brighter\"]\n",
        "Lighting_Outdoor=[\"outdoor lighting\", \"street lamp\", \"streetlamp\", \"street lighting\", \"parking lighting\", \"streetlamps\", \"street lamps\", \"flood light\", \"flood lights\", \"outdoor light\", \"outdoor lights\"]\n",
        "Lobby=[\"reception\", \"lobby\", \"waiting room\", \"entrance\", \"entry\", \"entranceway\", \"foyer\"]\n",
        "Location=[\"commute\", \"car\", \"subway\", \"train\", \"transportation\", \"vehicles\", \"station\", \"metro\", \"traffic\", \"location\", \"convenient\", \"bike\", \"bicycle\", \"moped\", \"travel\", \"restaurants\", \"stores\", \"shopping\", \"city center\", \"uptown\", \"downtown\", \"neighborhoods\", \"neighborhood\", \"affordable\", \"suburban\", \"suburbs\", \"schools\", \"garage\", \"parking\", \"shuttle\", \"vehicle\", \"handicap spots\", \"handicap spot\", \"handicapped spot\", \"handicapped spots\"]\n",
        "Locker_Room=[\"locker room\", \"changing area\", \"shower\", \"showers\"]\n",
        "Lounge=[\"lounge\", \"lounges\", \"nap\", \"sleep\", \"activity room\", \"game room\", \"rest area\", \"common area\", \"common space\"]\n",
        "Meetings_In_Person=[\"in person meetings\", \"face to face meetings\", \"meeting in person\", \"meeting face to face\", \"in person meeting\"]\n",
        "Meeting_Room=[\"meeting room\", \"meeting rooms\", \"meeting room technology\", \"meeting room tech\", \"conference room technology\", \"conference room tech\", \"lack of meeting rooms\", \"lack of conference rooms\", \"lack of team rooms\", \"lack of project rooms\", \"lack of activity rooms\", \"lack of activities room\", \"any meeting rooms\", \"any conference rooms\", \"lack of available conference rooms\", \"scheduling conference rooms\", \"scheduling meeting rooms\", \"not enough conference rooms\", \"small meeting rooms\", \"meeting room technology\", \"cramped meeting rooms\", \"meeting room furniture\", \"small conference room\", \"small conference rooms\", \"small meeting room\", \"conference room technology\", \"cramped conference room\", \"conference room furniture\", \"meetingrooms\", \"bookable\"]\n",
        "Messiness_Or_Unclean=[\"messiness\", \"dirty\", \"untidy\", \"unhygienic\", \"unsanitary\", \"garbage\", \"dust\", \"stains\", \"cruddy\", \"stained\", \"soiled\", \"sullied\", \"unclean\", \"uncleanly\", \"insanitary\", \"sordid\", \"germs\", \"germy\", \"tainted\"]\n",
        "Mold=[\"mold\", \"mildew\", \"fungus\"]\n",
        "Music=[\"music\", \"muzak\"]\n",
        "Natural_Light=[\"natural light\", \"natural lighting\", \"natural light\", \"sunlight\", \"sun light\", \"window\", \"windows\", \"sunshine\", \"daylight\", \"day light\", \"natural lighting\"]\n",
        "No=[\"no\", \"none\", \"nothing\", \"all good\", \"can't think of any\", \"can't think of anything\", \"cannot think of anything\", \"cannot think of any\"]\n",
        "Noise=[\"loud\", \"noisy\", \"quiet\", \"sound\", \"hear\", \"noise\", \"nosiness\", \"rowdy\",  \"volume\", \"noice\", \"hearing\", \"noyse\", \"squeak\", \"louder\", \"loudest\", \"quieter\", \"quietiest\", \"quietist\", \"squeaky\"]\n",
        "Not_Applicable=[\"not applicable\", \"n/a\"]\n",
        "Open_Plan=[\"open space\", \"open concept\", \"open design\", \"open workspace\", \"open work space\", \"open spaces\", \"open environment\", \"open workplace\"]\n",
        "Personalization=[\"personalize\", \"personalization\"]\n",
        "Printer_Copier=[\"printing\", \"printer\", \"print\", \"scanning\", \"scanner\", \"copier\", \"copy\", \"copiers\", \"fax\", \"scanners\", \"facsimile\"]\n",
        "Privacy=[\"private\", \"privacy\", \"confidential\", \"fishbowl\", \"fish bowl\", \"confidentiality\"]\n",
        "Productivity=[\"productivity\", \"productive\"]\n",
        "Return_To_Office=[\"return to office\", \"return to the office\", \"return to work\", \"days in office\", \"days in the office\", \"flexible working\", \"flexibility\", \"face to face\", \"in-person\", \"in person\", \"in office\", \"seeing co workers\", \"in the office\", \"seeing coworkers\", \"face-to-face\", \"socializing with co workers\", \"being with co workers\", \"seeing my boss\", \"workhours\", \"water cooler conversations\", \"meeting at the water cooler\", \"seeing people\", \"around people\", \"seeing my coworkers\", \"seeing my co worker\", \"seeing coworkers in person\", \"seeing others\", \"water cooler conversations\", \"meeting at the water cooler\", \"seeing colleagues\", \"see people in person\", \"communicating in person\", \"seeing everyone\", \"seeing my colleagues\", \"going into the office\", \"being at the office\", \"come to the office\", \"come into the office\", \"going to work\", \"being at work\", \"come in\"]\n",
        "Roof=[\"roof\", \"rooves\", \"rooftop\"]\n",
        "Security=[\"security\", \"safety\", \"unsecure\", \"alarm\", \"unsafe\"]\n",
        "Signage=[\"signs\", \"directions\", \"signage\", \"directory\"]\n",
        "Smell=[\"smells\", \"smoke\", \"formaldehyde\", \"stinks\", \"stink\", \"cigars\", \"cigar\", \"cigarette\", \"cigarettes\", \"smell\", \"smelled\", \"odor\", \"odors\", \"odious\", \"scent\", \"scents\", \"aroma\", \"aromas\"]\n",
        "Socialize_In_Person=[\"socialize\", \"socializing\", \"socialized\", \"socializing with coworkers\", \"socialization\", \"happy hour\"]\n",
        "Stairs=[\"stairwell\", \"stairs\", \"staircase\", \"banister\"]\n",
        "Storage=[\"storage\", \"shelves\", \"cabinets\", \"closet\", \"closets\", \"drawer\", \"drawers\", \"shelf\", \"belongings\", \"cabinet\", \"shelving\"]\n",
        "Stress=[\"stress\", \"stressful\", \"stressed\", \"stressing\", \"anxiety\", \"anxious\", \"tension\", \"tense\", \"fret\", \"fuss\", \"worry\", \"worried\", \"worrying\"]\n",
        "Supplies=[\"supplies\", \"paper\", \"ink\", \"post it notes\", \"postitnotes\", \"post-it-notes\", \"stickies\", \"pens\", \"pencils\"]\n",
        "Team=[\"team\", \"colleague\", \"department\", \"division\", \"group\", \"squad\", \"crew\", \"colleagues\", \"coworkers\", \"co-workers\", \"colleagues\"]\n",
        "Technology=[\"tech\", \"technology\", \"network\", \"wifi\", \"internet\", \"bandwidth\", \"connectivity\", \"wi-fi\", \"monitor\", \"monitors\", \"screens\", \"dual screen\", \"wide screen\"]\n",
        "Telecommuting=[\"telecommute\", \"working from home\", \"telecommuting\", \"telecommuted\", \"teleworking\", \"working virtually\", \"home office\", \"homeoffice\", \"telework\", \"virtual work\", \"remote\", \"remotely\", \"work from home\", \"cyber commuting\", \"cybercommuting\", \"hybrid\"]\n",
        "Training_Room=[\"training room\", \"training rooms\"]\n",
        "Trust=[\"trust\", \"loyalty\", \"promise\"]\n",
        "Vermin=[\"insects\", \"spiders\", \"spider\", \"flies\", \"cockroaches\", \"bugs\", \"bug\", \"roach\", \"roaches\", \"mice\", \"rat\", \"rats\", \"rodent\", \"rodents\", \"pests\", \"critters\", \"mosquito\", \"mosquitos\", \"vermin\", \"mices\", \"moths\", \"fruit flies\", \"mouse\"]\n",
        "Video_Conference=[\"video conference\", \"videoconference\", \"videoconferencing\", \"headset\", \"ear buds\", \"earbuds\", \"virtual meetings\", \"teams meetings\", \"zoom meetings\", \"virtual meeting\", \"teams meeting\", \"AV\", \"audiovisual\", \"video\", \"teleconferencing\"]\n",
        "View=[\"view\", \"views\", \"unobstructed\"]\n",
        "Walls=[\"wall\", \"walls\", \"wallpaper\", \"paint\"]\n",
        "Window_Covering=[\"blinds\", \"shades\", \"curtain\", \"curtains\", \"drapes\", \"window shade\", \"drapery\"]\n",
        "Wellness=[\"wellness\", \"well being\", \"happy\", \"wellbeing\", \"health\", \"mindfulness\", \"happiness\", \"sedentary\", \"healthy\"]\n",
        "\n",
        "print(len(Label_Names))\n",
        "#98\n",
        "print(len(set(Label_Names)))\n",
        "\n",
        "\n",
        "\n",
        "\n",
        "\n",
        "\n",
        "\n"
      ],
      "metadata": {
        "id": "PjO8WJKMyB4j",
        "colab": {
          "base_uri": "https://localhost:8080/"
        },
        "outputId": "86b3dc39-a998-4f88-c903-2aa4e9dc894f"
      },
      "execution_count": null,
      "outputs": [
        {
          "output_type": "stream",
          "name": "stdout",
          "text": [
            "107\n",
            "98\n"
          ]
        }
      ]
    },
    {
      "cell_type": "code",
      "source": [
        "import pandas as pd\n"
      ],
      "metadata": {
        "id": "C7mX4uIDivkK"
      },
      "execution_count": null,
      "outputs": []
    },
    {
      "cell_type": "code",
      "source": [
        "#create empty dataframe to put in Label Name and LFs\n",
        "\n",
        "df_LFS = pd.DataFrame(index=range(98))"
      ],
      "metadata": {
        "id": "7c8uJXPc2h1B"
      },
      "execution_count": null,
      "outputs": []
    },
    {
      "cell_type": "code",
      "source": [
        "#eliminate duplicates\n",
        "LabeL_Names_cln=set(Label_Names)"
      ],
      "metadata": {
        "id": "SlYiqhWu2yYm"
      },
      "execution_count": null,
      "outputs": []
    },
    {
      "cell_type": "code",
      "source": [
        "\n",
        "df_LFS[\"LABEL_NAMES\"] = [label for label in LabeL_Names_cln]\n",
        "df_LFS['Words'] = [eval(labels) for labels in LabeL_Names_cln]\n"
      ],
      "metadata": {
        "id": "iMR8WYC63X8A"
      },
      "execution_count": null,
      "outputs": []
    },
    {
      "cell_type": "code",
      "source": [
        "print(df_LFS.head())"
      ],
      "metadata": {
        "colab": {
          "base_uri": "https://localhost:8080/"
        },
        "id": "XL9RUss03_Kx",
        "outputId": "349e8180-4598-478e-c136-10b06b9cb0e3"
      },
      "execution_count": null,
      "outputs": [
        {
          "output_type": "stream",
          "name": "stdout",
          "text": [
            "     LABEL_NAMES                                              Words\n",
            "0        Ceiling                                [ceiling, ceilings]\n",
            "1      Childcare  [day care, daycare, after school, afterschool,...\n",
            "2         Lounge  [lounge, lounges, nap, sleep, activity room, g...\n",
            "3   Conversation  [conversation, chat, talking, chatting, chit, ...\n",
            "4  Collaboration                       [collaboration, collaborate]\n"
          ]
        }
      ]
    },
    {
      "cell_type": "code",
      "source": [
        "# ascending\n",
        "df_LFS_alpha=df_LFS.sort_values('LABEL_NAMES')"
      ],
      "metadata": {
        "id": "nO7HV4rg6BLX"
      },
      "execution_count": null,
      "outputs": []
    },
    {
      "cell_type": "code",
      "source": [
        "df_LFS_clean=df_LFS_alpha.reset_index(drop=True)\n",
        "print(df_LFS_clean.shape)"
      ],
      "metadata": {
        "colab": {
          "base_uri": "https://localhost:8080/"
        },
        "id": "pHEltVvS4Wt8",
        "outputId": "5790583e-20cc-4391-92ed-6ac87372e83c"
      },
      "execution_count": null,
      "outputs": [
        {
          "output_type": "stream",
          "name": "stdout",
          "text": [
            "(98, 2)\n"
          ]
        }
      ]
    },
    {
      "cell_type": "code",
      "source": [
        "display(df_LFS_clean)"
      ],
      "metadata": {
        "colab": {
          "base_uri": "https://localhost:8080/",
          "height": 424
        },
        "id": "K6VI73aQ6oZx",
        "outputId": "2cf1857f-832a-43eb-a32e-7e230eeae98f"
      },
      "execution_count": null,
      "outputs": [
        {
          "output_type": "display_data",
          "data": {
            "text/plain": [
              "         LABEL_NAMES                                              Words\n",
              "0          Acoustics  [acoustics, acoustic, echoes, soundproof, soun...\n",
              "1         Aesthetics  [aesthetic, aesthetically, aesthetics, atmosph...\n",
              "2           Ailments  [ailments, migraine, headache, migraines, head...\n",
              "3        Air_Quality  [pollution, breathable, air quality, ventilati...\n",
              "4    Air_Temperature  [temperature, temp, hot, climate, freezing, co...\n",
              "..               ...                                                ...\n",
              "93  Video_Conference  [video conference, videoconference, videoconfe...\n",
              "94              View                        [view, views, unobstructed]\n",
              "95             Walls                    [wall, walls, wallpaper, paint]\n",
              "96          Wellness  [wellness, well being, happy, wellbeing, healt...\n",
              "97   Window_Covering  [blinds, shades, curtain, curtains, drapes, wi...\n",
              "\n",
              "[98 rows x 2 columns]"
            ],
            "text/html": [
              "\n",
              "  <div id=\"df-2fd243b0-0a8b-4f36-9190-ffc5ad02cfb0\" class=\"colab-df-container\">\n",
              "    <div>\n",
              "<style scoped>\n",
              "    .dataframe tbody tr th:only-of-type {\n",
              "        vertical-align: middle;\n",
              "    }\n",
              "\n",
              "    .dataframe tbody tr th {\n",
              "        vertical-align: top;\n",
              "    }\n",
              "\n",
              "    .dataframe thead th {\n",
              "        text-align: right;\n",
              "    }\n",
              "</style>\n",
              "<table border=\"1\" class=\"dataframe\">\n",
              "  <thead>\n",
              "    <tr style=\"text-align: right;\">\n",
              "      <th></th>\n",
              "      <th>LABEL_NAMES</th>\n",
              "      <th>Words</th>\n",
              "    </tr>\n",
              "  </thead>\n",
              "  <tbody>\n",
              "    <tr>\n",
              "      <th>0</th>\n",
              "      <td>Acoustics</td>\n",
              "      <td>[acoustics, acoustic, echoes, soundproof, soun...</td>\n",
              "    </tr>\n",
              "    <tr>\n",
              "      <th>1</th>\n",
              "      <td>Aesthetics</td>\n",
              "      <td>[aesthetic, aesthetically, aesthetics, atmosph...</td>\n",
              "    </tr>\n",
              "    <tr>\n",
              "      <th>2</th>\n",
              "      <td>Ailments</td>\n",
              "      <td>[ailments, migraine, headache, migraines, head...</td>\n",
              "    </tr>\n",
              "    <tr>\n",
              "      <th>3</th>\n",
              "      <td>Air_Quality</td>\n",
              "      <td>[pollution, breathable, air quality, ventilati...</td>\n",
              "    </tr>\n",
              "    <tr>\n",
              "      <th>4</th>\n",
              "      <td>Air_Temperature</td>\n",
              "      <td>[temperature, temp, hot, climate, freezing, co...</td>\n",
              "    </tr>\n",
              "    <tr>\n",
              "      <th>...</th>\n",
              "      <td>...</td>\n",
              "      <td>...</td>\n",
              "    </tr>\n",
              "    <tr>\n",
              "      <th>93</th>\n",
              "      <td>Video_Conference</td>\n",
              "      <td>[video conference, videoconference, videoconfe...</td>\n",
              "    </tr>\n",
              "    <tr>\n",
              "      <th>94</th>\n",
              "      <td>View</td>\n",
              "      <td>[view, views, unobstructed]</td>\n",
              "    </tr>\n",
              "    <tr>\n",
              "      <th>95</th>\n",
              "      <td>Walls</td>\n",
              "      <td>[wall, walls, wallpaper, paint]</td>\n",
              "    </tr>\n",
              "    <tr>\n",
              "      <th>96</th>\n",
              "      <td>Wellness</td>\n",
              "      <td>[wellness, well being, happy, wellbeing, healt...</td>\n",
              "    </tr>\n",
              "    <tr>\n",
              "      <th>97</th>\n",
              "      <td>Window_Covering</td>\n",
              "      <td>[blinds, shades, curtain, curtains, drapes, wi...</td>\n",
              "    </tr>\n",
              "  </tbody>\n",
              "</table>\n",
              "<p>98 rows × 2 columns</p>\n",
              "</div>\n",
              "    <div class=\"colab-df-buttons\">\n",
              "\n",
              "  <div class=\"colab-df-container\">\n",
              "    <button class=\"colab-df-convert\" onclick=\"convertToInteractive('df-2fd243b0-0a8b-4f36-9190-ffc5ad02cfb0')\"\n",
              "            title=\"Convert this dataframe to an interactive table.\"\n",
              "            style=\"display:none;\">\n",
              "\n",
              "  <svg xmlns=\"http://www.w3.org/2000/svg\" height=\"24px\" viewBox=\"0 -960 960 960\">\n",
              "    <path d=\"M120-120v-720h720v720H120Zm60-500h600v-160H180v160Zm220 220h160v-160H400v160Zm0 220h160v-160H400v160ZM180-400h160v-160H180v160Zm440 0h160v-160H620v160ZM180-180h160v-160H180v160Zm440 0h160v-160H620v160Z\"/>\n",
              "  </svg>\n",
              "    </button>\n",
              "\n",
              "  <style>\n",
              "    .colab-df-container {\n",
              "      display:flex;\n",
              "      gap: 12px;\n",
              "    }\n",
              "\n",
              "    .colab-df-convert {\n",
              "      background-color: #E8F0FE;\n",
              "      border: none;\n",
              "      border-radius: 50%;\n",
              "      cursor: pointer;\n",
              "      display: none;\n",
              "      fill: #1967D2;\n",
              "      height: 32px;\n",
              "      padding: 0 0 0 0;\n",
              "      width: 32px;\n",
              "    }\n",
              "\n",
              "    .colab-df-convert:hover {\n",
              "      background-color: #E2EBFA;\n",
              "      box-shadow: 0px 1px 2px rgba(60, 64, 67, 0.3), 0px 1px 3px 1px rgba(60, 64, 67, 0.15);\n",
              "      fill: #174EA6;\n",
              "    }\n",
              "\n",
              "    .colab-df-buttons div {\n",
              "      margin-bottom: 4px;\n",
              "    }\n",
              "\n",
              "    [theme=dark] .colab-df-convert {\n",
              "      background-color: #3B4455;\n",
              "      fill: #D2E3FC;\n",
              "    }\n",
              "\n",
              "    [theme=dark] .colab-df-convert:hover {\n",
              "      background-color: #434B5C;\n",
              "      box-shadow: 0px 1px 3px 1px rgba(0, 0, 0, 0.15);\n",
              "      filter: drop-shadow(0px 1px 2px rgba(0, 0, 0, 0.3));\n",
              "      fill: #FFFFFF;\n",
              "    }\n",
              "  </style>\n",
              "\n",
              "    <script>\n",
              "      const buttonEl =\n",
              "        document.querySelector('#df-2fd243b0-0a8b-4f36-9190-ffc5ad02cfb0 button.colab-df-convert');\n",
              "      buttonEl.style.display =\n",
              "        google.colab.kernel.accessAllowed ? 'block' : 'none';\n",
              "\n",
              "      async function convertToInteractive(key) {\n",
              "        const element = document.querySelector('#df-2fd243b0-0a8b-4f36-9190-ffc5ad02cfb0');\n",
              "        const dataTable =\n",
              "          await google.colab.kernel.invokeFunction('convertToInteractive',\n",
              "                                                    [key], {});\n",
              "        if (!dataTable) return;\n",
              "\n",
              "        const docLinkHtml = 'Like what you see? Visit the ' +\n",
              "          '<a target=\"_blank\" href=https://colab.research.google.com/notebooks/data_table.ipynb>data table notebook</a>'\n",
              "          + ' to learn more about interactive tables.';\n",
              "        element.innerHTML = '';\n",
              "        dataTable['output_type'] = 'display_data';\n",
              "        await google.colab.output.renderOutput(dataTable, element);\n",
              "        const docLink = document.createElement('div');\n",
              "        docLink.innerHTML = docLinkHtml;\n",
              "        element.appendChild(docLink);\n",
              "      }\n",
              "    </script>\n",
              "  </div>\n",
              "\n",
              "\n",
              "<div id=\"df-048d5c6b-7788-4d8a-b807-06c4c359ecc3\">\n",
              "  <button class=\"colab-df-quickchart\" onclick=\"quickchart('df-048d5c6b-7788-4d8a-b807-06c4c359ecc3')\"\n",
              "            title=\"Suggest charts\"\n",
              "            style=\"display:none;\">\n",
              "\n",
              "<svg xmlns=\"http://www.w3.org/2000/svg\" height=\"24px\"viewBox=\"0 0 24 24\"\n",
              "     width=\"24px\">\n",
              "    <g>\n",
              "        <path d=\"M19 3H5c-1.1 0-2 .9-2 2v14c0 1.1.9 2 2 2h14c1.1 0 2-.9 2-2V5c0-1.1-.9-2-2-2zM9 17H7v-7h2v7zm4 0h-2V7h2v10zm4 0h-2v-4h2v4z\"/>\n",
              "    </g>\n",
              "</svg>\n",
              "  </button>\n",
              "\n",
              "<style>\n",
              "  .colab-df-quickchart {\n",
              "      --bg-color: #E8F0FE;\n",
              "      --fill-color: #1967D2;\n",
              "      --hover-bg-color: #E2EBFA;\n",
              "      --hover-fill-color: #174EA6;\n",
              "      --disabled-fill-color: #AAA;\n",
              "      --disabled-bg-color: #DDD;\n",
              "  }\n",
              "\n",
              "  [theme=dark] .colab-df-quickchart {\n",
              "      --bg-color: #3B4455;\n",
              "      --fill-color: #D2E3FC;\n",
              "      --hover-bg-color: #434B5C;\n",
              "      --hover-fill-color: #FFFFFF;\n",
              "      --disabled-bg-color: #3B4455;\n",
              "      --disabled-fill-color: #666;\n",
              "  }\n",
              "\n",
              "  .colab-df-quickchart {\n",
              "    background-color: var(--bg-color);\n",
              "    border: none;\n",
              "    border-radius: 50%;\n",
              "    cursor: pointer;\n",
              "    display: none;\n",
              "    fill: var(--fill-color);\n",
              "    height: 32px;\n",
              "    padding: 0;\n",
              "    width: 32px;\n",
              "  }\n",
              "\n",
              "  .colab-df-quickchart:hover {\n",
              "    background-color: var(--hover-bg-color);\n",
              "    box-shadow: 0 1px 2px rgba(60, 64, 67, 0.3), 0 1px 3px 1px rgba(60, 64, 67, 0.15);\n",
              "    fill: var(--button-hover-fill-color);\n",
              "  }\n",
              "\n",
              "  .colab-df-quickchart-complete:disabled,\n",
              "  .colab-df-quickchart-complete:disabled:hover {\n",
              "    background-color: var(--disabled-bg-color);\n",
              "    fill: var(--disabled-fill-color);\n",
              "    box-shadow: none;\n",
              "  }\n",
              "\n",
              "  .colab-df-spinner {\n",
              "    border: 2px solid var(--fill-color);\n",
              "    border-color: transparent;\n",
              "    border-bottom-color: var(--fill-color);\n",
              "    animation:\n",
              "      spin 1s steps(1) infinite;\n",
              "  }\n",
              "\n",
              "  @keyframes spin {\n",
              "    0% {\n",
              "      border-color: transparent;\n",
              "      border-bottom-color: var(--fill-color);\n",
              "      border-left-color: var(--fill-color);\n",
              "    }\n",
              "    20% {\n",
              "      border-color: transparent;\n",
              "      border-left-color: var(--fill-color);\n",
              "      border-top-color: var(--fill-color);\n",
              "    }\n",
              "    30% {\n",
              "      border-color: transparent;\n",
              "      border-left-color: var(--fill-color);\n",
              "      border-top-color: var(--fill-color);\n",
              "      border-right-color: var(--fill-color);\n",
              "    }\n",
              "    40% {\n",
              "      border-color: transparent;\n",
              "      border-right-color: var(--fill-color);\n",
              "      border-top-color: var(--fill-color);\n",
              "    }\n",
              "    60% {\n",
              "      border-color: transparent;\n",
              "      border-right-color: var(--fill-color);\n",
              "    }\n",
              "    80% {\n",
              "      border-color: transparent;\n",
              "      border-right-color: var(--fill-color);\n",
              "      border-bottom-color: var(--fill-color);\n",
              "    }\n",
              "    90% {\n",
              "      border-color: transparent;\n",
              "      border-bottom-color: var(--fill-color);\n",
              "    }\n",
              "  }\n",
              "</style>\n",
              "\n",
              "  <script>\n",
              "    async function quickchart(key) {\n",
              "      const quickchartButtonEl =\n",
              "        document.querySelector('#' + key + ' button');\n",
              "      quickchartButtonEl.disabled = true;  // To prevent multiple clicks.\n",
              "      quickchartButtonEl.classList.add('colab-df-spinner');\n",
              "      try {\n",
              "        const charts = await google.colab.kernel.invokeFunction(\n",
              "            'suggestCharts', [key], {});\n",
              "      } catch (error) {\n",
              "        console.error('Error during call to suggestCharts:', error);\n",
              "      }\n",
              "      quickchartButtonEl.classList.remove('colab-df-spinner');\n",
              "      quickchartButtonEl.classList.add('colab-df-quickchart-complete');\n",
              "    }\n",
              "    (() => {\n",
              "      let quickchartButtonEl =\n",
              "        document.querySelector('#df-048d5c6b-7788-4d8a-b807-06c4c359ecc3 button');\n",
              "      quickchartButtonEl.style.display =\n",
              "        google.colab.kernel.accessAllowed ? 'block' : 'none';\n",
              "    })();\n",
              "  </script>\n",
              "</div>\n",
              "\n",
              "  <div id=\"id_0267d4b5-fc1d-40ad-9d64-1e62394b447d\">\n",
              "    <style>\n",
              "      .colab-df-generate {\n",
              "        background-color: #E8F0FE;\n",
              "        border: none;\n",
              "        border-radius: 50%;\n",
              "        cursor: pointer;\n",
              "        display: none;\n",
              "        fill: #1967D2;\n",
              "        height: 32px;\n",
              "        padding: 0 0 0 0;\n",
              "        width: 32px;\n",
              "      }\n",
              "\n",
              "      .colab-df-generate:hover {\n",
              "        background-color: #E2EBFA;\n",
              "        box-shadow: 0px 1px 2px rgba(60, 64, 67, 0.3), 0px 1px 3px 1px rgba(60, 64, 67, 0.15);\n",
              "        fill: #174EA6;\n",
              "      }\n",
              "\n",
              "      [theme=dark] .colab-df-generate {\n",
              "        background-color: #3B4455;\n",
              "        fill: #D2E3FC;\n",
              "      }\n",
              "\n",
              "      [theme=dark] .colab-df-generate:hover {\n",
              "        background-color: #434B5C;\n",
              "        box-shadow: 0px 1px 3px 1px rgba(0, 0, 0, 0.15);\n",
              "        filter: drop-shadow(0px 1px 2px rgba(0, 0, 0, 0.3));\n",
              "        fill: #FFFFFF;\n",
              "      }\n",
              "    </style>\n",
              "    <button class=\"colab-df-generate\" onclick=\"generateWithVariable('df_LFS_clean')\"\n",
              "            title=\"Generate code using this dataframe.\"\n",
              "            style=\"display:none;\">\n",
              "\n",
              "  <svg xmlns=\"http://www.w3.org/2000/svg\" height=\"24px\"viewBox=\"0 0 24 24\"\n",
              "       width=\"24px\">\n",
              "    <path d=\"M7,19H8.4L18.45,9,17,7.55,7,17.6ZM5,21V16.75L18.45,3.32a2,2,0,0,1,2.83,0l1.4,1.43a1.91,1.91,0,0,1,.58,1.4,1.91,1.91,0,0,1-.58,1.4L9.25,21ZM18.45,9,17,7.55Zm-12,3A5.31,5.31,0,0,0,4.9,8.1,5.31,5.31,0,0,0,1,6.5,5.31,5.31,0,0,0,4.9,4.9,5.31,5.31,0,0,0,6.5,1,5.31,5.31,0,0,0,8.1,4.9,5.31,5.31,0,0,0,12,6.5,5.46,5.46,0,0,0,6.5,12Z\"/>\n",
              "  </svg>\n",
              "    </button>\n",
              "    <script>\n",
              "      (() => {\n",
              "      const buttonEl =\n",
              "        document.querySelector('#id_0267d4b5-fc1d-40ad-9d64-1e62394b447d button.colab-df-generate');\n",
              "      buttonEl.style.display =\n",
              "        google.colab.kernel.accessAllowed ? 'block' : 'none';\n",
              "\n",
              "      buttonEl.onclick = () => {\n",
              "        google.colab.notebook.generateWithVariable('df_LFS_clean');\n",
              "      }\n",
              "      })();\n",
              "    </script>\n",
              "  </div>\n",
              "\n",
              "    </div>\n",
              "  </div>\n"
            ]
          },
          "metadata": {}
        }
      ]
    },
    {
      "cell_type": "code",
      "source": [
        "from google.colab import files\n",
        "\n",
        "\n",
        "\n",
        "df_LFS_clean.to_csv('df_LFS010724.csv')\n",
        "files.download('df_LFS010724.csv')\n"
      ],
      "metadata": {
        "colab": {
          "base_uri": "https://localhost:8080/",
          "height": 17
        },
        "id": "0pRnumTS5QCy",
        "outputId": "f8087034-f960-4a51-e9ba-8b75b6c65cc1"
      },
      "execution_count": null,
      "outputs": [
        {
          "output_type": "display_data",
          "data": {
            "text/plain": [
              "<IPython.core.display.Javascript object>"
            ],
            "application/javascript": [
              "\n",
              "    async function download(id, filename, size) {\n",
              "      if (!google.colab.kernel.accessAllowed) {\n",
              "        return;\n",
              "      }\n",
              "      const div = document.createElement('div');\n",
              "      const label = document.createElement('label');\n",
              "      label.textContent = `Downloading \"${filename}\": `;\n",
              "      div.appendChild(label);\n",
              "      const progress = document.createElement('progress');\n",
              "      progress.max = size;\n",
              "      div.appendChild(progress);\n",
              "      document.body.appendChild(div);\n",
              "\n",
              "      const buffers = [];\n",
              "      let downloaded = 0;\n",
              "\n",
              "      const channel = await google.colab.kernel.comms.open(id);\n",
              "      // Send a message to notify the kernel that we're ready.\n",
              "      channel.send({})\n",
              "\n",
              "      for await (const message of channel.messages) {\n",
              "        // Send a message to notify the kernel that we're ready.\n",
              "        channel.send({})\n",
              "        if (message.buffers) {\n",
              "          for (const buffer of message.buffers) {\n",
              "            buffers.push(buffer);\n",
              "            downloaded += buffer.byteLength;\n",
              "            progress.value = downloaded;\n",
              "          }\n",
              "        }\n",
              "      }\n",
              "      const blob = new Blob(buffers, {type: 'application/binary'});\n",
              "      const a = document.createElement('a');\n",
              "      a.href = window.URL.createObjectURL(blob);\n",
              "      a.download = filename;\n",
              "      div.appendChild(a);\n",
              "      a.click();\n",
              "      div.remove();\n",
              "    }\n",
              "  "
            ]
          },
          "metadata": {}
        },
        {
          "output_type": "display_data",
          "data": {
            "text/plain": [
              "<IPython.core.display.Javascript object>"
            ],
            "application/javascript": [
              "download(\"download_52d373f6-c6d0-4193-a030-67fb24b171d5\", \"df_LFS010724.csv\", 16677)"
            ]
          },
          "metadata": {}
        }
      ]
    },
    {
      "cell_type": "code",
      "source": [
        "filename = 'df_sub_lfs012024.csv'\n",
        "\n",
        "df_LFS_clean.to_csv('/content/drive/MyDrive/' + filename)\n"
      ],
      "metadata": {
        "id": "P5ZCgRJ-7aJp"
      },
      "execution_count": null,
      "outputs": []
    },
    {
      "cell_type": "code",
      "source": [
        "#about 2,500 gold labeled by J and L\n",
        "#path='/content/drive/MyDrive/df_dislike_gld_preprocess__012823_compare_earlier_train.csv'\n",
        "#path='/content/drive/MyDrive/LF_Main file 230902 (1)_.csv'\n",
        "#LFs=pd.read_csv(path, encoding=\"unicode_escape\", header=0)\n",
        "\n",
        "#training data that was not gold labeled but labeled with auto-tagging\n",
        "path2='/content/drive/MyDrive/df_lst_lke_gold_label_231022.xlsx'\n",
        "\n",
        "df_dislike_gl=pd.read_excel(path2, header=0, index_col=[0])\n",
        "\n",
        "#2520 rows\n",
        "path3='/content/drive/MyDrive/df_synthet111223 (1).csv'\n",
        "df_synthet=pd.read_csv(path3, encoding=\"unicode_escape\", header=0)\n",
        "print(df_synthet.shape)"
      ],
      "metadata": {
        "id": "742Owl_c5gUH",
        "colab": {
          "base_uri": "https://localhost:8080/"
        },
        "outputId": "f23ba253-056e-4fbc-ccc0-37939afa8c8a"
      },
      "execution_count": null,
      "outputs": [
        {
          "output_type": "stream",
          "name": "stdout",
          "text": [
            "(2520, 100)\n"
          ]
        }
      ]
    },
    {
      "cell_type": "code",
      "source": [
        "import csv"
      ],
      "metadata": {
        "id": "ibP7VYVlvjCv"
      },
      "execution_count": null,
      "outputs": []
    },
    {
      "cell_type": "code",
      "source": [
        "for heading in df_dislike_gl:\n",
        "  print(heading)\n",
        "\n",
        "#includes response_id\n",
        "#response\n",
        "#orig_indx\n",
        "\n"
      ],
      "metadata": {
        "id": "SQm_CEl9wln6",
        "colab": {
          "base_uri": "https://localhost:8080/"
        },
        "outputId": "11005a40-32ef-40a6-8537-c99ffb936dbb"
      },
      "execution_count": null,
      "outputs": [
        {
          "output_type": "stream",
          "name": "stdout",
          "text": [
            "orig_indx\n",
            "response_id\n",
            "response\n",
            "Acoustics\n",
            "Aesthetics\n",
            "Ailments\n",
            "Air_Quality\n",
            "Air_Temperature\n",
            "Amenities\n",
            "Art\n",
            "Bad_Culture\n",
            "Basement\n",
            "Bathrooms\n",
            "Benefits\n",
            "Cafeteria\n",
            "Ceiling\n",
            "Chair\n",
            "Change_of_pace\n",
            "Childcare\n",
            "Clean_Neat\n",
            "Collaboration\n",
            "Collaboration_room\n",
            "Comfort\n",
            "Communication\n",
            "Commute\n",
            "Computer\n",
            "Conversation\n",
            "Covid_19\n",
            "Cramped\n",
            "Cubicle\n",
            "Desk\n",
            "Distraction\n",
            "Do_not_know\n",
            "Door\n",
            "Electric_Vehicles\n",
            "Elevator\n",
            "Enjoyment\n",
            "Everything\n",
            "Fitness\n",
            "Flooring\n",
            "Focus\n",
            "Food_Drinks\n",
            "Formality\n",
            "Furniture\n",
            "Good_Culture\n",
            "Greenery\n",
            "Hall\n",
            "Handicap\n",
            "Homeless\n",
            "Hot_Desk\n",
            "Impromptu\n",
            "In_Office_dislike\n",
            "Interaction\n",
            "Isolation\n",
            "Kitchen\n",
            "Lactation\n",
            "Layout\n",
            "Leadership\n",
            "Learning\n",
            "Lighting_indoor\n",
            "Lighting_outdoor\n",
            "Lobby\n",
            "Location\n",
            "Locker_Room\n",
            "Lounge\n",
            "Meetings_in_person\n",
            "Meeting_room\n",
            "Messy_or_unclean\n",
            "Mold\n",
            "Music\n",
            "Natural_Light\n",
            "No\n",
            "Noise\n",
            "Not_applicable\n",
            "Open_design\n",
            "Personalization\n",
            "Printer_Copier\n",
            "Privacy\n",
            "Productivity\n",
            "Return_to_Office\n",
            "Roof\n",
            "Security\n",
            "Signage\n",
            "Smell\n",
            "Socialize_in_person\n",
            "Stairs\n",
            "Storage\n",
            "Stress\n",
            "Supplies\n",
            "Team\n",
            "Technology\n",
            "Telecommuting\n",
            "Training_room\n",
            "Trust\n",
            "Vermin\n",
            "Video_conference\n",
            "View\n",
            "Walls\n",
            "Window_covering\n",
            "Wellness\n"
          ]
        }
      ]
    },
    {
      "cell_type": "code",
      "source": [
        "patha='/content/drive/MyDrive/least_like_train_notgl_11_2722_utf8.csv'\n",
        "#132K Rows\n",
        "df_lst_like=pd.read_csv(patha, encoding=\"unicode_escape\", header=0)\n",
        "print(df_lst_like.shape)"
      ],
      "metadata": {
        "colab": {
          "base_uri": "https://localhost:8080/"
        },
        "id": "nTjT8ehzLLEY",
        "outputId": "6629bd11-ab43-43e7-a189-d5c1c83e3501"
      },
      "execution_count": null,
      "outputs": [
        {
          "output_type": "stream",
          "name": "stderr",
          "text": [
            "<ipython-input-19-8b24f221d5d5>:3: DtypeWarning: Columns (0,16,23) have mixed types. Specify dtype option on import or set low_memory=False.\n",
            "  df_lst_like=pd.read_csv(patha, encoding=\"unicode_escape\", header=0)\n"
          ]
        },
        {
          "output_type": "stream",
          "name": "stdout",
          "text": [
            "(132256, 46)\n"
          ]
        }
      ]
    },
    {
      "cell_type": "code",
      "source": [
        "df_lst_like.head()"
      ],
      "metadata": {
        "id": "rtodfEzWLqnc",
        "colab": {
          "base_uri": "https://localhost:8080/",
          "height": 499
        },
        "outputId": "312f5bfa-6929-4021-a55f-03388a516ef4"
      },
      "execution_count": null,
      "outputs": [
        {
          "output_type": "execute_result",
          "data": {
            "text/plain": [
              "      ï»¿                                           response  \\\n",
              "0   61843  The traffic and having to work a walk time int...   \n",
              "1   69252  Too cramped with very few alternative options ...   \n",
              "2  155218  Socializing/conversing from cubical to cubical...   \n",
              "3  117052  When things don't work - headset for Skype som...   \n",
              "4   87180                    Open space noise and no privacy   \n",
              "\n",
              "  question_category              cleintname surveytypel createddate_x  \\\n",
              "0        like_least  San Luis Obispo County     Pre-Occ     8/29/2017   \n",
              "1        like_least             Capital One     Pre-Occ    11/11/2016   \n",
              "2        like_least             Cone Health         WFH     2/10/2021   \n",
              "3        like_least                 Aramark     Pre-Occ     4/26/2016   \n",
              "4        like_least           UNICEF Geneva     Pre-Occ      1/5/2018   \n",
              "\n",
              "      jobnumber            surveyid question_name  \\\n",
              "0  005.1549.000  SV_74mDMmUJDYYxY0J      99.2_STD   \n",
              "1  019.6609.000  SV_0PcXPlG5OWNlQTX      99.2_STD   \n",
              "2  090.0446.100  SV_7PvUe8Jro1dsPsy     E99.2_WPI   \n",
              "3  006.9915.830  SV_0MQuD3qLQnrfZDT       j02_OPT   \n",
              "4  008.7548.000  SV_aaWbibEWn3grWpD      99.2_STD   \n",
              "\n",
              "                                       question_text  ...  Noise Open_design  \\\n",
              "0  What do you like least about your current work...  ...    0.0         0.0   \n",
              "1  Tell us what you like least about your current...  ...    0.0         0.0   \n",
              "2  What did you like least about your physical wo...  ...    1.0         0.0   \n",
              "3  What do you like least about your current work...  ...    0.0         0.0   \n",
              "4  What do you like least about your current work...  ...    1.0         1.0   \n",
              "\n",
              "  Personalization Privacy  Technology Vermin NO_MATCH  \\\n",
              "0             0.0     0.0         0.0    0.0      1.0   \n",
              "1             0.0     1.0         0.0    0.0      0.0   \n",
              "2             0.0     0.0         0.0    0.0      0.0   \n",
              "3             0.0     0.0         0.0    0.0      0.0   \n",
              "4             0.0     1.0         0.0    0.0      0.0   \n",
              "\n",
              "                                              Trans2 createddate_y  \\\n",
              "0  The traffic and having to work a walk time int...     8/29/2017   \n",
              "1  Too cramped with very few alternative options ...    11/11/2016   \n",
              "2  Socializing/conversing from cubical to cubical...     2/10/2021   \n",
              "3  When things don't work - headset for Skype som...     4/26/2016   \n",
              "4                    Open space noise and no privacy      1/5/2018   \n",
              "\n",
              "   how_satisfied  \n",
              "0            3.0  \n",
              "1            3.0  \n",
              "2            4.0  \n",
              "3            3.0  \n",
              "4            3.0  \n",
              "\n",
              "[5 rows x 46 columns]"
            ],
            "text/html": [
              "\n",
              "  <div id=\"df-71a90789-bcf2-414a-a1a5-65a50331f6c0\" class=\"colab-df-container\">\n",
              "    <div>\n",
              "<style scoped>\n",
              "    .dataframe tbody tr th:only-of-type {\n",
              "        vertical-align: middle;\n",
              "    }\n",
              "\n",
              "    .dataframe tbody tr th {\n",
              "        vertical-align: top;\n",
              "    }\n",
              "\n",
              "    .dataframe thead th {\n",
              "        text-align: right;\n",
              "    }\n",
              "</style>\n",
              "<table border=\"1\" class=\"dataframe\">\n",
              "  <thead>\n",
              "    <tr style=\"text-align: right;\">\n",
              "      <th></th>\n",
              "      <th>ï»¿</th>\n",
              "      <th>response</th>\n",
              "      <th>question_category</th>\n",
              "      <th>cleintname</th>\n",
              "      <th>surveytypel</th>\n",
              "      <th>createddate_x</th>\n",
              "      <th>jobnumber</th>\n",
              "      <th>surveyid</th>\n",
              "      <th>question_name</th>\n",
              "      <th>question_text</th>\n",
              "      <th>...</th>\n",
              "      <th>Noise</th>\n",
              "      <th>Open_design</th>\n",
              "      <th>Personalization</th>\n",
              "      <th>Privacy</th>\n",
              "      <th>Technology</th>\n",
              "      <th>Vermin</th>\n",
              "      <th>NO_MATCH</th>\n",
              "      <th>Trans2</th>\n",
              "      <th>createddate_y</th>\n",
              "      <th>how_satisfied</th>\n",
              "    </tr>\n",
              "  </thead>\n",
              "  <tbody>\n",
              "    <tr>\n",
              "      <th>0</th>\n",
              "      <td>61843</td>\n",
              "      <td>The traffic and having to work a walk time int...</td>\n",
              "      <td>like_least</td>\n",
              "      <td>San Luis Obispo County</td>\n",
              "      <td>Pre-Occ</td>\n",
              "      <td>8/29/2017</td>\n",
              "      <td>005.1549.000</td>\n",
              "      <td>SV_74mDMmUJDYYxY0J</td>\n",
              "      <td>99.2_STD</td>\n",
              "      <td>What do you like least about your current work...</td>\n",
              "      <td>...</td>\n",
              "      <td>0.0</td>\n",
              "      <td>0.0</td>\n",
              "      <td>0.0</td>\n",
              "      <td>0.0</td>\n",
              "      <td>0.0</td>\n",
              "      <td>0.0</td>\n",
              "      <td>1.0</td>\n",
              "      <td>The traffic and having to work a walk time int...</td>\n",
              "      <td>8/29/2017</td>\n",
              "      <td>3.0</td>\n",
              "    </tr>\n",
              "    <tr>\n",
              "      <th>1</th>\n",
              "      <td>69252</td>\n",
              "      <td>Too cramped with very few alternative options ...</td>\n",
              "      <td>like_least</td>\n",
              "      <td>Capital One</td>\n",
              "      <td>Pre-Occ</td>\n",
              "      <td>11/11/2016</td>\n",
              "      <td>019.6609.000</td>\n",
              "      <td>SV_0PcXPlG5OWNlQTX</td>\n",
              "      <td>99.2_STD</td>\n",
              "      <td>Tell us what you like least about your current...</td>\n",
              "      <td>...</td>\n",
              "      <td>0.0</td>\n",
              "      <td>0.0</td>\n",
              "      <td>0.0</td>\n",
              "      <td>1.0</td>\n",
              "      <td>0.0</td>\n",
              "      <td>0.0</td>\n",
              "      <td>0.0</td>\n",
              "      <td>Too cramped with very few alternative options ...</td>\n",
              "      <td>11/11/2016</td>\n",
              "      <td>3.0</td>\n",
              "    </tr>\n",
              "    <tr>\n",
              "      <th>2</th>\n",
              "      <td>155218</td>\n",
              "      <td>Socializing/conversing from cubical to cubical...</td>\n",
              "      <td>like_least</td>\n",
              "      <td>Cone Health</td>\n",
              "      <td>WFH</td>\n",
              "      <td>2/10/2021</td>\n",
              "      <td>090.0446.100</td>\n",
              "      <td>SV_7PvUe8Jro1dsPsy</td>\n",
              "      <td>E99.2_WPI</td>\n",
              "      <td>What did you like least about your physical wo...</td>\n",
              "      <td>...</td>\n",
              "      <td>1.0</td>\n",
              "      <td>0.0</td>\n",
              "      <td>0.0</td>\n",
              "      <td>0.0</td>\n",
              "      <td>0.0</td>\n",
              "      <td>0.0</td>\n",
              "      <td>0.0</td>\n",
              "      <td>Socializing/conversing from cubical to cubical...</td>\n",
              "      <td>2/10/2021</td>\n",
              "      <td>4.0</td>\n",
              "    </tr>\n",
              "    <tr>\n",
              "      <th>3</th>\n",
              "      <td>117052</td>\n",
              "      <td>When things don't work - headset for Skype som...</td>\n",
              "      <td>like_least</td>\n",
              "      <td>Aramark</td>\n",
              "      <td>Pre-Occ</td>\n",
              "      <td>4/26/2016</td>\n",
              "      <td>006.9915.830</td>\n",
              "      <td>SV_0MQuD3qLQnrfZDT</td>\n",
              "      <td>j02_OPT</td>\n",
              "      <td>What do you like least about your current work...</td>\n",
              "      <td>...</td>\n",
              "      <td>0.0</td>\n",
              "      <td>0.0</td>\n",
              "      <td>0.0</td>\n",
              "      <td>0.0</td>\n",
              "      <td>0.0</td>\n",
              "      <td>0.0</td>\n",
              "      <td>0.0</td>\n",
              "      <td>When things don't work - headset for Skype som...</td>\n",
              "      <td>4/26/2016</td>\n",
              "      <td>3.0</td>\n",
              "    </tr>\n",
              "    <tr>\n",
              "      <th>4</th>\n",
              "      <td>87180</td>\n",
              "      <td>Open space noise and no privacy</td>\n",
              "      <td>like_least</td>\n",
              "      <td>UNICEF Geneva</td>\n",
              "      <td>Pre-Occ</td>\n",
              "      <td>1/5/2018</td>\n",
              "      <td>008.7548.000</td>\n",
              "      <td>SV_aaWbibEWn3grWpD</td>\n",
              "      <td>99.2_STD</td>\n",
              "      <td>What do you like least about your current work...</td>\n",
              "      <td>...</td>\n",
              "      <td>1.0</td>\n",
              "      <td>1.0</td>\n",
              "      <td>0.0</td>\n",
              "      <td>1.0</td>\n",
              "      <td>0.0</td>\n",
              "      <td>0.0</td>\n",
              "      <td>0.0</td>\n",
              "      <td>Open space noise and no privacy</td>\n",
              "      <td>1/5/2018</td>\n",
              "      <td>3.0</td>\n",
              "    </tr>\n",
              "  </tbody>\n",
              "</table>\n",
              "<p>5 rows × 46 columns</p>\n",
              "</div>\n",
              "    <div class=\"colab-df-buttons\">\n",
              "\n",
              "  <div class=\"colab-df-container\">\n",
              "    <button class=\"colab-df-convert\" onclick=\"convertToInteractive('df-71a90789-bcf2-414a-a1a5-65a50331f6c0')\"\n",
              "            title=\"Convert this dataframe to an interactive table.\"\n",
              "            style=\"display:none;\">\n",
              "\n",
              "  <svg xmlns=\"http://www.w3.org/2000/svg\" height=\"24px\" viewBox=\"0 -960 960 960\">\n",
              "    <path d=\"M120-120v-720h720v720H120Zm60-500h600v-160H180v160Zm220 220h160v-160H400v160Zm0 220h160v-160H400v160ZM180-400h160v-160H180v160Zm440 0h160v-160H620v160ZM180-180h160v-160H180v160Zm440 0h160v-160H620v160Z\"/>\n",
              "  </svg>\n",
              "    </button>\n",
              "\n",
              "  <style>\n",
              "    .colab-df-container {\n",
              "      display:flex;\n",
              "      gap: 12px;\n",
              "    }\n",
              "\n",
              "    .colab-df-convert {\n",
              "      background-color: #E8F0FE;\n",
              "      border: none;\n",
              "      border-radius: 50%;\n",
              "      cursor: pointer;\n",
              "      display: none;\n",
              "      fill: #1967D2;\n",
              "      height: 32px;\n",
              "      padding: 0 0 0 0;\n",
              "      width: 32px;\n",
              "    }\n",
              "\n",
              "    .colab-df-convert:hover {\n",
              "      background-color: #E2EBFA;\n",
              "      box-shadow: 0px 1px 2px rgba(60, 64, 67, 0.3), 0px 1px 3px 1px rgba(60, 64, 67, 0.15);\n",
              "      fill: #174EA6;\n",
              "    }\n",
              "\n",
              "    .colab-df-buttons div {\n",
              "      margin-bottom: 4px;\n",
              "    }\n",
              "\n",
              "    [theme=dark] .colab-df-convert {\n",
              "      background-color: #3B4455;\n",
              "      fill: #D2E3FC;\n",
              "    }\n",
              "\n",
              "    [theme=dark] .colab-df-convert:hover {\n",
              "      background-color: #434B5C;\n",
              "      box-shadow: 0px 1px 3px 1px rgba(0, 0, 0, 0.15);\n",
              "      filter: drop-shadow(0px 1px 2px rgba(0, 0, 0, 0.3));\n",
              "      fill: #FFFFFF;\n",
              "    }\n",
              "  </style>\n",
              "\n",
              "    <script>\n",
              "      const buttonEl =\n",
              "        document.querySelector('#df-71a90789-bcf2-414a-a1a5-65a50331f6c0 button.colab-df-convert');\n",
              "      buttonEl.style.display =\n",
              "        google.colab.kernel.accessAllowed ? 'block' : 'none';\n",
              "\n",
              "      async function convertToInteractive(key) {\n",
              "        const element = document.querySelector('#df-71a90789-bcf2-414a-a1a5-65a50331f6c0');\n",
              "        const dataTable =\n",
              "          await google.colab.kernel.invokeFunction('convertToInteractive',\n",
              "                                                    [key], {});\n",
              "        if (!dataTable) return;\n",
              "\n",
              "        const docLinkHtml = 'Like what you see? Visit the ' +\n",
              "          '<a target=\"_blank\" href=https://colab.research.google.com/notebooks/data_table.ipynb>data table notebook</a>'\n",
              "          + ' to learn more about interactive tables.';\n",
              "        element.innerHTML = '';\n",
              "        dataTable['output_type'] = 'display_data';\n",
              "        await google.colab.output.renderOutput(dataTable, element);\n",
              "        const docLink = document.createElement('div');\n",
              "        docLink.innerHTML = docLinkHtml;\n",
              "        element.appendChild(docLink);\n",
              "      }\n",
              "    </script>\n",
              "  </div>\n",
              "\n",
              "\n",
              "<div id=\"df-97a4d86f-3ae3-40af-8b9c-fec4f183aa7e\">\n",
              "  <button class=\"colab-df-quickchart\" onclick=\"quickchart('df-97a4d86f-3ae3-40af-8b9c-fec4f183aa7e')\"\n",
              "            title=\"Suggest charts\"\n",
              "            style=\"display:none;\">\n",
              "\n",
              "<svg xmlns=\"http://www.w3.org/2000/svg\" height=\"24px\"viewBox=\"0 0 24 24\"\n",
              "     width=\"24px\">\n",
              "    <g>\n",
              "        <path d=\"M19 3H5c-1.1 0-2 .9-2 2v14c0 1.1.9 2 2 2h14c1.1 0 2-.9 2-2V5c0-1.1-.9-2-2-2zM9 17H7v-7h2v7zm4 0h-2V7h2v10zm4 0h-2v-4h2v4z\"/>\n",
              "    </g>\n",
              "</svg>\n",
              "  </button>\n",
              "\n",
              "<style>\n",
              "  .colab-df-quickchart {\n",
              "      --bg-color: #E8F0FE;\n",
              "      --fill-color: #1967D2;\n",
              "      --hover-bg-color: #E2EBFA;\n",
              "      --hover-fill-color: #174EA6;\n",
              "      --disabled-fill-color: #AAA;\n",
              "      --disabled-bg-color: #DDD;\n",
              "  }\n",
              "\n",
              "  [theme=dark] .colab-df-quickchart {\n",
              "      --bg-color: #3B4455;\n",
              "      --fill-color: #D2E3FC;\n",
              "      --hover-bg-color: #434B5C;\n",
              "      --hover-fill-color: #FFFFFF;\n",
              "      --disabled-bg-color: #3B4455;\n",
              "      --disabled-fill-color: #666;\n",
              "  }\n",
              "\n",
              "  .colab-df-quickchart {\n",
              "    background-color: var(--bg-color);\n",
              "    border: none;\n",
              "    border-radius: 50%;\n",
              "    cursor: pointer;\n",
              "    display: none;\n",
              "    fill: var(--fill-color);\n",
              "    height: 32px;\n",
              "    padding: 0;\n",
              "    width: 32px;\n",
              "  }\n",
              "\n",
              "  .colab-df-quickchart:hover {\n",
              "    background-color: var(--hover-bg-color);\n",
              "    box-shadow: 0 1px 2px rgba(60, 64, 67, 0.3), 0 1px 3px 1px rgba(60, 64, 67, 0.15);\n",
              "    fill: var(--button-hover-fill-color);\n",
              "  }\n",
              "\n",
              "  .colab-df-quickchart-complete:disabled,\n",
              "  .colab-df-quickchart-complete:disabled:hover {\n",
              "    background-color: var(--disabled-bg-color);\n",
              "    fill: var(--disabled-fill-color);\n",
              "    box-shadow: none;\n",
              "  }\n",
              "\n",
              "  .colab-df-spinner {\n",
              "    border: 2px solid var(--fill-color);\n",
              "    border-color: transparent;\n",
              "    border-bottom-color: var(--fill-color);\n",
              "    animation:\n",
              "      spin 1s steps(1) infinite;\n",
              "  }\n",
              "\n",
              "  @keyframes spin {\n",
              "    0% {\n",
              "      border-color: transparent;\n",
              "      border-bottom-color: var(--fill-color);\n",
              "      border-left-color: var(--fill-color);\n",
              "    }\n",
              "    20% {\n",
              "      border-color: transparent;\n",
              "      border-left-color: var(--fill-color);\n",
              "      border-top-color: var(--fill-color);\n",
              "    }\n",
              "    30% {\n",
              "      border-color: transparent;\n",
              "      border-left-color: var(--fill-color);\n",
              "      border-top-color: var(--fill-color);\n",
              "      border-right-color: var(--fill-color);\n",
              "    }\n",
              "    40% {\n",
              "      border-color: transparent;\n",
              "      border-right-color: var(--fill-color);\n",
              "      border-top-color: var(--fill-color);\n",
              "    }\n",
              "    60% {\n",
              "      border-color: transparent;\n",
              "      border-right-color: var(--fill-color);\n",
              "    }\n",
              "    80% {\n",
              "      border-color: transparent;\n",
              "      border-right-color: var(--fill-color);\n",
              "      border-bottom-color: var(--fill-color);\n",
              "    }\n",
              "    90% {\n",
              "      border-color: transparent;\n",
              "      border-bottom-color: var(--fill-color);\n",
              "    }\n",
              "  }\n",
              "</style>\n",
              "\n",
              "  <script>\n",
              "    async function quickchart(key) {\n",
              "      const quickchartButtonEl =\n",
              "        document.querySelector('#' + key + ' button');\n",
              "      quickchartButtonEl.disabled = true;  // To prevent multiple clicks.\n",
              "      quickchartButtonEl.classList.add('colab-df-spinner');\n",
              "      try {\n",
              "        const charts = await google.colab.kernel.invokeFunction(\n",
              "            'suggestCharts', [key], {});\n",
              "      } catch (error) {\n",
              "        console.error('Error during call to suggestCharts:', error);\n",
              "      }\n",
              "      quickchartButtonEl.classList.remove('colab-df-spinner');\n",
              "      quickchartButtonEl.classList.add('colab-df-quickchart-complete');\n",
              "    }\n",
              "    (() => {\n",
              "      let quickchartButtonEl =\n",
              "        document.querySelector('#df-97a4d86f-3ae3-40af-8b9c-fec4f183aa7e button');\n",
              "      quickchartButtonEl.style.display =\n",
              "        google.colab.kernel.accessAllowed ? 'block' : 'none';\n",
              "    })();\n",
              "  </script>\n",
              "</div>\n",
              "\n",
              "    </div>\n",
              "  </div>\n"
            ]
          },
          "metadata": {},
          "execution_count": 21
        }
      ]
    },
    {
      "cell_type": "code",
      "source": [
        "for heading in df_lst_like:\n",
        "  print(heading)\n",
        "\n",
        "#has response_id"
      ],
      "metadata": {
        "colab": {
          "base_uri": "https://localhost:8080/"
        },
        "id": "GM87Lu_DJG5p",
        "outputId": "6e292144-260d-43be-b15f-5494b734d5f6"
      },
      "execution_count": null,
      "outputs": [
        {
          "output_type": "stream",
          "name": "stdout",
          "text": [
            "ï»¿\n",
            "response\n",
            "question_category\n",
            "cleintname\n",
            "surveytypel\n",
            "createddate_x\n",
            "jobnumber\n",
            "surveyid\n",
            "question_name\n",
            "question_text\n",
            "response_value\n",
            "response_type\n",
            "__metadata._dataos_run_mapper_id\n",
            "_metadata.id\n",
            "Master_Indx\n",
            "Lang_Detect\n",
            "Lang_Confiden\n",
            "Preprocess3\n",
            "response_id\n",
            "Unnamed: 0\n",
            "match\n",
            "Preprocess3.1\n",
            "Air_Quality\n",
            "Air_Temperature\n",
            "Bad_Culture\n",
            "Bathrooms\n",
            "Chair\n",
            "Collaboration\n",
            "Cubicle\n",
            "Desk\n",
            "Distraction\n",
            "Furniture\n",
            "Hot_Desk\n",
            "Lounge\n",
            "Meeting_room\n",
            "Natural_Light\n",
            "Noise\n",
            "Open_design\n",
            "Personalization\n",
            "Privacy\n",
            "Technology\n",
            "Vermin\n",
            "NO_MATCH\n",
            "Trans2\n",
            "createddate_y\n",
            "how_satisfied\n"
          ]
        }
      ]
    },
    {
      "cell_type": "code",
      "source": [
        "#determining if any of the gold label labels don't match current LF labels\n",
        "# extract a list of ages greater than 30\n",
        "Label_Names_Lst = df_LFS_clean['LABEL_NAMES'].tolist()\n",
        "Label_Names_Srtd = sorted(Label_Names_Lst)\n",
        "print(Label_Names_Srtd)\n",
        "#print(Label_Names_Lst)\n",
        "# convert column names to a list\n",
        "gl_list = df_dislike_gl.columns.tolist()\n",
        "gl_list_srt=sorted(gl_list)\n",
        "print(gl_list_srt)\n",
        "\n",
        "differences = set(Label_Names_Srtd).difference(set(gl_list_srt))\n",
        "\n",
        "print(differences)\n",
        "\n"
      ],
      "metadata": {
        "colab": {
          "base_uri": "https://localhost:8080/"
        },
        "id": "INM14kuYJgZg",
        "outputId": "c7a27b12-90ad-4ad1-e23e-f4f0835b7d84"
      },
      "execution_count": null,
      "outputs": [
        {
          "output_type": "stream",
          "name": "stdout",
          "text": [
            "['Acoustics', 'Aesthetics', 'Ailments', 'Air_Quality', 'Air_Temperature', 'Amenities', 'Art', 'Bad_Culture', 'Basement', 'Bathroom', 'Benefits', 'Cafeteria', 'Ceiling', 'Chair', 'Change_Of_Pace', 'Childcare', 'Clean_Neat', 'Collaboration', 'Collaboration_Room', 'Comfort', 'Communication', 'Commute', 'Computer', 'Conversation', 'Covid_19', 'Cramped', 'Cubicle', 'Design', 'Desk', 'Distraction', 'Do_Not_Know', 'Door', 'Electric_Vehicle', 'Elevator', 'Enjoyment', 'Everything', 'Fitness', 'Flooring', 'Focus', 'Food_Drink', 'Formality', 'Furniture', 'Good_Culture', 'Greenery', 'Hall', 'Handicap', 'Homeless', 'Hot_Desk', 'Impromptu', 'In_Office', 'Interaction', 'Isolation', 'Kitchen', 'Lactation', 'Layout', 'Leadership', 'Learning', 'Lighting_Indoor', 'Lighting_Outdoor', 'Lobby', 'Location', 'Locker_Room', 'Lounge', 'Meeting_Room', 'Meetings_In_Person', 'Messiness_Or_Unclean', 'Mold', 'Music', 'Natural_Light', 'No', 'Noise', 'Not_Applicable', 'Open_Plan', 'Personalization', 'Printer_Copier', 'Privacy', 'Productivity', 'Return_To_Office', 'Roof', 'Security', 'Signage', 'Smell', 'Socialize_In_Person', 'Stairs', 'Storage', 'Stress', 'Supplies', 'Team', 'Technology', 'Telecommuting', 'Training_Room', 'Trust', 'Vermin', 'Video_Conference', 'View', 'Walls', 'Wellness', 'Window_Covering']\n",
            "['Acoustics', 'Aesthetics', 'Ailments', 'Air_Quality', 'Air_Temperature', 'Amenities', 'Art', 'Bad_Culture', 'Basement', 'Bathrooms', 'Benefits', 'Cafeteria', 'Ceiling', 'Chair', 'Change_of_pace', 'Childcare', 'Clean_Neat', 'Collaboration', 'Collaboration_room', 'Comfort', 'Communication', 'Commute', 'Computer', 'Conversation', 'Covid_19', 'Cramped', 'Cubicle', 'Desk', 'Distraction', 'Do_not_know', 'Door', 'Electric_Vehicles', 'Elevator', 'Enjoyment', 'Everything', 'Fitness', 'Flooring', 'Focus', 'Food_Drinks', 'Formality', 'Furniture', 'Good_Culture', 'Greenery', 'Hall', 'Handicap', 'Homeless', 'Hot_Desk', 'Impromptu', 'In_Office_dislike', 'Interaction', 'Isolation', 'Kitchen', 'Lactation', 'Layout', 'Leadership', 'Learning', 'Lighting_indoor', 'Lighting_outdoor', 'Lobby', 'Location', 'Locker_Room', 'Lounge', 'Meeting_room', 'Meetings_in_person', 'Messy_or_unclean', 'Mold', 'Music', 'Natural_Light', 'No', 'Noise', 'Not_applicable', 'Open_design', 'Personalization', 'Printer_Copier', 'Privacy', 'Productivity', 'Return_to_Office', 'Roof', 'Security', 'Signage', 'Smell', 'Socialize_in_person', 'Stairs', 'Storage', 'Stress', 'Supplies', 'Team', 'Technology', 'Telecommuting', 'Training_room', 'Trust', 'Vermin', 'Video_conference', 'View', 'Walls', 'Wellness', 'Window_covering', 'orig_indx', 'response', 'response_id']\n",
            "{'Video_Conference', 'Food_Drink', 'Messiness_Or_Unclean', 'Meeting_Room', 'Do_Not_Know', 'Lighting_Outdoor', 'Open_Plan', 'Training_Room', 'Design', 'In_Office', 'Lighting_Indoor', 'Return_To_Office', 'Bathroom', 'Meetings_In_Person', 'Socialize_In_Person', 'Change_Of_Pace', 'Not_Applicable', 'Electric_Vehicle', 'Collaboration_Room', 'Window_Covering'}\n"
          ]
        }
      ]
    },
    {
      "cell_type": "code",
      "source": [
        "#align column names\n",
        "#renaming gold label to current LF names\n",
        "# create a dictionary\n",
        "# key = old name\n",
        "# value = new name\n",
        "dct = {'Video_conference': 'Video_Conference', 'Food_Drinks': 'Food_Drink', 'Messiness_or_unclean': 'Messiness_Or_Unclean',\n",
        "        'Window_covering': 'Window_Covering', 'Bathrooms' : 'Bathroom', 'Change_of_pace': 'Change_Of_Pace', 'Collaboration_room': 'Collaboration_Room',\n",
        "        'Do_not_know': 'Do_Not_Know', 'Electric_Vehicles' : 'Electric_Vehicle', 'Food_Drinks' : 'Food_Drink', 'Lighting_indoor' : 'Lighting_Indoor', 'Lighting_outdoor' : 'Lighting_Outdoor', 'Meetings_in_person' : 'Meetings_In_Person',\n",
        "        'Meeting_room': 'Meeting_Room', 'In_Office_dislike' : 'In_Office', 'Messy_or_unclean' : 'Messiness_Or_Unclean', 'Not_applicable' : 'Not_Applicable', 'Open_design' : 'Open_Plan', 'Open_Desing' : 'Open_Plan',\n",
        "        'Return_to_Office' : 'Return_To_Office', 'Socialize_in_Person' : 'Socialize_In_Person', 'Training_room' : 'Training_Room', 'Messy_Or_Unclean' : 'Messiness_Or_Unclean', 'Open_Design' : 'Open_Plan'}\n",
        "\n",
        "#Video_conference', 'Window_covering'\n",
        "\n",
        "# call rename () method\n",
        "df_dislike_gl.rename(columns=dct, inplace=True)\n",
        "new_column_names = df_dislike_gl.columns.tolist()\n",
        "#print(new_column_names)\n",
        "# print Data frame after rename columns\n",
        "#display(df_dislike_gl)\n",
        "\n",
        "c = [i for i in new_column_names if i not in Label_Names_Lst]\n",
        "print(c)\n",
        "\n",
        "print(new_column_names)\n",
        "print(Label_Names_Srtd)"
      ],
      "metadata": {
        "colab": {
          "base_uri": "https://localhost:8080/"
        },
        "id": "y5Hw0SsLQdDm",
        "outputId": "ef372c5c-a2cf-43f9-ad38-b246b4d1a72e"
      },
      "execution_count": null,
      "outputs": [
        {
          "output_type": "stream",
          "name": "stdout",
          "text": [
            "['orig_indx', 'response_id', 'response']\n",
            "['orig_indx', 'response_id', 'response', 'Acoustics', 'Aesthetics', 'Ailments', 'Air_Quality', 'Air_Temperature', 'Amenities', 'Art', 'Bad_Culture', 'Basement', 'Bathroom', 'Benefits', 'Cafeteria', 'Ceiling', 'Chair', 'Change_Of_Pace', 'Childcare', 'Clean_Neat', 'Collaboration', 'Collaboration_Room', 'Comfort', 'Communication', 'Commute', 'Computer', 'Conversation', 'Covid_19', 'Cramped', 'Cubicle', 'Desk', 'Distraction', 'Do_Not_Know', 'Door', 'Electric_Vehicle', 'Elevator', 'Enjoyment', 'Everything', 'Fitness', 'Flooring', 'Focus', 'Food_Drink', 'Formality', 'Furniture', 'Good_Culture', 'Greenery', 'Hall', 'Handicap', 'Homeless', 'Hot_Desk', 'Impromptu', 'In_Office', 'Interaction', 'Isolation', 'Kitchen', 'Lactation', 'Layout', 'Leadership', 'Learning', 'Lighting_Indoor', 'Lighting_Outdoor', 'Lobby', 'Location', 'Locker_Room', 'Lounge', 'Meetings_In_Person', 'Meeting_Room', 'Messiness_Or_Unclean', 'Mold', 'Music', 'Natural_Light', 'No', 'Noise', 'Not_Applicable', 'Open_Plan', 'Personalization', 'Printer_Copier', 'Privacy', 'Productivity', 'Return_To_Office', 'Roof', 'Security', 'Signage', 'Smell', 'Socialize_In_Person', 'Stairs', 'Storage', 'Stress', 'Supplies', 'Team', 'Technology', 'Telecommuting', 'Training_Room', 'Trust', 'Vermin', 'Video_Conference', 'View', 'Walls', 'Window_Covering', 'Wellness']\n",
            "['Acoustics', 'Aesthetics', 'Ailments', 'Air_Quality', 'Air_Temperature', 'Amenities', 'Art', 'Bad_Culture', 'Basement', 'Bathroom', 'Benefits', 'Cafeteria', 'Ceiling', 'Chair', 'Change_Of_Pace', 'Childcare', 'Clean_Neat', 'Collaboration', 'Collaboration_Room', 'Comfort', 'Communication', 'Commute', 'Computer', 'Conversation', 'Covid_19', 'Cramped', 'Cubicle', 'Design', 'Desk', 'Distraction', 'Do_Not_Know', 'Door', 'Electric_Vehicle', 'Elevator', 'Enjoyment', 'Everything', 'Fitness', 'Flooring', 'Focus', 'Food_Drink', 'Formality', 'Furniture', 'Good_Culture', 'Greenery', 'Hall', 'Handicap', 'Homeless', 'Hot_Desk', 'Impromptu', 'In_Office', 'Interaction', 'Isolation', 'Kitchen', 'Lactation', 'Layout', 'Leadership', 'Learning', 'Lighting_Indoor', 'Lighting_Outdoor', 'Lobby', 'Location', 'Locker_Room', 'Lounge', 'Meeting_Room', 'Meetings_In_Person', 'Messiness_Or_Unclean', 'Mold', 'Music', 'Natural_Light', 'No', 'Noise', 'Not_Applicable', 'Open_Plan', 'Personalization', 'Printer_Copier', 'Privacy', 'Productivity', 'Return_To_Office', 'Roof', 'Security', 'Signage', 'Smell', 'Socialize_In_Person', 'Stairs', 'Storage', 'Stress', 'Supplies', 'Team', 'Technology', 'Telecommuting', 'Training_Room', 'Trust', 'Vermin', 'Video_Conference', 'View', 'Walls', 'Wellness', 'Window_Covering']\n"
          ]
        }
      ]
    },
    {
      "cell_type": "code",
      "source": [
        "#align synthetic data and training data\n",
        "#df_synthet\n",
        "df_dislike_trn=df_lst_like\n",
        "\n",
        "dct = {'Video_conference': 'Video_Conference', 'Food_Drinks': 'Food_Drink', 'Messiness_or_unclean': 'Messiness_Or_Unclean',\n",
        "        'Window_covering': 'Window_Covering', 'Bathrooms' : 'Bathroom', 'Change_of_pace': 'Change_Of_Pace', 'Collaboration_room': 'Collaboration_Room',\n",
        "        'Do_not_know': 'Do_Not_Know', 'Electric_Vehicles' : 'Electric_Vehicle', 'Food_Drinks' : 'Food_Drink', 'Lighting_indoor' : 'Lighting_Indoor', 'Lighting_outdoor' : 'Lighting_Outdoor', 'Meetings_in_person' : 'Meetings_In_Person',\n",
        "        'Meeting_room': 'Meeting_Room', 'In_Office_dislike' : 'In_Office', 'Messy_or_unclean' : 'Messiness_Or_Unclean', 'Not_applicable' : 'Not_Applicable', 'Open_design' : 'Open_Plan', 'Open_Desing' : 'Open_Plan',\n",
        "        'Return_to_Office' : 'Return_To_Office', 'Socialize_in_Person' : 'Socialize_In_Person', 'Training_room' : 'Training_Room', 'Messy_Or_Unclean' : 'Messiness_Or_Unclean', 'Open_Design' : 'Open_Plan',\n",
        "        'Socialize_in_person' : 'Socialize_In_Person'}\n",
        "\n",
        "#Video_conference', 'Window_covering'\n",
        "\n",
        "# call rename () method\n",
        "df_dislike_trn.rename(columns=dct, inplace=True)\n",
        "new_column_names_trn = df_lst_like.columns.tolist()\n",
        "#print(new_column_names)\n",
        "# print Data frame after rename columns\n",
        "#display(df_dislike_gl)\n",
        "\n",
        "c_trn = [i for i in new_column_names_trn if i not in Label_Names_Lst]\n",
        "print(c_trn)\n",
        "\n",
        "print(new_column_names_trn)\n",
        "print(Label_Names_Srtd)\n",
        "\n"
      ],
      "metadata": {
        "colab": {
          "base_uri": "https://localhost:8080/"
        },
        "id": "MhTZUIwwOHmx",
        "outputId": "2e1cddc6-ceb9-49a8-d7c5-f280ef2e5345"
      },
      "execution_count": null,
      "outputs": [
        {
          "output_type": "stream",
          "name": "stdout",
          "text": [
            "['ï»¿', 'response', 'question_category', 'cleintname', 'surveytypel', 'createddate_x', 'jobnumber', 'surveyid', 'question_name', 'question_text', 'response_value', 'response_type', '__metadata._dataos_run_mapper_id', '_metadata.id', 'Master_Indx', 'Lang_Detect', 'Lang_Confiden', 'Preprocess3', 'response_id', 'Unnamed: 0', 'match', 'Preprocess3.1', 'NO_MATCH', 'Trans2', 'createddate_y', 'how_satisfied']\n",
            "['ï»¿', 'response', 'question_category', 'cleintname', 'surveytypel', 'createddate_x', 'jobnumber', 'surveyid', 'question_name', 'question_text', 'response_value', 'response_type', '__metadata._dataos_run_mapper_id', '_metadata.id', 'Master_Indx', 'Lang_Detect', 'Lang_Confiden', 'Preprocess3', 'response_id', 'Unnamed: 0', 'match', 'Preprocess3.1', 'Air_Quality', 'Air_Temperature', 'Bad_Culture', 'Bathroom', 'Chair', 'Collaboration', 'Cubicle', 'Desk', 'Distraction', 'Furniture', 'Hot_Desk', 'Lounge', 'Meeting_Room', 'Natural_Light', 'Noise', 'Open_Plan', 'Personalization', 'Privacy', 'Technology', 'Vermin', 'NO_MATCH', 'Trans2', 'createddate_y', 'how_satisfied']\n",
            "['Acoustics', 'Aesthetics', 'Ailments', 'Air_Quality', 'Air_Temperature', 'Amenities', 'Art', 'Bad_Culture', 'Basement', 'Bathroom', 'Benefits', 'Cafeteria', 'Ceiling', 'Chair', 'Change_Of_Pace', 'Childcare', 'Clean_Neat', 'Collaboration', 'Collaboration_Room', 'Comfort', 'Communication', 'Commute', 'Computer', 'Conversation', 'Covid_19', 'Cramped', 'Cubicle', 'Design', 'Desk', 'Distraction', 'Do_Not_Know', 'Door', 'Electric_Vehicle', 'Elevator', 'Enjoyment', 'Everything', 'Fitness', 'Flooring', 'Focus', 'Food_Drink', 'Formality', 'Furniture', 'Good_Culture', 'Greenery', 'Hall', 'Handicap', 'Homeless', 'Hot_Desk', 'Impromptu', 'In_Office', 'Interaction', 'Isolation', 'Kitchen', 'Lactation', 'Layout', 'Leadership', 'Learning', 'Lighting_Indoor', 'Lighting_Outdoor', 'Lobby', 'Location', 'Locker_Room', 'Lounge', 'Meeting_Room', 'Meetings_In_Person', 'Messiness_Or_Unclean', 'Mold', 'Music', 'Natural_Light', 'No', 'Noise', 'Not_Applicable', 'Open_Plan', 'Personalization', 'Printer_Copier', 'Privacy', 'Productivity', 'Return_To_Office', 'Roof', 'Security', 'Signage', 'Smell', 'Socialize_In_Person', 'Stairs', 'Storage', 'Stress', 'Supplies', 'Team', 'Technology', 'Telecommuting', 'Training_Room', 'Trust', 'Vermin', 'Video_Conference', 'View', 'Walls', 'Wellness', 'Window_Covering']\n"
          ]
        }
      ]
    },
    {
      "cell_type": "code",
      "source": [],
      "metadata": {
        "id": "3Q4XJ2SPf1bH"
      },
      "execution_count": null,
      "outputs": []
    },
    {
      "cell_type": "code",
      "source": [
        "#align synthetic data and training data\n",
        "#df_synthet\n",
        "#df_dislike_trn=df_lst_like\n",
        "\n",
        "dct = {'Video_conference': 'Video_Conference', 'Food_Drinks': 'Food_Drink', 'Messiness_or_unclean': 'Messiness_Or_Unclean',\n",
        "        'Window_covering': 'Window_Covering', 'Bathrooms' : 'Bathroom', 'Change_of_pace': 'Change_Of_Pace', 'Collaboration_room': 'Collaboration_Room',\n",
        "        'Do_not_know': 'Do_Not_Know', 'Electric_Vehicles' : 'Electric_Vehicle', 'Food_Drinks' : 'Food_Drink', 'Lighting_indoor' : 'Lighting_Indoor', 'Lighting_outdoor' : 'Lighting_Outdoor', 'Meetings_in_person' : 'Meetings_In_Person',\n",
        "        'Meeting_room': 'Meeting_Room', 'In_Office_dislike' : 'In_Office', 'Messy_or_unclean' : 'Messiness_Or_Unclean', 'Not_applicable' : 'Not_Applicable', 'Open_design' : 'Open_Plan', 'Open_Desing' : 'Open_Plan',\n",
        "        'Return_to_Office' : 'Return_To_Office', 'Socialize_in_Person' : 'Socialize_In_Person', 'Training_room' : 'Training_Room', 'Messy_Or_Unclean' : 'Messiness_Or_Unclean', 'Open_Design' : 'Open_Plan',\n",
        "        'Socialize_in_person' : 'Socialize_In_Person'}\n",
        "\n",
        "#Video_conference', 'Window_covering'\n",
        "\n",
        "# call rename () method\n",
        "df_synthet.rename(columns=dct, inplace=True)\n",
        "new_column_names_syn = df_synthet.columns.tolist()\n",
        "#print(new_column_names)\n",
        "# print Data frame after rename columns\n",
        "#display(df_dislike_gl)\n",
        "\n",
        "c_syn = [i for i in new_column_names_syn if i not in Label_Names_Lst]\n",
        "print(c_syn)\n",
        "\n",
        "#print(new_column_names_syn)\n",
        "#print(Label_Names_Srtd)\n",
        "\n"
      ],
      "metadata": {
        "colab": {
          "base_uri": "https://localhost:8080/"
        },
        "outputId": "34990268-072f-479f-d8d6-eff98ff1ef0e",
        "id": "vBQnPdtuf1ue"
      },
      "execution_count": null,
      "outputs": [
        {
          "output_type": "stream",
          "name": "stdout",
          "text": [
            "['Unnamed: 0', 'response', 'orig_indx']\n"
          ]
        }
      ]
    },
    {
      "cell_type": "code",
      "source": [
        "#confirm no data leakage\n",
        "#confirm that no gold label (test set) in training set\n",
        "\n",
        "gl_ids=df_dislike_gl['response_id'].tolist()\n",
        "trn_ids=df_dislike_trn['response_id'].tolist()"
      ],
      "metadata": {
        "id": "x_SpqL5GgS2N"
      },
      "execution_count": null,
      "outputs": []
    },
    {
      "cell_type": "code",
      "source": [
        "#find duplicates\n",
        "c_leak_detect = [i for i in gl_ids if i  in trn_ids]\n",
        "print(c_leak_detect)"
      ],
      "metadata": {
        "colab": {
          "base_uri": "https://localhost:8080/"
        },
        "id": "CC7ugpZphcmv",
        "outputId": "724395ae-a8a0-420c-fb5b-71c14f844b24"
      },
      "execution_count": null,
      "outputs": [
        {
          "output_type": "stream",
          "name": "stdout",
          "text": [
            "['R_2uqWxJXFyaZvCmH', 'R_1cZDXzZD4mZ9gj4', 'R_1C76pcMZ3h3wcRj', 'R_1qWoFBEt4ptFuvQ', 'R_1gMapQyOYqCqn3b', 'R_1OxwSUEMAku5rIB', 'R_3wsm5os1fSRRdFD', 'R_eLKOROigiV53vKV', 'R_eQVshvdNWILSzvU', 'R_NUyMMifqdIH2HyF', 'R_3JaxmpPgm4hh5Ts', 'R_agbR6zDGyEGyCQN', 'R_VKLQHVx81ORsxep', 'R_XZ1zNsCfnBXu9kl', 'R_sLjQulJ2arpKhgd', 'R_3lApF71zDjIxCS4', 'R_1QuOFIQUwnMkgKS', 'R_bOPQTuSACS6UmhM', 'R_2wMIVoRv58kx4CR', 'R_pLWGv8Al6paz0Bj', 'R_1IvdCVMvpu7GikZ', 'R_1F5tRd51v1AJNbr', 'R_3MFLqS7HqfsrLpa', 'R_C2DiI6Z5DcV9xbX', 'R_31SJpVcdu8IqnNu', 'R_1MZnGrksfjQiRRq', 'R_3KqndGiHyB2t3Uo', 'R_2wAyKExEvgHd7mX', 'R_3IcwF3tjU1nQIb8', 'R_2OVbQxyR8eQql1P', 'R_3HBQnvMrIi5hkWK', 'R_23nb9nduUSDJGuZ', 'R_1imOkGxBHt0mU0F', 'R_3rOnddBHPVNJv6A', 'R_piTXDAU42zQOUfv', 'R_28IMv8hIWbqae2b', 'R_2TXzShOqE3mLNwe', 'R_56H3dOFqyXqGNjU', 'R_3QPPBpv5ufzefQ7', 'R_2uClv0xAVFeo7ub', 'R_2BbuSVsawZAmvHe', 'R_1ln6BalHrOowDtt', 'R_3MnV4J71EnyIvyj', 'R_2pSoi6yGiGULf5T', 'R_T1VDURyv0apOCDD', 'R_1EYY36lv4PviHuS', 'R_24nOHWDe7BK0TK1', 'R_3JLrvNpO4NLwWUs', 'R_3NyWlfYU8zcjdqJ', 'R_1k2f5BBSJxkyXN4', 'R_3JHAk55EYjBCbTP', 'R_27DPBX7xtfRmkmv', 'R_2D14dWoe09suhkN', 'R_31cNHLXqTbWKUQ6', 'R_Ra7rDutKWdXQuoV', 'R_2AX42ufM8QjgSiW', 'R_2OVL6Jk1HIXObrx', 'R_qKF6fA6Xcyb6ySl', 'R_cGaRyJpMu1dLUii', 'R_1BUY05DG4r5ncAn', 'R_33eyS2XqgvjFcDO', 'R_1mXj795iV5AcUVG', 'R_2rwLj7GGXFcKq8F', 'R_3DiSHorzxEcUO5H', 'R_1E4oMh14HBjPhC3', 'R_1Cx8ERwwXbMH1hK', 'R_podmnLrs5BBMZoZ', 'R_eLM4zhqAwA235jX', 'R_128NUeHpsG28xr1', 'R_32XDeWt1rdxXH8u', 'R_0wANQ6mtxSHAuml', 'R_Wr59SBBEBS2xzX3', 'R_2UaXTmlbiTeQdzt', 'R_27wK2GI0vteeXfG', 'R_3Kr55izXamokeKG', 'R_29iFIODIY4ZZNSJ', 'R_9AeNRpT76xjp6cF', 'R_6D6fc2r9fHIjeKd', 'R_2y2hg5Gxt8DER1R', 'R_URYqstodIU9J3A5', 'R_V4rVAnq1rAdWx0J', 'R_10o9E7mKxpdUZXE', 'R_1OVR6b2sStC0WD4', 'R_2PoIJJqQ0XFQ1gy', 'R_1H6qNSebCcVp1QG', 'R_3LXrQ1yrovSsUuk', 'R_RKcqELxbdQmK3Kh', 'R_1LnHPzaImQgLDk1', 'R_3Ph1LT1Zd2xb2cf', 'R_3fH7WlbFTQkarH8', 'R_eVPZOBUxSH28bm6', 'R_O74x8YEZhja1GAp', 'R_RUCiOp9VKcVwb97', 'R_1ImefdagBXnyCpf', 'R_2s0bhBssbFz01hI', 'R_2aaVcahEyB6e684', 'R_262zXPlpvxfhbjY', 'R_5okbqFEBmZMMpnM', 'R_28Ny3ktHfH2qUnG', 'R_3r39DoJfeAB49YK', 'R_6hgbfWK4koT1AJE', 'R_73DJTqhGP63vO4e', 'R_wNm5ZO4lioDhOEh', 'R_1M4gDCXj4tHycrT', 'R_2BfClQyqWBm4sem', 'R_1QbYwbBQTGHby6g', 'R_2pLTM0p2Khj71s7', 'R_3hhmz0tyKhxNcJR', 'R_1QK4kYTLsZPYqwh', 'R_1LMAwO34sMUedrY', 'R_PNT2W5b8DOgL4dP', 'R_3Jr4uGT0uUxjkVg', 'R_3PLGf27mquaQxG9', 'R_307xuL5m8uFhG3G', 'R_cuvw1x72FYBN59Y', 'R_1jOqNCtfNCZydeF', 'R_2s0vf8CIXklDhiX', 'R_3ozvyyJVNQrNl57', 'R_cucMXlEjzLzETlL', 'R_3HHsoiOm9NpaKjd', 'R_3EnFzr8J8Bzl9lK', 'R_OIjKiUNYwBAHjAB', 'R_DUmtSIEJRtDNoNH', 'R_wYJSl5RGZPMVggV', 'R_bI5lYYgFnlHgxJT', 'R_UPXUrJpINajRqiB', 'R_dbTFAZG4mStbV1n', 'R_1IW2MZf5TerU9fT', 'R_27euG0XoxwsMvOe', 'R_3ET1836cadI7G7i', 'R_2zpzTi5nR23pazo', 'R_z1HMLzmxaF7US4h', 'R_UEBNJdLOLzRocOR', 'R_ssO25TCcEPQOjbH', 'R_3jcwTxiOsKZMKR8', 'R_pfIRIiAbOObAkZb', 'R_b2G5baId43r54bf', 'R_3MMXRGEEQAhUc3L', 'R_1DMAAMht2FpFcbc', 'R_C3Os8aOJ27Q64BX', 'R_2xY4xsLjLNPIAgd', 'R_29dmrq0HIYTpxmP', 'R_2TAknmMt97Io7K2', 'R_1K1IYZITO4zdAcV', 'R_cIITrudK9yGfSH7', 'R_3PHaiYvC6gTx3cd', 'R_d07foQ0nK6G0jR4', 'R_9YME0dfjWHWT4o9', 'R_VXdyAQrKMMooXYZ', 'R_1n2vAi5KmpJZvoa', 'R_21aG8eKWX46NCdH', 'R_27DLxwZc2rhKn8Y', 'R_3G2o33eDTkM2irF', 'R_3EQOYkHYIJ6s5Yq', 'R_278pBm6eaTbStSY', 'R_29hPUKZcHZnY49n', 'R_uyt9U0S2jNjTPY5', 'R_3ehm7RIcc03IukE', 'R_3mZKTq0lQ4iG8gS', 'R_2bOczX2Mc17sX8B', 'R_3FWNk4egMRaz9v8', 'R_2Y3oG6khaRXZZCg', 'R_3KAyjZtkgGaG4ty', 'R_2b2Z1RHAfzTE9C9', 'R_tGIfAw208FEHtZL', 'R_2qCz4X9i7qP0QDj', 'R_8kNG96TNnxZIbhI', 'R_3KDZSGcynEMjU6C', 'R_238dhlCWwAhvy62', 'R_3NRlT1en25OwTO9', 'R_2dM76P9aScikDxh', 'R_1cYC0Heq5Nia7Cg', 'R_2EjijWNdCu6ZUOb', 'R_1FnUPSJTjliUB9a', 'R_339ovhytYnWuTX3', 'R_VUwGC4tsflmROs9', 'R_2aFQzB7aXkFadfv', 'R_2vldW7ZaB9kK7Lj', 'R_RRbmY3NqIrUypB7', 'R_1IaATBbcArZ9eLq', 'R_1jGPpTHkigx0rNa', 'R_3gZwf9Xy2nqmUHI', 'R_33d1LWg8mI7YBIg', 'R_3iKdeb5YyRdgsFg', 'R_1Ed53QptsDygl4D', 'R_2Y3UyLIzszv6OLJ', 'R_1FJPyVwgnRsskHe', 'R_2fkxaCVg9TS0r7b', 'R_0pSqnk1DxPXOOOd', 'R_3NX6EBP0w0gOXdw', 'R_1Ho4npRHZjXJoTj', 'R_2y9DPYI6bOMRgbe', 'R_OyddJDHmwbtCdNv', 'R_cFSVWVfehvmwbNY', 'R_2ZUrcXpquCimK60', 'R_3EKncMYxUOh3gOH', 'R_2BrDW3uqFTgmyRo', 'R_2anTQIBoWHPOy7E', 'R_Qi838o3PNwmCbq9', 'R_1NqMpHHRd66SSP2', 'R_2XpMn3eGSO3OMYn', 'R_3CIrZLlx2XTEGdO', 'R_3D15H8ScIrdfgH4', 'R_2b0p4ily5vJAKUp', 'R_1Iuz6d24YOWUqoc', 'R_bJ9zFcbcMVlH4eB', 'R_31sGDipF2GwgtKx', 'R_3Mb7b4EieKRMetT', 'R_2Qu0LwXZCfAADIa', 'R_1N4y5gKZ2tnQ5S8', 'R_2Y5NwfSEi02wwou', 'R_1LeakzSlpEOIqRy', 'R_2Xh6HilscvvMLGT', 'R_4PdL5pW25wsVWOR', 'R_3h4mlXpGk9mpDDs', 'R_CeG9s26qrjuIQA9', 'R_1gTHfuvChPqbAV4', 'R_zTPxdzQmM2ZSTYJ', 'R_7V85hKJ2VWxCnWF', 'R_ZgBMoXhanaeWdDX', 'R_1j6OS6VztBFKpxW', 'R_a5AfndeA1KG9zBn', 'R_2U32nCiQSsBtxnE', 'R_10OdLIaFc4tmxv9', 'R_242AxVwXnnfXQDP', 'R_6G2P49675SHlza6', 'R_28U07bG5X7sre7G', 'R_337jgzmcFj8NUma', 'R_1DT0ZCAgzRoZ6Iu', 'R_1IFP7sMS1XfeZ8g', 'R_2ZTDh9WKvl7iiYp', 'R_bEoEO458GW83xy9', 'R_r6YfQZ4Gc0L8d6p', 'R_1EiDiDK1kxv7uLZ', 'R_eRScPCRSMKjs1sl', 'R_2woXNDXhkbnmsSW', 'R_1mCNXyACWHeFhRY', 'R_eE7QKth7SJjIUKZ', 'R_2foJZGpJNXcTskV', 'R_3GqykyidntVIJ5G', 'R_307fPLGEeNrNnCz', 'R_elCxUZWplE4hvuV', 'R_xreN7oIfHcu7r6F', 'R_eybraennyRINGtH', 'R_1eIzxvNUW19KCo5', 'R_1gvcxCqDpcE1sBS', 'R_3h4txuZPN5JfAGR', 'R_3fdbwFrNHoty2Ur', 'R_2Vx6Mv42brFbpdW', 'R_1f0JXoo0Io0BRH8', 'R_29moPffHv6BzNap', 'R_vcYyY9Nb2L0appL', 'R_2e51ktm7k4Kx0ds', 'R_1JPXRSLWR9uZCnD', 'R_3JfKIcoe0MhUMKI', 'R_3haKYloV7ZPMzfZ', 'R_2YsQKVxQeCQCRxx', 'R_1Kp3EE1O8HSSDxU', 'R_1MRMdn4Ltfipxue', 'R_sU3mPJ4q0OQpVCx', 'R_28zFocbY1YvZjXr', 'R_02Kisv492uHZz1Q', 'R_2zHKlEuZBcIMDyh', 'R_1ohcN9zIjEwttiI', 'R_vUMo4yHcTg2SOPv', 'R_1GZVhRVCd8qEnmF', 'R_2gwzK8Dma30zUPL', 'R_1eM14Xiy5WEZo95', 'R_Wr3nbJwRLzjrwIh', 'R_Y4hV4q7tui4vCAp', 'R_UY02spk7Yq7SUHD', 'R_3KJwvxlhhPUa4IN', 'R_3e946ZREkYgPh4U', 'R_9TTCtBKSH2Cc8Ex', 'R_1Kq141th5zqxT1B', 'R_6thinM1G6hAymTT', 'R_Zn4JN6WaHq98IZH', 'R_1HhQd5cBWmtdo5T', 'R_1g0BdROBWndQ9Pv', 'R_3Eak1Re4dDgCBSB', 'R_3mlroGzr7XHUjw8', 'R_1llUOnUFrrhnxSB', 'R_tR7YdYovyv7ZYbL', 'R_CZUYM11KN5WHrxv', 'R_1YpXIjpTbFuXws1', 'R_3rMmekVTx8OhLsp', 'R_2cbjObVWIDiTDIt', 'R_0qtoGb1O2Oom4AK', 'R_1IrNbDx9r8HycgX', 'R_dmUT02yUJlJgHsd', 'R_1NXCLQfIKQX3eeZ', 'R_2zZyr7RkUxqB0K1', 'R_3Gv6XuZYkQuuhpa', 'R_1GZVkT1ONiZemKl', 'R_cCFRG4O2eyVZgCl', 'R_1mUaZURZeVlDXlo', 'R_bebTPmeT72eKObQ', 'R_3ktPyhhjKQM0jEe', 'R_8q6iq2jVzmsMazf', 'R_1mEPsTThP6GvNE2', 'R_2Env0sN3nlMEjkP', 'R_3fZELNiwWj0yWKD', 'R_24pxcbw7ODSnv3s', 'R_3nDwILAdXeG1wV3', 'R_3fGBkBkSsEgf4Mo', 'R_sA8rMzH6F63Ml3P', 'R_BsxANfg0veH0lih', 'R_b8HtaBVCU7Xz8d8', 'R_1ENqsLEiwUx87Hr', 'R_2AR2KehyRao3mZ4', 'R_3R2CjaSYK34vvyI', 'R_3KBg0R8rqrpQ83Q', 'R_1NdWpQYfBJk9djE', 'R_28GUyKV9LbdtPaq', 'R_2rYrRMa1ab65GXv', 'R_3MEi2iQ5aLLwtuJ', 'R_1n6Fh9njlDehBzT', 'R_3lFjvfR4jzrQYAa', 'R_1GDFaKfHg8Vml8I', 'R_32VXnaiabrvu330', 'R_2YFBLHA0KR2KxRY', 'R_3qCgikjxF63nive', 'R_3lXIZDDev1Ka1Ft', 'R_AmqdFqi5GPlOU0N', 'R_VKKQmNGisczb4Fr', 'R_RfsQeEP04koW80x', 'R_3D8vg63IhrZxgDM', 'R_PFBgLjSsySQsgFz', 'R_2xPkxnqUJWIpl87', 'R_307xuL5m8uFhG3G', 'R_2cqL6K1vcSTGRa6', 'R_yIo4Aqh1xd5Lykp', 'R_2f8yGhTTv1cNjWj', 'R_zZGsOEUP2Du21ah', 'R_pGg6a1eavbyWUsp', 'R_3D5BdsLoXPDy9mA', 'R_3dQEeLvNPKWvSPU', 'R_1d0oZjKrkwFOc0w', 'R_UbdCJSGqNwJ1QiZ', 'R_2uVrFWWfkgD8m7u', 'R_2VfnI6olweHu7YQ', 'R_9Ys1Bnw7Z7E5VKN', 'R_3niNkwZAkDDMb7I', 'R_3lnWQTxnfVyXsHL', 'R_2bN4jDOWlXtidDz', 'R_3Hk9pjAdHvcoEcC', 'R_27NW1NLHE3FWSmH', 'R_2f9zzi5HkFiozbb', 'R_1FsSsPv0WZzRIWM', 'R_Y4UkLxke3Vf6vDz', 'R_3iUKT64aUV3dKBH', 'R_1Ih3ABZImTmfwDw', 'R_3MzA6z8gw4go4w2', 'R_2z78xPpI4MT0A6m', 'R_32PFMXk0Od6aVIG', 'R_3oMZMt1D19O3G5R', 'R_3JgRH7GgjgnKoJJ', 'R_RkxE78ckWqW6IW5', 'R_2EnTivAMJEUrbWU', 'R_1jE7fPqR8OKIHZy', 'R_2wNYlvtMIpxwE2P', 'R_3LiiXsADe2XgivT', 'R_ven7H0U7Qw6DAlz', 'R_27NlNNMobhPzIet', 'R_2rvxhZwe1l9KHvA', 'R_2U6nGsB8Nt3342V', 'R_BWm2J3CRTBbkWsh', 'R_7Vhk5mq0WtwkZC9', 'R_2WCsyEl3at8FCfi', 'R_1pxGjeKSNzgsrDI', 'R_265Ulq9DWzfuU4X', 'R_24CAEIlz9AAXKJq', 'R_1Nk818cvzAakATh', 'R_3s0T4uejSYl62fL', 'R_1K84G9Fgf96kTI9', 'R_YSSOZ18s2M3CWxb', 'R_0qa0UsSq2Ei4LWF', 'R_2YPvWekYAABWvYu', 'R_2QxmCqkZsPyH8J7', 'R_2fLZjpMiYz7F09g', 'R_bvHg37NdyshTpbw', 'R_3QYoGvVuFriMWo3', 'R_OuRUyJcbzXaL01H', 'R_232AZU5u0c1Hgj0', 'R_3EyevnpDgtCpONW', 'R_2whJUMB4NlQj3hw', 'R_2U6pAcx4lGVJVxs', 'R_50wtgHxm1v3d5Eq', 'R_10VPbxInNutYmSS', 'R_2ceDLmQl58klblB', 'R_29ddkpfb7CNPTve', 'R_1Dp3MAyAeU4JsI1', 'R_r7GjUdDYfW36uqJ', 'R_2fp721V1U3Gb34h', 'R_b4rhmuNIchV39AZ', 'R_1gtg45sRXrRrBxE', 'R_3ilM7BSpNSWS3Uv', 'R_3ezqJxCW6z9Vo3o', 'R_XGP3yGYZ0Z6RVcd', 'R_8AnQ4v1OsSXfQQC', 'R_1IzamDfV5x9iUIQ', 'R_1gA8hFqvEY6C3UF', 'R_2U0jEus197n9uO2', 'R_24MHkxK3jCbh1bj', 'R_1q21ydi8wtTXaKV', 'R_dcCF2r3lO7FeaBj', 'R_1N9tHLfiDNPIpLu', 'R_6YCRXqoH5dVkJds', 'R_1JEF18pGNu4tlRk', 'R_3p5bFzx4TEYIvP7', 'R_3GkRC7xQxAueRFI', 'R_3mahTc6QKfVSIOV', 'R_73xdt7fnLV4bjMi', 'R_1q8QaKIex9gi1DN', 'R_1FSCPaoFAWQYN8t', 'R_2AYBBkKh7XFBSX3', 'R_sAtKdhtvG6Wte5b', 'R_2zbChaWQUriRNHq', 'R_1roBHNRQmRpRK1L', 'R_28XRDlwE5bIYsMx', 'R_V58gD8isDVCb6zT', 'R_3PoCTmzidNccKQg', 'R_2AXUw5IoPty7mOG', 'R_3Jqm8pEjOc72WQ9', 'R_6nWNr0qClkNIYf4', 'R_12SBkGSlOKqBou4', 'R_1hGXoU6BUejtlUW', 'R_1pKUaruNUcRi61c', 'R_73ZrnVTKCKvQifc', 'R_XNbXqYTZomRNeUx', 'R_1H06ZZhw8P7HW5v', 'R_2SDgZ1CpyAidR9G', 'R_21pJMDfUNEM3XXD', 'R_QfUnHsEr9FOxtCh', 'R_3qHy5fqpiZcT3GY', 'R_3gXhWgwfFoUZ6lk', 'R_1lAlcd55lILZjz4', 'R_1oBDCPhWLqYf4cJ', 'R_D00qVXcOFaG7dbH', 'R_24BstgIzLAscxBO', 'R_1IXW2UZ76JrARHq', 'R_3hawfsd8ARh1nwX', 'R_1MXTxCDfSjyc6Jz', 'R_aWewTadVdenH0Xf', 'R_1doxVwcdxZY310J', 'R_sXtc1VPsVm5TqRr', 'R_32Ykjxd1hzhMRjI', 'R_VWjyHBsVHGbnRaV', 'R_oZUoKNJW33MoQVP', 'R_diffZxvUeVhOB45', 'R_eWj1As9eoS362bk', 'R_1CmdXDs3zLusLWQ', 'R_2s5Wmgs4LuViVvr', 'R_OO82ho7qg0RObqV', 'R_2wTs7vnm9sCH4bF', 'R_1jUhT5Bbef0nW9g', 'R_1I5leeIErU73qUP', 'R_VUxZww1dAZIAWRP', 'R_dmPIwXzUw0Fu3fz', 'R_ReM9vbaMCE6uHAt', 'R_3CCSDwGccD62UvL', 'R_2c0UpKqHLpeRBLz', 'R_2c1pRLWEMM5f80y', 'R_Z8HsCT5yUeKK133', 'R_3sAB1wrHWqOxUL4', 'R_1KrIG3qwDgQZjRy', 'R_eh8PABiX5T2Kdnr', 'R_1Gv4bw2FpbAGXj2', 'R_1JOZLCmJJVJLjS8', 'R_3iyCisFt59wZ23b', 'R_10ZYlEVMfkq4yvz', 'R_qxcOfLk6Wb96PBL', 'R_3FJTihlMqMK5W7i', 'R_1rp5bCadgQYhMg4', 'R_296tZ31rp2p9288', 'R_2Pp6jIjVd9gmvpV', 'R_0uNyWVuJwqPgoJX', 'R_2Y3X9gR6qkQ4KwD', 'R_bNJa3haVFVyXeOR', 'R_3nxdYWO0ZED31gy', 'R_1f8apyyb4b4M1mo', 'R_1guo94jxw9eYRsC', 'R_a98UV1mRtUZTOQV', 'R_3RgOrQTCH5Epdih', 'R_2YPmA8Yts6z0zFU', 'R_TdPr5NOwvjtN3nH', 'R_2rNJrpyXQOv8uvY', 'R_urnBKqu15HIFj1f', 'R_2uOg2sxVx2yf7EO', 'R_2CVzcR3zwKDzdF5', 'R_2WJxoUTAmCIygCW', 'R_bDaAkBEIVskqbkZ', 'R_uxBVCj2MP2qhUJz', 'R_2PdrjL4UGb5qaPK', 'R_ehSUfOq90PCTLDg', 'R_1LbMFrggvOAJhGJ', 'R_3PM1VWqMJeZ8r8S', 'R_2WAJp2zu7WXZGOD', 'R_6fXwlTNu7hRMDky', 'R_XYu1xHJdWsLXH8Z', 'R_1NZhcie65zelarY', 'R_3CIyF3tdpW5R38r', 'R_2AEisws9abuwtQi', 'R_1gwHECOMxLGb3Po', 'R_0VvESuftDqv4b61', 'R_21ziM5zyaxz2t51', 'R_1dzgJ0UAOFcP07G', 'R_1fduIr03AfXcPv1', 'R_3hyzf2H7QwbntTi', 'R_tLeKU752XN8lJ9n', 'R_3hsaXdSjeRP8l8v', 'R_2PBgCdNkbqsglRE', 'R_2v1tVrheYZWqTX2', 'R_3mgz4WkYwdIWreY', 'R_1ItLpbjkbLyFP8y', 'R_3suoke85GjjCwXY', 'R_10ZR8oI6nTO3Ske', 'R_3n5pQBtOUXJrWTQ', 'R_3qQCewxWwalTwFT', 'R_qEOzq0PmzSJldW9', 'R_2YWkW2OCcfLYQB7', 'R_cx5lzQuPta7riYu', 'R_3is3mI1baC2km26', 'R_242ap436Uoku460', 'R_3erCkHsUHM9I8ZH', 'R_1fjugEIigqWmbDa', 'R_3ESUGTurDyB2iaO', 'R_3p2V67S2rEeZJ6S', 'R_Xz7T3JJv1tefMpr', 'R_5BFy39I3xlHHzVQ', 'R_1mVHBTZggA4NRl0', 'R_3Ld2abkKC28SDcn', 'R_2f2kIdpUFcloSDt', 'R_3oH2osHxt1NzaRW', 'R_bpCOZUwMRaO5DMZ', 'R_2Qfh9IwjEmO27a4', 'R_pmTBX5xev8OVlND', 'R_2bOH0ulwviEv0CN', 'R_2eWLcqFhSxfFANk', 'R_3P5EghzqxyfrQ3S', 'R_3BKs0hLVQDEuGSq', 'R_2P0aln9M1zDZ5qF', 'R_REQ0fuzOgc7iGGZ', 'R_8rayjtFvLVow8u2', 'R_22X1FQTqM6pTL4o', 'R_26o7fwNeCDGufl4', 'R_6VbsVPrXEGwflm1', 'R_0oyVstyAdSKmOY6', 'R_r2QDsgwdnLnUmt3', 'R_2ZP5coOCBfVJp2G', 'R_1NliXN9ooM1rPAE', 'R_28MbwwScWY6OJOr', 'R_3KMDxlR4JVGDNwT', 'R_2amgQlaj8fkKiv9', 'R_SJZpoN2AiC9dnhf', 'R_25Sp0eyYBx7BwLT', 'R_2SeLHnU1NGIucg9', 'R_23gmyVDfhsdd6qi', 'R_1porRebkp7Q7oAa', 'R_emxKirOIayct69j', 'R_333fF0IYtXtHCY5', 'R_3MMYSHT3wHpigM5', 'R_217otwciHpr3PoJ', 'R_2rDunidYZa64zM5', 'R_ba8NSRvQb6LTfoJ', 'R_31o5vcbtaYZ33t6', 'R_3Rgb5FZAmafu798', 'R_8cfajqMK0979BEB', 'R_1BWAC8iKqpNFvqG', 'R_2UabS5BgxKWTI3U', 'R_2Bs4enTs4XZz5g8', 'R_eE9AQs2sK7c0ZQq', 'R_31RRe1YFTP5oVew', 'R_b1m7bNk9K5IBAqO', 'R_1LOwa0gzkWi2qcI', 'R_1db38yyhGu9hafk', 'R_UAdJ3zGm3u4wLqF', 'R_8AqBkXZZHXtIF0i', 'R_3KOqGdL7xTQVXew', 'R_3HOEswWUpoUt098', 'R_3HjMroILnoimZHW', 'R_1I5lDJSXIiPIDY7', 'R_33vZvf3YG3C9Iag', 'R_1ouqJXdrV7bpknG', 'R_b2AoHx3ulyrA5wd', 'R_007H9wdgbt2porf', 'R_300lcIGxjLYkh5b', 'R_1i9VnCiESsXegX6', 'R_2zGxBfAegbHrFKV', 'R_T28SkMmPhet3qyl', 'R_1nV2kYOKjWwP79m', 'R_1M7c6ZVGytN7UEF', 'R_1DUYzje8A5mQNmo', 'R_3htnqqrdbyBWSBY', 'R_3CO3TDbGS1OoKHE', 'R_eyS0hfqpSq4s7xT', 'R_2c5yKlofbxOMrSc', 'R_1FqAeL5J8xy3Ygo', 'R_2WHwQ8tQJnLae9A', 'R_1Hq76TN134Wr8ma', 'R_p5aMPpk7mrBLKpP', 'R_1gu459bPbzvTxnO', 'R_1GPP8sqm161vQwf', 'R_2aggaeQjwf6xXOa', 'R_3BOprJdwZadHjjj', 'R_26g0DPrTtBCtoht', 'R_Ce6Ll0YaMeiLQQx', 'R_3ltwHJDLKoM8sh2', 'R_2PjyxnznDMCNiwI', 'R_2cuf3kMIviyvdWt', 'R_3G0nNSgjvhLWXYE', 'R_3IeZfuB886VTyMN', 'R_12kT901zzBp1Mr7', 'R_2AQCLjxwQe01wbn', 'R_qxTkoieNhY4Brnr', 'R_2wcnYlEIm9XZCqP', 'R_AswqwmDgvHRMK6l', 'R_2czJiHk7VDbzaMR', 'R_0dYZl3xdbX1zZxY', 'R_tLr6CK7L5NAu3Hb', 'R_2w6pk2vfkSTF9PE', 'R_3r1VhTjbt5Cq36A', 'R_3MMYOBABpptCU0z', 'R_1LdRAfLMAoGTabL', 'R_0l9CHIdm0J0M3gW', 'R_1i8O9kIa4Clu3zh', 'R_3g74PQZxTNhJDwr', 'R_2YLLQsUDBHO7TQV', 'R_2sakoSLKZpEvJ8o', 'R_XvLxxQuh7d4lEvn', 'R_sGpBmegyAavMmop', 'R_2xFRDbm3f06xK4V', 'R_1LvTFWgYrkwANHe', 'R_smXzDMGa46Wxc9X', 'R_2do7GRebhIpLa7u', 'R_2t5Nox9g3N4DsmG', 'R_28UOXH05UAWLex6', 'R_2o8Z0SoIOUrOPj0', 'R_1mrUyxFgFvfsoFy', 'R_12QfjRfksW2jyuY', 'R_3DvGUF4lW7BIJ4o', 'R_Ok9ojQ8guqeWsvL', 'R_3k6RYf1wgxqVnkh', 'R_3QJkMXKPSjBzI7y', 'R_2fvevX2zl2tfIBJ', 'R_3rPo2fYA4EkPvRE', 'R_2zkneqo62A71WAP', 'R_eJsCDy4VGp3kI3I', 'R_QmmbGjOhwVFkk7v', 'R_1mQ2J89ofbgB2xu', 'R_pguxfKQVaAOxgQ1', 'R_3fekw8MFlRRmtCS', 'R_1Oqmgdf5DrEfAPU', 'R_2WZ57TFuPGuPSVn', 'R_YVlYkBh3jh9lNnj', 'R_2D5rKcAkdmPfhGw', 'R_22QedEMwsLkz6hR', 'R_3R33hKwg8C0jbfw', 'R_b12TdWyXaevh4Mp', 'R_2vbG2vUaz9Dom0M', 'R_1MZq4OkdW7rg4bJ', 'R_bslpLrpOAy0QPqV', 'R_wS1J18sWDUo2Nah', 'R_1rMJOdrEnb1lIaK', 'R_2TtUmYLToEaPxHM', 'R_2BlYOUI0CUevYK9', 'R_1LTpHoqV7KPbDTX', 'R_uqvl3tdAER9VeW5', 'R_8rbOog2ks572pN4', 'R_31tiC5eRC6LtwB5', 'R_3kvuc9QT1SwSMLZ', 'R_2VEkl2rsLnVZEfm', 'R_DvGzJcrzoaElS6d', 'R_3h44NcoOfPQgNmV', 'R_3FV8B6F9BTBWRH8', 'R_6hRf7ExKB0X3zHU', 'R_20kEn5QwPo3ZjE2', 'R_2aS9qbvBaJk7vUK', 'R_5hYrVzCc8MaG9B7', 'R_1rdL0VRI8gKRkut', 'R_3n6KHvZDR0TeOdh', 'R_11147MsuB7u5XGw', 'R_3fxGmngq5oWEB4s', 'R_cSUuicePmQgHzQB', 'R_26fNEq0wGH1wkCo', 'R_psW3bgPSskF7ce5', 'R_3DiERLqUF4Aha0f', 'R_1IXUrodNgBfJvCQ', 'R_1QJWJorm2iPmH1C', 'R_2CCbzQoJG6CyL3V', 'R_2tGo8mej9ehzFYr', 'R_7QljuIEkvHdOhPP', 'R_2YQ7eAjsIBwPxNC', 'R_3m4YiheDk5kBGAl', 'R_3qrKE6XsdzGoRQM', 'R_9RlsdYQwAoQVV0l', 'R_bC3OD06hdJAgAHI', 'R_3qEWRQWwNct8yHi', 'R_3KBLdkOuWlFMoAX', 'R_ctGAdaNC01XPXBI', 'R_3gRBlf0HjtHkZXw', 'R_yVJydpQzOa1zSwx', 'R_2Qlk8DxyzuIijgx', 'R_12QLlSB0q6NjPCw', 'R_41JQSG8c0ufww5w', 'R_2QRjvu1RJnmDN1o', 'R_2foDM6PMCHkQFTP', 'R_2Qld5eCu6doL9Lw', 'R_Qd0JiAAMSeifX8J', 'R_AagbUxZc1k1rG3n', 'R_2c7Q0o5IRof5whG', 'R_3iwcC97pPkq6mX6', 'R_1gi4w5ropLPWyuz', 'R_2sXx5Jdg6Jesgq9', 'R_0xLscqTbIK1VUDn', 'R_1jcsA2CEaBcUcyR', 'R_3sjjzP6RuNDkKFj', 'R_2riTyTegc6N0kyp', 'R_sps9HVw45dWIqBP', 'R_1l5oM0lGqAgrt1j', 'R_vkNuIkv8Mqw43MB', 'R_2WUABhoSlIxfB5h', 'R_3qrg24DTeHRjJnS', 'R_1r0VKvK2TckKhmb', 'R_2Bma9wp5ZMIPRL4', 'R_5c228YlvGXypz3P', 'R_3svIG5YtUDIBi0X', 'R_YY0yNyQ4aAYL5S1', 'R_1KrSTT2SOYN6FBI', 'R_1ODgvJIEOklc04d', 'R_2Xn5715iZbUmSyo', 'R_1LNf3RUwBvFo7XW', 'R_0TFFbHf2wQV9pAy', 'R_2afZIn7viMWIPXz', 'R_bqIita6PzLJLAFX', 'R_3ndSWB5pKJ4XNOj', 'R_9LA2lkGQdWscmvT', 'R_ekxADTARBO5nbK9', 'R_3oLB2tOKeboQFgL', 'R_1mz0dvngneT68VO', 'R_3m9UjxI8Uol97d6', 'R_1IyGIEydTIxgPRI', 'R_7QyDWd31gWrtJdA', 'R_3iU4Zj0uCAa2L8o', 'R_yO0ZhF4ORxI4HBf', 'R_3QQ6TOhu9SdpO4B', 'R_3MuGQJ1Fbn68iLW', 'R_1flUawcEBTqX2Il', 'R_2wFUK4G9lwwy5kQ', 'R_9mh5DsesKN03E6l', 'R_2bH9a1ESSdehmPr', 'R_2PiYY6TNlgfGjqy', 'R_24Nv9FrYj4Y7pud', 'R_3j0RUF6gN02QTkm', 'R_ODsWjTnD59g3wTn', 'R_UiJra3PUThWjEBP', 'R_3HY8RLDwlK04wUS', 'R_2QQUf3SphjkJbZS', 'R_1HnnVUzBv3J1XA4', 'R_22GrFjQpDBdZ5de', 'R_3HttKc2qL3ZMCGy', 'R_2QPBy6eg7Z881rw', 'R_3k1TWBRkBsttVMs', 'R_3qdGEQL1cpuwYw1', 'R_O1cTNI7fdyTClm9', 'R_R3p5FXUR1AXWEE1', 'R_sFtfoYmVy061BTP', 'R_2WvUZsLLQxjjdaz', 'R_x3pBqiki6p4shPj', 'R_1EjmeL0sjRKY3Uw', 'R_1iqHQesTUYlNNtc', 'R_3jWItNh0U6aSaxr', 'R_1IGKchmXnVYkHgJ', 'R_1He0KBpIMS3PQfa', 'R_3fIRLPTH9Clr1XX', 'R_2S7F7je3r9m81MW', 'R_578R6fikGhilKoh', 'R_1FQgYbGxmBaMb6Q', 'R_1l4suLkk4KtQt30', 'R_2SH9xMUZxxnyxi9', 'R_DqutVRNmHGPoFEJ', 'R_ym7ZQRORmNytKM1', 'R_sj0XAfpQPRtMXxn', 'R_1QrMAX9kxEZtDFX', 'R_3GuZDB6g38hKVWx', 'R_1Do2XLQQbzSnMxL', 'R_2ZNDjoncU6HyDEU', 'R_1qfINYcaWCydhwC', 'R_2fdEL4XDspGRswm', 'R_BJ5w2nrmjN0uRVv', 'R_2PbSU9RPQCPsWiB', 'R_2ZEnI1jqtOOLWE8', 'R_RLF8kwyOSMehJst', 'R_1ooQhLw8zebagda', 'R_efdITqlWI8dkHDz', 'R_3Dowf8BLHQf8IMs', 'R_10GV8nR6n6efZBD', 'R_3kq1nWot1phMbQi', 'R_yvSiVUQ4kVYxxXb', 'R_3k5hIZTP31LXiNz', 'R_3Em4LMEWiGTGSEh', 'R_2fIKvLsmjBf3Fm1', 'R_tGUUP71YxAlFjdT', 'R_2TpczV9MHtaketM', 'R_3qKl7YiQzCUzBuo', 'R_3gtLK8kc42e93j8', 'R_3Nwy2lwHatXGory', 'R_cZ4A5RsCjahwaMp', 'R_WAtuQpI9J72i73H', 'R_Rlf2rFpcbG1483D', 'R_3HprUgOfNMRDO4r', 'R_9TrPtdDabvLartk', 'R_1FfHPezG2sQJq8A', 'R_27D7ZuOyQIHPEYJ', 'R_3rZfHWp9oexPgCf', 'R_1Fh1Cw7ZJkIGpdT', 'R_2U3DTtUr44jEdBB', 'R_1iapiNGZ4WHeW0G', 'R_2Ck23sIsCFh2qTS', 'R_3m7EKBnUbCSsQ4Z', 'R_uwxkk3I2ZrjLq5X', 'R_2To5vTZGhNVXvvH', 'R_1hG24GDladTb4RQ', 'R_2YmHBf1yzpzQvxy', 'R_799HMsjI2jA7uZb', 'R_07fArZpsxlCqsQV', 'R_3MF2T5qogsYYgSE', 'R_1fiPKoc6527lrVZ', 'R_Wpwt1DpyJZUihrj', 'R_wKRdPm2BaLWlIrv', 'R_3RdBeroYWtgORsG', 'R_22VUEGLJedPIRNn', 'R_2dSKVdsuO7e1Kc6', 'R_39FZD6t2gdNu8Tk', 'R_8kUmVYNVCp6xMTD', 'R_2QxHcWzWwQE1KFW', 'R_3kk7frajiRa64gV', 'R_2xXGRwXYU5Qbs6M', 'R_21oM3GlHbjAefGv', 'R_1CqMrVb3dtacFaq', 'R_1eWxBhH8yWnCO9A', 'R_cSbiYYtxY2qX5q9', 'R_3G86nng5nBElvVP', 'R_Aizrp4jXlGwzOSJ', 'R_3n6DsAsG0WDYaic', 'R_1E5wY7gDcf3OBLK', 'R_1FDiPg0EftAv6cO', 'R_2CePWbq9qixC8Lh', 'R_AcHM0Jtq0Kn1wlP', 'R_3EsBmE13S8mqrFj', 'R_u2eUucWiRrCmL8R', 'R_vOfYXqgiqzpUm8V', 'R_1Ly5FAt8Kv2gbYi', 'R_2R39NdtRQOSZ7Fu', 'R_2WNiK9NVNkCNJHG', 'R_3CILVJhiDG7VUkK', 'R_1gBkAkAzmqe1JtD', 'R_2Y51xr7l7hCzgzd', 'R_2Sjf4opDTEgF3mx', 'R_3h47FGLOMd28mvl', 'R_21FzWQtU3jyd8XR', 'R_3frDNoNWaXDOYsV', 'R_2R3TsFfCsRB3mpR', 'R_pQ0OqvZgtiMJJ8R', 'R_1py9tkpmdxlik2Z', 'R_33BfCYWAWcJjQ0u', 'R_blNigxynOTbu1eF', 'R_1GUkbcGGCs6iqOB', 'R_1r8OAxVM3UdWxK1', 'R_1F4Ex5fSrUheqxu', 'R_2zGtxih7rJPKLY2', 'R_2yjYUbpoxjjRfvp', 'R_6r3lAOm5PJNu3f3', 'R_9LC2c0i8ljr5A8u', 'R_OdrsK7h0TNjGTgR', 'R_5tDZS6La4A6CKBj', 'R_3RxPV3Gz87qr3Z9', 'R_1l5AtMRh09mBImD', 'R_WwYPzNYjabIKN33', 'R_0eTV4GMSF8ijNZv', 'R_2wF7vTviCoXTkLp', 'R_2CCTkhlBDciJKja', 'R_12Rv583iEofiscg', 'R_D8A8LAMLZw7NEhb', 'R_1DRMKNN43lJs2z8', 'R_5mqNElOBHw5D601', 'R_2Xh5U6LXZ9Gf04R', 'R_3exgB7HxVf4Q5cT', 'R_2qqFqtJdp4zgEpp', 'R_UaLNLA009zPkHm1', 'R_1F2suJ7yUmoPtJA', 'R_a4tx86tSrS5ZZQi', 'R_125dvwqRHMEf88h', 'R_27VZ2OfOJ6PpEU6', 'R_1luAKlziHfmvYZA', 'R_Ac9hSTbiIM68gxj', 'R_3ekvKjQvyEfaY7u', 'R_3D5zWL96WUCx305', 'R_2fJ1jISrdkIviwv', 'R_1mCxBaoerR26Sgs', 'R_1DotcdjXA9KdtgQ', 'R_1i3bYobjBHVfHiq', 'R_3huSKUdf2JLT8f2', 'R_1jIIuP7BlBbLq1g', 'R_1DSSusVyJ1RiS8Q', 'R_122S71hvdOM8wXB', 'R_2c5DTk73qJbg9pa', 'R_2RPlgCuHGT3wezk', 'R_W7Fo7sXzXgMEOjf', 'R_3nUgOlMmfuEc5d2', 'R_a4QZUHMF2u80HLU', 'R_1l3o6m2wLj0wbHo', 'R_2BapFcYxUPKOlqa', 'R_eaMBWYpjeW81tEl', 'R_3n6qcbGGD2DhCdh', 'R_2D2JrNqAtCWzKN0', 'R_6Ptqstu2y8WNt42', 'R_1eUCbWZXIn3G84n', 'R_3kps8u9nTkIXUhy', 'R_ANCupYYLjcWED73', 'R_9S5mY7Hrc2lpI6q', 'R_3fH6EYG0M1fovcy', 'R_2TRlU3auMWLNpy4', 'R_1IKMl3ngEw9e7wi', 'R_1MST9M2dQlf4mtN', 'R_4HqfqXXCeOJ1JKC', 'R_271J7DzhvyJz7pQ', 'R_6Ax4NGrqy5nURYq', 'R_1pE6LtnP1ZPG8lP', 'R_D1w2EJudrtB2AoN', 'R_1n8VnBohFVLFNGE', 'R_2X6WtsNx9zcdUxc', 'R_1DGs06P4up7iXdL', 'R_ze9heBsPZWx4yHf', 'R_Q54IijShimdsmJ3', 'R_eJoqKq8vyLnhO6J', 'R_0vv0Dq1V4w3bOSZ', 'R_2dt4cDo0BevCitt', 'R_pbWwFo5vNP2LqZX', 'R_22K55BQb3HOmlOg', 'R_zVe1P8djS2OYrkJ', 'R_1fa9favsX15g86u', 'R_87DXgrcsfNzrtFn', 'R_2CBXipGDYAk2h2K', 'R_2gwzK8Dma30zUPL', 'R_1oB8wWw5XaWbyAa', 'R_e5m8tsKIRcD0oIV', 'R_2SdF53pynSbViSV', 'R_1DZlfwu2ZUGmsF4', 'R_28CLdcH0oXoOpbd', 'R_z27QTUCVkCvtrlD', 'R_1ND3Q0jEgvzO1a7', 'R_3sbsmWE9TAkJ6ka', 'R_1CvcaBL8VQQvKB5', 'R_TedZ2WRXMIsPLvb', 'R_dm0fjusmjtqU7KN', 'R_3Jw2xwgC4jIWrmW', 'R_1mKTWHOLjRCEjBg', 'R_3IaXXOU1EKG8Uq4', 'R_1NfCF3QKnpGXvGi', 'R_3nqPa8Dn1nkQndc', 'R_217AmbiI6pttfh4', 'R_TngE63wM6IEm9z3', 'R_BrjdJOw245f1zaN', 'R_2zi45yizzvJBmLT', 'R_2CVSfDGacwPBoLa', 'R_3sn3cnim2jylStw', 'R_1PY8XJRO8EadDeZ', 'R_3fv23zcRBLt8YBe', 'R_cUtb5y6gfz7aWFr', 'R_1pS5e6Pc3yCZfNF', 'R_3DcMp6BxrUevDlz', 'R_1jkQ09ZNSz6gGUb', 'R_3fjV4Ji7mhD2boR', 'R_1H2ARQITjsVMIqF', 'R_AGbSttktRQOH0Xv', 'R_0SzdP4ei07bc5EZ', 'R_UR9d9plvtkmxBOF', 'R_307sHGyqfKWFdA4', 'R_Xp95DrekmaeQqDn', 'R_2dHiYFjwF6XMxHh', 'R_3GfXemqyDdMsS7T', 'R_1LzffsUZLicI1mE', 'R_1ewX16heIp2LEf6', 'R_1loF4Uj3OCJVww2', 'R_UMgDyFWzeFciYil', 'R_plMBuEqLIaRwzT3', 'R_RLfRapls83l7j1L', 'R_2Qlieb9cKaeAEHk', 'R_w7YBTXfXqO3Kyqt', 'R_1Hk83poMN21iDfL', 'R_O1jl06o9WboF0zv', 'R_1mldkj1j8WmKhiF', 'R_2EoPcQPc4A3dJsN', 'R_3dM9QcYu6kYh9Fa', 'R_1LoIuJtdmh2cCge', 'R_41MwyQwxxFZjbXz', 'R_1dnQfKj6BVlVtrG', 'R_eOG1WUVg3PIl0LI', 'R_8puYwSs5iD2TFy9', 'R_2VwoCVz9h0GFEDO', 'R_2rruwcNdXMNEDBW', 'R_1gHhwvV13eAcZYh', 'R_116j4YxYkMT9ZyW', 'R_xlIUQfGnv3oCZ9v', 'R_2WTIvOwEADcV6Q8', 'R_9SJII4eQ1aV8fwB', 'R_USaBI3qc9aNB1zb', 'R_2zkWJJeG9GmL7AV', 'R_1gdNwllDQCpTd53', 'R_3nNkwRWa21K36pP', 'R_1nUYdaczQaVY7DN', 'R_1n3bWqGwp96XjOe', 'R_yOnBhvxDXrxKzGV', 'R_3j05xeoc4kRuINU', 'R_2xY0wVIOpBqOlPY', 'R_yyxxp0dCf6AsSpH', 'R_10ZdLYE5BnvLBbg', 'R_TvCqxFxlihhj9kt', 'R_2fg4IRKbXiZS8MG', 'R_2S8BXXAD5zYXrg2', 'R_ebtgRYf8EqSMket', 'R_2wb2ONzK24SoSJv', 'R_W27B3ZDh4FtjoHf', 'R_cvTpiTb38BjbwQS', 'R_vv7a0rU01p17nWh', 'R_28FAASL9bMWb3Gw', 'R_1QlRxRdGLb1VRSY', 'R_3psRZSi1cSybLkY', 'R_zYgIqGB66rsjJHb', 'R_24AWg2lFxMB0TqN', 'R_2V8ygYsnd9dADcg', 'R_3rIgZFaOVWDxi43', 'R_3F2Q7EgNoLjb4zg', 'R_6WieZkr7tR7KCrL', 'R_2TLTeERPpo3mwna', 'R_1OOh1HgNnQW2FNY', 'R_xrZ4io1U4G3bpD3', 'R_3jTixCSF7sm372z', 'R_1kF7hzerqkDdnCj', 'R_9no4HEYpEJLZjOx', 'R_2zcPbi7uYMdyzoQ', 'R_3Mmt89qb2aDfUei', 'R_3jYVV8MViDyXkTg', 'R_2wAmXFge0zIG7TV', 'R_1kT91iynmH1kCmm', 'R_DdzOkYJCK3yRt5L', 'R_2rSD2fDngvF7FEB', 'R_5cDy1hIvqkrwCWO', 'R_w6RbJgA2VydiG6l', 'R_2fd2H5Xr36Up4bb', 'R_125XgU6o5x6ZyfT', 'R_2V8wTw0tL6sUDOA', 'R_2B3W9DUM8jmuE3E', 'R_1NFknQvejyyXjk1', 'R_2ePWrvqQb6kYTGd', 'R_XpQTy0VZVOBgwDL', 'R_3qwaV7lbsLfg2fy', 'R_3Ev6gxBADMNEHRN', 'R_3eLYr6h4AmYvO6J', 'R_1hJNXH4weWVJUBa', 'R_325zOSab8AGwm15', 'R_2rkCnXgrKCozs1e', 'R_ekxze2ECpwCZXQR', 'R_3DvvNcPKbG9646W', 'R_334gBBM5K0PksUU', 'R_em5sXP6xhbR1NLU', 'R_1mDVVZRCgoqtyta', 'R_2fRzFDmHpBg5mJX', 'R_rqjk1XRuwbG6y7D', 'R_5n0wTljBOPX1XIG', 'R_2Vft6vYA6DygqOV', 'R_2aFbiUrqo42lzn0', 'R_a9regDaFu5OMwwN', 'R_1MVUwMa1qIJbKIx', 'R_233lzNW9EZtANzY', 'R_2QJQuukFtCLeNrT', 'R_12fD5x43Wvn8NGJ', 'R_2Se497hC6pVrrxR', 'R_2viCEsze2QO44X6', 'R_1GDoYdDbM1eJQnC', 'R_3PMMLCj77Q3sqoF', 'R_3qOs23zeYHo3r4l', 'R_3sjjzP6RuNDkKFj', 'R_Y9dyzWIkV1UCT0B', 'R_2xVl6OXRNnaJpa5', 'R_vAW85vEw5ZYoDG9', 'R_1NaHYZOHgJJSvAZ', 'R_dbNs9Sa9s3n9kea', 'R_2xLDygBmiLWHiba', 'R_1gjbCABugZj4Gwl', 'R_3PBnx2ZjYqg4YBF', 'R_3dXGaaN7r2eHPGL', 'R_28IkGTTZmUU2w90', 'R_pSEAegUjUKYOANj', 'R_5uTcvRSqdRcrTt7', 'R_2TBo8QJdLYVuEUe', 'R_XsViBkv35VffkgF', 'R_290LXKbMSjWuihP', 'R_9vozqXdioqD2Ghw', 'R_2WTn1Gkk9Uk7bGv', 'R_2WT25L2DciPjkke', 'R_3khxNfVMfngSfML', 'R_2bpjShUrgt5dcPv', 'R_1QztSs7n33LeV7R', 'R_Dd7iSK0ylwkvEu5', 'R_SNwPVzkAvaw08QV', 'R_2wTv1SyS9rVJxC3', 'R_2Spre9Ax192ekqh', 'R_DUilacNaGUFeM8x', 'R_11iM17nYsaBdGKG', 'R_Zk8eDZMzjEXcClP', 'R_1LvuGhGaojDk8Mj', 'R_2S0vVmpt6fDKe5W', 'R_30woM1yA55cRp1z', 'R_4SE8FswDOYF0mNH', 'R_277oop36i8FbuD9', 'R_2VkgCfzloJcdxY4', 'R_1n1M8NiwETuo14N', 'R_3kv5714rm1ymVdj', 'R_RJ3QJASu217fOhP', 'R_2BlI7INsfXw9lTq', 'R_aaR49F6ykE6Esoh', 'R_4IRy1dAk86iwVYW', 'R_2YlDLcBqTIWUooR', 'R_3p3By3zWBvvJvzz', 'R_2DOh6NHaM8u2xL5', 'R_2rH1oBNcxwVHCnt', 'R_1CKFsC1dtAGqoIU', 'R_qPh51NMqoBniRTb', 'R_6sWyoXxW6QCiArs', 'R_3PSmdwJd1fNnJyU', 'R_2SdUcEuhyPue1VM', 'R_OkSrM067JnelRTP', 'R_1HkrmhfxRlKhmvU', 'R_2wBUc798Q48AWg7', 'R_6xR5dg0u8T9UGVb', 'R_Brp40J0QA7iCPU5', 'R_2eWhy54N1DoI9m9', 'R_2uF2rf1yP725CvV', 'R_bQlP6i1Op2lVAc6', 'R_1dH48xBhIvy0GU5', 'R_9uEJM03JG0IvSbD', 'R_2UVDfMS6pE8LML3', 'R_3fxhHunnNImMUP2', 'R_3pssWnZlJqqf9xT', 'R_2SIbYq1HQjKXpSM', 'R_3gwzIisDNXzHsMF', 'R_24pfLIdYMcsJkBG', 'R_NWHAHoSdhaJkdTX', 'R_1GxzkCcLRsHuw7X', 'R_befz3yfMyJbwrTz', 'R_1OGZUUJkKDsTPR6', 'R_1dhqqgQOys3WQmH', 'R_2EzT9gqyDOjwiwZ', 'R_279bN5NHRf3f6I4', 'R_1OTzhGnAkLRsFHx', 'R_RgycdreANp77RWV', 'R_vly925n31BWp8T7', 'R_1QrYAPo3ojIIoA6', 'R_Q3noSUCa2WB02k1', 'R_3nBmpAMD6pCZl8j', 'R_1EgOoSkgORIVC1X', 'R_3dWTWoBPVJ6Gqi9', 'R_10ICIRo5WS8qyvR', 'R_sAmuLJZREU5xSMN', 'R_30leTAIWJqXyeDe', 'R_pgdK4PR4MLEhI2J', 'R_3Jn2eqaupCeMhRw', 'R_2wtsHd6y8JWdNZ4', 'R_3qgMtScnowG5VQO', 'R_3RlSWICehhGvtfz', 'R_30cqywruEXfoPTI', 'R_1es2RvmPuz9XwoQ', 'R_3O8G9ttWOJ0vJcL', 'R_9XhedKKyGlQKsbY', 'R_20SyNiL5nUYJbFq', 'R_33viSNadaARoKZ0', 'R_eOQVDoGURXtZmOR', 'R_3KI1UG1Vk6zq5Ws', 'R_1JLdWyrTIxzgLcM', 'R_1ghZRXgGWF3vEsP', 'R_DViVzUfyDLp504N', 'R_3JtwaHDdAxSwyUp', 'R_1eS4YNBpzZGmWQ6', 'R_4SYCUOvE61NbJxY', 'R_3pcfXHvjqBEMXua', 'R_3P5lqymXBIJA8Z6', 'R_1Ka5xDt2OOJjBs4', 'R_1gpvLBIU825PE9D', 'R_3kNjMjSW4aUfZQB', 'R_3mluZ8mB2aPriCQ', 'R_RPtXcm5Kvs8o85r', 'R_3n18DxtrrWIWdU7', 'R_wNbLe3J5FHGsEnv', 'R_1ff4DBVhTIZYGjA', 'R_2CDG4Ad0lfyiMSJ', 'R_3jcF3P4dMFTtE75', 'R_2VNKz0nmbwpeqJq', 'R_PHz7KZREVkbPrtD', 'R_3qxJwMWkZNBvHVI', 'R_1isMUBPmNXEHYDb', 'R_We4QchQw3XpbFpD', 'R_3rGKwGkXkuo9CLs', 'R_1eXotouCQRnYlRS', 'R_1lgYURYsqNaqPG7', 'R_TegMe4OwXswPciZ', 'R_3FJVcB1R6cN4wzn', 'R_2sTLGQgMScJmRU1', 'R_3PBqa8yykBQ5JsX', 'R_8cwJcekEdBKyx69', 'R_2Ym4dv25lB48XT2', 'R_R2216HA1IJ79uVz', 'R_3s55LYNSxSJLYQp', 'R_eLKOROigiV53vKV', 'R_6yf3Azj1WBsZD4W', 'R_3HBrr9kqtv5RiZx', 'R_SJ0K6m80AqpHqtb', 'R_T7VpKgdO82uskyB', 'R_1QDDswPdhIlrGpZ', 'R_3j1Dpul6yKBca7J', 'R_zV8jjbAM2ailGgN', 'R_1jU1BazQLcexiR9', 'R_30dUuq0LjCcCRPC', 'R_3exJIuTmdJVTYap', 'R_3g1yo6IbcI8j3ap', 'R_1pJWD5QHll1HPFk', 'R_2e9ievBCQTTNUdB', 'R_3mlCcjdaYxa8q0f', 'R_eWNL7J6VEj8QECO', 'R_4U85P0JQ6BqHsqy', 'R_2S13guyxsZJGMGJ', 'R_3qJOMiAyJvmjxly', 'R_1BXCVT2s7oxEJ5A', 'R_1Ns6Byfb0OHjFHn', 'R_rpebKhGpDT1itO1', 'R_24HQI16WSXspqbC', 'R_2D18YT6CM2eGOZM', 'R_Rmel1pmhSu58Ru9', 'R_2TZer0spNwrmhc5', 'R_33yag1QgUmk0ETs', 'R_2zoNtKFZaPSBIPE', 'R_VPTlgBahDJHF2i5', 'R_rkgvCt7AFA7S3g5', 'R_2DN5m7g1cSZHWAt', 'R_3MbyTyIExXsw1Yn', 'R_2YQWCOcFCjfPf9M', 'R_3NI12HSvIWJ2VqE', 'R_PZjLmF8BLLNH80V', 'R_2zFLoDFurxM7J6e', 'R_wTPiCh4U6su0ldn', 'R_1mPeZGfn0COeBxR', 'R_uvKgHESUt84ckJr', 'R_2akTT659UZJhEMp', 'R_DuE5eJiUNNtjHLb', 'R_eDrcMrzRLb1uKIh', 'R_25SlYVvFM94gYrO', 'R_2s7iC1L8qMk18ZS', 'R_3JxeyMeEPtma4C5', 'R_3e1T2naVpji9Pz7', 'R_6M4nLnKve3Sdy1j', 'R_2tAxOoymucY4XKE', 'R_1MQF0u735cAOuis', 'R_3fYJRrzsKq27A4Z', 'R_3nTNI4C4eoEQZ3o', 'R_bIAfHhIQyNzWpq1', 'R_es4ktqESOrk1A4C', 'R_1IWe8aTAFNvY2uT', 'R_yO0BK8zhHDyyD1D', 'R_7OPyq3i6GLLqiNw', 'R_3maueWUHZ6CJVZx', 'R_2s74j28E1fAEJXr', 'R_1ih5xcg2PpnrPT6', 'R_1IEN4E1QuafAKPt', 'R_21sHLjwJA3OgHTe', 'R_1I3MHUAXJxYHkC6', 'R_YQV9NL6Jw3XrU6B', 'R_3Hn6nuBpzhD00i1', 'R_UYnyt9WKjRvxjxv', 'R_3D1qsDLtvHvy8lM', 'R_1OKc77ZmHiHrHqp', 'R_PCGdHJfDkxfHRHX', 'R_1d49qMUTSpezc6V', 'R_BWm2J3CRTBbkWsh', 'R_1cYNmSD1SVj3yyN', 'R_2rruwcNdXMNEDBW', 'R_1pL0yPPYxHmbYC2', 'R_SNX52ar6Eg5CoF3', 'R_233iWHOSmChf87u', 'R_3OowoYblmu0MzSK', 'R_a9jkZ6DiDXWe3mm', 'R_3Mgsuf4KNTKHnHC', 'R_1PZ4ZRnV19zipLR', 'R_Q0Vyq2SjTeJuLT3', 'R_1PTOzrQd9lcmFfb', 'R_0HwtJKhxNcqDW7L', 'R_3jZFfxM551IVWl8', 'R_10Pngdz9WWScfsZ', 'R_2QmU6M2Qwt561uZ', 'R_vHU7gAudfalEsgh', 'R_2c5FGZzM4RGHcOh', 'R_25RSMwiloT97XR5', 'R_2E0LjvuMfIWpclv', 'R_1odQ68KzyvNut4E', 'R_SUesBHNoL0Rhlvj', 'R_1QgrngUVREfFE5u', 'R_31ibgecBcAnWwSM', 'R_pM2Wd3hSCesjspb', 'R_1gp9zdaM4rSm1BX', 'R_1pGrlbzCJMsj8ep', 'R_zZIEXxLTC0ZUc0N', 'R_bEGVIlbFjhHRh6C', 'R_32WqV1CqL0Me0HP', 'R_ebuTmhJ7efJUDHX', 'R_3q9VN4ILcM5Bf88', 'R_3qpqj2BVPQmPyzc', 'R_1je8zDJKjnBIMxt', 'R_BKikblydTTFs41j', 'R_1MVUwMa1qIJbKIx', 'R_33DBCNa6fYk5GjS', 'R_2tnxhWH5kZvoBli', 'R_4VL5c32Zzhdk88h', 'R_31GfZx5aboNbcrK', 'R_1fluQqKGZKXs0Qh', 'R_31hEX5fRvSCyqL8', 'R_BIWPcNSlextIHa9', 'R_2ASXwRJqrhxQcjQ', 'R_bNw3M2ZLfxl6hPE', 'R_25thXPluEnWeNKA', 'R_2RVAsM3rodifLJ5', 'R_1fjWlfOvUDU2a0k', 'R_1LGTz0XdWfiY9Wv', 'R_5uNb3eFoH9055N7', 'R_2n2ErGqekVAB3Xz', 'R_6Ljj6PqGZuBFW49', 'R_2mGoX2aYIETkqtP', 'R_1fcKmrQ3kEBH9UE', 'R_3PmLo4kxfC02ju5', 'R_1pPCJIIr2m0gK0i', 'R_3PdYMkr4bXAHmVA', 'R_3oz3Ox7txF3Tt8u', 'R_2yg9Apw0fHU028B', 'R_2rNGuWScd1F5i4k', 'R_2UVDTcB1fECrPM3', 'R_BVe8XfDNnVEEKdP', 'R_1ie6ufY2QSCHsSx', 'R_9S3abQW7i43GefT', 'R_24dhZ3nrotKu4rw', 'R_u4aFvIf7ATrWiaZ', 'R_0TG3pNTvwI0pxpY', 'R_2Xo21KPgeeAbrR3', 'R_3oTR5J5IWho52me', 'R_1H1U6gv5HTCdfzk', 'R_2zFRf8ZCBalxyDD', 'R_3k1aMG3I9q6VHq6', 'R_12JxOjtvYJDpzc5', 'R_33y78BVNQND6HVh', 'R_30q7jy4KfQoZwAH', 'R_4IAup6bnfTjT2Y9', 'R_3Ea1qd10rObovrE', 'R_22PUNQ4eFVejB2i', 'R_1DLPTDbuVk5c4F9', 'R_2SrCsvxkY0nyuyQ', 'R_3njcagXW1VA6Ehn', 'R_3oRRpGXppMYBewW', 'R_29sjKzOIOK7OMYd', 'R_1dA1p5lozpUjGnm', 'R_3ktTd76AlT24yYS', 'R_0CzRD86kGLs3hD8', 'R_3lW96bMw7SQKAi7', 'R_2SJ0IYk9Zf6Zvyz', 'R_25NM6gYy6XCRqBT', 'R_3nIAp5UpKTQTa1R', 'R_veMakz0oIHn2zbX', 'R_1KqhgNYE6uBXfIj', 'R_3LhfPcqns3JonU2', 'R_bpDIOkInJ4WQJ21', 'R_1PTrk0l4rGBm34M', 'R_AvZjTBd4bTNCPg5', 'R_1eEKpOALnBasCSi', 'R_20SrENT4KOOyVme', 'R_1FA6u23txbm6Y6q', 'R_3eab0pvb56wSykw', 'R_0j5sCcauQDhl0sx', 'R_2q8XJC73rNV4wxJ', 'R_1KvDIk9Zva1Q1Cr', 'R_2agZxh0V3JsKg0Z', 'R_2Vqp1AoZut0qJri', 'R_1gvfsOA55YgRnex', 'R_1H06ZZhw8P7HW5v', 'R_3p5anMVP3YuXHFE', 'R_1GDnihoBUcz5mLu', 'R_80WpvMI2Y30KaMe', 'R_2eQCEEpfchPkYKq', 'R_3fpk0mtdVmUEoQw', 'R_1dA0yTkTQxkRS2x', 'R_3e9zXhVtKupemeQ', 'R_bekAJvYmH2aeXjX', 'R_2X1yPMZrF8cBNJg', 'R_1ItTya874wR46Ay', 'R_2wzzOkbllrFuna8', 'R_1K45JguUIexV8F4', 'R_1NfVKHq417Tpcli', 'R_NXblDxsOqyLwu7n', 'R_yWq6hK1JfPvhRCx', 'R_PLhUfzL7bRPP90l', 'R_1OjfOYpKZeFmuOX', 'R_2bNT3CeSkBjabiB', 'R_3pC1yoLmzWvtHKp', 'R_DHRWq8L7GzRetLr', 'R_1JK2XQ62mBA9fGs', 'R_8A1OT9zxsj1xHHP', 'R_2v8QWqkU0almHiW', 'R_1gell7wo56YxeCQ', 'R_27wArcDCsYqHGXu', 'R_1Qb8SFcu6SGKwqA', 'R_2XjnhGzzDMlBIRZ', 'R_XZf2Bu53RnwKOSB', 'R_emwlt7sA5aFbMxg', 'R_54LR4GKrzZ9JJzg', 'R_2bOdDBqOjUBuhZu', 'R_3EMzqDck0R9ShTa', 'R_2QMQtAbD8AHx1Lg', 'R_1X36HU9QXQLyBUJ', 'R_2uxqCBIPMVj9obD', 'R_3PhjHG0UQXQb682', 'R_3iUpuAin6gMkDs4', 'R_UVAiiTpSU0KL4B3', 'R_0OCBb1fSsJ53MS5', 'R_3OkNe1JxmoSpRfx', 'R_2D67AycaSwTOIc5', 'R_BPc2FmGVZX6CC9r', 'R_6sPiTUxHi0W8XWp', 'R_1Ibbv3I9zfd4hgI', 'R_29b8pwkxtjBNPCA', 'R_C7ajYe8W7HTq39T', 'R_1q3qiktzKmDM8GL', 'R_1lmla8s8Wd73t3Q', 'R_vMn3YFueIPMrVrX', 'R_1Yrbl0Zh8eIPjtT', 'R_3nJgoDWYXLjz17q', 'R_3dXmnyt5okK5WSk', 'R_1d4PSZia1b5z3RI', 'R_2CUFGwowgh0vtf3', 'R_yyCsmrQmC4JavXH', 'R_1cSpOnmGsqW8JxY', 'R_xnPJGc8hRz9DCO5', 'R_1LtzRSCvpoUlhIi', 'R_3foPGBOPbuHF7Ac', 'R_3MLqPBLRnqDipnj', 'R_2D6nY0CLdVkkzW8', 'R_1C3XEpfZlfAxCZ3', 'R_3Mgs9K6UfKqqScU', 'R_1Hota4dmErkNqDC', 'R_3O96L4DYkqPs1Zr', 'R_ThiC8owMb0k0ilj', 'R_sUv3QQXr05msgjT', 'R_3hDX0aTzR3T1aND', 'R_1kGreSWv94aCM2d', 'R_sQZw706lmrTKbM5', 'R_Uc4MLZxxQLz6wKJ', 'R_3nDGIv2dI8ZZBxs', 'R_20TpBB3BM7Opn3B', 'R_3q80bexynUbdhnn', 'R_21AkWc16HXkSBog', 'R_30fbDlD7hkF3AlM', 'R_2zupQByC8TBwdL4', 'R_1QForDFd6FSzvFk', 'R_2cvJWt61VCLFRKj', 'R_2XgkyJf0NAxUrRn', 'R_1LIJUZ7XLokSfTf', 'R_1q383SV9d68rtn1', 'R_51pghzMwvjI5SaR', 'R_RX149qwcltlHr1L', 'R_263xBSFnWd2IW6T', 'R_3nlzV9pG8UZvGiW', 'R_3Jwmo9n59GPPMmZ', 'R_3JbjQdkIhGq4E3Q', 'R_2P5tSo0kV22bNCF', 'R_2rYFdR0sghsaj2r', 'R_b4pQ0dtzlgfAy5z', 'R_1flplZl402CvsBR', 'R_2uHUH34aputdmgQ', 'R_sbyFL0oeu1lqoxP', 'R_1DnVChyeTJQHZkp', 'R_5jZm8npk7qA7LSp', 'R_zVytoReTK4CATo5', 'R_2TtvikRCupC7YLv', 'R_3qsuM9oGHr1jQ1A', 'R_1hRPOOBoGCQhMGl', 'R_1etTW7JGVKfCD4p', 'R_2ZX1QT6eZcVzYgP', 'R_aXkT1ev5RQ793gt', 'R_1FCEEvVUOi8RO9N', 'R_z0ydUfzLm0yZeBb', 'R_325xTnWadXwjYWw', 'R_1dAckvGcd3AleFB', 'R_w02nji1TNMBNGGl', 'R_cw5jWgzZmQurmY9', 'R_6L5kNQ8mkV0FMYC', 'R_dm1OKXNBTUBs6lE', 'R_3WbwzePNfbO6xrE', 'R_wY037pqI6xfOe65', 'R_cYNGho6px0LvNaK', 'R_2PzZ7oSljyiqrnT', 'R_2TsFMoKcO0KxhKo', 'R_3j2JqYUABCfgTUF', 'R_b7KVvXuQsw8DrlY', 'R_3DpYxEeKmFM1qVR', 'R_vZxZShy6Y3QiSWZ', 'R_2CE7S4JsgrjvbLn', 'R_8A2DzRCgpwvf2lM', 'R_1KyePAV6KfwjgpD', 'R_33vQpEhlpLraYBp', 'R_1l0lc8ydiRLcW98', 'R_31o9p4xEYs7yJQ3', 'R_C8K5KN6GNzWwH5f', 'R_23745bPQv5Vz2MN', 'R_DvCAgOaV1cXhECR', 'R_d6HQ3aKdnSn9skm', 'R_3RsXEXUvCBVw0ss', 'R_3iqkIil6yDMWdBI', 'R_1jficIKqkaBv0MR', 'R_22z7DmirCoHy2z4', 'R_3oWRCUduCpfJpmU', 'R_12MD0jZehVJ3uL5', 'R_6mQ7eO7Hu8kXj9A', 'R_27yrVYDQq8G8vSK', 'R_BQawOfXcj1oGDFn', 'R_2CqqqW32EqPiNi5', 'R_1JVAq6BvuWhoLkn', 'R_cuvpHrDbAUR8hj3', 'R_32RqvXhqbpmp9Zl', 'R_VXd36wK0e9LX3ZD', 'R_vwPZGVcXLSNVdqF', 'R_BD1pEOE3cH2i6f7', 'R_2fXJBseqoNanYQx', 'R_1mwHLpVi9YKyfJ5', 'R_1SPYn80ocq7vZfU', 'R_2ZNt2nXpihse1pL', 'R_22IWVSPOU4HCZOD', 'R_3JxBkLiYSXOIKL3', 'R_vdaqRIqaDaw0XoR', 'R_1eWZO56FX7HCNjT', 'R_10V5UmkrIAWBesd', 'R_Tw74fgEuyone2Rj', 'R_1n1nCr1SOs5oGQN', 'R_31Xfd8lagyzz4zM', 'R_1prqpaSRxtVqBik', 'R_qQ0d6v1sArQ6Tkd', 'R_DAdPi9A2gyWdwoF', 'R_31BHPR6J6dayvIn', 'R_C1ST61bKDiZUIlr', 'R_b1J9DkpinQKhLxv', 'R_1gMI9QKNpsF5DRK', 'R_2qpIIroY09vd9g5', 'R_2t2LjdtTHmdziTe', 'R_D6SezLC3XMQksBH', 'R_3DXB5XhPUS3MpYl', 'R_2eV9QPhFkLJsY9C', 'R_1DO5BYvqmRjwrd9', 'R_1N7XXM1BSWMHTrU', 'R_2ATPEurpxXD0Tsq', 'R_3p5oS1HMPbPH9QC', 'R_6EiLOM81gVm9otE', 'R_2ZEnSKUCyYw3rwL', 'R_BCU1dqDr6bZezN7', 'R_eKy2Ln7q09ccXZk', 'R_3nGgOHOOdLUfh3r', 'R_2rxb6p3SsqdknKq', 'R_pF92z311v9wMYsp', 'R_3J3jaszCqEN3onw', 'R_1IiWQCCJLI3kRNw', 'R_3kNbMBsImtIJdNz', 'R_30bFkKZ0patP4WN', 'R_qD8cjGjFDhy1zI5', 'R_2QtRJr8Q2uMZDL6', 'R_3I3p68yrCuUIvFY', 'R_1FaNtmAXQYGEiLx', 'R_2DNz0RMPGaxMRXf', 'R_3qqyu99QB5GKmTs', 'R_2zA3lJLOPGRUSX5', 'R_CdbWR7EuCQxAvgB', 'R_2CjGitWRxIvST58', 'R_3Rmzvp2u9x0YtJc', 'R_3RfTy9GrfTDixOd', 'R_2EyqBTDHKU6uSJ9', 'R_72FlyAO31tuyuRP', 'R_2aXEjs4owJhShB3', 'R_8200oDFpZcfe1Ut', 'R_9vk0zj58WVKMPVn', 'R_3hfggCLaf4tVMll', 'R_1Nnc32WEVkW0esd', 'R_AG6Q96bXdqoPxap', 'R_Adp9dAxDpYFw9qN', 'R_30c7DboVCfoVznb', 'R_3qVhNus89GjUPQ8', 'R_2VjYImrpbiTGOnw', 'R_2rvk63RNSEyKbHz', 'R_20ZLAjnckwTospX', 'R_wNtijV0jKom4t33', 'R_3nTcF5D9GBcToYB', 'R_27WLK1KepXu69eU', 'R_1ptiiOfIesLfrMy', 'R_3kBovtjJxjTMiwl', 'R_bj5kghWJDAJXpNc', 'R_2du7vyvz1RaBv0Q', 'R_AyyzMux70wbbWnv', 'R_3QLBwrSiCr4x7YX', 'R_1E3YkkVBKz7xYax', 'R_1dnPfsef93CG3mW', 'R_33xrA6PskYCJ6hq', 'R_1hYBquJsUmKjZOj', 'R_0ilU1oTDYA8OqS5', 'R_322O9gOSw6C3w2L', 'R_1gzQJhh3JXOXKsE', 'R_2uJyKJBLq9mZP5U', 'R_1nNgSWL8v6nywQX', 'R_3qZIWWBdjX969bt', 'R_1eXnj8jtzogFeUN', 'R_6Lobt3meNHX13od', 'R_2E4TsVtJ8t4PW7S', 'R_Rlf87XumjwtPWzn', 'R_2dSKVdsuO7e1Kc6', 'R_3kMKgozz9V23eX9', 'R_3isEdkD3sbvrZcL', 'R_1iqeD64qlSk7GGB', 'R_yDSB1ixiMtBPy7v', 'R_1mnoThoN4DWtLyW', 'R_3iBSaEGc1rONx79', 'R_1S09gH0JUyhAVJc', 'R_3KBm8FVsGDmWXHB', 'R_3nf1Q7CTdPzcnXz', 'R_2PzAExsI0gagLJi', 'R_RR0aYYKaA3IRsSR', 'R_110JcoI5YRZKJXy', 'R_2rHCplpQNKo2aJV', 'R_qLtklbeQ4oiyPeN', 'R_115dV1WLMXJcaEG', 'R_1r7xYt8RE9zzEuS', 'R_2a97xGXTJyUM3Nr', 'R_1C3XEpfZlfAxCZ3', 'R_1nTRDdmavSI3mJv', 'R_3oGzK2v7vX0fPjD', 'R_1gi7j7MX7RHLjV3', 'R_VJwxVorGc6D71kt', 'R_3ftUXGVa1ubfrhL', 'R_3s02ss8ICaYwBhG', 'R_3JJe5j8AsWAUbK2', 'R_22ssWnASgVHXhUY', 'R_1f1wrpjhEw5PFOu', 'R_2Xp2IKCFI0Ggpn8', 'R_3m2DbLRmLtFUIvC', 'R_3qNz9BEi5ufi7Fj', 'R_10pyEF0q6V3FXw1', 'R_XGJ1uuzju2jq6Gd', 'R_1MXsGfiGmXyTQlQ', 'R_1Qox8H4486VVnap', 'R_3lysbtE6FEN8dbw', 'R_1H6M0ZjiXslkpGT', 'R_33yfiCwgWKndU7a', 'R_1Nn0jByrGCgPqZH', 'R_3G3aerGG6W5hsII', 'R_24dhZ3nrotKu4rw', 'R_2E7cCOpWXFjV8tG', 'R_2q3Qelyd2OJQwps', 'R_1LdT3gp4SYcXNQk', 'R_NUT1tPa6kBy3csh', 'R_2qenw5MRNIk4mJG', 'R_2yqHXIwgqo7IBwW', 'R_2D7UZU8tlNMDX5k', 'R_3jAeLeaRL1cAFkR', 'R_3j2mHkwZRYRG9AU', 'R_1qXmQfm13z5xEuH', 'R_2PhXfY7fdvHjqaF', 'R_1Y41AuFuwgGulH3', 'R_1liqyVlQB2fRUxt', 'R_1geCQ9McbydYa1j', 'R_3PHrqBgggXqHwQC', 'R_2zNN9zy4yBYpl7f', 'R_viYkxK2OQAuEq7T', 'R_2zpPZFoFf2O5WiN', 'R_rjT65GPOwn4mUg1', 'R_3MswoRMX22HKodJ', 'R_1rOA0cM5zTPgdXk', 'R_2xDaHWCWItrebO9', 'R_WiA4LRL2Lsg6zZf', 'R_Wdl0E0VLIVWwvZL', 'R_dj0v5Sk86x34wWa', 'R_1Fgpbudlcrpsh3H', 'R_2wN9jdQYmNBPcRO', 'R_2dKIBSAvCQK5AMd', 'R_2zBhJwdZwpbXozS', 'R_1FaCn0B9QWgNFZO', 'R_SO8flgULLts95WV', 'R_bfSsTkQTl866n0B', 'R_W0et5yHaFXqFjkl', 'R_1d9RJAtpQsKQMLY', 'R_1RNGD5U8IbqSvky', 'R_PtkpUBDIhMLiwX7', 'R_270YDMAga3aXQKW', 'R_3rHTXnyNCtZdGlw', 'R_ysH6lWhOVJUBdhD', 'R_3RgRA4ewrn7YKLk', 'R_2oe2Lm4uei8Ig9U', 'R_24dY0V7CMwqjiHG', 'R_1j8Ju5doJeB1etk', 'R_bfroVN7i8UEzIF0', 'R_3nIsW6yxrSoy81P', 'R_aXBslKZfCdwmSPA', 'R_79V44XVbvZ1hTVQ', 'R_2OMDEXdw8k1mdaC', 'R_wLEj5moYo0ph01H', 'R_1H5JacMw2D35hLT', 'R_1oHZ0jeI9rdWhDF', 'R_9M10QrKAn5GROU1', 'R_27Im8cCjDX5r3VK', 'R_2VwDrBTxAqmC2tg', 'R_3QEjhfFNZ5DKQMP', 'R_1EXP4VgPm1xnLps', 'R_3hH0g0GPBf5rfSA', 'R_3qWpdROgULxVUt2', 'R_3HLg27jSqCSBWAa', 'R_sbQa07pYEiQyrkZ', 'R_2Vr5akBA0Sjgxqg', 'R_1revWZwppfMbdD5', 'R_bkHMOWf29027BrH', 'R_3PmYZWdY30wz6Ux', 'R_1i7YHYbGxOMhmTd', 'R_1P6SCK9O68JA6rz', 'R_qPWSIFY26WT2vT3', 'R_2rIW1YHlmBvYJPJ', 'R_PzeuvFWb5w5bBtv', 'R_2uWm1ysIjH0SGGL', 'R_2R1XJagpA6oZQqO', 'R_01g9nJJpXlCLJKh', 'R_22Rj0cdqaW7O8Zg', 'R_3s4wjdQKzYe65bd', 'R_Ck1FrVPYn9p1Tih', 'R_12PeAJa68h9aUcp', 'R_3gTwcySdXGBuF1X', 'R_ZEr4VGGBlpo59GF', 'R_3NV4LFXmeGvgxwT', 'R_UorM011gAQEsX9T', 'R_21vSIxKvERYnqIG', 'R_1n79GFb4zYueaSK', 'R_6LFWsHmYqJWIb78', 'R_3L0SmpVXHNOCwcd', 'R_2asJ0Fgt1GUTpZI', 'R_2YzwrHIGadaWevb', 'R_26ljWy6Jb8DgEQ9', 'R_1n0dXyr5dlMMpjK', 'R_2fpbHXRdD6BoqKr', 'R_xynUPTaZPWyG2vn', 'R_2QYsIAuNkcPBn60', 'R_Z7BVC2x80XlgRBT', 'R_eqVOZiIPbSmeIVo', 'R_RfsdVpnjxpOqbdL', 'R_3JsHuanovTqV3j2', 'R_2ymeXbQnZX4ktmg', 'R_prQRivGGoBm1LRD', 'R_3y0VUXJemRS7yaa', 'R_2dGTZLslXznw51d', 'R_9n0isH2nLH5lyi5', 'R_z8xBBkMeF26Llhn', 'R_0NUqHvjUYeA8jAJ', 'R_3kCbGGBrBX4me2Q', 'R_02H9Obm8SHuXb4B', 'R_2amJ8CZUbwSV9ps', 'R_Rbq7yquibkcdChz', 'R_3rTHqh2Agti907U', 'R_3KwrjktPJAyXaJg', 'R_2YDEBf5g3XsXX9j', 'R_22yKVoVpvHqgABB', 'R_24NTBBjO3bVXNwj', 'R_3gRUz7eqAOz7rFc', 'R_12GbgvUGqXkRbeJ', 'R_2ZOjFdiTqb9MiFf', 'R_24OW42CvXRCvQNG', 'R_dcE8VoJandTjh97', 'R_bjDg6TFgw8Dt2EN', 'R_3Kr0M5UGVgDO4pP', 'R_1eFR5Lhz8QDVDqP', 'R_3k6dOHd29BinHfr', 'R_2dPWlrbn4IoF3vz', 'R_3PwcXwF3VTIt1iv', 'R_3meMElSBoP1NuCt', 'R_3ptZX0ii17X4ju1', 'R_UzOWn2Fd4hXaOc1', 'R_1mCLQUCnMJSrqEC', 'R_3MhTMm79t4ndlo1', 'R_5nz0ze9U21H2eGd', 'R_pEk51JhKX67l8zf', 'R_djpA1KlKFsmH2xU', 'R_0JPLLRBwk2mo3aK', 'R_PGRvjzXF0VyDyj7', 'R_2ve3NyCpBKQsXPC', 'R_10uupKqGMTsPpCp', 'R_3fT8zFUlqgCWb4V', 'R_2fwDTjxDsg9iKjY', 'R_2CjGbtrE2j9kGti', 'R_3Db6QbDTYFWQuuU', 'R_2CCTkhlBDciJKja', 'R_XA1T3ZgSb7gOmMF', 'R_9meQ9AEAEylHpyp', 'R_sAsfkFwd1mdthKx', 'R_0VtoNT5RznRQVz3', 'R_ZENExGB4oS6c6gV', 'R_3oYgUZIsdgzChT6', 'R_10ZpZ8ARgeWLbKI', 'R_2zCjBewtMvnOlN5', 'R_2pXhhBdbyn6NleA', 'R_d1fVlqdvHCx64RH', 'R_beAWWwYANcAHNn8', 'R_eUSgJ8KrxZ3AIPT', 'R_3pnbGqxDSaSjsGn', 'R_1E55j1hS7RKHnqt', 'R_R8kfngTm5Iv7YNH', 'R_2YxmeCd1xqTbnyw', 'R_20U0DNXWwbf0T9l', 'R_2cnsfV4sqFkNtwN', 'R_2xx8mlO1lUHPYM5', 'R_a4txlyul7G8r7Ut', 'R_9uTsP3LjMikJ7sa', 'R_3eq0A7PuKwGUVbb', 'R_Wj6BPc5xuYoyfpT', 'R_3KU4MHiPCzma7Sh', 'R_2E5aQkx1luiHkmp', 'R_3jfg3MB2EKG7vKo', 'R_2alWZUPUdSdFjnI', 'R_2qasaOi6WMP5bqT', 'R_3PAyc0owl4nLGY9', 'R_9QXMG0s2fJJhKZw', 'R_31YKUeTcqO8NKVT', 'R_2f99VGPEiOJ5FZY', 'R_Oj83WAyYlKzv02Z', 'R_1GZhWzMRNdLZyNk', 'R_1eY6ta1kUw6J1lN', 'R_3HRAI1KP3A3sVZG', 'R_2YE1J1VyeoZsq8N', 'R_vGFPu7DdZug3MEp', 'R_2sbzHVJfdW6i3xj', 'R_9El6VnBQ21Ocq6a', 'R_2wpP3D4qMFwgTmm', 'R_30vF9DrRxGwHAx5', 'R_1msD7q8ElL3DGWq', 'R_279hu5UewWC296r', 'R_2aEVsS69PhFvFs7', 'R_PSDLr05hVpo4dtT', 'R_e9Wjy4iUgbNoFTw', 'R_2SqUvJ8cmwr5CqO', 'R_2CKhSPEvXrE7XTE', 'R_3qWjksc8bUY6NB4', 'R_3qxJwMWkZNBvHVI', 'R_XN6Lgf5AVLIuNHj', 'R_1nZ88lsxxfRwG6x', 'R_1Iplwa8Qz49Dtcm', 'R_22FW2uI7DWiPyY6', 'R_pB0UTUYSjLmaQff', 'R_bC3UGixH1UvMEGa', 'R_5oiyKBa07Y1uy8K', 'R_3m4TODpIMyeZJtw', 'R_3lSr78yMbfe7qD2', 'R_24xbwZe3gfqPPvA', 'R_3szwq0byYR6hym2', 'R_A51KsLiUZy2AmWd', 'R_2Va9YIBFE6iDSbK', 'R_1BQxEwmXbIAwwGn', 'R_2CrJfCJTiykyM1U', 'R_2OUx91Q1K5nPpqK', 'R_2E7amS27DAP1QvX', 'R_1pxjpdhBT3tRHuC', 'R_2wMpyGTT6Vd8Nme', 'R_tEwamyERiG683PH', 'R_d4LCvzeoX9Llm93', 'R_3GqsuPFIsONmwT3', 'R_3fphARjRri9WNb9', 'R_3NwcsrkI2PMtslC', 'R_O7jlFUXQYu5CcIV', 'R_2CVSfDGacwPBoLa', 'R_6A8eP7C6CiGxIHk', 'R_UtZ4Kb2VY55Loul', 'R_YQZJ69w2WtBUS8V', 'R_25YNWqF3q8Nx5Z7', 'R_YY0yNyQ4aAYL5S1', 'R_3O0pKiJOR88fRWr', 'R_3s1Audib3d2AXSU', 'R_3PH5TSxOwwCj0Ny', 'R_sGrfrp35v0Dj89b', 'R_3pirzgMkiqs8Mvs', 'R_1NxKFZ4LWwABFZN', 'R_BL35kJOz2FeO1Kp', 'R_3KPkip38PBIdV0S', 'R_1k0JhY9J9eYofAh', 'R_5uo5aUFem4XeDWu', 'R_1JIQj2hYIAPLNCo', 'R_03aSw0NNDHAzpkJ', 'R_AA65agCURsVSVkl', 'R_8feZ35D36Br2MQp', 'R_2ckgursGxYnbZzq', 'R_28G1jVctn19u0Dy', 'R_2b2fSLlUIlDRNTq', 'R_2ffFEf4rdG5k0Pk', 'R_bJCPdGQ6EqMmumG', 'R_6lFIij0Qo6YOU8N', 'R_2uETdRsEg44ewRC', 'R_2Pdr8HTXO77GMxN', 'R_1f7UXqDgHhYsegz', 'R_3iCllM1LVtAIldR', 'R_3IRW1gTuq6nL3wX', 'R_rfje5SX04b0CH9D', 'R_bpCMyaWzN5Ixp0R', 'R_2rCmiXEhap9OXte', 'R_tGNzCCqPSGy6JJD', 'R_3npW695QEJjvOgN', 'R_3g7LhCYrHwBF4Fm', 'R_3KJCD9xXwSDB3Tn', 'R_3fZFc1ox5vHyhJl', 'R_cuLUju5VOz1fsXk', 'R_pmiOdmYaP9yqbGF', 'R_3rYrWbyIbJ37dBH', 'R_2wGBWcV9gkjwCPO', 'R_43k5TAeVzIelOzT', 'R_1Km4WV1fpV5nhB3', 'R_3jZI0ao5RYcrSY2', 'R_1lAArMSTQ8j9b9q', 'R_sc0jQjrePnTdvxf', 'R_r6GLcYcmKbkoFtD', 'R_3EHn7FIaFNUeM9x', 'R_cBduwBPygqQDxQy', 'R_3KW4WZ9ohuilKD4', 'R_XCjIU9p4Y0YhlAJ', 'R_32W4HXI6u2sbSBb', 'R_1q8QaKIex9gi1DN', 'R_cGga86D7ctqdTtc', 'R_3oXG8NgHdAfvqwl', 'R_3MF1rpTELJGbqlM', 'R_s5Qr4PzGKhuk7rH', 'R_2CBQaCIT8V6lixz', 'R_bygwoiUBiMOGpy1', 'R_31G92SmjDIYXqkt', 'R_2lWMRUzyrdWwG8p', 'R_1onKunpKndeCMsc', 'R_3rNZnxvLTyejGNr', 'R_2U4L6kBQIVigIFx', 'R_3Hk3tmV4ZKSXhKC', 'R_3dX2ZyX5hjZWsSh', 'R_xsFR51Ujcr26sVz', 'R_1M6XmsKmL8qMvGX', 'R_rr7mQpZKfC4Z4NH', 'R_1KpgMyITKzasxTP', 'R_2wohmwwA5uYv5R5', 'R_3Ok3E1FEr5TAm6V', 'R_2ZBsDc8atM0vNzZ', 'R_pAwhf4NfQ51yd9L', 'R_Oy9q0Elpes4uARX', 'R_2TFePTiOtfGR8n4', 'R_2qlockETTToH3JR', 'R_2pYSCXFU5NEsRYa', 'R_3KqoIhxt8YVgGhv', 'R_3oT5juoLPBnGpI4', 'R_1i56Cqu1s3CszeH', 'R_1MXUVv4Zsnr4B4w', 'R_2ebqJkJDOUS02qf', 'R_bkLtrqsTQlW29IR', 'R_3yB5HcuuU5PU0pE', 'R_78VBU1z20Jbhkpw', 'R_1rvUcG1XrZbtPPc', 'R_27aq2VOTNfMs1bd', 'R_3k6dW7jtzo0URVW', 'R_1GykvAg3sMkyqFJ', 'R_3iwY1xjxihRiIua', 'R_2z6067CgTWiwgtI', 'R_ymfblgYWyFa2u09', 'R_29v9pdICOQ40ovp', 'R_2zdmx6aq9en6zbb', 'R_3KwKxCHpUhlap7A', 'R_3jT0ljgwBmJPnf5', 'R_3niTOfBtv0SV1Gq', 'R_cTsznnk6bfQuccF', 'R_4McuzwyK1NdxyZX', 'R_vBry1a3xlA1GEEx', 'R_1KkZG1OPj9RzS0M', 'R_Om2nlFxt8kGrjP3', 'R_rrlDXvQVjhZykGl', 'R_1cYWuVWQOvBuGX3', 'R_3pasyJqN5oT53tO', 'R_2pJkA4IwR9AUHuz', 'R_2c58jORkQ2hazYz', 'R_3Ora5OOd0PUNBHJ', 'R_1LiLV36m0NdU2Ao', 'R_2R3ujXPsffCybT9', 'R_2TmXDd7lEwxYYrp', 'R_2CHaNKP0i6cKj8t', 'R_2Pp6jIjVd9gmvpV', 'R_3fwN5s0Hpwr4h6q', 'R_3qJWqtJqzvJpYEH', 'R_26tiOyf1MBQtr7r', 'R_3faD5N400I9egho', 'R_2DM3aqHbkfMrY0N', 'R_1LNlmpgVQGZeN8t', 'R_3q9gLaMcwObOsgj', 'R_2e3YN9rcXjiGPqV', 'R_1pmPfTPlvcdVR8e', 'R_2Yxs3ZdfVNE8vxj', 'R_2yeIPYaisXq91K6', 'R_uysJ3werp5kl52F', 'R_W2O29TRJwJfosNj', 'R_6MBPqreM8f9Xnsa', 'R_1K1iA6PHUZrK2Zf', 'R_1ilKqugO3aHt4y6', 'R_3P5h6Ux1E9zxU4K', 'R_3K0wligD4MiAN38', 'R_3NEvxzOv1RyQwI8', 'R_2w4UqQb48Z1E7vz', 'R_3haURaPHX8ME9zG', 'R_2aCPoRNqTq99dh4', 'R_2TN5P6J5honfYeY', 'R_8qcaQ2zLhteYLrb', 'R_3iIsOT2ve9qUIPi', 'R_2YnCBQB4I2EBRnk', 'R_2VOreVnnJ2a0lvV', 'R_32VHnkRPvzoXm0d', 'R_3jfjH6Qlsa8kkHz', 'R_3KVEKrBQ0KWAhzg', 'R_0psAezazkFirCSt', 'R_2SqshGAMQMFkrnf', 'R_1o1lMwvzclIPoiJ', 'R_1jwu1uyrR5AebDc', 'R_3npGO6I28LCBGAA', 'R_3JJI6RBAGQlduMi', 'R_UolUk40hyvKeAlX', 'R_1nWaFzA4YsFDR7r', 'R_31Kq8L3f8H7hc5A', 'R_1Nw7MaQlP5FcJtF', 'R_1n8TPdXsvzkeMel', 'R_27TnRIDc05wzasw', 'R_1cS8errWVoKmOs5', 'R_1GWGo27RGWGVeWp', 'R_2Ey1TDclCGZP46e', 'R_A5rNOexHfdwPwAN', 'R_1JJFqih9ubehROG', 'R_1ig0j6M4XcnWPZA', 'R_3Ra7VVEOZh7dKR5', 'R_3gT77WdOdjYl79e', 'R_2PyRhAuy5xrviXn', 'R_2q4aHbh7wXwuePL', 'R_8qfsZhqidCmZ3H3', 'R_BtE8Re8h4FKVVgR', 'R_2Sxc83P0w4eEqw8', 'R_8xl0wteStn8Tq1U', 'R_2dFkFj3ESz955ql', 'R_9TunotfgKSAZyjT', 'R_2zwnhjKLO8N5Svq', 'R_2SAC12EeXYSoOAx', 'R_tKw8rpZ68hPepe9', 'R_RwSwsL5s3NPUcWB', 'R_6FgHS0loAbBBVMB', 'R_3k4IFvRt5ArMGOw', 'R_0xfAdn9UGV0j929', 'R_1k08l2IAQWmqqKp', 'R_2qjujJFrWXg0WWr', 'R_1dgzDTXC4ggG6Mh', 'R_2zBhCnWl1eY6KP0', 'R_1KTfwCwi563fbgJ', 'R_10Z7R1KsJrEZDjC', 'R_Q0QCxMNFm4VPb3j', 'R_ey6EXQ0TbDVxRMl', 'R_1LXRN1olFbkMnvA', 'R_2e45jr9dEQTVwDp', 'R_Req5YjxitfvxzDH', 'R_b9GvLQmBErK9zSp', 'R_2fvocZUFsdp3TC9', 'R_vfByarCK7h39L4R', 'R_27qeB89ZqPvgA5H', 'R_3VKh2JvBCZkKXq9', 'R_1Nmr6LOkeFAQ4Tr', 'R_2aaRMnu0ORYK2a2', 'R_1Ne8eYbgb0I8B20', 'R_3FUnW4qXzzsrduV', 'R_1gioJaCjAP6DYD1', 'R_cViMMXC9JNktQKq', 'R_BFhulvK5vljmRuV', 'R_3oz4gsOSEjf7rJW', 'R_3EmW9KbwQk1Ulru', 'R_31hHZK5ZLQKj9P4', 'R_ULVCOFjOGQ6DO25', 'R_6SbOHNjrL2prRg5', 'R_1meBaz43wYJdWCL', 'R_3eH96IZiuj3NTdY', 'R_1rNrsABh69fI2sJ', 'R_3NQiPajqKdJVo3F', 'R_3310yGnzOXR95P8', 'R_2U4R52FZtg8o3J3', 'R_3iI6vYuxkuk53kk', 'R_1gtl6NfSxZEQomR', 'R_1oHXxDpHaRxL6sB', 'R_3qkelt9uRc8RcF5', 'R_3F4KbKvOjf7feSf', 'R_2f1YlHzYfCb8Olz', 'R_3nI9CgFHMuyHhpU', 'R_125dvwqRHMEf88h', 'R_zSvLGufVR682viF', 'R_1hHlEmUYQ1wnInM', 'R_XMbG2f5zjjT9V29', 'R_3qP8bRHoDCZp7Uf', 'R_vk9Crbe8QLQgSYN', 'R_2DMnCxfKOghpkzN', 'R_1BXXiRiXiiQ6kxS', 'R_2rCpdLqF8EnLUnr', 'R_1jdnzncMINaNKpH', 'R_pmjtN2BFyjMNh0l', 'R_1MTnhN6iCkN10gh', 'R_3KuOpjXAY9nsHLw', 'R_3OrIOo09xDfQak3', 'R_2TTNXbkadyGG2K9', 'R_1Q3ZpZfBIyp0gjO', 'R_erjwmYN2ugoE5Ke', 'R_1qWk2Kn4gY6ZOmi', 'R_3KDi6I7lWiSpcey', 'R_YbRAhBwgi6TpuiR', 'R_3kyRlqdGOQRIQl6', 'R_OuJn9T3s0tKfHsR', 'R_1Nkyu3c17SA1g0q', 'R_qUi8Vnz36XWf9v3', 'R_3PNedGfFlr0ECgY', 'R_4T4z9eamG1WFczf', 'R_3KUaz9tioR1lYPx', 'R_stD55CfyBahCwgN', 'R_sO5tMKSqFXaLcdj', 'R_331qYScBE7exFNR', 'R_0dfIOupDP8Foogx', 'R_a9tkOFYSIbwxjDr', 'R_1JFNt6ineVK4FGK', 'R_2aKnvEXtsujcESo', 'R_zSxzls3KyDayNqN', 'R_aWWdnvu2T9U4nvE', 'R_2zi5NWOlaQ9Yd5O', 'R_1K851yrwS46lIhB', 'R_7PeqOTgCS4RN8JU', 'R_cUSpQlG5wS4X4k6', 'R_PzC7KxumuDNvzG1', 'R_U9kXFJsPzmHRIxX', 'R_2X7ou752bRn3zdp', 'R_1lylkqiTvPibX0D', 'R_214YOuBKj90VfrK', 'R_3QY0HncJe6pXLKO', 'R_3ptB4zvGwQVtaXB', 'R_24odmEjmTa7woeR', 'R_3pajQP5pQhwBNZH', 'R_3L8asS07IHqm7gz', 'R_vdfUNzFgF5GXQOt', 'R_1rCTMFrp56hUoQR', 'R_1FD8n1QL4Diarn3', 'R_3eJn4A2VAnRvInT', 'R_2TLDBNGkPqP4aGp', 'R_3nc1jMCuARuZXlv', 'R_3Dpyfkfl5O74c3u', 'R_40LvduahJev2l0Z', 'R_1YwK42UHeKUxuKt', 'R_UEksP3OlxSIXMjL', 'R_3LcIHH9ptl1dlsG', 'R_1Q0FBcfYhc2PM5L', 'R_1OC9QWGmh6Agwuu', 'R_r1L6VdkfKZEBsGt', 'R_3O6TV9qOmgklQAU', 'R_2Sf9MSARFBwyipb', 'R_2AEaR0m0JuyT9IV', 'R_3PuD5xntyP9ZKCf', 'R_1EYFJ7wndQKJsVV', 'R_1o0WhO5oWjtzXWt', 'R_3JEl2G9r9yEBar4', 'R_1kRZh8jVOqGYXOH', 'R_2Bhg8w6r4OvDhpi', 'R_2VmVOONYx1xg9VG', 'R_21vneFcK2EIyE6w', 'R_42eMPZVEzpAu3JA', 'R_1pG0TYRZVpXRG3R', 'R_3Ok2juzfXkLOxTw', 'R_1Crt0IsN1RyPbQu', 'R_2TZXwAU71ypfVhS', 'R_1OlTIHBpBCw4pXB', 'R_pFYziDQIdw4aPip', 'R_3MSQyz5T9etSW7X', 'R_2a8rMpzqVtFwJi8', 'R_3njA5Ohfz7nMsNd', 'R_2b3Kjw0yxAkgYjF', 'R_1gT1c2Xd3t0g1oT', 'R_1o1lHTAE8Mw7Abw', 'R_1KedKZxsHVUNk6F', 'R_3DdYdIz6nbjBmVW', 'R_3vYYBcecAlHNqPD', 'R_1HbYWYILIpnT6Yo', 'R_3n5ZYCJpSRm4u4z', 'R_bgrjTIM0K1Xnrds', 'R_1dxV1ek4XgTPUGY', 'R_1HjI8KjVmsti02c', 'R_b7VVyNJTJ9dK0yR', 'R_3iFn0APbiHFVLDl', 'R_1pQfoJYD3F3N4Eu', 'R_6DzI2iPEhCY8Xxs', 'R_20ZLAjnckwTospX', 'R_1pojnRrghFAgCYe', 'R_6XbQQcduXvz4Xrb', 'R_3e81kBOhn9YwXlY', 'R_1j6tn8e4umucVFJ', 'R_3HRhk1ezrUJiiao', 'R_2ypYchUHMSDHyLT', 'R_2U4un01hUJv0ou9', 'R_2ZESOS7bORt8NeQ', 'R_1BW90uJHjrl2bgb', 'R_1obDIzEaUxH3IFO', 'R_snF8PQFQT7ITq0x', 'R_10OZ0XShpUCyaBC', 'R_3D8vg63IhrZxgDM', 'R_2aIZxhEohe8ue7o', 'R_2tL0cQDFCvfJTjB', 'R_BrjdJOw245f1zaN', 'R_3JbnMhzutY4nUru', 'R_3Le78iJVX8nvbCn', 'R_3D0fGrBdCe20N1j', 'R_31YKyJ1AYz2UqAz', 'R_oXqdyXTz7DA49Et', 'R_dbtHRxGNokJFh54', 'R_cIOsn75ralwa39D', 'R_8uIik4iiSJBqNdD', 'R_8pNgZjnRUmfhbnw', 'R_dnWgk1KrGRUYrFn', 'R_3qqFSXPupfcg9oD', 'R_31g6KzSUhHoJFRf', 'R_SI96ebYcFY1QFDH', 'R_1F38mvQyW4Fmubk', 'R_3fxgndqlTosPLmi', 'R_3NVEaJItZV9xraX', 'R_2fwDTjxDsg9iKjY', 'R_1hEAtbqlgjDwqSq', 'R_0ffNjjLsA5BPsai', 'R_2bTew0iscKDiZw0', 'R_abH59Tgbpk5LZGV', 'R_27C27IyZk4dzq32', 'R_Q5MsVv2PmNeA07v', 'R_2xWqgHUJhvDbK7n', 'R_27Qn9dSD7RcVAZZ', 'R_RWeVdl1ly9zj5IZ', 'R_838bo5UnyOi0CsN', 'R_12A7jaIfm0rNVBo', 'R_UhwXqFYH2KRCoYF', 'R_2ozZeeQCLDtkkHY', 'R_2dNfAiCYQ8kCIY0', 'R_2b2UkAaiG9uHIOR', 'R_YQ99mw2skBSkIaR', 'R_1QgSyTOZs7qls9P', 'R_1N3cHVQoxqHj0I3', 'R_Pv7gskwCwgUCmUV', 'R_799GUbyBEauRGyl', 'R_yIRCWoBIaiFK9kl', 'R_2TuuiTNBWWUKv5k', 'R_3JqprE7Hbwc4FWa', 'R_2DLAdHREif9ecEI', 'R_2YqZ0fOYQECbYOH', 'R_3iBTIO941Jh4LLq', 'R_2EavDWDFYJHUZvm', 'R_3HS0orir4naBXqR', 'R_3hnI7zJJVt8V0sz', 'R_Ck0j7CWjshKv3FL', 'R_9tLitB1UhiMGYIF', 'R_3hEjvURRH0v102f', 'R_2qDyytUTA4T1jXE', 'R_1Ol8SgUWfeIqhRs', 'R_3m7OWmJ4OvcpPR9', 'R_1hyUaVaoA3CFySp', 'R_xkZGjOrQWSexKO5', 'R_1qWWA1pbo5JRl6g', 'R_2R7X4EqhU4FPxsB', 'R_24dWxC53xyGbp1f', 'R_2TXGZOtzDxeDGxZ', 'R_3NUirJR63ofnsxI', 'R_33BG4haYDDP3TGX', 'R_1etmMyB4zRZNzvI', 'R_XNDIbUHT3sPzamt', 'R_0wd6OHthQ1r6KXA', 'R_qR5Ucp0FNXbECcx', 'R_2xLhpzH9J3k6U08', 'R_OGTWDp777KNhS2l', 'R_1QKEMqSjQegZLIk', 'R_3GdJHGWhTR66KiS', 'R_3Rvz5jynic4ye0W', 'R_RXLDVrS2QuyOJsB', 'R_3IWaj54v3yNUAXK', 'R_3QLhL2KaoUQImKW', 'R_3sskYYExIJnYeiX', 'R_vdfUNzFgF5GXQOt', 'R_6ipVMrpcviLHlLU', 'R_DRYsnFPMF6vhrtn', 'R_3DjOFT3d7A1hzg7', 'R_2y442S1YtQ6GJ6X', 'R_AECUXSw5QLoXDiN', 'R_XhP2tGnv9ZP5Ivn', 'R_1kHRGXuTOawfKcp', 'R_1F4CAhFE9qJbzXz', 'R_cOwXsMuBmK7hlAZ', 'R_1LCJTf9nBg90xhA', 'R_3fwSzp1u4k91qt3', 'R_xc4oPVDHe6EqKnT', 'R_egiXUEq6BqVIQ5X', 'R_1FhWZF7FryXG0mo', 'R_2zMghFoJXtyiXRj', 'R_323lC84IVmkqPiU', 'R_3ERLHFQs9XNqEq2', 'R_sjb55D70BILr6Df', 'R_3nCUG5k2EQXV7u0', 'R_2ZDe3yHloqHFxru', 'R_10TyKkTKA0RQTgu', 'R_eVYFYOMNM99gVE2', 'R_1gNQqQQP6vyP70J', 'R_1ooiDxn3BrYkg0A', 'R_1Q6O4RP6opyQLyx', 'R_1OZxwUvqkHZTIbS', 'R_ym3WPkZ6ay6TrFL', 'R_3FJQELW0lsfOSNQ', 'R_3FWloJbBQOKOcBi', 'R_BVPCHc5re1CRoPv', 'R_esrLoLSyrO4MiAN', 'R_1H0pElEDRePbmEK', 'R_3JL3yOdlLLvKWsv', 'R_acaL0QyqytsFIoK', 'R_2YyxiKqJMLjcyXT', 'R_RbpcR2QmYQdt2Bb', 'R_cHKpHbLyZwh1ImB', 'R_25F10d5YCr5uG7f', 'R_838te7sBrOTgPUB', 'R_3G2lcRuVFnKOlTD', 'R_1fZrdGzAT56heZR', 'R_2Ev503GvNTiSAlZ', 'R_2coRvOE5dNbwLK7', 'R_33jqvLf865XHohq', 'R_sIsAFrSTgxqd1sd', 'R_TuXOe71whTIVALD', 'R_1Yci4i2OrcssMY9', 'R_1gI3KDXuw5uS19e', 'R_1goHAj5Z5jy5AI6', 'R_1obDXdNRQtB4w8i', 'R_2UVDTcB1fECrPM3', 'R_27UvejgcXYvaRHl', 'R_3hbzVY1ZPdrsPjL', 'R_2CjQCoU6xmf9Re0', 'R_1fmbJrkwCXeExEX', 'R_2wc22oBsMYCwQf2', 'R_29RxMEQmcFtSYuZ', 'R_3MQHjk1OKvsCYoG', 'R_2xVoMmtdWXTEdrt', 'R_1IEJq3FkKAJUEcH', 'R_0wWoq4hdwB5EjC1', 'R_12LVsTKUqcKulgI', 'R_1rGopuF4PS7UNJU', 'R_57SmeSB7BrNdwRj', 'R_1IiPDE41ilLNb8x', 'R_w0LygWGepQgfCeJ', 'R_27dmPlCWuSOWm98', 'R_3nwm8C9rmpMwIKZ', 'R_vTY11y6jkwDriJH', 'R_2OOa3c8STqlUfDL', 'R_27iXaVPewvd6MRY', 'R_2wuI2xXG1eRbUUy', 'R_2qaVm4nRIX62606', 'R_3KDBdFGDTjpULtV', 'R_1YudujGu93Bi6UF', 'R_3EuRBfCI8cmpuHs', 'R_1Ok4PTSvN79a0OA', 'R_x94LH5bHHk6z3KV', 'R_1LdQQaHW4nAp4uG', 'R_1GxJFRgmqFiCmCt', 'R_6un2uJmkWwMMkJX', 'R_1Im7DMBcdhx95NI', 'R_2EFg0fm7SfzqDWr', 'R_1JVJ3d244YPQ3GN', 'R_3Eo5SJJluU2Xyw6', 'R_2y2cedKT6aVXjLS', 'R_29ai1p3KZ5xmG3Q', 'R_8fcuvQ5iJDG4pd7', 'R_2dmd3gXcl1wHw2s', 'R_0Ul6lDAJkjSdxyK', 'R_2tyXV0LLCGHTxpL', 'R_xrOwXzB1svPpzR7', 'R_2uKU7EJip7FzL4q', 'R_2qDHNpenh3DpXC7', 'R_3f1TYDKuzzrLSVP', 'R_3WWOgOushp8plR4', 'R_1i3UNA0vIKI3S13', 'R_3HowcRuqA9Ac66R', 'R_2CrCg6agXkj8saL', 'R_22sFhLu6P9PLXre', 'R_pEh0hU0yAAL8hgt', 'R_RJfIIIlnev6X8jf', 'R_3JdQO7dhnuFuYvg', 'R_29cy8k6JF1rKgf1', 'R_7Um2llsAbNMH0QC', 'R_3e5jA8uHaVjf43f', 'R_3phxsYnox0QftCV', 'R_7X99NAP9vdlLsWi', 'R_3elvAK5H1snm3Js', 'R_3JyFISqtxRRUm5P', 'R_3etsLTFyH8Jo02B', 'R_2Cy8gMdIS7DSczJ', 'R_22PJr5UJMXaM6fI', 'R_2wtMzGkwhG4ofQx', 'R_5pDUfGr3gLoncXA', 'R_1OQ2YPTxI12loJt', 'R_t0dzv5C0Sf1l29P', 'R_2tGdT6zocFVj5Si', 'R_22EWc0wfdAL5ZNj', 'R_55D7wamCJGh4xZT', 'R_1gRTZAkkSe0mrJr', 'R_2ccpy7vzsxX8lZs', 'R_tRPvJ8cgqhZvH6p', 'R_1gAUqyKkrOIqkKl', 'R_r86SV9SZjZY6PXH', 'R_1o8eyrNb8IwyqfZ', 'R_29m422gKUhXgTLr', 'R_a5DmbW5g74yDQXL', 'R_3dGL6FNw3d2ha90', 'R_DADSiQkQoDokPrr', 'R_3oRZWEsKWMYzPN2', 'R_3GozvHAAILybcul', 'R_uwgSKofKEkDAHRv', 'R_2wRJa01w6dytapv', 'R_29NI88SfcGEAEEm', 'R_3PLW3cEw0SGpVwg', 'R_4T7w9iQRAvVO2qy', 'R_2a99nJTndf5aqiQ', 'R_2f9k63BFfy57WKr', 'R_1mKTPd04IOq1dSn', 'R_1Ito1OPHA90MRRF', 'R_2zeGLUAGJgxBZOo', 'R_0HEQp4CAppkL9Xr', 'R_2f41JCKkR0JeYdy', 'R_2tih3wWsvM75zfm', 'R_3exZHLd4ealCudk', 'R_3pl1UDIRKbYAYhD', 'R_3EgbyyRv8zoIuI0', 'R_2CWfCrk86XSdIRG', 'R_2wH3deFy1bfUZlK', 'R_1JCsWpLaRqnD8ua', 'R_3dS6WKzNeWxWKIh', 'R_2rx4v50KNS5csOm', 'R_p9mM85Q4KKwwTsd', 'R_1OBIqbMmAohT6rV', 'R_3iJWWu7Mj02mOgO', 'R_cRNKMIexfD8vAch', 'R_3O16dv5dT36OiFf', 'R_1K7SSP91e9b8NSQ', 'R_1LOtIUeDesTfav9', 'R_23Ulic5LbBM5xJU', 'R_3qdngmyf8Wa9oAI', 'R_ZvHo3SJ8k9ojZE5', 'R_DqkdWlXewqmrf7X', 'R_3kjnhBErNct7npe', 'R_6SBMoK4R7xELvme', 'R_3qqxYznPRxPWrs3', 'R_bKGhslKmnoqbLb3', 'R_1eXHAU9k66TJC9o', 'R_2ysmpz4nP7iBU7f', 'R_PvV8NDARCluSUcp', 'R_3099coc4xJ16892', 'R_Y3ykWhHuURfTryN', 'R_3JxEwf8VKwgOmpz', 'R_1FxHby3kkh9v7Sb', 'R_pgg5Z9mIBilWBi1', 'R_0vSxs4wieZueobn', 'R_3m4zz160m13pIFb', 'R_DAl91Akb6lPN7SV', 'R_WxNODwTd3yQN3rz', 'R_3iL0u2MLZ3aXfgs', 'R_2BaHYRAZAbN8bDB', 'R_1gSmmyYDGKVos5d', 'R_2fCWLE34JZFNOWC', 'R_3NyZcLPV3YbKHSA', 'R_3RaO33pVjor9pxk', 'R_O9mnpo5MGnRbfj3', 'R_8iHk2T3OvK7FMcS', 'R_3DdcJJUA6HnYVJo', 'R_6fGiFkLQCIiuQx8', 'R_2TTah2o4jQ9c6iS', 'R_1jvohO1XBQBs4SN', 'R_1IueDtqPH4JtcyD', 'R_2EaZtF2yph6qizM', 'R_2PosCAfqx8g6XdW', 'R_pi9OwzkyGqMkFG1', 'R_3lMIxJjtGhFEmxF', 'R_1irIQbC1TPxjvNm', 'R_2RV49vep5SabOl9', 'R_3Oo8URy6cDysYQC', 'R_4ZXnaUUEcY2mf7E', 'R_1BXelzzK2b56ObX', 'R_cSbcWNTHdH6kBKK', 'R_XUhgNKvxEVnEuXv', 'R_3efcXk8feQcqWd3', 'R_2WVl88yNSHZYvlt', 'R_2YlUpUssnJTLvUr', 'R_1kTxRY1LEhCDVLH', 'R_3p5anMVP3YuXHFE', 'R_3EYfvCAkq7bre9v', 'R_BslxuA1JkamaDex', 'R_2wKqT2l79vBpk1I', 'R_ykgx3PNarcEVCbT', 'R_2Bm0hurZVqvBKZu', 'R_yDxUQJHNXBrQ6zL', 'R_1dgH4uKnmUqkOZk', 'R_1KvSiCJpAmMpQbQ', 'R_2V7HrrYxYG30sy6', 'R_2uNSUxBRuhjkayN', 'R_A70okq0ha8G4I13', 'R_3neeZfs4b4GkGDf', 'R_2zvDrYrP3LoujRN', 'R_2s1scZBFMusjHjl', 'R_2usL482qqy7Bp8W', 'R_OegZUgLMDTWYDSx', 'R_2dT7KvH9TmrQEh2', 'R_sXSEEl5lJzXGamR', 'R_77dQI6ICduzE0sV', 'R_2D8LTiKmz2nYliF', 'R_2QFmhukkszMYwB1', 'R_2AMzW7bOVWQurie', 'R_rfrPgngmf2tcYU1', 'R_Odn6WpXKZwrC92h', 'R_1F2PUHjFjlzNkhm', 'R_3JqNPkgHGWyDB9I', 'R_UsGMPvQira6Mzzb', 'R_3G9WeEj77qAFJul', 'R_10DcjMCXJyJeX00', 'R_RPrK77B1qoENpxn', 'R_eh2BG8HzbH2FzSp', 'R_9HSEKiHN5PTr63Y', 'R_SZrKPWysFyU3nDX', 'R_8hKd6g1H9e3eBb8', 'R_1Bb9VPiTMV0iRs5', 'R_1P7AzpJnrbMmUcq', 'R_2wsNlV4Y5y6xfZ2', 'R_2PvuSRb8cCcwk9N', 'R_1ozKkS2IuKDBl0S', 'R_8j0x9cIROIaiM2W', 'R_1kZXM2zs8Jl5dgf', 'R_2sZ3oepHwaK64OQ', 'R_WkQF4Bpf3lMmHbH', 'R_1dHt1dUj1r1nH9k', 'R_BxJCo5xRXmHRUxb', 'R_7R7vuNhgS7dpXLg', 'R_12RrHw9MzZXh0fw', 'R_1NfYq2cf4u2gQr9', 'R_1hFu8npgMMKd9iK', 'R_10AHsjJfwnjwGD7', 'R_80lAkazbLNhn5Rf', 'R_Q4bg6xKB4gUfXwZ', 'R_2uOFA2w9HEBvq2T', 'R_3rOj5x44SYRJJGF', 'R_4JH79EBNgJuW502', 'R_1ih44pq5vigsmFE', 'R_VX63DOmmUOTPOW5', 'R_s5P1BmG0VhbqSaJ', 'R_1CpG6jMbNMCRlQG', 'R_WodNRulghaf652x', 'R_1GWEN9twsBLllBj', 'R_2TGEiZk8UKBnZbb', 'R_cOVWfItLQSrzYnI', 'R_3hhZT5UYOzNHj5r', 'R_4USXcNbyoHJSnOV', 'R_3Hh9vzihCkAxvUR', 'R_1ePOso27oyo5T7y', 'R_2659fpNIWcQwB3t', 'R_2fJ5gTWVeAtajC1', 'R_1kM1dWtUm7aa97X', 'R_A7lt6EY9i55bDTH', 'R_1PTOzrQd9lcmFfb', 'R_2R1Dl0xOWBM98Yk', 'R_8j1U4tosBlv71cJ', 'R_263dDG8eEIGx7WR', 'R_264HLl2uSr2U1Wi', 'R_2z6HyUkLx615BXa', 'R_1DwoxzPyM3VUqjo', 'R_2v6YRYLUtyokX3o', 'R_0cV2a8sXCzrCYRw', 'R_1Fete0qFeZAzLbE', 'R_AHdKkMkGh3n0Li9', 'R_2bQ1B0m9Tlr0hoO', 'R_3KJVkfuze8ZR1H0', 'R_8whMtEVMAhTPCrI', 'R_31ShevxWVIy2Ts5', 'R_By4Vy35TydhRVQJ', 'R_pKkSK2dHj7JfIcx', 'R_1nPky8exxLLm4q1', 'R_3kLkb4vXX9JmchJ', 'R_1g7n4UJLlNIl9EP', 'R_1pVtVELYnjwWFYE', 'R_2mc8qbhkF2wT0Wt', 'R_3ozKcjZ7s96DwYL', 'R_0Unnf6pq6jhBjgZ', 'R_3NJ3UEEbLitxP2m', 'R_yUbLChyPsFLhnlT', 'R_2y44lmQI80NYMRT', 'R_em5JCqql6FVQ4po', 'R_298Gi4fifqpzymO', 'R_2CZofPw6qe45ZWB', 'R_2ZTAO7TDVnmW9B8', 'R_1rP3PCJuMfHCYCB', 'R_1JLUfqiFAMiGVwq', 'R_wRlTvjaI2ihVoiJ', 'R_4VCvqNREfwHYj6x', 'R_2SctW3IQXNvmEUz', 'R_2WBHCdNnRbCp551', 'R_9Y4vvYX67LLgGt8', 'R_24DfmLKXzzfAdNm', 'R_39RwyXlhhPA4Xvo', 'R_2ZQDPy1JUx6Ff1j', 'R_55VRsSCFFN7L9dA', 'R_Xppb0ynl1SqkIrT', 'R_3ebnD0X7Qg9fIZF', 'R_1HhEDidtWIVym6c', 'R_3Nxqzb1XFouh59z', 'R_O9DZYTceXOcPoXv', 'R_3itehOYT8gcWG52', 'R_2bIA15uFprtPooB', 'R_3L5MkNn0SZmWnzm', 'R_2QVvRTCeZMHlKLI', 'R_3r1HTl3YX3JNMU5', 'R_zZpbzMCzhty5TmF', 'R_3HXGpNrMK0Eyn73', 'R_2tAbaZTs5C6S6kz', 'R_vZTWamn55mzOVEZ', 'R_2dBd9ORbHX6Wvww', 'R_1K3VundiSv4Szyd', 'R_3PFfsIBM0mw1XcH', 'R_1ov7g5806gQRSXu', 'R_3merLLhMPrwPLiC', 'R_1kRizJLeHU6JU5a', 'R_e2wMoqAF9R9pgoe', 'R_ehBKK1sDYs0XgVX', 'R_2uxQ2jkPC8v03XH', 'R_31F4USWaid3rST7', 'R_2tbzNrn76xi9sly', 'R_1Hkia9Fwn0ubuqL', 'R_VPTVIivhX3tXA09', 'R_1KqhgNYE6uBXfIj', 'R_1f0Hi3uGl9qcgx8', 'R_1Hbn90Mo2avohdD', 'R_2tAtpPKtQWejav9', 'R_2S31v4Vg5L1CqvK', 'R_2R9adOGYYdt4vj9', 'R_ezb7M2LmGGoNGlg', 'R_2WBk7i0VK8CAG7x', 'R_1NDhdxnuQn2HGo0', 'R_1rpOJsgil6izwOE', 'R_1CaakVXrY8TLpCL', 'R_8v8qHwJ3m5zmZLX', 'R_332XRsjttxP72k9', 'R_27ps2mUg9WgcvHo', 'R_1iePyHhf0wQSDvq', 'R_3Od8omVyRHOA5JI', 'R_3R8uXVhUDctj7xF', 'R_3frQrviBE8kwms0', 'R_1P0qWK96OZDBDZV', 'R_3j28R61BcBJ2DBh', 'R_sgT8c1XFACVHZPH', 'R_1Dx54b78Z24osFz', 'R_12stEVb8IRivSZp', 'R_ZsBL4VoRPfKhPEZ', 'R_1fg97UUKDjzLaQl', 'R_3jZqi5HlVyLSxGO', 'R_1oA4t5QDF94dQM9', 'R_VO03nOnZdId9i5H', 'R_3isQI4zYS4RdElK', 'R_2zCHtyekcBgvGC4', 'R_2a8ElTfd8GaN4mN', 'R_2EmH0Q6s66fapPG', 'R_3ixTaIYSqeLFqXt', 'R_3JIQlc7R4TOaaf5', 'R_xxgJVLKYOmaSE4F', 'R_2PaNRN36blZy6eW', 'R_3MxnnSAN25NZp1S', 'R_2OSxEYPVHLkKtcD', 'R_08UcSt7x0VNNvxf', 'R_cNDjXdrdxuqiVix', 'R_2rO3R4g022jgqvr', 'R_3isV9IEqNj3blAJ', 'R_31RRwRQMiHGoAHR', 'R_2qw8ewNzrXtNx2Q', 'R_WjPFhmMYMevyrZv', 'R_31FckUiREWdLysK', 'R_Um98lc9xgNqaPsJ', 'R_sNcvXbzmoa2Ek6d', 'R_2DXDFWcjdMCm2Vu', 'R_D7yJbrwTvwE0Cl3', 'R_3si9eJXYw2xJYg7', 'R_30qL7Vr8AVuiMEv', 'R_2Cqsz3fqbpnLpjJ', 'R_PGwJ1ub2UrnoJe9', 'R_8iCzpEXu0biljFv', 'R_2Ygjlf1ZJZGrc0j', 'R_3qR9S2UsA4e7Acr', 'R_324o8gwHsXI0BTP', 'R_DcKY56scnYwz6G5', 'R_2wTagHAUtTNDXD8', 'R_0DJJxUDYcZEnjLM', 'R_10SLcLjHaDvLLpf', 'R_zcDpf53f25BGVln', 'R_u3qbLW6dpDhsKaZ', 'R_21ogYrJ5w0gEaZ5', 'R_11Xj83K4yLyZkL8', 'R_2rHFJaGfVxOf0Fd', 'R_2B8WcajJ1myhXuk', 'R_1FzzZ6CsZRsWtdl', 'R_DBPCfUSlOO0yhep', 'R_1n7KNr9u7spOHe4', 'R_1LiWZVNA3n0Ms04', 'R_2ZHo80ZuRlbyyMy', 'R_3HkmSRyHLWS5kUY', 'R_1l3jFVnnpR7nIuB', 'R_2b0CgAY3OVUN6RL', 'R_8ljwH4Dz9JUtPRn', 'R_R46Keo8eBmx2Fyh', 'R_2SHW9S2COWBArqA', 'R_2Pd5F2uPksEDLHU', 'R_22nrELkqNKVlJuS', 'R_1pVwDBolRf5aHaq', 'R_Y36UFiWiDrAECmB', 'R_2UhhOhPOKBnqyMn', 'R_3kLlTSGAuUkHYO5', 'R_1eW7eusIGSXht6R', 'R_3KUX3LYvV008Zex', 'R_UMTOWvMaQcIl0Ax', 'R_PAoeMNzskKe0PXX', 'R_1qWyZucEppnORhj', 'R_3PbPV0fxCkQymkp', 'R_39PDUzCY4qsjkV0', 'R_1mRe7q9NXATjOvE', 'R_24DesSnKX2zd6Tm', 'R_3oNENkjnem6Gn96', 'R_2qfpUt6SiLSUNBE', 'R_12sfVBmPpdkuUfE', 'R_3Iac886MtoQmIbW', 'R_3HZxkaeeBmLAeYi', 'R_9AkyDJiDXes7umO', 'R_1f1wTpCmdnUPofm', 'R_1qXn5TbW69TjWAF', 'R_31MbnF38iWx63dY', 'R_12znMuoZw4zFX6x', 'R_3EaM6kIrzjFQ8vA', 'R_et7RcckwQTBJK6Z', 'R_6RqMKoKm5WKgDeh', 'R_1jJlrmxEFF9A9ty', 'R_XhOGdjBF1rXeHxD', 'R_2qq3VJuwNyEx4BZ', 'R_25Y1arwoKNYgWGb', 'R_2DZaNZN7d8BAb1U', 'R_262SCYfCpyAsWdQ', 'R_2QXVq3ZRDJmQUne', 'R_1dAAGKszk4NELq8', 'R_UolOWmA6wzmMGhH', 'R_qUDgyf3MuXATfvb', 'R_ex67dlTvABVjGZH', 'R_1LHyn6xaNo4BxU1', 'R_27Dvke2meAwNWfF', 'R_XiDV8VW920P6AEN', 'R_3dXnnLfZD1Z6yQB', 'R_3EZlt5vtoGa28rV', 'R_12QFqgxhF7weTwY', 'R_1o883Cxez8731iy', 'R_1f2UN1idvDefJGQ', 'R_1lgxhrMiAjNwxKO', 'R_2QSfHdA4TlFQ1dT', 'R_e3cMlx6tpgSFcL7', 'R_3Lhy5tSmYTiPeS5', 'R_1jCBzogyIQDp227', 'R_22QwW7zvohonNOL', 'R_3RqP44mHA0JyR36', 'R_2CIJ7kUVXL155N5', 'R_2B3EVdbLWyIJYTr', 'R_Yaa6fDsciLrWlUd', 'R_3Mbun4Nu3TeQYPY', 'R_2w13kwNWyiBlBzw', 'R_2y3gpyzmo9Xr0mz', 'R_2VL7D9Y1Ozg1vzk', 'R_3qJsIklsWxosSHP', 'R_7aFOD5DCg4oLWrc', 'R_enYAqR8BjZo62el', 'R_2BnEi2U0sYU9OXa', 'R_278saw3HhDxIdeE', 'R_1BRxmLPrE7dBqCl', 'R_1BVDHqNTurYQes8', 'R_1C71AGBmSYFFCqn', 'R_20Zna9duuzw0UG3', 'R_1rOikVlbN938Olf', 'R_3pgnA3rKaE9V5DH', 'R_21B2wGXuJBYl1YZ', 'R_1Ig5ERB8QGneiIf', 'R_3qIR6BTyBHau6FS', 'R_1Q9Qn8Mjp0TZT42', 'R_1lco1F4KjEpumVN', 'R_3KUzldTff72JXXT', 'R_3CW8iw5AagIlbcQ', 'R_2PAN2nqfgRuRAyC', 'R_3xFbMW7F5qAdSfQ', 'R_3qeTxhHfWxKfxib', 'R_OesSXH5OVERALlL', 'R_26bvIstijeNLyr9', 'R_25MaKYVlDBtXsDA', 'R_3eh0ax4FW3Kj9GA', 'R_ABEplNBnFTWkt8J', 'R_2BspPptijvWvWBb', 'R_7V5DftDIq2NJM7n', 'R_2xQp7U2g8syVKUv', 'R_1N3xcx3ylcWAbyQ', 'R_1PYngo3OUZyZe1t', 'R_3HHpyQSbhCfEr6e', 'R_2wTcYJLK2G2oXoB', 'R_1I6sIH6TBIH1Jhu', 'R_cuQ2ZLpy7DYpGzc', 'R_2y3KbgxNoYe2Mz8', 'R_1PRaWbP6V5R98IC', 'R_3lEaBTUJHU1gpTo', 'R_xznciYC92fM3aOB', 'R_1Fhv3iylLgHZl1O', 'R_1FrLaJwzAii4aEz', 'R_Df1yfGTBAOw0os9', 'R_2zCuxqxPhcKrsoq', 'R_3rGKwGkXkuo9CLs', 'R_3NycTpQDuG59YBO', 'R_2cehWk50uKXE35M', 'R_3GlgVu78MKPoVIs', 'R_56gTFIHWSagm3Xw', 'R_xGjVyrLnNxWezxn', 'R_2rZz6IH92y2hUUk', 'R_4INRJxR6pRYnHO1', 'R_1r3raU1UkARRoe5', 'R_1nV2kYOKjWwP79m', 'R_3snShYGVzG3HIm0', 'R_2bJdmzr5uCOsn9B', 'R_3DeCmhoIfLs8iXZ', 'R_2P681J3DatzbL0O', 'R_1dEOX4BF9qxUmzS', 'R_3EgIAhAAo65Kpe5', 'R_1cTXgM9n1AJ9K1P', 'R_1gIaflun98YT33B', 'R_WiW6fjKBBrnvaPn', 'R_3Rw2A9UIrjyjMMJ', 'R_1DGNlMzwJFhKILD', 'R_2t2PQIAaQifTwIb', 'R_2YWV4ZGDV3gOPRE', 'R_838bo5UnyOi0CsN', 'R_1LjLizKy5dbydxA', 'R_dpdo4xnHMcS7ctj', 'R_Byswx6LaZvn3MNr', 'R_2Xht8lm1RNCN9Ns', 'R_2CTWbWdXnfK1Ces', 'R_2394b7hz3xYAAnf', 'R_22VTeuRJzZziReu', 'R_Qb6unxzmM48S2NX', 'R_3nlAvsmWosz2dA6', 'R_3kQmPSsKVroc8X7', 'R_3qO2uD0bWC4LPLX', 'R_1hXBk4eu48WDLI0', 'R_Z7PyNn0maRPzxJf', 'R_1omSmmUZaOCslut', 'R_3xthBX8M5GMo7JL', 'R_1JLu7SUDrI7lGMg', 'R_1MN9EqZdk9K5OkA', 'R_a5DzkbQYubWBW6i', 'R_1LpzbSccgm3XlDU', 'R_3pnKJyhsjx8XuUt', 'R_3fiViHUeTXPr50V', 'R_12DvRgL69ntUqdk', 'R_e2MI8VIGFI6Og2B', 'R_2Tuww5fuSRSEDXf', 'R_9HQ5TT6NX41d6Dk', 'R_31YJrVtoogEVSTI', 'R_3nelpDDeKvbK0AD', 'R_UmRrq0RSUtan8gF', 'R_2YJ6TISbdXFAjBc', 'R_1otMeSJfiKGwplj', 'R_2S08nNlFmp2MruM', 'R_1LnUVZxI5PfIzxo', 'R_2akPB4fwbT28Rzc', 'R_ZCd7lgmTsdyfMWt', 'R_25YkEUYrrXSy13s', 'R_2YFDmakFk7wBj5b', 'R_2S76aBmjEyw2Ri4', 'R_1HjiSjqPenvMcxa', 'R_3hsTQk0XyCzHvwN', 'R_3p3XyoqVjIcaU8e', 'R_1l6nOMnoLPwh6p7', 'R_3iILT9vfeoIzIoY', 'R_2rO3R4g022jgqvr', 'R_21FK75GgkZpGsX2', 'R_cZvf1Q1day4H2w1', 'R_79uWnX1UEZ07nwJ', 'R_2Ym0TSL6n1nCvlZ', 'R_80avvPbvCcXtgg9', 'R_9ThnQUPIaXxOp8i', 'R_1DOx5q38jP2nEzj', 'R_2ZNqLqb7iiZBM8j', 'R_xi19zQJkDJpH10l', 'R_2cCtNMCBcZy6obY', 'R_vfCteBnqs2myMaR', 'R_ba88BTbK58PKDPg', 'R_9YvlT23P0Yx4svA', 'R_2Y9gXsu7wFEwuWS', 'R_1JOZLCmJJVJLjS8', 'R_1lhKusHJ2y8vwmv', 'R_1pEEidHmZKlZYAH', 'R_3HzXhEuQckJYEY2', 'R_sdTnI71UUG8XwLD', 'R_bynhVsNAtaY4xg2', 'R_2q2UL82REl473mk', 'R_2dmDwK3x2xlUCPM', 'R_3qagQRQpbW4rTC9', 'R_YWEQgQ09xtWuz4t', 'R_2YVu370p4BLA2Kp', 'R_tVx6Ycpca9nL889', 'R_1eOTJoNrgqMwaGv', 'R_4Z1yY6f4hiJ8kY9', 'R_3iIKtzJJInVo6nt', 'R_2QxJThVRSi3XiNu', 'R_2ZEsDbV5cLoLvgq', 'R_1P4ZE109w8OVIoc', 'R_Tw3gQ0OWBIWY3Rf', 'R_5Aq4V1tHgW0wqAh', 'R_3D1KXkFRTBHjnBg', 'R_3j2LrzAao77w1Sn', 'R_3JJEfu1VQwBq3ay', 'R_22VLV9t3mzMaCOT', 'R_2b105fqlMXkKOgD', 'R_1erPuTkvZ6jwukm', 'R_tYWrl7FytUQja5H', 'R_vfAWeOXgGpjlrFL', 'R_1DLOrweKg6bm2kz', 'R_yL9xMsdCXTahSYp', 'R_115Cg1VDXqErV5e', 'R_3k5rImD2l3g61an', 'R_2b2YAzoUsWNtKAp', 'R_2xVoMmtdWXTEdrt', 'R_2ZZZsr1G4jupEx6', 'R_29041lZdRH81ddu', 'R_1Nq6bT2St89Cl19', 'R_1XNAmh8OgujElc5', 'R_3qpXHsRg2zEB45u', 'R_1OVTwm86Obm4pBy', 'R_D0jA9x17MGp6QoN', 'R_3ke9Joc1TK9F2DH', 'R_oYUIuxeB5p4mHPX', 'R_2PedDS4znuwRvlE', 'R_5toUjC4ilDelk4C', 'R_2axnaWsfepCtMeP', 'R_2qjv0SRE4w0Sq6n', 'R_Z31500eNph0vFlf', 'R_1lmIGSYsM1bOBwJ', 'R_2xKPBhtGAbzDiCL', 'R_3gTyAJ3BZXMTeqn', 'R_ZHLm78DFOAem6vD', 'R_3DpvwyYu4rQC7iA', 'R_5aoAkKjGhz5mvJA', 'R_PHWDvXjLaK5ui2d', 'R_3OcuTKj8XvrFQTM', 'R_3iyGdqOIlhXiEKq', 'R_22xiaM7Xl5XkHGu', 'R_1OPrQUwpDg265PS', 'R_bpXsIywPOUBorkO', 'R_SVLk1oAvU8iVWrD', 'R_u9D7S3box4I2YFz', 'R_1memQ45Q7JlCqQJ', 'R_3D0gYntlJIOnJKH', 'R_vZ9cz6owZYN7frj', 'R_3Jw2xwgC4jIWrmW', 'R_1N382qXVPQJvaCG', 'R_beLB21BVNoAXu1E', 'R_3qwFdV2JRSkWlh2', 'R_25CunCpZkSQ9Epb', 'R_oZSr8NzEhBDJyhz', 'R_25sVEUKTUcHHqni', 'R_12r23ZoK1LJsqD9', 'R_3L75vAGfQKFPU5z', 'R_t0yZCWmpong4LOp', 'R_24rfJ8Gf3DOHBcn', 'R_4JyNCNcr4NPElnX', 'R_3Rkn1oreXbIyZ2H', 'R_1FlmAc379DkZojq', 'R_2WM4luU1Uoi6sY5', 'R_2DUglKcKySOrHoa', 'R_3gXVEX7JgtTiAFP', 'R_Q6APcZIzw6iW8Kt', 'R_3dYvu9dkIwdSTmF', 'R_1jCj9x2tQx6baiC', 'R_3ry9LUJQmSg5Mns', 'R_2ZJFWzC7Yvaovsk', 'R_DFTFOCfVufDvG93', 'R_1doCRg3jxiZDIti', 'R_30xgXIBk7ber0xv', 'R_1LXuvqq5kLChGqG', 'R_3lKC0aD3KMoZHme', 'R_XN8f1UshMRoG1yx', 'R_2TKJjSsxH7Ihqhx', 'R_3elft5KG27Vfy4R', 'R_2doonUYwVm0CikG', 'R_1pQdzn5KGqwyi2d', 'R_3iqlqwGDDuzutNk', 'R_swbv7VGae8ej1Qd', 'R_1LYIxfgsneKcptf', 'R_3gUBnqvanrkub5F', 'R_wTNnwEPR0t8iKZz', 'R_3J3IvbTip5q2gjB', 'R_3gN3kNqmtVDScfh', 'R_1N99ieS9RyFZcr2', 'R_C3Ip6Bc2HDfTuIV', 'R_8latAeEG6yrtuTQ', 'R_9NNMfFg3qKrkADv', 'R_3KAvajDsQ7NgI7N', 'R_emMA4bMcR3A2sHs', 'R_1d0t7vhWDjMnwYj', 'R_r0gTfMSf62SGA0h', 'R_3kySRxCHWb5ZJ8M', 'R_1liWulKeoZHMcWF', 'R_1dBxGF8PbL7ttDT', 'R_3G2lcRuVFnKOlTD', 'R_tVY18GcyCtOq2tP', 'R_12mcXbIUCjk8saL', 'R_Umurx6LNIGlZ9nj', 'R_3Ma3oBfN8V8cNLK', 'R_1femI2t5x2pcXAF', 'R_2c1hsiIrkUq2Pvj', 'R_2qt6d9S92U4JMRU', 'R_24Az9SVw7GQV1Fn', 'R_2Y3UdSbwP5azOys', 'R_3IS65X5P29qTQI8', 'R_3qgL8hw6IW3klw0', 'R_3qUQjWwjedJa3fc', 'R_r3HfOqzV0osk8b7', 'R_XtDcar908d50lPj', 'R_1M3ysWhYZ5XFjJu', 'R_A5MEJKMUQfLds1r', 'R_AjGvYL7JnVQOTIt', 'R_116nkgdWnFAi7vA', 'R_ey6EXQ0TbDVxRMl', 'R_2xPLtHCSSEkbM4U', 'R_ZdvHaIgbOlRemIN', 'R_0uokajhVKV1keg9', 'R_T13AIsVDSlXs4db', 'R_2PwmTQ98KnuaVDg', 'R_3hEiQNpiYPEP8kT', 'R_2tM6b8JPJJGkxrq', 'R_1KpwDKXkhFZgdSN', 'R_Z4DZaKGNQwRvsWt', 'R_3QLvrT2Jt18hvDV', 'R_3lWz64X3l93Wq2G', 'R_2gZAAaMa1mBdOSJ', 'R_1IaqHRG95VLzjpL', 'R_2akuaCiWmqLUxuw', 'R_3RjPsUcRzSVlMSs', 'R_6GnMVo6y6kiacPn', 'R_1rPLmTmdDhVlzyk', 'R_33efBFfOIHS86ow', 'R_3oSWsUFBEGO5ygn', 'R_3sv0jbq5q7qcU1o', 'R_3iQjJDNP05wpjZp', 'R_bHLV5rlctWqNymi', 'R_3D8u05lWIBLZoQ0', 'R_1oGRXRzjrPqHbRy', 'R_2V44q7FpnAm8K82', 'R_dpdkcxxp6VFgcyl', 'R_3g7Szk1uiXL07H8', 'R_3O80TmhqwWvMItr', 'R_2c5D1KQBkzk45rI', 'R_1g6dtZdG9VCjbm1', 'R_3EolExHG8m9Zcay', 'R_1E7o7kgjqMj96PQ', 'R_3L6Jt6D3lnztUQb', 'R_2CPTVh6D6T8RQpH', 'R_1OPkEvVCjvN9BBO', 'R_XnUMGyVoZHcqaTD', 'R_2Xba3b3egXzfhxF', 'R_6kQXPEcsP9Xi0vL', 'R_33k82s4Aeh7VUtn', 'R_diffZxvUeVhOB45', 'R_2AMAj39a2vepMuk', 'R_Zwz6SKZKrG7quEF', 'R_eUOCQKbv6bDtbFL', 'R_3htk7wrMRLqnFRu', 'R_3RflxZ2PF1g19CS', 'R_bjBQC6HHRVwW4zn', 'R_1GNci0O1VEMI6Na', 'R_3JqHK4QUV0lfEUZ', 'R_30u6D5AxpPOfvyk', 'R_2D5fSJ7qVeU7SN3', 'R_x4JLJWY4lVnECzf', 'R_1EYxx2pLoiGOcYm', 'R_1dLhWsCmqYDgErK', 'R_eR5spbv2IkYvVwq', 'R_2thgsOpJZpEn3VT', 'R_3qEHdNP2o3qqAqk', 'R_3MzXnH21Tnc6cHg', 'R_1Lwybe4Pc7S4wGH', 'R_3QVNWz3t8yMmzMc', 'R_UmZ16JJwhGSco4p', 'R_3gwzIisDNXzHsMF', 'R_e2oENSfYN3RXwxM', 'R_3ktybDbIUHqEb9f', 'R_CZA5H3UOlGkdZrr', 'R_tLolsXHzvrnhs0V', 'R_Or5gLiwYMrTWkIV', 'R_31GkAlOUQTYs5bi', 'R_2D06TmSIiXcvsvn', 'R_27pr0SpWvTqNuvb', 'R_vHnKvk1LbvqcO8p', 'R_9XOvtA7UhNa69fr', 'R_3g4NMtY48ADxVza', 'R_305ZYwNUW0EnWUw', 'R_ZsiHevOtJXs93LH', 'R_2R8Mud6aSkFLPcx', 'R_2eOsXuQdhtMesJk', 'R_0JI8AW4JmForcrL', 'R_27jvgW9vNgEX4yV', 'R_1gzoTKo6HgqSvZQ', 'R_2EjgBZ1W56cXJem', 'R_3hmUN0fVb6DMwys', 'R_3CZsPEaQ5ZDfRbp', 'R_3p3XyoqVjIcaU8e', 'R_1NF8osVc79V21ei', 'R_9otSYTzogkkEmtE', 'R_AvcIoqQAPSGoIVj', 'R_2c8vCS1AaUoTURR', 'R_3O7uvUzDKW6WAd0', 'R_1KveWcY13yNufZW', 'R_2E4DoPqpdHm7jMK', 'R_2q2WBiI7NIL01tC', 'R_8616kW2mJmP5X2m', 'R_UfoTrjcYiUyuPRv', 'R_2YRlYh1Tel9Myk0', 'R_DOy6FBAOB5H3T1v', 'R_1dhJCCKYoisg9Ts', 'R_2a8N99crCDnOUZ9', 'R_41mfC1o9ZTTRdU5', 'R_tM4ItqhrtCEmcqB', 'R_1CsgJt42hJVyLYd', 'R_sGvewkjJSqZ9nwd', 'R_3kaHit6kI6U4nJb', 'R_3BE99LMB7H5j6Eh', 'R_2D65W4NjhEM5Sc8', 'R_bPJpzREiFsWolDb', 'R_1MWl3sloGr43kRn', 'R_1P0Ot6hPKFl4Zj0', 'R_12ii1lnCsFU6K3O', 'R_2rTKBF7yZnhN87y', 'R_231shCPomQX4Rw7', 'R_R4zBtldnRNg4GlP', 'R_1f8VWPOzqbCDqsP', 'R_3JKkGUjX6rLaXhD', 'R_2rkpDZgprj1DiEZ', 'R_2TtwrF0SgFVm2lf', 'R_2cu8cahRKgAbGfd', 'R_24OAENwSJs3yNh6', 'R_30o8AHTbVFhDHyW', 'R_1rxC6jgA5dS6pgQ', 'R_bsjoale28pMh5n8', 'R_26kH5cvbmpozKBb', 'R_3kvQITIaUcq5JPB', 'R_SPPF7Z25792FDR7', 'R_1pL7RaMCEopxZOn', 'R_rqMAHiltjX0WlBn', 'R_22J73KICIGHQXaw', 'R_3Uk2KCIzDrQKBfw', 'R_2qvDjzu4i3b87hD', 'R_3O80DbJmyuRskl4', 'R_2y9FqSQaYUNVt5E', 'R_1jcx2rrkh33usxo', 'R_3j6Y1xjtZskITch', 'R_1iaCJJLSoEaGnKR', 'R_1lhgQLJGRZdWYUv', 'R_21cQMqs3TTBdLWY', 'R_w0jKiBTB3H3YT1D', 'R_0GGDwFZJEyfqX8R', 'R_3auIFp9yPtxR7fH', 'R_2cqrAncxKIGctSJ', 'R_31nnoV72aaNLLfd', 'R_79ZbP7lcJ553uQu', 'R_3PN5OSzWOmO0gdL', 'R_3PjVYZGQwTzHVya', 'R_1fa5LC8z5HxF5WZ', 'R_22Va8w7SGAdXhrP', 'R_2EtMmflenD9vMKS', 'R_215ojfM9xn5jKrH', 'R_25ZWmfkdJaL69zM', 'R_1OxymYwdTZR2lOg', 'R_1dsEMHnF5GK6fTu', 'R_25zoASaLyDFdtdU', 'R_2Xh7gLFEKmE8bdz', 'R_w1y1YTM6ulF6L1T', 'R_3q9FPhi8hbgvYpY', 'R_0kexPSILVEtRTSK', 'R_6FlcfL8Bk0t9GMx', 'R_1FbHJYWvHqkCbr6', 'R_1LnxqIiTAVFaGYJ', 'R_2UWyzynljYLSJWA', 'R_1nMZKECEa0Dfa9a', 'R_2WYyKpt5gD1MhQz', 'R_11db3QKUPNFqIhh', 'R_11558V7dwPBYqTe', 'R_4Z6yKWM77LsmLsi', 'R_1gpFq3wE3Qn2Ad6', 'R_sNIUv6xri7M1NeN', 'R_2i9FYOSdDPg3Ss9', 'R_3L6HIH5byNHWRXz', 'R_2tx3I9eTH4CzBVI', 'R_3n6tTQUvc4GkrnE', 'R_1hSZN93wPspCPqg', 'R_RekqKBGZKeU1iuJ', 'R_3k66YJNwW1KMLX6', 'R_3lGGm0J83Y6TO3A', 'R_3PRaDagVOH2y0im', 'R_3PoYXdpVzx5xTP4', 'R_3hyzf2H7QwbntTi', 'R_Xht1HpCBfuB4Zbz', 'R_3nCUSt9GyW3XZvt', 'R_TkeZOPebPWPsyQ1', 'R_2cqPzZtTW2mGIb1', 'R_27liGjDZ1HnJ7VD', 'R_3m3REdBoKyUYDbp', 'R_BxHqxkD995sRlIZ', 'R_qUsXhvsvQLMDJ1n', 'R_1CD79fNcwmecXUN', 'R_1MVYVK2MC0sudAg', 'R_2DYMDOJ7ZZj4CNd', 'R_1JDCgb1JnmXyigR', 'R_07Ze7QrXLy7liyB', 'R_307h08XWAzvQtZS', 'R_1JRar10hShAfdW5', 'R_1n3zikT2CApAFem', 'R_3FUL04T6akbgzsP', 'R_0xOgz1um49O722B', 'R_1q82xolCjh7lvTq', 'R_1IaxQL9pzHgjHm4', 'R_vYpEdMjLsCnHulb', 'R_r8b4safkxGFcAff', 'R_2QFA1bxIZOfHQAn', 'R_2WwIuGPkMUsrFml', 'R_1LzDezwqr0IpC5g', 'R_2dZs2K3Lq1jPMK8', 'R_3m4PFpmWFfDnzqd', 'R_3ENoufQ7rJBXm2K', 'R_1FmO30TBNpjVL7o', 'R_2X5MtQKJCqB2okV', 'R_2YExUkhCE8I8VXd', 'R_3M4pK0iGBywOegD', 'R_1DzNCalXCWPjkYo', 'R_1poNdb2sUpJaNLs', 'R_2EcPtYbj77kQ2N3', 'R_rpsHLfalLF2uDPH', 'R_2AETcSlWow67thX', 'R_3EoOEarHDZlmFV1', 'R_4G9scmJIgWMubHb', 'R_spMEEHmtiLgGypb', 'R_1Q4xlWiRWnb0WSV', 'R_2wHqZFWYwdFyfTA', 'R_Pu3CH7xyPcnG2Jz', 'R_es3H9k8AIxcnhlL', 'R_1rMp7LPlGiOnUPE', 'R_1LLQSB6n3oUFa9e', 'R_1jvOX9kBR2nDvre', 'R_3qCjLaJ4Mq2iqaE', 'R_1f96jTlCDZaRD47', 'R_3npK4x2rPPKRxD4', 'R_2E6tVlaOy6GW8Tk', 'R_7PoUVRBApzqeGYN', 'R_3FKyVslJTmsUrzA', 'R_1Ka3DN1ZUInH8iz', 'R_eM7WvNaIM9ILTmp', 'R_3PmLaHAHI7RlCFY', 'R_3M4Bs8uep9Ec0a3', 'R_1Oq3xebECZmGhhr', 'R_8qvUvSqF10wvCNP', 'R_10JfjFzHCXysQIt', 'R_12zsh9PgBDWPu4W', 'R_2xCZaadktoqCrYb', 'R_3OfzGbKZEBob2fC', 'R_2cc46rCzLXSEhjI', 'R_tGvotMmOCGyrSgN', 'R_1n3byGcLGc3g3dr', 'R_2ZUKetqwsUtV2lG', 'R_3nqGh3etLrLMR3j', 'R_3CC0sySnPEk2kfE', 'R_10oADiBs7zSg0Rp', 'R_2t0f7ENy4KbuQze', 'R_3GjoQkiUFNJwldI', 'R_3dWVJe7D2ctoytl', 'R_R2oWD6UMZCTBpOF', 'R_3I9u2ooTBeQGltz', 'R_1LAap4KknaUSxkQ', 'R_vpkrjTeh8XTsjHb', 'R_1jSSNxKfPYUoew1', 'R_3JK3fNFXSBPMY6u', 'R_31uXBAtE5b9p4mY', 'R_Q03psvxbKsR88rT', 'R_3J9jFvDRZHO1QTF', 'R_cuaAtk1XELtb3u9', 'R_1QMiY2s2wbVdqWE', 'R_24kEonPeEWXNq1R', 'R_1qdPBbhqoQmQ9OL', 'R_1eIs2klTJktPMDy', 'R_0SAxQlPh4NPeC77', 'R_WcVMSbWmd7i3Bmx', 'R_3JwOTokQ7cjfok3', 'R_2xRvzf2xeppJALk', 'R_2mHDDalfupud6LQ', 'R_3ef3lSc9P0Ijbmh', 'R_1Ol3Y2chgLPtpGi', 'R_Zq51nwhpUgXG3iF', 'R_ZmbkqV49jjI0GFX', 'R_1DROr5mXQqQPbgT', 'R_3fPFl6Ujqjrx7vM', 'R_9NAxTWOBd1VKRk5', 'R_2V7tZwNAASxMkXU', 'R_2rMAaYHHW9fL2Kq', 'R_3JDH30uxbtjEnIe', 'R_3dNbecdXW1gEu9z', 'R_3s1GZ7GvypWW19n', 'R_3fBk1QurauQYNOa', 'R_33pZMqD95HxvHOg', 'R_e5R8SGUq6Fuei9H', 'R_pADnmmfcWXzYUlb', 'R_3Mng2D30RPfGsGD', 'R_2uZIwOTCp4Jz26T', 'R_33DQTcZzLKnn23V', 'R_sNELTv8lG1SVqHD', 'R_3P7xlqPiXeRjhk0', 'R_2pXNqXP1a2pLrna', 'R_245z4XD9ylFWJ6F', 'R_2EBkD3u9zUJ5ROF', 'R_3MlgiWgK6LBMQS8', 'R_2upMS4NzPJZDajs', 'R_2TRWqCjRltHaUhs', 'R_cHDyD9MKXofpjjU', 'R_1nVMgBDJ2HMVLhK', 'R_1cT9xHITNkxj8xv', 'R_3pbtK9skLtlbDfY', 'R_ebQFCHOpqZFj9v8', 'R_2sRo8PtdrTHvOlA', 'R_3HuIlN9HHqvWyh6', 'R_3JIACfpcfwibF5f', 'R_1hExrP4r7DpC9vM', 'R_2sXqMSSmb3TS8if', 'R_2dxKP8FaE3AE1lX', 'R_3MSFQN1evKXWxEz', 'R_3etcPcOsA9FpSFM', 'R_2VEZ43uN4ppm06M', 'R_3fdbwFrNHoty2Ur', 'R_1mwn50sfHhBnLrs', 'R_2WxxYHeDxD8qsQH', 'R_21sPgEKsNYMYQF4', 'R_1OjbA5x0fpeLJir', 'R_2ZCVuvE2cVIUMam', 'R_dhutAWB6p5C14Tn', 'R_BESByyeDfx86HOV', 'R_2BncYHAjd0ebBSl', 'R_e2QCyAlZp1EwBq6', 'R_6VcNqkFhv4UoGbQ', 'R_33qlaT2i4kc9luv', 'R_2V8cjYSPonrb7p4', 'R_Do614K9VlVSReRb', 'R_2V7tZwNAASxMkXU', 'R_2E7ebXRRanTDGnx', 'R_2bOgKcAYDt2liuI', 'R_10Oy0XY1NDIWWqm', 'R_1jYZ1mE0d96gZ8p', 'R_YcdlwpBTo60QvbH', 'R_PAo4yRMF31voX97', 'R_2y3B3UecC05zlgO', 'R_XHvF6P0S5Hk9kyd', 'R_2axenot5zf3Ojj3', 'R_1Nq667wkCG9pVno', 'R_O2LG6mgyL0PYAMN', 'R_1Q01sE4fG7Bx6Xi', 'R_1Fa1aHujv6NAT9R', 'R_3NJ9wyHCQUVN4st', 'R_cY0VjgqQDvXRuaW', 'R_2frnVpmS9lmXf70', 'R_erlaKjRIVhqUIqa', 'R_shtpEfIBLGPpQlz', 'R_1BOWSpuyteEE4WG', 'R_2QAhMFm4pdp88od', 'R_p3or9SgGJO0Wtbz', 'R_dgpmlk37WpgP8zA', 'R_1gkzldrIZ0tClwy', 'R_1P7pJVuSCCs9xSF', 'R_3jRRH0bpfcTaj17', 'R_1dK8weGepkexiOP', 'R_1eJhyGVhgW9jctE', 'R_CeovscV6N8WvOw1', 'R_3nuOpfb9BQ5TmyS', 'R_3MAm9B8C91E3k20', 'R_3m4735cCISWf3AM', 'R_3PNXKOAnMZYJYn9', 'R_1EX1yvg8jVviaty', 'R_2qCc6kCRC3cyza8', 'R_3HSqUf38WknqUCs', 'R_3pfH7X0cNHb4TdE', 'R_11cF5x4ZPdk5lTf', 'R_2z8cdG6GIphdtTe', 'R_3h3BvQuH58o4GTc', 'R_1pVYomBcLEbhxeF', 'R_26gQjk7nrVKf0Cg', 'R_2z61tx9PSVegC6B', 'R_2ToAYPdH3aRMYvL', 'R_1MQao8Twzl4F8Dp', 'R_3nP306X45eD8EzH', 'R_29hno9GbWeGwgqK', 'R_2uWhDAixVJ2YiW3', 'R_3C8ZtLhTf5V8w49', 'R_PCkgY9KSMuMHjpL', 'R_2fkOfX6cfKazz3H', 'R_1gc27FfpXO6AwfU', 'R_9udnvmIHSFTXiff', 'R_0UlWZJqOPJ2oICd', 'R_aYkrzL5J4DjWN9k', 'R_YXNsUwtvTaNN3MZ', 'R_1OYPAiPPUTauKBg', 'R_3G7ml74aLfAoNgT', 'R_8qfsZhqidCmZ3H3', 'R_2PjSJHLVzLXgEr9', 'R_1IsCJEVF3jNaTQL', 'R_2fkbisztjdtB82G', 'R_1mOR5jCQYj5LHVj', 'R_6XqBU1rZrGQAyKW', 'R_AHguQ2ggM429fR7', 'R_sNmKamzv4gDu2yJ', 'R_AajqAETWBJ9CFQR', 'R_1HdB3GOo5scV6oY', 'R_9zglVTFRFNoCYLL', 'R_cTQ1qvEHmjblGSd', 'R_vxBVrgi81Yg6pep', 'R_eghKNgsaniQQhgJ', 'R_3fNtxV6Zzn9fKWJ', 'R_e8rDSOaC2X7luNP', 'R_1FtcSoyWVYlSuPG', 'R_qO2dWeADg0Cg7gl', 'R_yWOqkdy57ghJQvT', 'R_BXsC58Wvw3P5mc9', 'R_1eEJMProfPaLPsD', 'R_3Lcd0Ni3kWq2YMK', 'R_2VdLxvEy9KSQTDF', 'R_2fiFspmlHwHGxx9', 'R_2Bx7nouo80d14Bv', 'R_24c2dhcgQEp9T4U', 'R_1Hq0LDLn8A0xTvr', 'R_01m7RcyI7RygiGZ', 'R_1F9WHpD4h2adVxF', 'R_2ZVMDGpBMYxblSQ', 'R_2Eou5uZe9T450pR', 'R_cRWsKxcbNnHi08m', 'R_3fPpx05QJ8LxdW9', 'R_2XjnFQiDt4puSfU', 'R_cG8ANbNegN5yDvP', 'R_1OYLh1LZi1rYfXP', 'R_27q8knfR414Z6BX', 'R_3m2il2ge7MqaE8Y', 'R_2rpCBvM6eWbZ0g1', 'R_1Qby5Z6AJATGoId', 'R_1JFmXF1yJSGteYX', 'R_3n2RQHilzUzZy8X', 'R_3F4BAtlswpT3izZ', 'R_2q3IP6dO8BbURLV', 'R_DODYSHTc3QXe67D', 'R_3qEzZNQpDqP9VHG', 'R_3mlaBtrlVDVd8vl', 'R_C8rqIBobqEpMH73', 'R_2dgqJ5qB0gqZuI0', 'R_24v0rPzjqrX4RsB', 'R_1FYs3SsifRvfXeu', 'R_3NDI0QcvnTppa8o', 'R_XNzdwiTdMk9mx0d', 'R_1BQxwq1zjQViID2', 'R_819T8opBKzAeB1L', 'R_3HNty1Ax5FUDJyW', 'R_3nu4TxSWyW7S2eC', 'R_3FPcTdt9XegBnw1', 'R_27k7BRpSf116vmg', 'R_2tywKTvOvadFjlE', 'R_2zTlaMZfzle2T0R', 'R_ehrhSPxD94lUXMl', 'R_Tk3dTfaHov89kWZ', 'R_RCvcGqVbJrgfjhv', 'R_30fblJ3Qmj2QwHo', 'R_oZ7Z1SKrqzIQaPL', 'R_1IXEoaLwc2RCZLT', 'R_3Rw7MybRvfQyfGT', 'R_2zwiLG2zFRc2TMc', 'R_2AGMI2OL9EWp8bQ', 'R_1QlNrlW94j9SoKe', 'R_2pSpKzHvyQJ8FDG', 'R_3qV7ALW0vXX5Bng', 'R_3Ge4zHgAGsOPPew', 'R_3EtmcjXoyyEs0rb', 'R_3DhYf4UZ2brqakT', 'R_3gMFTVSwNk8pMu5', 'R_2bVuRvGI3e3PCba', 'R_1oFidMweO3CfSpI', 'R_DDfhao9C5Y6prQl', 'R_3r1AQdl1XsdaFKu', 'R_2R8t8f8ZGQvomXU', 'R_1hL2DS3FacRe3c8', 'R_1FQEnUr2lmYdSq9', 'R_cutHcOtmSGl7OGB', 'R_1QynASVUA2Qz9cT', 'R_3Ojnq63VNkN8VzI', 'R_2aCxm68SD7mgW27', 'R_PA533RIiQwkHuW5', 'R_vxm0vQ5nGacxACR', 'R_xloYH5Gy5K6XNUl', 'R_RymJZvPBAF4WOo9', 'R_12a2dGX0ZgBNotj', 'R_3qExfjNvLZSBmnL', 'R_3MizFR9lTEJ3fk6', 'R_20hN9W3jgRwag50', 'R_1djgiq4eGiK9VT8', 'R_2ONDFt7nKEblSHD', 'R_6fZ59lLMp5a6Vah', 'R_veiNcCHz2maYDsd', 'R_3MaGNOhIadlHeMV', 'R_1Kq0Z72vHiTSESm', 'R_3R4xf5AummSmbFx', 'R_3Orlq5VWpF7sYOw', 'R_1luyFAKl3Ywc4GY', 'R_DvEc542gp1o1peh', 'R_3JDH30uxbtjEnIe', 'R_3EYbQpObt2ckXOQ', 'R_Ok9a64ATPO9lttf', 'R_21BoN668mY8rBdf', 'R_7UNB3CX8ELzBnVv', 'R_1PRZSCr8mohck3X', 'R_1CBZZftWKGDtMQr', 'R_2f9YAPnqCdgb1Sb', 'R_3Jwm7Z9QC3vp12Z', 'R_1Fs3qfdWlO90DXk', 'R_1MSRMjitO2JXLRD', 'R_2uyqsziComcjQDl', 'R_2P6ZZ2bOXG66s3z', 'R_PwlQnw1ukoFJhBf', 'R_qwIALVDU8bOXX2x', 'R_2YtFL4DehkikAFH', 'R_bElCZjoRXcdY0Mx', 'R_2ZE4VZcNM0SnaMd', 'R_3ftYEWmuAEpke5j', 'R_2s0Xh9BoE1Bejeu', 'R_3oRqgpRXQZWbvn1', 'R_SGWuO1hXeqTQOpb', 'R_27J1dBqxZ0V6DUc', 'R_2z6HLpjjX8Id5JJ', 'R_83d3zGSx77bAWU9', 'R_BqW43Z7ZRUXMXDz', 'R_0iBqfXlNQoJHiZ0', 'R_8i7UjQaxN4sf69U', 'R_2ZBVTr3xKm8smqa', 'R_2CBvvRspX0yudry', 'R_3iPC4rGgY0NN1cT', 'R_3haPdkSq1sRUimO', 'R_7NFskePcJGpvpTz', 'R_1gBVx11xt7knAcl', 'R_3fJBl5tDMLQ5XqG', 'R_1lhsAaRp9dsIwDQ', 'R_0wvKCEMt8VoNbNf', 'R_1dcTegpc6EZVt65', 'R_3I9LFXnrmLvOfNW', 'R_3iFtReG56lLuGEN', 'R_3p58QqNDcNAoTtq', 'R_3Kp9ojpSNmQ5OH6', 'R_27OPOHIoSTu6lq5', 'R_2B9jvSQ7MUqkTlo', 'R_3PnTf2i3FsPNykF', 'R_1IcwfjNrQLEVmXZ', 'R_2f1dEYApkwdLEHn', 'R_1GOZPXPqGTyODVB', 'R_1FRqdQECc3A6hJf', 'R_2wFwCr53UBUzdrN', 'R_3245gMdn8nN96TD', 'R_10qlYYRCLBjpuil', 'R_25oOask1mmk3cbL', 'R_eeA1XFC8bnbQnK1', 'R_3s1GNCV6wEfDOyc', 'R_2t8dfQlmjlXZNum', 'R_2txul9Xy71n1PR9', 'R_1dhs4R6UVsHFRq0', 'R_7Pd1o2aG7Ql2tRY', 'R_ven7H0U7Qw6DAlz', 'R_BxDnwGgB1cl8LL3', 'R_3NQWwPAYTwcyBml', 'R_1QhDK9zslBdViXy', 'R_3R9lZRV7TfSID8p', 'R_pbnxRnh5YyXpOHn', 'R_d57R4X4yM5GZW4e', 'R_3egZVF2KOtf1Ovc', 'R_sYFZnwqXhVo2rNn', 'R_2aRYYS7PKp1oS2u', 'R_3J3gDvzwzhp4j7k', 'R_3mFThMs5wwWuR8i', 'R_dg1tIwZsTp0Xkqd', 'R_3G3et89Loac3Oji', 'R_3KJdRaBF5k2N76t', 'R_3fUdUm5b8JFr7Qc', 'R_2fm6RQAjPgp33AT', 'R_1EiEW2aGahozpdn', 'R_3fdSygRl3MLJ9Lm', 'R_2xXLIc2g7ffC4OB', 'R_32VBAw4q77WEb4x', 'R_2y2hatUjbUnsqSF', 'R_9tMEEaABhTaZg6B', 'R_2VmuVWxdFLLUVtk', 'R_1P1cN6B86dUx3Pe', 'R_1lueTKZ5lKT8jXu', 'R_2Bo0ulQ3sXZ5HoV', 'R_1dA25ewjgscnG2n', 'R_1dmmrHVFxCz5JMl', 'R_1oFLvyjXGm9jLNa', 'R_308kYEdqcohtiix', 'R_1JXtmmvfTQYo2iY', 'R_2qeK76Gky9ilj8Y', 'R_3foyX13lh7PDW4b', 'R_1jCgIOtht4ArOf4', 'R_3q8WSWEvMl8x69h', 'R_2di23JLrXMk8LH3', 'R_Wv0Z1Mc5lt7738t', 'R_yVnjQUw8wBnGUW5', 'R_3oAB8eTMyZgWcXg', 'R_1es0V3o5QQEynas', 'R_3s1DCG9NDKQkI4o', 'R_3lRlZFgcjN1D2qc', 'R_3QPeWz4fM7zcQPK', 'R_3EWr2W1NbYRnxeg', 'R_3jVXaYEXmMUAw6B', 'R_3PMJEr6HlUKmSdj', 'R_1H1atmiIjeamkAu', 'R_1cRMNLmJzTs3W50', 'R_2vcc9iMesmK02qG', 'R_3PEP1dPDjaRrHCt', 'R_77zST3lPfGuhUZ8', 'R_12KHmJGLKgezs4V', 'R_Zt1m8XzSLsBzbIB', 'R_1jZHOMrhkR67VaS', 'R_1lcpetm0XKfL5Tz', 'R_1d0w7SMv2r34peT', 'R_3PdJimtmbpcOuhE', 'R_0Utf2wJhzTlwXQZ', 'R_2l64J3lLQ03EJAG', 'R_PwdZS0nDiHgBKGl', 'R_2t2IISmdM1ABfe6', 'R_5vRthxYtpZSS0DL', 'R_b8G6u9oHp4TKzDP', 'R_OiYbhG0LDBV1x7j', 'R_22FyznpinIdVRFg', 'R_50yde3zYx2r7xTz', 'R_9KYpMLacXpyVfEy', 'R_2CJohclfsWvoj6V', 'R_1OISedMz32bpU9f', 'R_7VRC0AfCf7s7mff', 'R_1ZTEvw2uJNe0MGq', 'R_5BGRyctWDiek29g', 'R_2sYn1oSLzLk66VQ', 'R_10BgdZ6RZbx0iwT', 'R_6WpiZAzFCShmNRT', 'R_qEElQfiM9BgFVpD', 'R_SOxqx26GtVbalj3', 'R_0UHhiWpdDrY9ypo', 'R_b7Kd9noRdr7dXvM', 'R_w1PYHkTIdTrT8wV', 'R_2uClP1cy7YUsOIx', 'R_117UwYudLKaywTb', 'R_pRbTMORaCbVaBLr', 'R_eXSTuNpIp0uG7l4', 'R_2w0Q3ck3jybcu1s', 'R_2qpIIroY09vd9g5', 'R_DOGXuT4pfwG0tS9', 'R_301Six8FiXC9934', 'R_UVAWIayei4OzBV7', 'R_sI5xkcWZVycQ6jv', 'R_2zhCgmtU8tiQ0CU', 'R_qXfQk4HU5nZoDPb', 'R_1yTCaiR1DpxfMDs', 'R_424lKAHnMLryxOC', 'R_d5wdukVXTVZ5JRv', 'R_2uqfSBE0ApvEWTe', 'R_1HossP8MRBzdhQV', 'R_42DKa8amd9DgtDg', 'R_3M3a8zdFii45aj0', 'R_2qFciRXbJ91BlW9', 'R_3gXb1411S1onWi9', 'R_1rCWijs7sxDNuNt', 'R_1lnwoaYzMcNOkHC', 'R_1eJFS7Ck8PTrrjX', 'R_2aErdCXtvIxoOFL', 'R_sF1jnxDD0jg3nBn', 'R_2n5MZUUGnkhko1z', 'R_dg4ySUpdLF7xz1v', 'R_2rNPj9YZgEsKgH7', 'R_2veSnuqe1VMqfkS', 'R_2Vl4n6Z4n87XS1f', 'R_1r7kEjOdRoZO4wW', 'R_8kahyDhmfaqhKIe', 'R_2UX7yaRkkWM86yB', 'R_1Nggg2K1et3IEoQ', 'R_2CDoEIZakN52NCn', 'R_6hP8UTuHX0akqZ3', 'R_1DuvJ34q74eU8CM', 'R_3pcpRlPV4sASv85', 'R_2f6D2OCs6w29alt', 'R_2sXeFdR179Tq6K1', 'R_2v7cBD7mziYIBa4', 'R_3iDr52LkYsPhDqm', 'R_3HNxK9WY9lwt41N', 'R_w7tCfkmJlrKP1QJ', 'R_cZI2P0SMgWqrBT3', 'R_33ByG7rARLuNjst', 'R_2bNsUjw0ZU9qvOa', 'R_3RfKuyLtbxyWTW4', 'R_1esN7MSuzXz8wVx', 'R_26ln6n4qdflRSsQ', 'R_2OUzyTfRhMgUAJA', 'R_2TRWqCjRltHaUhs', 'R_tEePO6pfthaasW5', 'R_06O3tAREzLxqKpw', 'R_09s4CC3NVz7oZXz', 'R_2wGrceLqMAVAJBp', 'R_3JsfvNhtivTrBof', 'R_0wHUEPCmniEcPBf', 'R_9yt2e3wKEEAyfLU', 'R_2qypyQfDS6u74bW', 'R_p5B3pKYLunsvSQp', 'R_1OV94Uz5Calcmtk', 'R_2tx9EAGkLubGTuu', 'R_9zS86ik8zxZBtjr', 'R_2S2di38uBFGG4cd', 'R_ut3WSmrVNM7hRwR', 'R_2RWVk1jTylsM1Tf', 'R_3pmw8KGAkw8r09v', 'R_XFVHeR8JEmDZ5FD', 'R_2aqVhgJO9VNVdw4', 'R_1pKhUQlCYRKWj0g', 'R_9KTE6ocZQJwPDeF', 'R_3I9LFXnrmLvOfNW', 'R_1d3HwgA5R4pRFqY', 'R_28U5ZuLCN4C1NtE', 'R_2a9zyDkZpaq455i', 'R_1GxDH20tgTrj35s', 'R_2fGLV7VIbYuH4DX', 'R_Ofg1NmKJe2GeBRn', 'R_1q2JyKgBEMoopzO', 'R_2aJNrd656DPgrIp', 'R_10qPxrgu7EnLd5C', 'R_2v8t0qp0YEfntOk', 'R_3HHofYAcb2mnnfW', 'R_Rq3xYy3cAV0Rex3', 'R_SAXqrKYU074zIad', 'R_cCNzEk7I7b1yF8i', 'R_1EYTiBL2G7jfm6j', 'R_1HdboR7fSok4m9y', 'R_DMeM9Ira9yOLsT7', 'R_3ewZXuvzFUoi4GG', 'R_3Gy2BcjdsJBFxcS', 'R_110ycGdQs3B4lJc', 'R_3p9AvAN46YLGIiA', 'R_10ZzRQ2NzgOchsP', 'R_D2W1iG4lqhE7UXv', 'R_2ARsd9SY0SSTbzg', 'R_9vEnawrSmBRkNzU', 'R_0Srna7uNcp3jrNL', 'R_3F4LZCrHhWOqSXk', 'R_3Hts6K52Vjct5tP', 'R_9NY3STQu4hKZQEp', 'R_3dWmsO5qge2cUNq', 'R_3sn1v4qlpHoB6ag', 'R_28AJgpFo5K4z076', 'R_3nPkkZCUDuXH7HY', 'R_27JbmSQnJ4jjZBi', 'R_TbjWFmJkWm67zoJ', 'R_1K9YnSj6mAfIZ2T', 'R_2qE2ufawZw64yMA', 'R_r2PiahAxdpCGgLv', 'R_57S0eTUpjCxUwBH', 'R_BEMOvWO7zvTYeu5', 'R_1pQeMaet6PUCAII', 'R_etYlIoUp8n7bLHE', 'R_6M8PQJDc5Ych4qt', 'R_2aWj7fheasUPVbI', 'R_7ZFtuhORcA1h87n', 'R_3HudkeuAazGhC7o', 'R_3DjUyI1vjOgswFt', 'R_2TMJ1KHGTou3qRe', 'R_1Lvs2h41LgNcMwd', 'R_1mk0EtrF0hREFb1', 'R_2q8WDMSZibiUxVr', 'R_VKAmV5yFDD1su5P', 'R_1jvSiDf2JrlqZy6', 'R_5bxcLJlDZeDEvYZ', 'R_2DLAdHREif9ecEI', 'R_1f8XkzKqPSDhRNc', 'R_3G1e7yp5IL1XmQc', 'R_7OnNq5lHr8cBju9', 'R_1gCm9C7QrdnvLeV', 'R_1JQLKmF64Rxv97H', 'R_1Os4G6m8Y7IXZzV', 'R_2QFlFcHQWgsJooi', 'R_6gpN3BPxVuVicdr', 'R_2yg9q35uAv2TATY', 'R_9Zzg8xsQ2cwKNIa', 'R_2rMFJD1qPuhyzfy', 'R_2RWYm6rh4KuQ5Nj', 'R_1JUBuAHlOmlM7ee', 'R_1JD7O36Dq3og4cY', 'R_Wp1gCICbCPHEahr', 'R_3qxRXBBO4FKB3k1', 'R_33eUXFq5CCJlabC', 'R_aUXIeRdbtA9OurL', 'R_8k3KPwnywo7sY81', 'R_9NqAq1godPaqnFc', 'R_3efym8sB6HStVFM', 'R_1o4ErpXptNiwA2R', 'R_1qfgGQvpWRMDSKj', 'R_3DvGPl25a7o5KAl', 'R_3FWdDwvxEbg4Y9G', 'R_3GoziQul9ihU94C', 'R_1NDfVLhkmXFOWSr', 'R_2SoVE04Vnnu1v6I', 'R_27TgZf0xVjyGHFe', 'R_1hMz44pgeXXXVuv', 'R_2abN4iQ0zLx9hRX', 'R_1gvkYwmB2v8urGo', 'R_3063nrRcx5V2ENS', 'R_esq07uIrZQi2QSZ', 'R_2pLzD82NNs8IW43', 'R_3t0ZA44ZsxA61Ff', 'R_1QuYDyHk6DiGZlE', 'R_23f0t2XjTWnVSgx', 'R_27wM6hqQJgpZM32', 'R_2ZOW4NJ9hcQHOs3', 'R_2wzgqoZbOKqMuBP', 'R_3rGQlqYCtlrVS5l', 'R_23WdabOJMTsjjyc', 'R_26lHyibcS4ugwUu', 'R_pFdqqprT3bZxTgd', 'R_1djl5xBwZRqTvuB', 'R_1hFHlODNvlCOWWp', 'R_7Opuoc3OOAYgKuR', 'R_SYSvJtQlyGFgE01', 'R_xtKyzbGRgzs1VId', 'R_3lVTODBdN7IIV2M', 'R_3MrqWOIHJyjMvpX', 'R_3KZOKnPM8nfPiQx', 'R_1EYxMUd9BWEjyuk', 'R_2ck1p7g5umMhw0o', 'R_2v2CJur6Geqvew4', 'R_31F3ys3mkjFscto', 'R_1mIxj61e3e782G9', 'R_3L6cICbFmPtO9Ra', 'R_2D2FW2dgzs7gw4b', 'R_8ABIN8AshmKcFIB', 'R_2SJqceFo4pjDxGz', 'R_2aklyIUYZlonJCk', 'R_XtvuDzqg3IBXySt', 'R_1qWnIALNbQfcV2Q', 'R_2YEOM5M27zpB8Ii', 'R_3iWl8NsenOFhB86', 'R_DoTi62PcpoQh8KR', 'R_ClXXIug2DOREChH', 'R_27HAikuba9s9jXM', 'R_0UihQhmBSE0pTVA', 'R_2P07GQJYuJRE3Oa', 'R_3PmD9j4LQGpwPrd', 'R_tGNzCCqPSGy6JJD', 'R_Q9QL5HRkfS8t57j', 'R_2v8GNp0fFdpP3rl', 'R_3q8NAflwHyib9l3', 'R_1n6FoBVj4YDtP18', 'R_3Ezhl2cInq5Opbz', 'R_5mzT1B50qbZdQQm', 'R_2UhpKRSq3tvswq5', 'R_3OdMBsHdpffZrqj', 'R_tXQrMX2mxYbU8Uh', 'R_2V9O20imapc0viX', 'R_1EZFL1ozT9wBWSO', 'R_3dQtFU9o2paNUx6', 'R_3IZeMfcDxLmsMdH', 'R_3r0umRKPvU3bx26', 'R_7U0hsQcnGRPlziS', 'R_2bJkAnjLu1GFzPp', 'R_aVIgTA5ye1LnLfg', 'R_3L7NjNOWXmjznyI', 'R_2BbP0t1KmitbHhw', 'R_2dirAQ0N7xzo6Vo', 'R_vx0b53f7bIR9jup', 'R_wMi7znx4aKM1Ush', 'R_2WuxaiIyWMFlreb', 'R_1NxJjlYugwd0Igl', 'R_3fcl8mINI3sRFQT', 'R_2EuBmhGFDp1piuT', 'R_3Jz7DRF3LLraUHk', 'R_2feafhL9gEMZrWe', 'R_2bNn7mvWAtDbmGX', 'R_vk0RkSiT45uMWCl', 'R_2xz6cCTvsKHQzTu', 'R_cO7Xqsu3bLEQaRP', 'R_agCamTbUfh6VFvj', 'R_8JpYHlQxty5XFie', 'R_wZw44Pd6YgBZhMB', 'R_3l6a0gMv6p6SBka', 'R_5sReNkjxhcF6kTL', 'R_24HPiOOKuQUKjJu', 'R_2CPm9iePAS79Oou', 'R_2xEj2CwOjWGjVXi', 'R_2WOLjzHvw8MJYNE', 'R_3OqqAQUQKrdNMLs', 'R_337kJhJeuhAisBI', 'R_3PWTjnnh9Rgy7T3', 'R_QbIB19cfasL2bN7', 'R_3hbvryEI3X8vr68', 'R_2QyNFS4MRJkIkqQ', 'R_12seO8FCrSVx9da', 'R_2sc1Rp10lZnbVbD', 'R_d1okL6ESvvQmzkO', 'R_cNgNZQMVKZu1LDb', 'R_To78IeK6cZ3kolb', 'R_9NS0FWAjovJxYcN', 'R_9nO3yyI6ZqBVeQp', 'R_12ceqKGgCXNxlq8', 'R_2Vfh4g4eV2lvN9D', 'R_2z5BnAZB18Kqs6f', 'R_1P2emux6n3JNWMf', 'R_2PjkZtBcreI7zNE', 'R_3sBWNUCbEei8EBT', 'R_2fyrEeebOOzsXa9', 'R_pv0LnJJdvtZayQN', 'R_3PMkR3LfhPWGv8M', 'R_0StbQSfLg68Asmy', 'R_xE2X6NjfprocvLj', 'R_b1lIAD9t8sFHL69', 'R_esM96KxcmK8P4bf', 'R_2723iPNs35ApqYH', 'R_2pVmPsecZhybWuY', 'R_239W1bBL4rsYvuR', 'R_AHXdTKtgMnEziUh', 'R_9zglVTFRFNoCYLL', 'R_XNSfiYdHHFHXs4h', 'R_3oMTdCFjKTJ4sqP', 'R_ahqMrJ6ueYfyBB7', 'R_xFvAiqo3rHYTKEx', 'R_1JPmj0fQZoioyI8', 'R_3rTKoDHNNHfCSAI', 'R_eX0VSKNxgKBC2iJ', 'R_0J0hmbnKliTjIqO', 'R_2uJuyhFfSozm4kO', 'R_3HSyxxbXUT9u6fV', 'R_2WPD1webP81vhtG', 'R_24Jcdf1rnjY38Ub', 'R_Odkxe2fIFbSRcI1', 'R_3GCBsAQH5R3ZHjG', 'R_WBdegFRqoASMM9z', 'R_238YhF70xPE1Jam', 'R_2bP29g0WnBtjRCp', 'R_2Y4VwzsEUhBULPV', 'R_1OC9X9mEUMP6R7g', 'R_1j6T9sIJQLmvdFW', 'R_vfp9YHOPTTk4Nhf', 'R_1dA0Dzv24bFx9Hm', 'R_10vEWC4danzOBjf', 'R_215Hncety7CQEs0', 'R_1oAVCu9WJsnvhK2', 'R_1LhZbw4gLa2cnei', 'R_2EAmPpOTMBGiCGZ', 'R_3sgllzjYwx9Kfva', 'R_3gNtLE6ZnzbDsGh', 'R_bqNRQ63aWMBpGMx', 'R_2U91wi9bvC9XF6F', 'R_pSFzeJC5ivLlV8R', 'R_3lGfbqJmbzLKgpS', 'R_SSFpYyjKxrjMrHb', 'R_31GH3IUeHZgAzug', 'R_2ceg3rO0Kg60mcb', 'R_BKWYlQzMssPHmQF', 'R_1OiXRCedIB00zUu', 'R_0ppJS07yYtKH40e', 'R_3HtRaW66q96SiQh', 'R_pcIV5VsjSHGLxK1', 'R_2VOBrMenuhVsIJG', 'R_3NPSGxEnOFSjAre', 'R_50IyVPgPqjeXKQe', 'R_12a67n3JIjEAF9v', 'R_cASh0ZBrZN2Iqy2', 'R_eLG3HBfVsxteeit', 'R_Dr8EwZjXdIkDxHX', 'R_1IMYqy75CrymAHc', 'R_2b3O4qiIjPKf0fI', 'R_3PcoYPKbwCZyG0Q', 'R_1IsidpwtlklzCbG', 'R_8GoNVf3mG8IeVEd', 'R_1cZjgbkxjmNUFw7', 'R_27wHCnZZ1SZlKnE', 'R_ByqUeWlzhTSjtuh', 'R_2qqNkqzWjezRVEQ', 'R_247QOVJCr7zEX87', 'R_2B2NCVmyUrQyaLv', 'R_1K0GLPpI8905Gqf', 'R_2383hH5Rl6Iyr6P', 'R_3ht1rKaK8QIfMtk', 'R_4IWLisLaVHEBWCt', 'R_qWrOukftaVgrQDD', 'R_2YFlMdppI1sUqLl', 'R_4IKbIDYfRO1Re9z', 'R_1C9jXlrfG1MUW7y', 'R_3Eh7rck10RIfQS2', 'R_3RjF6vYjZhmA9dy', 'R_3plPvZPYJWMjyOz', 'R_3NIlVbZmqz477HS', 'R_3MbotJodGiqYZhg', 'R_Ow1wTKVAKDE1Hb3', 'R_3e8sfGfXfUzmuG5', 'R_1NFmoYT86ZNanCw', 'R_1QxSgzZmoi04ClP', 'R_PCEQYfdrCJBTQvD', 'R_3MFGNPmkulLR8LO', 'R_9BNdTqP9vhHoWcC', 'R_3Pzd7MMUSY6GUu7', 'R_1nYZwoTw7g83pqW', 'R_1gcpfzcF9G9ehdg', 'R_2iaJyIp1lmbraFo', 'R_1l0445Zoe0B4aio', 'R_2CdEzBrpfvDRPoF', 'R_72OcxLFh51D8MRb', 'R_3smfrUcXl4Udz0h', 'R_cNoH5hHvRlCyAmt', 'R_3nTS42rcjjbm3Lv', 'R_1DYiW9rViM9Ounx', 'R_3ptCK6AZrpV2kHM', 'R_1PXF8FIEijQoBQF', 'R_1pL46YIjQkT7jl8', 'R_3pfKFM5oLSJJGyV', 'R_3KYPfFSqkFhwOV4', 'R_1FJNkiLUmpzlmO4', 'R_8iUfffh2r9MYy34', 'R_3s6Oz4FQFEtviDY', 'R_1IbdPp1AHdvA4b1', 'R_2Sf7LP0hO9j0jq7', 'R_Oxo33Rsy86Bqe65', 'R_2WGYsIctxRlrCS4', 'R_3KZwOydDOVhCNvs', 'R_2b3ll0HaCJ85rwK', 'R_1gA4SgCz4GMKcQY', 'R_3E9FyngymF1RXme', 'R_5nJrakLbx2xow2W', 'R_2E4bDmcPAdWiJXn', 'R_1FxOvFYWrlPdMJx', 'R_qwiaBoJdFOEcyhH', 'R_2xLdUzRyF2mogY5', 'R_sjWdciFc5zkVWBX', 'R_1osQKKeQJzlagSA', 'R_240LEOrEjN1xFL5', 'R_1rwdoLffQy5Z9I5', 'R_1N96yL3syapG9Hc', 'R_XjJwDnogP1enbmF', 'R_2X0AtkG35WFpXaM', 'R_2DOfiGZsQQJoVft', 'R_3mlqkkRuEvq3rRI', 'R_3Rqh42FxdThwq44', 'R_1gdwqrdgbiSbv2y', 'R_BFhGdFKQgqBmXtv', 'R_2Bm2wukkOt3P5P7', 'R_3KpavcVyjBiHSAu', 'R_30riMNtkrcdYmby', 'R_qygQDZY11vdKNqx', 'R_3lGnmGzcb1nHFOi', 'R_2rHKKOZJHjWDh5m', 'R_295Jl6G1dhorj7L', 'R_3M6ksrshLmb2ewn', 'R_plKXHXWUio87whb', 'R_1OTuqUVMvcmoKjC', 'R_1KcY6XQB2sIi7Eu', 'R_agT6cVOiRuHIMbT', 'R_2Bm2wukkOt3P5P7', 'R_3JxsjWtut2qUvGT', 'R_2rjsQod5RD3y1zZ', 'R_1NE5kl4jfiHDTRd', 'R_6gpN3BPxVuVicdr', 'R_1LhQX9J8YbciPt0', 'R_3rJb3LkPQ3NHTbv', 'R_1jUn2N5KZakRGan', 'R_1Cp5fdiL7S09a3p', 'R_1Lb7jfTNHHVdcrX', 'R_2VwOKGHKToBLjhJ', 'R_33BkcBEjCAZOyab', 'R_1d186yhmjnW0aqX', 'R_2Bgm5Iv8Y5R1Ddr', 'R_tKFDZAK3ylRhQqJ', 'R_1n7aYdd3j9fk1so', 'R_1zWaGNrUY4GRBky', 'R_3KwrLq78hs5jrPC', 'R_2wtSr81TRprg7KU', 'R_2ARz95MaiDZHKF5', 'R_3HMoyqodIo2965S', 'R_2y1v8l6v0tJLWzB', 'R_DjytYYIneaS9cTn', 'R_vAkCd6MZx9BujFT', 'R_31QVN4QvTlhrX6Z', 'R_2uNSJgkkOxkPupW', 'R_23TxvDYiBVUoXjA', 'R_3iCH4vBwzSITrVX', 'R_YaCDdi23snN4QRX', 'R_CdmgYqLjIRpou9r', 'R_DAzMP2MZu5pRcFb', 'R_3PS5ZuhvOKl72NT', 'R_6Ds6Ah6b4PVagmi', 'R_1dAprvsm3zFi6Ui', 'R_3Oqcr3reHjykbZe', 'R_d57sX0KQeAVTzzE', 'R_25sGOq779kzGjTL', 'R_1OVtEfNYM0SEAm1', 'R_cRUn3kCM10Uc0p3', 'R_3ktRsPCQMmi40RJ', 'R_vMEkAVTL93t0V9L', 'R_cNCKOzi2IrB2Mo1', 'R_2VEXREnY9lSS1vY', 'R_11dztGyzAAKwu4J', 'R_3m3PRgwseZ1aOnE', 'R_ypDYZmkunAXCPZv', 'R_xAgwzTJuPM3lsIh', 'R_1rjloGzOgoZoUt3', 'R_2BwXaENQDJOPTqB', 'R_3FJvRAMOmNlCW9J', 'R_269ABAtNGCSBtVT', 'R_2EsJWze4XH9uCFZ', 'R_qRaV5Hg6INfbBCN', 'R_2AXzoBJ0Th4xeKZ', 'R_3PGYiNnnv2rknR6', 'R_2xQM365wIEdmP9O', 'R_9uGxFumctOTXwhX', 'R_8vvYa6bcv0uhLls', 'R_vxm0vQ5nGacxACR', 'R_3j8wlWbECmyxIM7', 'R_27szE2MGiCYeRTi', 'R_27dH8kWNMvJ5vfE', 'R_yswCogVtwaJrQuB', 'R_3NDvWxBQC4xLuvF', 'R_3oMlZCHOjPDkY6L', 'R_2c59GqWTrmdZ9j9', 'R_2CV1SoN9r0iN8zE', 'R_3Gs3UBYEicDrrTe', 'R_1FnCeFecimMifec', 'R_2Bsxr3ThPVxRa9Y', 'R_1plH9QrBGvpXgVE', 'R_30cwoGiGIQbcKs4', 'R_24uXNW5WQhHozeR', 'R_1q2FjoAz3GeA9C2', 'R_xc6qLLlrK3mkcEN', 'R_1KfFO3YXqydCcbe', 'R_SSMCj8vvoAZ1A8F', 'R_3PSIdZLLDFRMtFz', 'R_4SBeVUDFApcDghH', 'R_AiE7UMEYgIZTiDv', 'R_soODOtnllmLnk7T', 'R_9REP3VO2aKMAVqS', 'R_111ryThOadH0LeI', 'R_3EzKmBtnv8VvkEJ', 'R_2R7VwbI05ms89Tf', 'R_3PdzZ2y0oTxY8RD', 'R_w1LtJhOGHBhimTD', 'R_3R8AC7MyCUhVYDK', 'R_3r75akBC61RT2XD', 'R_RPsX5YqmwNzB2Hn', 'R_VQNxQGMQJmCJ5ER', 'R_RrS7OcAjniSzDzj', 'R_1IcjaIqcqWU03R0', 'R_vMuqraxLBPeQLFD', 'R_42xSl04GvLdpDqS', 'R_31gYIopDbHQRVkb', 'R_1JCwed7muN1Zj1S', 'R_8wis00F7xSEBAxw', 'R_Ybu2vXHqrClKolr', 'R_UgUbn0r8ilNgBuF', 'R_72FaOOFQg85BEzL', 'R_2WHW1JA0c5ywxOE', 'R_10x7Xs544uYOADj', 'R_2aRbqhnd4e37At2', 'R_26lqhQFMYPdHYkK', 'R_2wLTHiwLtwsooB0', 'R_2affeEEJmU6Iw8q', 'R_1FK9B26Keitt977', 'R_22Jq0a71R5ozad2', 'R_1fjdkCjANIlk5KU', 'R_0qR6LxPSEwq5T70', 'R_1rJjo8DdVGQXbZ6', 'R_3hyK3Z82EfKTe5y', 'R_1MScvHjq5d9q9qJ', 'R_23fZ0CliqnCjwNu', 'R_VOVBlb7ED4z8Jvb', 'R_3NXa14gwmRziVBa', 'R_2XcVNDnSPkTqd81', 'R_ufAgRi2uc5hv3Nf', 'R_3fBKhtjcFTwFrLr', 'R_2XmQtJMnon9GwmZ', 'R_Os4BEf6eAaFIObf', 'R_1fgbR4mCIxo6tNs', 'R_SIadLD3qDieonXH', 'R_6ujHtjCLqtJyHdk', 'R_31ZXoz4JE4yXSrO', 'R_qWrOukftaVgrQDD', 'R_2SAZ58GiNH3qfIb', 'R_1HeKDEyUzqLp2iz', 'R_2cnoF8PUWhS9VoQ', 'R_wWPuN9Z86US396h', 'R_1254DZrEdMiH39H', 'R_21dkWYEiqvZdAMI', 'R_0J1DzG4FKIvZzCF', 'R_3QFBIkUnuJ52uMR', 'R_3PH7FA1WrAESK2w', 'R_piUjDxNDw3SP3TH', 'R_3O9bNFrROHTB8EV', 'R_2rAh6H8Pm5O9Oad', 'R_3kgPAAkng9A6vRX', 'R_yxUrHdLf9hdPh9D', 'R_DAyAJcRLHS53N3X', 'R_20OSxk499dNidGe', 'R_21pR1vR03AL3BhL', 'R_2Cgk02pWv8aBIko', 'R_3PsNagM7aSBR96X', 'R_33pcMqHHnGdpZCb', 'R_7aluRlVvovnKZfX', 'R_Ub67HGXGPUtLbBT', 'R_2dg4YgJ0EiOPkNI', 'R_2ZCa7AsB2F3yR9w', 'R_se9vVmXGR2s9nvr', 'R_10pfkZvPVCysbok', 'R_1C8xm0l5Cqgh2ij', 'R_D1vXYXpdQzRzwaJ', 'R_2DXFeIZ1PsfKPoB', 'R_3O7dkKeLaLw9pHl', 'R_2RTYhfPMX6v0jEO', 'R_5t1Q0YAcQKVa4Vj', 'R_3njbru5TDhP6jro', 'R_324RP8GqJuNmXrL', 'R_1lnkIZDVp5qeRY7', 'R_1gLsrbypA6mJvK0', 'R_cucBpuMroBVBv5c', 'R_3oTk9ozK6UiKhmV', 'R_3NFi6hQK7tDjtbl', 'R_3D7QFWIACj3y70t', 'R_12JewYbWsEfJs4C', 'R_2V9ALhWsCMWxKLq', 'R_1Lerwg0yGh8IcCp', 'R_1cS2PPJ4WyM6gqY', 'R_2Ui9SAsw0wJSpwV', 'R_31WRDTxVM0vqsgy', 'R_3qakSbRGfUVGwgB', 'R_2SwQ87JPgF1hf8a', 'R_z1ZskYAoBhXPFeN', 'R_1C3K6Z0kwhoL3fB', 'R_3ebqoBg1M4wRd8G', 'R_21cdff5vJqSJDFs', 'R_21vbJb6ODFhACiD', 'R_e4hVPHXfpr4UGJ3', 'R_71KOYpVgoVZ6fE5', 'R_2Qm9dn8gJKER4qV', 'R_wXKpUHFtiJySNsl', 'R_uqudCxgECjGf8Fr', 'R_1dccoCqcwAgezjK', 'R_28Nh2krgNDtTf6E', 'R_247eKGIYppMWVzX', 'R_3hFkxcb1KDHnw6L', 'R_3JmVGHzeLqECXo6', 'R_3npEwDE7puq6MwK', 'R_10N3GfIOFZXlItb', 'R_3eoWSD4Cmrgjve9', 'R_UAbot2Lshyd2cet', 'R_2xWeFIYSp6eY8fP', 'R_oXFazoeape6nRHb', 'R_1BSpJRNbj3ghRwy', 'R_1MRhieo3Wit8064', 'R_3PZyF1qbMA9LD3s', 'R_Qg0T8KzfjMKv80F', 'R_vCVQxnoy9YRiWBj', 'R_A10wGPPJALb3lg5', 'R_3ExRaOwuA5bX9Qq', 'R_BSbcfMwP3x5SoKJ', 'R_1jVcvIwbjRwVWVN', 'R_s4ZEsqdN5I5OywF', 'R_9QU18WcyNJqKN1Q', 'R_2VdSRbGDw9DiJb8', 'R_1mmkWznk9crlNxk', 'R_x5VVE9MwkCctZ5L', 'R_1IMF72mpEsHy6A1', 'R_cvWmyAQjnkyx2U1', 'R_2cpy9E1hYKT1cxz', 'R_2pQCOGSsCXDgvrF', 'R_UxXOZtnRQsvVwEp', 'R_3EX1pzCpVit5TnB', 'R_aWgbIY05sMCOXAi', 'R_DugRIczcyxZgPRv', 'R_2TRBxljZEMym6Pv', 'R_2AEZ0DxF9496t7L', 'R_8cyDVjX70lA4cbI', 'R_esuLGeKpDfyP0LD', 'R_1ifKctnELo0adxh', 'R_1fdgotYnbPrBgQk', 'R_3psXJYjNBPYwwO7', 'R_3nJjbbmFOh9CEVK', 'R_xo92keDTw8pwFnH', 'R_1PXdCP0gjEaIyz3', 'R_aXkT1ev5RQ793gt', 'R_PNkg8U0B0tH28bD', 'R_2dveFVz3XVOPiHv', 'R_3Lj2dRTVFP35rck', 'R_2wGM978Kq1EyIM6', 'R_3ey6Gt0pe3naUMw', 'R_8oJH3iJeJbmPHE2', 'R_bODUoDBavflKPst', 'R_1jJ49N7pSFcXUpC', 'R_x9o5DDWiKcZMUCd', 'R_yDZFfyuel3afVHr', 'R_9S2rk7ZJ0KHW5Ed', 'R_BJ1iDPGc9suUYj7', 'R_2vkQDFUYm7UxQos', 'R_bd47bh9oBHA3LQl', 'R_3fKcIHR4PZicl57', 'R_10udICbcN4u7xpN', 'R_1gSbJYW6uIGSPlL', 'R_2xESTf2MwvBmZVc', 'R_OJsnQLdcQVeRDjz', 'R_1HoxWSV5d8X2hlm', 'R_12md2VnePb7Myrb', 'R_3PzBwoCMlQsG9Mq', 'R_1pR5IGBOS2yZ1UT', 'R_zSA4VIaFyedcJt7', 'R_cIlcatw62EkYUrD', 'R_2rj9UotFiSXmaW5', 'R_2YXjAhkDVQey7lT', 'R_27NJW1sSIvPaUnV', 'R_9TwpWAcJ48N26k1', 'R_24jGsZHdaNNB7ST', 'R_1dgzQq92vdRW9FX', 'R_2VjzyCyuWe657B0', 'R_OliJFXdXUuxhLe9', 'R_2YXu7ALqwYbWHfq', 'R_1ohdCgzbByfl8wA', 'R_2rIu6WT0YgqAXAM', 'R_eKCdaG4LR7Zp0xM', 'R_6maF9cdVhSGitgd', 'R_3EiNemAYQiP9vLJ', 'R_2fHWDPdkTbfh398', 'R_bQSUU5ubwQ13YqZ', 'R_1Ns7daI6vMfOhCn', 'R_3QXCxBZAn3VGIsM', 'R_6RMRlR37rnHuwbD', 'R_0c6cQZDPoznS4iB', 'R_2lVM4Qi6V6LFsXA', 'R_21uJPwl6bos3yEj', 'R_Qj2dlH4yKwBhkfT', 'R_277OFACeawdJLIc', 'R_VULbh6PYE839RUB', 'R_2rGh5AjVxIpAHIP', 'R_3maChFAVypwliIQ', 'R_1n2vXGmVZdc7Bq6', 'R_TngE63wM6IEm9z3', 'R_2ogRrgntI1QEEoS', 'R_3DiL6gTP6ItbSjf', 'R_2fdO1ImoyKNHZ05', 'R_ZL8pRcZht7xzz0d', 'R_2c5ztUL6ByxjqIH', 'R_TbbAKmbJk7v7mnL', 'R_2fJRmkTq3nTpGji', 'R_3ExRTJn1KlaWqPM', 'R_3oZmdD7W6SPY7WZ', 'R_3dNcg9DxXyB38Fm', 'R_3EgKuYN63vdyPQy', 'R_1gi7heXqw3ohHIG', 'R_0pI1ZKzTjnzxXPU', 'R_3R8dFwP6NI0PrPI', 'R_r0GTtyLBxpWwP1D', 'R_DHa81KZO3OXtofD', 'R_2SwN5ozHCDaZH4m', 'R_2pQWW8yKPxqiOCZ', 'R_1mt7RrKFnaYumzp', 'R_3kMysuK9vnHdSQ2', 'R_3jVyVGjmqz2sJnl', 'R_zeVxDRmdwRQE5Db', 'R_2aDBSxHiYr9koUT', 'R_BIZ74pgtzONU1xv', 'R_25XzKiLPYTqaqQK', 'R_2b2lKcJXGEQ4p5u', 'R_UrOJ7mkZ33djAbv', 'R_3iPzjes9tDvWrDn', 'R_3qkBuc55MTrhY1M', 'R_BPRfcKuwlHi9qlX', 'R_Q0Vyq2SjTeJuLT3', 'R_1qVVOHfWM2lsSMr', 'R_1mCrbI7XYNOkFFw', 'R_3MDnrwZ3FCw1UzH', 'R_290opxs4woSQrLo', 'R_3gLrqkEzCwn7MtZ', 'R_4O3V9JmyLKnCiqO', 'R_7Oks4zBihLlsBoZ', 'R_3EG7yjZQH83lyeA', 'R_1oGDvEEauCIIsdu', 'R_3PnQLP27X0Bzt2y', 'R_1QmUkP5y5dbssUK', 'R_3G1Z5z8Y5xK3nb3', 'R_W9yxNWu6EfifAWd', 'R_3rS9jgDTlPgkaMD', 'R_2uptkTOum5tCchD', 'R_3Lkanj0bKLvqZRB', 'R_3q80bexynUbdhnn', 'R_SOCUnsRb0t56Fbz', 'R_1ewsmtjuxnvs9lp', 'R_vZWNGp43EwgePDz', 'R_3dMqAlMxPOMrwOk', 'R_W1dJU9aeU2zogRH', 'R_1OVqVFoU2cSqPGe', 'R_3ElIU9rUlgqao6x', 'R_22S6E6hbkoDGoN2', 'R_1FeTWigbDPPyGhz', 'R_2Ym4c17uGpzKmmV', 'R_1pAnRRWafAUs7zA', 'R_2mdFZoLffrorFIO', 'R_29cOrWk5zmfj85d', 'R_3pcosN4DqOdwadv', 'R_x9EbN3n2ht7ECRP', 'R_2yd2USHYQqCNwMZ', 'R_3iXBZFnt6lHHZTJ', 'R_1myo8xqooqpuxFH', 'R_28TF5wGFhRqvC74', 'R_3NL0iXVIaeGkGZX', 'R_3RxSqyHFBUsGkbu', 'R_1rpkmt1gpFGuh9P', 'R_3IZmjrTeovuFGcF', 'R_2dXUJI2QMJ48kQg', 'R_1kIGY8Fqm5555VU', 'R_1KkCwDg2GLtmL7O', 'R_R8EXawkA7hHErRv', 'R_w7XPo1iZlFNNQ65', 'R_6g4Z1vt3MHiTDEO', 'R_vqUrDEJHEt2xlFT', 'R_a41aQO7H5VOW7e1', 'R_3htf6MYujw4LzpW', 'R_1M51MyxQqfG0LiF', 'R_O7Jmch0sgdrEXbb', 'R_3PRBlwK10yN2Dhw', 'R_eRpRbA5GPEt7DLr', 'R_10SrDwlKUoYWMXo', 'R_2vYzmprNbogzKZK', 'R_eqGV3TDB71ZV9vU', 'R_bd9v5gHdd8N0gGR', 'R_28P1rKJchrlkit6', 'R_3DwNW5wLLdjs756', 'R_RIIBwqIIHh08Wlj', 'R_0U3ydCPXtFPGiGi', 'R_qEYNRkMNW4eUyOJ', 'R_1C42Z6WyRzoezvw', 'R_Xh8rXqKAQpA3wkh', 'R_3JLBeCDS6yC6giv', 'R_eGbbb0e6054dONE', 'R_rd8Eucto6A3PcDT', 'R_2dQK80Jn9Gg5xvI', 'R_2EmzYNOQkjzwrmD', 'R_UPWPB5cPXklXUT7', 'R_QbPSKdrSF3OYit3', 'R_pav7MUV1sisAvgR', 'R_d7pnb2GQnSNRs0K', 'R_w0Qnxbu1sG1aitz', 'R_em7i4LNEo0YEAwS', 'R_2z8ZSNoKdRmpJVC', 'R_1inxHBDOj7K5BA5', 'R_28D7b5bkq5gpeIK', 'R_1plCA4h2h54uFNE', 'R_DSIfAGoDbcQR00p', 'R_1cY43HZBXTkVBho', 'R_2WZ51NtTSVCq2SH', 'R_1k0P8MkpPz16LCj', 'R_PzaiGZHNOIuE3WV', 'R_3KJC0R0VCOiav0m', 'R_12E9IJPdURqzAyE', 'R_2TY50yCGpLY9e5P', 'R_1BVQ4NNozq4TwMj', 'R_1jBdX6hU6xwT0Mx', 'R_2xESNl86SXqitW7', 'R_3NDOWRIzbz2etrB', 'R_3KpwJrSQ9g3PFFA', 'R_3KVMrx0mW3Yb0wg', 'R_8BbAlf8gbjry1Xz', 'R_3polcVwQZWCpH7R', 'R_dm35N5GZAKzlpjH', 'R_21hMLDwhWHH4Nlc', 'R_0BeMa5eHEECsby9', 'R_rl6W0qbSsJtU3Jf', 'R_20S5RJl6dlwCcJ4', 'R_1jjMwUE7fJplcTs', 'R_abmw7ua4g5kbcFb', 'R_3IcpjZIMAynsc05', 'R_3J5fiU4GmVzXWI4', 'R_2D1uTjAQdo6CPl6', 'R_27EEigyi6eKnXbA', 'R_3DuuucKcInCf9Uw', 'R_es0VWKd8EQUBtYO', 'R_2SjHDkoC9lMwAqP', 'R_3s4jogpDGGT4lvQ', 'R_1OrSYNSxA9MwnA9', 'R_dcbAOjsDqfsRxGu', 'R_3QMM1UVHIjFjL4F', 'R_TsZe7LABN7J79EB', 'R_31iRyR6mCwtqgwe', 'R_9Yyk04w9Rmb6Nfw', 'R_3OpPVtbinJZTguE', 'R_3ISK8GoSncISBZC', 'R_XuC3lKxtQcF5kvT', 'R_28GOZ0le4R25wUW', 'R_3Hp1kMbNnJxJvXk', 'R_2ebDRAqv7uJyZ2f', 'R_4O8Ap5gXzUrBiql', 'R_1Q6F0a0a5VpG2VC', 'R_21cZucs12iGyIJ7', 'R_psCaQhVbcpO5nQB', 'R_2xwKR286ZF7fMAL', 'R_cXWB8HaJoiMk8OG', 'R_3lLhPHaBzZH4ySg', 'R_1QGIuSXDF4ZE3tI', 'R_x4PkMocgwlVk4W5', 'R_1f1xJDnmThLXj8y', 'R_3qfl7Ub7C3jneSS', 'R_3NCd40bqua9zuJO', 'R_3jZCMN8XueTlEN8', 'R_22G1ROn1VAi180u', 'R_1Q9rFFy50qWNsMl', 'R_3jSDxSerTddPb8K', 'R_25u0LtaatQOgWvP', 'R_2DUCsljO8pqmC7S', 'R_3m2W3JTIz9W3oqt', 'R_5gtYsVBdVosGIBM', 'R_114RCMmfQfJO3zj', 'R_2wTvQTDZbBS83Rl', 'R_rfmpP7W01KHNi6d', 'R_2CDOUJWLALWzVZD', 'R_0v9qa7IHCx7bZ6h', 'R_2aXr9ltuU1zd32Q', 'R_RLFsfFKXYI6pgQ1', 'R_Q9XC6EXSPiwFOa5', 'R_1CvfIx45ZPBDxeO', 'R_UzGtmmggo58xq0N', 'R_6uqYPXKHxPzvXLw', 'R_1BQ4ZxOgHVFHpiv', 'R_x5ZePSW8rpJOx4l', 'R_10Mzd9bF3nUvBYm', 'R_3QJX2b1Kz8J2qzU', 'R_vkHod1KajF7LEdj', 'R_3koJuQHUa0jcduB', 'R_eXOLP5ldJtRS5BY', 'R_Au3Dirr9oyfDlxD', 'R_2uDQxqKz6tinTj1', 'R_7TFuHzxZusUyj7o', 'R_2Cpkdktj6WbdNKC', 'R_3EZpAgxBe3iyRKf', 'R_3s0PQDs4qwl2TWA', 'R_3qlhXVzxaHw4mJT', 'R_3PRglnUDjRuiVrz', 'R_2aULIlZ3NE3cPUO', 'R_2gU67ifaqPWMYdr', 'R_2V4LXI2dMq3vlNG', 'R_3spKtDMjPxULDIu', 'R_3exJXmBym29fz3B', 'R_3oyCnSkcNitIeuO', 'R_5tId2Ge4Fp9CPSh', 'R_2VrsoCAc4vxJeOa', 'R_3NwVtQkM3KTrymu', 'R_2YAhsnKSMtSvrqi', 'R_305DoGwmq6sA4T6', 'R_2Bmwc3koYCMeEsV', 'R_2UaXY2sYQLc15fJ', 'R_2P1kvRFnyHdUilN', 'R_2f2Iw1S3fLoNypo', 'R_1kMOzPNjFAdFJHn', 'R_bNN4NCBcT1EzFjH', 'R_1jJ49N7pSFcXUpC', 'R_22Q9et6sHJp7zeG', 'R_1FailZ3NmqYhPbE', 'R_2uq8GcUkRoHCW1v', 'R_1mgS41Wplkn7x6u', 'R_1Kp965OnlMn2MyQ', 'R_1rIYTVxDb6ZA19j', 'R_27CD5MDFG6TX8GY', 'R_3GcE7hXkss4qBfp', 'R_XGlLuFrRHDQeVm9', 'R_1Q6qzMZwllYlw6s', 'R_tFBsEBf04tJAVix', 'R_27JXPy2pOMlmjY1', 'R_3lKwZDWdsq5moPO', 'R_1LqyCbn6pxck8jb', 'R_3syl9qmz2C6147f', 'R_DOWZN8j3T9WvsKl', 'R_2b3MNOfXWgZAWV7', 'R_2EzXZYhhhbpb61M', 'R_1DNdomFHy6cYxVI', 'R_1FRrFAkHcmOgr6s', 'R_bsmuZa8xHRVDzZD', 'R_2SvH78WNPPC1um6', 'R_3PFwPA0kk4WwCwm', 'R_2dVXedAjbKV1tgW', 'R_3oQSEF85lZf4pa8', 'R_3oNM0udaGROTpZb', 'R_2awqrEx3JeZ6Sxk', 'R_RCxLpdQqtmsk6Ih', 'R_1E6deaqPIzbtVij', 'R_1LOs4lmRSJOlKV2', 'R_AO1ndag0ajopshb', 'R_2t9TZiK7F6OE2E2', 'R_24d9V9zWUAd7Onf', 'R_e5nllSbKPO9YPBk', 'R_20UIgxtGfGRx5qM', 'R_TvBIVahpsa2BJmN', 'R_2YlEURgL4drT9Pv', 'R_sRLsicdccKmNlkJ', 'R_1KcGcnp1QZyXgTe', 'R_33kY0azvda8qJIe', 'R_3hn27RNB5rsJedt', 'R_2AYyiDvryCwbBIY', 'R_3CKnI0LXhdbrw0X', 'R_Q5GAogBHkjHCAy5', 'R_r1oSc6iEBxwU1oZ', 'R_3L5CF2lyz7wc25i', 'R_2WYwKjHiwrO1QyJ', 'R_3kM2Sh4OIE4Fqp3', 'R_1mwMyB4A7c9eIRn', 'R_OpnSe3aU4ECHncB', 'R_6Xv92aQwFvRgdf0', 'R_2WwlRF1APABnpsq', 'R_pgUeWhbify1rkid', 'R_3njAgYkH6LUbaYX', 'R_vwQPtobb2HADYAx', 'R_Zlamnie1WZUQeJj', 'R_5b6GIZmYHIORd29', 'R_revHkonod3mRbb3', 'R_cC1bb3VmGib24S2', 'R_1GJEsmt2UW0FZ2W', 'R_AdE4FPZ8ru8l1Yd', 'R_1dzcvDa4XJzPRMQ', 'R_22mnGoQmUjrDfq6', 'R_3EtEZykvGRF1e2U', 'R_C4bLsVHJIhGFfmF', 'R_1Cg5uSNuuK8NLe0', 'R_r082LrmN3YSLsul', 'R_2rzIh3zC8L7t4vT', 'R_2ZJKkza71PxMYNu', 'R_8r0jvbD6HzX8Moh', 'R_5mW17tCwqQFGX5f', 'R_1f18XclSYwQfp7I', 'R_3fiqLRn7D0QVnP3', 'R_1kSUtb8rFd8EzYO', 'R_2eOm8a9VukmuGMk', 'R_di0r81ValidqdSF', 'R_p0oAfbHK3Qa8Vot', 'R_2wMqJdWfGS9ilJs', 'R_ZKq6u7SFVs1NZjr', 'R_PFIEOqTP4pLIeCl', 'R_2s5Ukk7XbzdR7KB', 'R_RJpLQOlfrYpBqAF', 'R_pMicyC5k6OoSEnL', 'R_0GMpJovEC4rfHTX', 'R_2fx5v162MODUs6N', 'R_22DKUjX4ACUSCRg', 'R_UMAMbnsxNGCh2RX', 'R_31gcCteVhsCv5aw', 'R_3PcB9b2Ml4ptrZc', 'R_3qGTMeYkVpkRhBk', 'R_Q3w2u7lEJAKbhkd', 'R_PRIJ6ILGMh3NlDz', 'R_2zdVFhWIQFC0IsN', 'R_3fiyaQ8PYMUoJ3G', 'R_1I3MZk2ERqNQ7Sf', 'R_11con8RqKKcgZAI', 'R_SV6jUoGTiazJMpr', 'R_QnbBgkF5zmJRvON', 'R_3pgO2nxBCLzztN0', 'R_1faetPeZGuZeQbB', 'R_3fTLZQEXoQuyT1I', 'R_ZgTht6wHkEa2Ze9', 'R_AumjxQojzdWl4MF', 'R_2EiQr512XdtG54I', 'R_2CDoEIZakN52NCn', 'R_YWxDkbNPFPiZCWR', 'R_UKJrigGhj50aWSB', 'R_Q0SCkmcCJFmxWxj', 'R_Q6rGPHN9gdtIweZ', 'R_3s7hlrihbhMrtlr', 'R_DpAf47TBTCXRFy9', 'R_2viCGZzupGnQzvU', 'R_1DNC5sWEnLp2sfo', 'R_9pBpgWURqK23Y0V', 'R_3oMZ89eEMkKg5ML', 'R_D94MT2MzBch15xn', 'R_10vhX4m0BCkq2kt', 'R_1gb86gp7UBBIpli', 'R_1OGLnOfc2pIUDsV', 'R_24GlzrePzBkPW4n', 'R_3IVH1lTcaKSbRQs', 'R_3iyR8pCC6LeFb24', 'R_TbxrA03BLcYn9mN', 'R_3MQ1I2mHMqJOKtm', 'R_sFrDR5XDS37YVCF', 'R_1QDDo2jTLaoBbQr', 'R_UnkvTx8Ti0BeObv', 'R_9AmRPH6eIa5mQ9j', 'R_12suJvjVy9GmWcM', 'R_1MQXX09wqfv4nu6', 'R_3COQQakurIUwfd4', 'R_1IZySPNkOrYhpEW', 'R_3rYSqTiE0GOPOIA', 'R_3auYxrS5JNSSfiu', 'R_2aM6Ogf322H33M6', 'R_1GC6Cl0AA2e8koH', 'R_1LXNCAxmzhwvoNj', 'R_11hYvVaxqE5ivxi', 'R_1rkVmon8ySDI4AY', 'R_1QlotpG9lVMgiEH', 'R_2w6QtQ0z9DsRpOG', 'R_V3AoJaGhO8rBKxP', 'R_10VlOp8RpsTWcpl', 'R_1Csi16Ojv9xRqB7', 'R_xFAx1raSInvg7YZ', 'R_2PnbPve3lGFfQGi', 'R_2zjuSXDU35qN1XV', 'R_bxUuY097kBmD7N4', 'R_sAorFbnPLCEdiY9', 'R_3LZviskWK9iDqEG', 'R_WdN2E4NJET3S0SZ', 'R_2tng958BVRLDWMx', 'R_D195tckv77SABGh', 'R_yBECGbskt7Nthvz', 'R_2AWOzKGXsXPZHwl', 'R_3G0xHoQ2LEQpqJ8', 'R_2do3Z6qCFcyyBnV', 'R_3D5OqCfqtX8wv0W', 'R_3qWBVbGfdbXR0ns', 'R_1mDlwdcZhV2LiaP', 'R_YRNdCczXwomBemJ', 'R_RIWAYzT91254UVj', 'R_1r1SvlvgnMIGuTE', 'R_2arcF8aTFduHYHJ', 'R_e2kWAa6bvPMNZ78', 'R_XXRMLc4Lka22iEF', 'R_38enx06kWflwkZ0', 'R_2rJCxK6AIvByv6x', 'R_3qKcoobMWe8Kdb1', 'R_AnxrJ6wK121QFi1', 'R_VQlvNLXmkQCEFSp', 'R_PNbLP1MtSU1hyut', 'R_1IcMwYRmc4Sa4RI', 'R_2wM3qp9vtSA3pAg', 'R_2VpBs2MMh3539ZZ', 'R_2di2bMOYi3KMsb8', 'R_1k1zntGMsXstzBw', 'R_2P84UqYJgWnqZAT', 'R_3L1EEAjp0ygvrzS', 'R_3EYbQpObt2ckXOQ', 'R_9FTys1CVZHfxuff', 'R_12hF4vfEBPkiCYb', 'R_1IB1Sb9oyxOibBp', 'R_3GCir2eWxTGYPXT', 'R_ZjKEpex1rTN75xD', 'R_5styJ68vrMspjVv', 'R_1jPz2XymMoPgqut', 'R_27JrySZ3dSq4kUK', 'R_3JtqrznptWgMHul', 'R_ermvk9Vb8oin6qB', 'R_CmiUMkH9vEus0hj', 'R_zcYLZZCyqWwySGZ', 'R_3m4SlcOmLivDXv9', 'R_1KwOyRuRcE9Wen0', 'R_33xajrHDuemx1Yv', 'R_3KZmVnMnzULbSM0', 'R_b4sWUQlNaeJNn4G', 'R_1BvJHmwlLAPy2PL', 'R_XigRN6G60JAqX2V', 'R_3J2a1yvr7lUxx2v', 'R_2qvNKdceCgMgSkj', 'R_1oAuIWj9bMCNMeV', 'R_1ooMZP1IysRn2Uo', 'R_1QJJhFhSC03zEoP', 'R_eJUmQRfrJ6Bkvu1', 'R_2xEtEvZD3poBEiX', 'R_R4SRE3Qgu54JJsZ', 'R_10YsXMEEmHRdZP6', 'R_xbUCoc9ADv7wJXz', 'R_2f8UQzDYDYnD3Db', 'R_9QDNKi8KCYEuKrQ', 'R_bBhXW8MG8NUhwb4', 'R_1jSRAFkHZyWCEXD', 'R_2eV9QPhFkLJsY9C', 'R_3eeNCOYOUzFGGuR', 'R_2y4azlLnKUag77E', 'R_u8hk1ma3BXsx8SB', 'R_2ZNybPq4tRx0QZz', 'R_BAj0fJsoXULuvxT', 'R_2EzoD0SmPITJNkp', 'R_3mlC6Y4GSilkwHj', 'R_2CUgSK9nNv8cUfJ', 'R_ebrGt0YF1qmId33', 'R_3JJy9llcM2MVuvj', 'R_PAluwfIOCU7exa1', 'R_1ojy3ZjD3nGpPlO', 'R_1qdJznYiJzd909p', 'R_ub9cDdArQutreiB', 'R_2R7IGjP5u20pwWL', 'R_2urCrS7TxJj9ptf', 'R_2BwFo7gUl853tmo', 'R_vJ1oaNFjessXtiV', 'R_3m2WoTpu6PlWzNF', 'R_9HK6cmAsQKInbgt', 'R_2Cfe1KJUqGdGInc', 'R_31uVFmRuzZQIMlr', 'R_2Sc9j6weA9wmeKq', 'R_20U3bLYFPSI2Iu2', 'R_3oTNgGraF3kaM71', 'R_W2qRYEKXEGBj8T7', 'R_30uRIwdJXkibX7G', 'R_1poJD0WLyLA1Ewk', 'R_XGKKFz7Woq3vipz', 'R_yXg9pT1104RLhhT', 'R_vZxZShy6Y3QiSWZ', 'R_3h9NZVVpESUmBOo', 'R_32VcNXonbSPbcWL', 'R_2PmMZaJDFUmXmZI', 'R_1C3Ae4b3NtVtUi1', 'R_ufB6vfjkI9WnA4x', 'R_eu1u2MwOLk690gV', 'R_9oguMPCfXVVEPIO', 'R_TvD0C0Qerahawnv', 'R_2sTRWGnSMLMdEwM', 'R_3HowcRuqA9Ac66R', 'R_vcojpugee4IW8CJ', 'R_2OJhLxgEMkpjAtW', 'R_3JfrGQU6gMOfsoC', 'R_1C9BBDG1hL0IzO3', 'R_21jmk2lJ2w78JBH', 'R_3G7CsQOmjwoE9Ht', 'R_1N3RIJ1mDYjZHRc', 'R_7Pwab0PzTrCgHVT', 'R_2Vkglee05At2Ouv', 'R_2P87Pfr0Xn6cnyX', 'R_XzAGeOufEVPm9CV', 'R_bDinniwzJomRnHP', 'R_3Led3kTVxsdAHsx', 'R_1kNglHgELaA76KB', 'R_a41aQO7H5VOW7e1', 'R_eti6fhCvxPsXZKh', 'R_29v6Z9uUqf8eOTa', 'R_2zU7cgQxBkGU4ri', 'R_2ZCuAAcQU5Lj74t', 'R_1F5tRd51v1AJNbr', 'R_1fdDCqFRjXmb1oZ', 'R_9XgDJyeMQmuN3Et', 'R_2zHq2uXHGTjiUwp', 'R_2EuyJCckIDc4jHb', 'R_b4biuz6QJa553pL', 'R_3G1e7yp5IL1XmQc', 'R_1Qg4Q2TcXSsDwQr', 'R_3qpTQtyDfBiUGtO', 'R_0c7CLErOpQVGg4V', 'R_2E0PIw9g1WIPKQ1', 'R_1MWXRqKEVLuu2Ia', 'R_dm8Xl6snfQXrkmR', 'R_DtSqRMP5aR43D1f', 'R_2zka3lQCEYaETBG', 'R_27Wr2MVo8RHYJVu', 'R_z0AlVCTcocm8NW1', 'R_2q8c0IHibJelwqn', 'R_20ND4MlNfkCOugC', 'R_ewIHFIApKFJxybI', 'R_2Bfjty2ltDmRPrj', 'R_9ZzdKPRbd2JetJT', 'R_1KS6ue2iSzF2f6x', 'R_qRr6mut3cJ4HuSt', 'R_3dYuct8PoWSvWNQ', 'R_0emrufWIkx0jcPQ', 'R_Q4TbAwMAfIIU6pb', 'R_12l17rTZjJDAKqK', 'R_3DjWsuTH5EWtzYm', 'R_2TN6b2DYJ1xKae4', 'R_4PaO9fwzy1PkyuR', 'R_2uyqm6Xn2B1qAHp', 'R_5gmDuvpaz4oC57r', 'R_12PcVF5Ir5QWufW', 'R_2QEbKBm62xEsZAw', 'R_3Es7nX35LtgEaqc', 'R_PZO0PhbUlfXEj5v', 'R_3I6JPLnkq2hLcWD', 'R_1jNRcUlMYbUivsx', 'R_3lyvQgj4DYp28a8', 'R_scYkeTsCBrkxUqJ', 'R_1jdB8sTSA9OWYgX', 'R_1kUP2phCx47qpTp', 'R_2fiDvPqEhXh48Uu', 'R_2v5LdoqXJrwDqql', 'R_1LO9iybe1RZ6a3G', 'R_1k0n3Pqz1gxgdRY', 'R_C2FPs639e5RxeDv', 'R_1Igxo9J1HFo9kP3', 'R_1kZdg1hQr9SBn1j', 'R_1cS8errWVoKmOs5', 'R_3F4mZaNv76OrJhW', 'R_2TO8Gr1rbVxv49R', 'R_1eLUTUFIXv3632S', 'R_1pDL5NxA8ryZ42S', 'R_25ZKvzL3YlLtsHq', 'R_3CD8bj9PYQYIo9M', 'R_XQVlfMbwGFJ0Jax', 'R_1KqhQV4TVmuhaSn', 'R_yHAlsFtUpqhPFT3', 'R_1rwy2LrLOYa1sFk', 'R_2fBOBT4iCrWrWUx', 'R_2UfLqpLXBjPYuky', 'R_2xVuHZNq7wkmhe5', 'R_2aZO5EpOoKL6aKB', 'R_egnqBS3IziwmFFf', 'R_1lxxHNiKP7HGPbd', 'R_2xP22FFC9Yleh7t', 'R_R3lYvXdrWBgciBP', 'R_2sbsKqNLBAjjHU2', 'R_vH9D3n0VMC3gSWt', 'R_Z7PrNCae8TnZZIJ', 'R_3PNsOSU3TxTnayo', 'R_1pWGEbBmuDSdQMi', 'R_2wymDdkiSPRTHHD', 'R_2UfTQvz6gPB7Obp', 'R_3KrP0Lxs2C6OpqV', 'R_2cpEbc7RYtp35vE', 'R_pFqHyhJlUFDWARb', 'R_120ax84nEMCOzJT', 'R_2TGXudUP0h3s08U', 'R_3qkegPSe2edYlVP', 'R_3PLwKuQSaXwqEJa', 'R_1QB0ft8XZVH8gKO', 'R_2y3Y1aEPc9LNgQU', 'R_1PcseCtuFaXVi4M', 'R_2y1lERiRHx9rKLA', 'R_1Hoy2RRjrJrsT1x', 'R_22xIr3XIEFkYQDs', 'R_1F5IAiQXq0AxOfp', 'R_1gd74OXauFGwlhf', 'R_1MX0ShGrhebzdfw', 'R_2bPniXOyWh6PSiO', 'R_1mepn7RW8PR80tC', 'R_2TnsFBPzWltkiw6', 'R_uadD3UplzcKwz5f', 'R_3sAKsvzaomnnxWm', 'R_3fxa0Xt0TPA6Jiq', 'R_DjUA5ljzXdSYH2F', 'R_2Cg1EDEcgVnBCFh', 'R_2ysx08Xvqs9GwGG', 'R_22FdgcmVcMnw4Bf', 'R_u4CE4duLWIFqf3X', 'R_3kh7qxO2GJPgadY', 'R_4IWLisLaVHEBWCt', 'R_3kjEEQA5ozkTqGg', 'R_2CwE9TrTlpjsIYM', 'R_3g0poHGDNuBS9k2', 'R_WAJQwlYWJu9DSUN', 'R_27v5MtWWYLQLGd9', 'R_8JjYmNktAJqp7Om', 'R_eyDsxGZObRcAMey', 'R_3OAQQeqkzrw6mg9', 'R_2huBFkqF3PHV9BA', 'R_6tg9PUjRn88mQHD', 'R_2B2jxAAD3weA9Zf', 'R_24udcKYKLehTj32', 'R_1ND3Q0jEgvzO1a7', 'R_bgCFT6s8j2x2v61', 'R_1OjHp7FzG3pzjQq', 'R_2yeFCo8v8tZVDYq', 'R_Y3ykWhHuURfTryN', 'R_1LCL3gUc8GGlUjT', 'R_Qp4XNW3bmdNx2gx', 'R_sSbr25HNZRAAH6h', 'R_AN9ktcT63NMwwGB', 'R_2962yBMJFT7hP6z', 'R_22XQRTI5Kfs3uyi', 'R_1otpZH8XKrsBwgr', 'R_9vos0QpjhwCOA5r', 'R_1oke9Frlhaqig2o', 'R_31Mp35mfi6967mU', 'R_3kze2hLpaWAPLhT', 'R_1igsbUOhTYAwnVG', 'R_3Oig3rqM5wBOR7F', 'R_12bwEWcONHU1WG5', 'R_s6bLiJxfP0kA8Jb', 'R_2zZ6msAoVrzOwgB', 'R_3iIqO5phW6bFqeO', 'R_3fiodGmTOvTrNTi', 'R_DjHaQcNIhr5cAp3', 'R_1P0lgKEUv759jaM', 'R_1dLBjFL7LZWsdt0', 'R_32Mhs4JAc73nlPi', 'R_3NLhSCJwqpkKCL5', 'R_1DTFTHTW9J3IcHV', 'R_3dEbD7AfamvgP8p', 'R_3Mh8X6khgyb5aBj', 'R_2EzYX13ObfolclZ', 'R_1K0wfvprIv0I8Uy', 'R_qDFSHxyKyNcl9MR', 'R_eRt2ldg57NxEygp', 'R_4ZbabQsMiuDq5B7', 'R_W0TWn4ZdUDWcAJr', 'R_1mEhKofpIjApOhk', 'R_R3sPPc4EBf9D66J', 'R_3ozjWyyMvMnDxlN', 'R_1mR6m7uINoLmP10', 'R_5dnsMnvSsttphYZ', 'R_3puktJGUcplzXwZ', 'R_1Pequu08tUqmzrm', 'R_1Ive5P1MiJNpxGB', 'R_3Emo9ujDToMODJT', 'R_2fl0K9cmg6o3PQv', 'R_2ZIcT0AekrQht3B', 'R_1GWaNIsA3WchONU', 'R_10TXWZusywR2u3Q', 'R_25YZmHRsGzp3YaG', 'R_A1KszOFgBX6f4vn', 'R_1GNYDWgmcYvpg3K', 'R_32Mj5MzsMACPSie', 'R_vSwJjlqfkrVEsr7', 'R_1NqdkgXFgO9geiG', 'R_9NZMfZbh5PDqFbz', 'R_1JEHIvfZRsCoQ6r', 'R_CavZPCZln2a21R7', 'R_2PtWxUYhb56IDNS', 'R_qU8DKVdIskwV5DP', 'R_3p0aghhaxea2nHv', 'R_3QRla07gt1EUe8H', 'R_2e83eeCKKtcQ0Wv', 'R_dp7grTlYHML1qoC', 'R_1etr7TadvxxiXNj', 'R_Abq3fC3kelJNr7H', 'R_efCW5o0VFyycXGp', 'R_snd76dFNwY1KlHj', 'R_3KOseEnkPJPxzpf', 'R_zeyWo5TNsuz722R', 'R_1Baqi1DBb1AbrkB', 'R_2di2bMOYi3KMsb8', 'R_2YX0JQ3gnFb3TOb', 'R_33daasWBCNqAnoH', 'R_1MKZJ6NEbqW4lTG', 'R_2rBXpUAGpkJbp62', 'R_1gpaDvSZeBirdFi', 'R_1FLnZ6BZCnmLD5a', 'R_CeinIATSMtvd4el', 'R_1cZDXzZD4mZ9gj4', 'R_2QYvmuFzTBi7AJN', 'R_CaFdjIVDPuByG4h', 'R_vGdWDllCw9D4c8x', 'R_2v7ZPHpv952ahEx', 'R_2fwcm4x9kjshqre', 'R_eRrLb3RBIEd9ay5', 'R_8CIJLcFhO8h9HNv', 'R_x4nBw3TzUWczNQJ', 'R_bwIaxD5AuHsWDm6', 'R_330VlriPr9nyb1w', 'R_2ZCiCvS0tic1Bgb', 'R_2U0ml5mVd0erIQm', 'R_dpoUP5dClmRMlyC', 'R_2uBDwwZcfm3oGol', 'R_2VBX1g7TA3byssq', 'R_3PWQ7dAfxajya2N', 'R_UgonnFF0x3X2MtH', 'R_3nxsO50ZDuTCyG5', 'R_1ik8QFmvGrdBggy', 'R_1Idw8638qJ7Shh4', 'R_12RY4CDDr1P0UH8', 'R_qWUTfl22YpSzsbL', 'R_3s0T4uejSYl62fL', 'R_1NgqET6DgxDyNB7', 'R_sv50YY8KS55rfMZ', 'R_0eqqVfg9bPj1fln', 'R_3NOoOcrji39a6mt', 'R_ptqKYoCNYTzya2d', 'R_1loeUmC8jtaiwBt', 'R_0TVLMmp5tzGrznH', 'R_3lrWcvgBwYNLmFM', 'R_2xxiex1mm1Dq3h5', 'R_vk10ezLRgGIyE7L', 'R_pSD5WK0nzZnBdm1', 'R_D1qclaJ9d9BLZ4d', 'R_3sGjK82RgtO4Jmu', 'R_8HfIQJ9FUdmk9lI', 'R_27kerKuXsNnCJyP', 'R_1mQabuMtrTnvPM8', 'R_3JavLUiZRiEPbS3', 'R_2c2EbEubQsv7gS2', 'R_1Caq53MJM88rs3e', 'R_2tx0XjDplYrHYSM', 'R_1P6SCK9O68JA6rz', 'R_21BxdT1gyZ6KfRz', 'R_33y6A6QT1oqLszL', 'R_25BFqsqDrpjcpkU', 'R_3oGzK2v7vX0fPjD', 'R_7R5Ybn1aIvM2DhY', 'R_3mvCNcRrKwFPeCd', 'R_3ixPBCH9AqZlXyY', 'R_3FUq6SGiMz738Yv', 'R_3kySRxCHWb5ZJ8M', 'R_1hRzyg20Gm5pMix', 'R_8GjZKJiAjh1Vyvk', 'R_2wvoL9Xrk7okY7p', 'R_3EmzXTO5T6roeHF', 'R_2B3EVgIeaBAum5a', 'R_5ow1BTQJY0J4G2t', 'R_2zpb0wEpfrBxWIk', 'R_2tfEymt1I48bihB', 'R_1oe9fLp9mYZwNup', 'R_bfSa5lscvNT8uhb', 'R_3lApF71zDjIxCS4', 'R_2zLXipnBkRzs0FW', 'R_pscWIfAEn1G75Cx', 'R_Y47Kor8uN3wJr6p', 'R_2sYL5lrn3IcnGA3', 'R_1DLUwiExjS0cfVO', 'R_yHY7jNfTz2MnUpX', 'R_yl2QWOl0zNlouw9', 'R_3NOlD3AHQ5YxV45', 'R_soIS3adagZoqkNP', 'R_Av8uHCgYCeiPSlX', 'R_WBQzbcecBWdJDmp', 'R_25z1P2T9DwH0RY8', 'R_2CVvn0OFfaj7e0w', 'R_2wFbIGWjhFRPIBJ', 'R_3MDPq6ke9a7IbQx', 'R_2VmtR0baf2NWqT3', 'R_2Ehj7iRJyQ6ZdUJ', 'R_10pJQcUsk0da62a', 'R_1GIEUDkg0mEYqGd', 'R_3iIG0elZN1FBLFy', 'R_1mxyjgMkrrK7nyv', 'R_29o9nP7WNKCUuvF', 'R_2f3el9VFK3iuYkn', 'R_3kNFC7y9iEgP89m', 'R_2RWksinOXVH34nv', 'R_dnh4R0D7Sylguqt', 'R_3FIshoJrXi4N9sU', 'R_3hoxE1qF6D59PfB', 'R_5tkSlrMMwudFlga', 'R_1ouvAcgHkjWVerq', 'R_2yqFjAfjQDlI3YM', 'R_1oBkwLoNKgD3hsC', 'R_2Qtik09Mokk1zWN', 'R_3htkWz3knvDgfjl', 'R_2aQ33zc8JMXtTl7', 'R_SSRmrVOv1JMlcEp', 'R_3JtvfDiAuEyQt0K', 'R_2coXodlLaDS8Pxg', 'R_10BMvRMYNBH8njR', 'R_2wyM2u9ITynDNoJ', 'R_51Ofob7AaT82y1M', 'R_2B9caPo7GGGV7Qt', 'R_1FRgdBLfBKQ8KSt', 'R_2bV2M8gn6Xeh2HM', 'R_1B2JO7ebOPKqY9U', 'R_2uV588bgr1uO2LM', 'R_3nIe0Qjx2LIBflo', 'R_1o4RBq868PSF84J', 'R_3MipgkmJNHQFkH0', 'R_2q8kkOVRsM3tyra', 'R_2vcbldVwNNeoool', 'R_1K45ygt74yFnwFs', 'R_vuy7YkV9NKT9i8h', 'R_WdjU18iaSFyoDFD', 'R_BD1pEOE3cH2i6f7', 'R_3j8wlWbECmyxIM7', 'R_3fefSdEGCekxdla', 'R_1rB3DgTGlIWOtDu', 'R_3wmEjGWxdcD15Ml', 'R_2sYI60GFNetRAI4', 'R_8Ahw5A4d6VWFmiq', 'R_11j4HxcUrNkk5RG', 'R_QnMhcguq0C0rrnb', 'R_1hFpDQqx29Lo2SI', 'R_3hmcUgSFlLqJPoZ', 'R_1mXK6KRmxjvCo6h', 'R_33g8BnhBTxsELxD', 'R_bq45nSCGEBtwzKC', 'R_1i3d2Jl5MUrI931', 'R_27Jy8i6qjrDHG2U', 'R_3PAirfZwOrD9CGz', 'R_1OmbjfNCbjSrSzT', 'R_12bAgTrpRXaMlzY', 'R_2dNokS15i356o16', 'R_3fwpyVZE4LtXaq6', 'R_2rJ9zBoY7cpplfw', 'R_1ir2l6WhKwIRCPk', 'R_3eqpAMsWl7Bp2FQ', 'R_7OJRsEkSvj4g8WB', 'R_27Tmt8nSLoEoY2O', 'R_3QDdBlbSu9E8L5p', 'R_3oWNYKoXiWOhc91', 'R_2WGvWtyt30hcLy9', 'R_29v4mKLeYTYOzmf', 'R_1Q6fLp8kOg7ETR7', 'R_32RdqUk1TwN7Rz3', 'R_3m3MDHW6CoXHKLE', 'R_2YeRzZhqURQGtpz', 'R_2sYZdlephQunlqT', 'R_24777jEHAWORy6f', 'R_1PXZmRirjE7rfcX', 'R_xrq2OEZ4h1gfI0p', 'R_1q54lKFU46AOalO', 'R_338AJdCZqVHGQq8', 'R_2dG7rruthaV1hkj', 'R_1LSigOIOCUHpI8a', 'R_2bUljmx5K07D7Bv', 'R_urCMz52CdazhdPX', 'R_3Gv5ZFtV24wSgUM', 'R_3oyC1glNoVHFdVv', 'R_2VDgVzfSw4y7OgL', 'R_3R26JHxvLnzxjBD', 'R_10ra7a5Co2OUYRM', 'R_3pYamaTtvmUCfky', 'R_3EBgo8lQNZzHeIp', 'R_2aXFiuaJlKB8TJ6', 'R_3CuQ6bxVfgtOLpD', 'R_vw7VCjruusShail', 'R_1E5JZWndriTG5ie', 'R_2Sw9LiEg0NWjZ48', 'R_1FR1ZuowFVQoiTm', 'R_27OwYFoaYnKYJzH', 'R_BVvqDCAGt6D9oid', 'R_XYCrPG5lvArYXJf', 'R_3OoVmb8UvHoid9T', 'R_2ciTyLFdHSeKmkv', 'R_3pYZMiYw57c0xuu', 'R_erjf2rs6pjDZvHz', 'R_PIBqFnI50SlbXs5', 'R_2QlycU9ZskvZoJr', 'R_vq5i4SEili7fEZj', 'R_cMa834hGMl4zV4d', 'R_1pMdSAq1cFhVj4h', 'R_2VmqPh7C6TynZWi', 'R_2wGIzVv6oD1eSbL', 'R_QfQqHam1lqDZdlv', 'R_1I48WEpcm6RJhIz', 'R_3prJTLCeSjkzrjD', 'R_26kVrjua1nsH2sn', 'R_xbWhPJvN5CERmy5', 'R_bI3BLaw4fN7d5nz', 'R_2XjSrjCe2PMmuyf', 'R_12r24wJCxdUUnsu', 'R_2RNSvhUQ0yaKI2j', 'R_1IJZWBFhMgnvXZ9', 'R_2s7iQx6L6L6M32L', 'R_2waDo3eEOGwD2eu', 'R_29uz5tXbIFmH4Hf', 'R_1gFuJw8NqzeQyI2', 'R_2akmRFUuCsqQO9M', 'R_1CfFpEHXklAgUFI', 'R_PRsGWXcGw29RlXH', 'R_20Zskd6ql15u9t1', 'R_A0xadMJkLOCLHup', 'R_WiCSlxVZBdC11Jf', 'R_1nNIN5Qdan6jsXO', 'R_31FNilgWdBmcFiE', 'R_1JEd2difAxE8rRI', 'R_3FPCZRmeAV23e0r', 'R_3OdblCtNzZMgH9g', 'R_1FzlJlrYqWqOQG0', 'R_1KwrfdbeLj6wtC9', 'R_24o8Wtcakv8yToE', 'R_e2JvaIY10f4KQ3c', 'R_2s6YI9sGAp3kWDX', 'R_XUn3thrYFbuY36h', 'R_sM8NG9sFZgnIaqJ', 'R_12unye191E0T29T', 'R_3JIpWRQQxEUl79j', 'R_3h3LJiHnT2rwZ8Y', 'R_O9YecHNQh4UJbih', 'R_2nOMXZWYufkFSBb', 'R_Rwx2yusPvSx7dg5', 'R_vMsJTXjB9GEdk6l', 'R_pF31EHwDE4NatC9', 'R_11147MsuB7u5XGw', 'R_cC8i85jwiK66fOF', 'R_9YqUxzH5v6uCPVY', 'R_22PIIg7zfb6E8Vb', 'R_3iPAvEaa4ncocGP', 'R_1Y1cKrIwaIjxzvX', 'R_3xxmKvsgYRbDrK9', 'R_2pK44IMrUrZ0Ruq', 'R_3xXKr9qIwVRaq7c', 'R_5bDaVt35ObUvBId', 'R_1kIbpM3je2uTw2S', 'R_1Q5ZRwJV8euizuh', 'R_3s7HGKGDDFUMsRU', 'R_cZSs3c25gjK9NF7', 'R_3DqNJswkmKkiCWr', 'R_1KvzmPIfCDbMVgD', 'R_W7OTfEVwpps9EpH', 'R_30bFDRjytUnaHCZ', 'R_zYUHckK2bxVAktb', 'R_3qCgikjxF63nive', 'R_1rlzkAuPuIuXiq2', 'R_2rZow0Ab88ThOGh', 'R_1qexHi03vYvgTWr', 'R_1jfgXKHOYYS4yc7', 'R_0ivHi9PReiAkVG1', 'R_2pY3ww2IlsUgRC4', 'R_3kFGSU3eV092qGt', 'R_eo0zsL9KQysfhEa', 'R_3JEQFU2E2TgnxnV', 'R_qwu4pLwYqtKgQKZ', 'R_xgsEpbzXuzv6HyF', 'R_21EpS5yPppcR0AC', 'R_0GmzWUlUJNlhdq9', 'R_3DuLAaIAidcYEik', 'R_2PcbF6SmLfDERCn', 'R_11hhtbtrRtVM1Np', 'R_22wTeaiP1mgfUdW', 'R_1KcJ6ttq7PB0EUO', 'R_1iswPyXU8efhGOy', 'R_3iImSOcQjsky4Sn', 'R_eu1u2MwOLk690gV', 'R_Bt8aNVPLc2jWyOJ', 'R_12RSx4UGaGw3aWO', 'R_3oAVgvmzmcZICUD', 'R_30em9N9Ldtn7q8E', 'R_1lc7RPOk4lrsu2r', 'R_2AXt16eXSrtTYke', 'R_2fGSL2SGGArqUxu', 'R_spLMm8GW6uy3lCx', 'R_12JVl2MHk47t1MQ', 'R_PTXc7qBtrhmbEDT', 'R_3M68pA24xZtLw9h', 'R_1FPmO040PLvRWbX', 'R_2dXD5k8BfjFD2J5', 'R_25YCj2NVSTSdpwR', 'R_27euG0XoxwsMvOe', 'R_zfd2OPzw9wkLwAN', 'R_3IXCuUtpRzYp4Q6', 'R_3D85i2Vi50E3W5u', 'R_8ADSaKjv6zkYJhQ', 'R_2Ev52g22q12GBA5', 'R_1ONCiPjaAgoo9ic', 'R_3RfQh4PWjtv334P', 'R_abjWEPtR92mO9kB', 'R_3Ht7DImDPd1mbaY', 'R_eaCsXT37SApgRNL', 'R_3p5yfOMt95aETV1', 'R_1dAZhltrfkJ6Qt9', 'R_2v7wTqm0jw0UqxQ', 'R_cCIOfLr6EZyguwV', 'R_3GeTtq0KBZIbmkg', 'R_1IKGVPVz4paM4A8', 'R_6yhyvzsA4gVnxJL', 'R_1E3ZJcP2PtNNoyB', 'R_3KYEPGY3Bg2mT8q', 'R_2CNR7e8Jdx8ml08', 'R_u3KW9t4S05bSkYV', 'R_1MQI36aCQBCe4z2', 'R_3sok0zIBq9lQ89z', 'R_85Of2kO61XW7KqB', 'R_e5tiC06fnRbFZgG', 'R_245VdQsjF4MzFsD', 'R_1Cs6T0dfbrT4USI', 'R_3lGKLEFpvQtFyze', 'R_9plQvZEOIt9VVVI', 'R_WjjsAb5ZkBpX3UZ', 'R_1M3ypkJdA56UWKL', 'R_3jcUiu1Z3MSzLW4', 'R_1MMciAGc6ALcg1k', 'R_3et4NqNvhlIbXgc', 'R_004L0YtkzLNlyeZ', 'R_27g2tOM1WcVhiFa', 'R_1INnNnqo2WfFZIH', 'R_2tfDjte7ZWcFMU0', 'R_3CKu3aFh0V1wXxM', 'R_3h0aISBLPD5hSXT', 'R_1q8SbfvrIfC8cr3', 'R_3fPJYFFFdqdU9GS', 'R_1jTFsAvkNaQ2IJL', 'R_122YNjyVgJoeQYZ', 'R_1Kx7YnGL4ciXMJU', 'R_2rUA1fEDkflbcgw', 'R_1oz501mfJxRFlKU', 'R_4VmzRJCMAvFNNtk', 'R_SV4YtFKACk3GaGZ', 'R_10VtAU2ZZyCXOgf', 'R_2bUK0EKHhPfPJRm', 'R_r6E12TbnwpjvHpv', 'R_1g1kPY07T3gy6Me', 'R_11ZprEr9EtdNBXF', 'R_rpEoUdw0iE2RD7H', 'R_2CleAK14AZnmtpx', 'R_AgMdccp2KXGKSCl', 'R_2TQTNSuAW8nlJG3', 'R_1LHHE8p0G39xEZN', 'R_1GOoLIFJTWBDHLK', 'R_0OnBD4yc4Ehse6G', 'R_2Y8TIpyomQGAAWU', 'R_3HZ8Tl7MUEiWmdT', 'R_3Dii58TmqMIRYNr', 'R_3Jw1qnIm9hlVfio', 'R_tRK1uRuzjXmwzjb', 'R_2w5cCT5Xn9ZHT41', 'R_RJkoJZUL49MGFjz', 'R_2xEHUVQ6exLdtwY', 'R_2Bm34AfLR0O3ZZk', 'R_2PqiGNsQ2op1sps', 'R_3lzPNiuw8EC1hQs', 'R_2v6OyU1UU8AIskb', 'R_1Fs7cXl9dfFGugG', 'R_10DGLLspvy4CJ4V', 'R_5pqEA1iVYQwLov7', 'R_1KrtDI6XnFlRoFO', 'R_278KZ0j7nlVsFrV', 'R_s6V3o4L1XomEfsd', 'R_yV09wrbCAhhEQox', 'R_4JcAK0lNbEnM9BD', 'R_PIidmwhX9aplNpT', 'R_1fjbWrM8FLgKEAJ', 'R_12sRXctfN7Zmt7t', 'R_2rDvPGybg4u7vXI', 'R_3NzeygEIdWDXcqH', 'R_1MXsGfiGmXyTQlQ', 'R_3s08cFaVceWAnql', 'R_D7gZQBHoSl2coqB', 'R_2Y2LVWRBipjyVGH', 'R_2SAbkzhr6Ysjqgd', 'R_ebs39ZNQaALjEmB', 'R_1DqVxoeq5RpqCvA', 'R_1K1QOmjDhoeva0p', 'R_3oZclw8jUV5FhpC', 'R_2rIM9oTx3a2ayQq', 'R_1Gv7ssGL1HFkaqZ', 'R_1MY9uX0POJlRhLy', 'R_RnnhMxlCUV3N8bv', 'R_11gAZIcZH8MJOMA', 'R_27EysWNJytbajcC', 'R_1pECU7tRzDXoR6M', 'R_2uU1J9SmWg7pgB2', 'R_1fjugEIigqWmbDa', 'R_3nTOkCLezTUtiEq', 'R_2wQAIAf0kQnNBQe', 'R_WoCTlgJtCsTMqU9', 'R_3j3sTzhSxtlSpKx', 'R_cYd3gxsWmO7jgrA', 'R_2OZRFVXHEkzTiFK', 'R_2YsjTl59hpd9kIf', 'R_1EWeZo75HFxe1fj', 'R_3izigVH3mNOOcgT', 'R_0OMFOalnkT4C8rn', 'R_29iSeNKcxH47UdZ', 'R_2V1J7ignfNyKowX', 'R_3n7q5JoR5pC713R', 'R_2WT5qNeZieXuWb8', 'R_2UaS3rh9930o78b', 'R_32VBAw4q77WEb4x', 'R_xc33CkMcbTq0qqZ', 'R_2VQsSdkZ8rftrmS', 'R_UorM011gAQEsX9T', 'R_10uUD4YfBcsNc9U', 'R_1DC1rvZy53XWLHj', 'R_A65jka5a1yWcU1j', 'R_6illashi6mzw0TL', 'R_2RVPY3VXAlHJ2Vo', 'R_1QfsyqPxRzWVlWj', 'R_oYUIuxeB5p4mHPX', 'R_vVnTjZUhHrp18op', 'R_72ogdvWXjEn5CZw', 'R_1PZUkuyFsVTZx2C', 'R_yJWIxbBMsmBZNct', 'R_ctOE4TNYcavJhZv', 'R_xbbal9oZE3pQysh', 'R_6W27l35nZM5lJKN', 'R_yOoj7w5f7Hr9esF', 'R_3w8bQhKeb0Os0uJ', 'R_3hA5nhqMN3E8yV3', 'R_3dGhE5QcIFCod6r', 'R_3l300pzp4V8zTAl', 'R_12JVl2MHk47t1MQ', 'R_3kk4ehK0csqOrXe', 'R_9G2zMvOtIJYnSff', 'R_bryZ6AVD5neD7fH', 'R_1q4gSdwbPwln7wE', 'R_Zwc2rIsyeGlyYoN', 'R_eDRDdw8aF5yQh0d', 'R_6Ps0wmz5RCmTHjo', 'R_25NNP3uoLt2BjK2', 'R_1guno1KCgskc2Ki', 'R_3EApRq9GwkeNQki', 'R_3rTEZg07bA01XnC', 'R_1NwCm565C1WNTEu', 'R_2CJvClBUM4JXfwq', 'R_1Hk8jmOk8PabEcK', 'R_1Qo175FVSFkvQCM', 'R_27J1dBqxZ0V6DUc', 'R_bHhJfgoUPm1FBJL', 'R_1B1v7ZVpfQifPjU', 'R_1ISnKBbv2S91BzY', 'R_eQLe4v7VSi5502d', 'R_3ENjZlZn1jeRBKF', 'R_12FPnRScvN54iMw', 'R_cO9sDVLJWcNI3Eq', 'R_A7ecb179J3qVqbD', 'R_1Ov3bIqK2cgbyvu', 'R_9GlESGpBQwdk0OW', 'R_1FgHdQrZzG7haQ7', 'R_9AmRPH6eIa5mQ9j', 'R_abCO0qWfh4LBSWq', 'R_1M6xzEV5QCmsJzn', 'R_pmzmSCrKqkfPOud', 'R_21v7pcIkRe7dEGS', 'R_3CZp15zaeoNzNQl', 'R_3nU7Ey0kv93rYKY', 'R_2TZgYC1CtdJ2xyY', 'R_9QTZFUATsSsEc49', 'R_3EjcDmdyY06exDQ', 'R_2tfbFvoER0UHxVL', 'R_1FmMd6tETcAPBy7', 'R_u1VHyNCXoWm0cj7', 'R_25zP1MSpaIlo1jG', 'R_3M9DnDSKxhNo7Hk', 'R_yOzJSmoMsnwJbvb', 'R_2arjmBG6B3HRlJt', 'R_2PnyhdKKO6v1MGY', 'R_3kqaMqjd2ArnJKJ', 'R_3GCWTsES2gqGGiJ', 'R_2q8JntJ1udmClBY', 'R_3Rf8byN9Ng9N3Nm', 'R_1gI5gcM3BDhmCwD', 'R_2PmUG0StHPpKNi6', 'R_1H0pElEDRePbmEK', 'R_3nkjqZpn8c0JCr5', 'R_DHV3YrsBQHelac9', 'R_2ql7UnZei4ztOTb', 'R_2xCQzbwVox5NHkE', 'R_dcYIQwRQeutLjYq', 'R_9TtFLt6c77m8dtT', 'R_1llVn11NyqYZRrw', 'R_3QS2rZLYKWIqfvM', 'R_1nMC43gyr1g131z', 'R_1jHdOWov2pQEaCA', 'R_2DULJFLq0sNpFWi', 'R_xAfhXJkJindrYL7', 'R_215NkSMHkMaWFs3', 'R_1Szb1ncGEy6SHhT', 'R_OJsnQLdcQVeRDjz', 'R_3C2SfWgvvvTFRcJ', 'R_2uUlLz6UITa5QG6', 'R_tEAIwR7v8BQoz6h', 'R_3qVB3v8hVfM4bKi', 'R_vJCLw5wQPvegSCB', 'R_DtOWMmJnuKpD43f', 'R_1kLZqWeYw46WQwQ', 'R_pSjJFoHSMTdyTId', 'R_2tF3PMIEOAiaEOH', 'R_269MBmvzP4cJzdq', 'R_3EL9McYRFImwIi3', 'R_1i2JIKbQB3sku1m', 'R_NWts1X6HoXxKoKJ', 'R_2TNJSHO0vGWtC8c', 'R_1Frh7NxEmgsHDQD', 'R_1DGO1ZgCa4fV0nG', 'R_2YWkK9a12WQNCgh', 'R_3nwlB0nOwkBabwO', 'R_bpf0V5NhuKOI4oC', 'R_1j89aVkdC5BDopE', 'R_27BxrNaHqrtfON4', 'R_rf2Qh874Y614yE9', 'R_refI6EDwuXs9M0p', 'R_1FPKn95oQMqBiDh', 'R_1igpdvV6ty0EWqy', 'R_3XldpGM5H5bRUop', 'R_31NsrBL2uV2PkT0', 'R_3suXt7bnJZtJRqY', 'R_30wTDjAqdHANKsU', 'R_2q47X31hRBr4CBi', 'R_1DZmPI4vbT5tMpS', 'R_s6VuZz7tD4lAOQx', 'R_bC8zFeCOECeQoLL', 'R_2Sc9FDjPIA9bAkn', 'R_WpSgNDqMiTQbBq9', 'R_2vdfpws7bBQvHFk', 'R_Pu1VXgika7ltVDj', 'R_enYGm5V9IxeT87n', 'R_3Gp7rVhXxkvAErX', 'R_1mLDqmi31TNDe3h', 'R_3Hqo0vxFmqwNp9e', 'R_6QXHZZu8FDVLlhs', 'R_3wmEjGWxdcD15Ml', 'R_21zThcJoIUV31xg', 'R_W287USoWo4iJY5j', 'R_ypyzcb91YqxUEy5', 'R_r22HUqcPVVQ2YvL', 'R_vSUMW8bTrwsjdbH', 'R_2OVL6Jk1HIXObrx', 'R_2cnKQDhwzD9COu4', 'R_27W5hgH8OteHa4m', 'R_7a1PDvucXqgLvwJ', 'R_0D7BgjNMAybfOya', 'R_12uqzYbdDnsUsV8', 'R_1ILW8zqXR8iT67j', 'R_2fpu9ZyrlzUVtbP', 'R_6ojzSW5lMOtQstw', 'R_3ipRqbNvBuy7OAd', 'R_3HT7LlhpofEr16V', 'R_cLMrQ51vdeP61CV', 'R_eFiRExDbm20IplI', 'R_1GR48mQWX6tLLqh', 'R_ZmCWfIO7UnsR8LT', 'R_VK1qfhR1Q9z3BPb', 'R_pfqTAdDGzdhJ7r3', 'R_3Ojfr72QXK3OnND', 'R_3esGKxEtTg50DWg', 'R_3PAVGDJ5ChRyaJd', 'R_1Cm7gSc2pxdd4nW', 'R_3s08cFaVceWAnql', 'R_2sD6lZDgMKXoArD', 'R_1kFztitVdXUave1', 'R_2rYhQ14nJ9IFIlz', 'R_2ff9xMWcePxrP7v', 'R_2bPNYHTSsjekZUG', 'R_cUrIgufNXQTfl5L', 'R_cD59KGGW2M3dC98', 'R_yImNkmRtbffPiPn', 'R_vNY7XmzZgfwy7br', 'R_stDw3USoSIb8ak1', 'R_scWK1gBATOthUfD', 'R_1lfQGdPy8yMp4Ks', 'R_3KZOKnPM8nfPiQx', 'R_1liWulKeoZHMcWF', 'R_2y8UM1pfrwQO7Zv', 'R_3HjXUrB775f6nT0', 'R_25Sd673che5dStL', 'R_4JGQyH745dLhjxv', 'R_sj73LlUI4okFFbH', 'R_WlKp3oJrRHnBSkp', 'R_2v1DS3A1h3cWIKE', 'R_3Dj5unX3rMtS891', 'R_1difDfnOcHtBZ5o', 'R_3I5d3bbvKowVcNu', 'R_vk0RkSiT45uMWCl', 'R_3KZwZg88RofUCJU', 'R_2aLI13gVGwp1AkS', 'R_1rkVmon8ySDI4AY', 'R_2735HUPbEm2Umt3', 'R_1JVqLaiS9BZGBUN', 'R_2vY52YvX2ABEHEC', 'R_1d44RCTcOS4wIPF', 'R_3DpREQl00HtB3PC', 'R_1jHgz6cbXPLMAAM', 'R_Xwaz9ASLpZaFRO9', 'R_eapzvNC5PQO3qCd', 'R_6xU10iuZNQ4isJH', 'R_urVOaXa9Bwi70QN', 'R_1QN2BzjOks3r4Aj', 'R_3DpfOPjwC7NvtNs', 'R_3s4a3wX868Wppom', 'R_ZK0thOCUQcDZpoR', 'R_3khTDG47SmUGsBe', 'R_2CvyqpCokBhCauf', 'R_1es2RvmPuz9XwoQ', 'R_2uVRz8sUtOEvuiO', 'R_bEM3scxavtiRdWK', 'R_ehebNRhgNpLE1Ke', 'R_2bI86klCpOyiEKl', 'R_31Huvab3mfsHxIf', 'R_5vjEVaMfqKAMQM1', 'R_1QtMhO0DsoDZkWh', 'R_Qm29BfWLafhn0gp', 'R_2zYcq4LusbQWkSd', 'R_3ix2jwhGaOfvzGS', 'R_12sQRox9hXCFdGB', 'R_1NfymACXdG4eugY', 'R_1QGenxo9Hts60kT', 'R_3HiUszxSPOulfQ6', 'R_3eCRkujLZVnDWOG', 'R_28YfG2N5W49d533', 'R_TbixrlBNtf158qZ', 'R_1Q4LOL5HCWvUvHn', 'R_1eFU2ZGysz2nNLS', 'R_r2zSMuiajCLUnAJ', 'R_Y0lxyKeuMBRTDod', 'R_3nuYMmN9OSLrUhY', 'R_2b0oZ19QGc0lIL7', 'R_UsVQT1MMcMzrgVb', 'R_33l3qtkV2RQkK8I', 'R_2OGE1ocOxw4H1Po', 'R_2To7nag91YD8YFm', 'R_vB3WwMyjlyiE34d', 'R_3j9ukdE87dFUwm8', 'R_4YDQwmi3Ce5jucp', 'R_1eEsMl7aN7lbOeT', 'R_UYm08vTSHGL7MLn', 'R_3HHQ62RDTqX6x6q', 'R_1H6K0SDYYpgYh4A', 'R_2ARrJrKuCHl70HO', 'R_3iIG0elZN1FBLFy', 'R_3s0K4aoKPfrLtnh', 'R_1iaIv14lPMVM6Ty', 'R_1S3XOw3Clc39w1b', 'R_2xQ4CYsRNzmgWGc', 'R_2TREvIlezVgb45g', 'R_3E9X3QGeNjfOUW7', 'R_1NePXdIMWTcsUrU', 'R_2OVYxy8GZMkYYXY', 'R_2q4amDXZT4Gg4j8', 'R_3gWGp0BRxihOTeN', 'R_oYpBMSwO1NbE5fH', 'R_4J9g4Os0cS4iMMx', 'R_1d5d90vT6y6kvpk', 'R_3J8h1XAwPjqttYv', 'R_RmJSDMbgindYQgN', 'R_1cUEQtMC3dfvlss', 'R_1qU6PQDZG9PlLUk', 'R_12fpRjULI6nbUUJ', 'R_1Ibbv3I9zfd4hgI', 'R_qybhQHrnrixK5UJ', 'R_qPyhjPKQm7cXMtz', 'R_1KrOejpOdYoPB1k', 'R_2uwbtJ58nKPZs03', 'R_3HjcMYUjAwXcg4m', 'R_1jAPOrPAmwRxEgg', 'R_vi9jpuiFMpw4Tm1', 'R_u97hGLKYtJJa90J', 'R_3ltCtcS1quFuiaH', 'R_1N99ieS9RyFZcr2', 'R_27w0XzvICoQHku1', 'R_1OWhjwCVmgOt4GX', 'R_1ePJ1wkeUkJqtcO', 'R_DPtd46rC7OQvmud', 'R_2uPTwykQBiviKPo', 'R_1exGQyZumIH00m1', 'R_3FIGDgARcF2SIh4', 'R_2rV0y6VGwdU2lIV', 'R_eysx5xlHr7CV8km', 'R_3szAKZVGQNy7SA0', 'R_VViLpholzRqtBv3', 'R_12lFIO0XLn8NeQA', 'R_XYqNAASIzWqVD21', 'R_BsRL9MLSmUeJH3j', 'R_3EX6mhobihuHsWt', 'R_2fDvwAaelAwtizx', 'R_294WFiQrUMh1dui', 'R_2aY4DRbnWHCYxPs', 'R_4UsLWuVnDZkXMKq', 'R_3QDDEABO5zKnu51', 'R_pir7sXxTDzmjc6B', 'R_1dLTVL6NQXVBzQU', 'R_32WVXTMJCBB4M4x', 'R_3HRiBqn2s8RxXZA', 'R_3JqhJ6C4Rn1TLxQ', 'R_YPo2E0SprqgKsuJ', 'R_25Re5CsoI4TRgB3', 'R_3G6xtx9dnKb45Fg', 'R_TwlW0hBAbeiVo2Z', 'R_2QRuRikWinyQkW1', 'R_88iPdRH6cpXznaN', 'R_2YtrYOfEnMfs514', 'R_umRdiDcTYNDshOx', 'R_QgmWAtJySqV186l', 'R_7VRC0AfCf7s7mff', 'R_1InhC5wqActc5y3', 'R_02tV3eEANxZpeRX', 'R_8HridsfLBYiwYcV', 'R_1LBnSmfIzRhDBN7', 'R_3QJMHbwSOoLUOil', 'R_3R2Xqm0jbwr41KT', 'R_6l2yrqmD4IKyVEd', 'R_3D0gpDZVa2WjQXb', 'R_2s5e4GAdYfciS3v', 'R_eR70piJQQN01529', 'R_WcbkhVwXpX79Otr', 'R_27gtK3kBTvQgpdS', 'R_2R3c2E8twbA0HK7', 'R_2zx0Cdj9yZ9RFbp', 'R_z9ntxK11i3AHcnD', 'R_2wMnVlcDFzxIm1p', 'R_ThYMHTWnX0KsIal', 'R_1DSZX9zFYYJ9P40', 'R_2yftzgTYd2Ft8gY', 'R_ulASALXTwRWw7QZ', 'R_2aRYYS7PKp1oS2u', 'R_2zeBfsxO5GRA9De', 'R_tEbJEOpr9bKMB4B', 'R_xz1vnUuXCFIwVAR', 'R_1qevpwrV22kgFZw', 'R_2yqGk5nFjX4ZJwn', 'R_2tmbWoF2Z4hQTEs', 'R_3dPQhtmIsOOIZUa', 'R_12fCDEbkU1NVG0W', 'R_1H1U7AP9nIachUF', 'R_2drIdM0TQKcC5sb', 'R_BPu8YlCnBpdZaEh', 'R_2qCc6kCRC3cyza8', 'R_1QYQkNXYw4z4WVH', 'R_1dGjsRFNDzk4mln', 'R_24oV3j696tcl9MZ', 'R_1BOWlOAWwsRQMAr', 'R_1Eim7vZBGH6Daho', 'R_2uqcoIVbndc4PQj', 'R_2vl7DCJZsUMSE0d', 'R_8Ce13f03galYTER', 'R_3PmCtTis8qBYwY7', 'R_QiGc7bPuA29zi81', 'R_1iexDM87kJN0TLh', 'R_3stPd42ox6k6ZgW', 'R_b8vd5xDynMxmGnn', 'R_d0DzIukkdz27Kox', 'R_2P054A6ypGmTaVd', 'R_23dGQTYICjetF0R', 'R_2tbscLODIHqprS1', 'R_3F36pnOuVg4lgQQ', 'R_2ByDlVAb4WE4o7h', 'R_3G8POcAaUnPKwew', 'R_a5gXK5jDG2CNDdn', 'R_1IdbrB5yw1tMheW', 'R_1fZ4D2JpeVltEjc', 'R_2zzEBYvvF5CTBLm', 'R_23V97Zaa3ebFPSZ', 'R_1pM6GUH9XGgT5hg', 'R_1NwwV2D5BYTVQ7j', 'R_1NgNItBVFBIf0mg', 'R_31sYba1O1RmhTqv', 'R_efA7CVKyj5yQ0ia', 'R_1NkcHsRgRnCbdam', 'R_1gOo1TyFEcrjls3', 'R_dbDGtCF3No0oGjL', 'R_1Nk8paC6R9akhGv', 'R_tPC0BJAmOxB2af7', 'R_2f3UIOcWjHq1G9P', 'R_22QSZUl8zm21Vqc', 'R_6gv9uACsquqBoIN', 'R_2TY4k5yyx5874oF', 'R_2QYAp8SCsH3QyVV', 'R_2zYKpaucjmacjpp', 'R_2VqhGHFu0L6mFjg', 'R_SH95JXYv5lqgd8d', 'R_3nVpVPM487BhqRy', 'R_w0fHmeZqEqwLq37', 'R_2tKI0b9JYy7sczA', 'R_22xDYhTPIrAAYA5', 'R_QcSdvzlxK5zEFix', 'R_2YqX9GhYStCkmiW', 'R_OBziema76Hjky77', 'R_1LhTVusGVgYbQuw', 'R_3rP3zdiZaANeCCp', 'R_27JqPREUmxVmLTe', 'R_1NxDlvhLrJ7ngkC', 'R_1JCHgQN6sZi214h', 'R_1fkn1UfoWjiiZxh', 'R_3063nrRcx5V2ENS', 'R_3iRbQLU0EfMeh6h', 'R_1FDFuptmTNsbu5m', 'R_1flWpJQhpq3IL3z', 'R_2UY1ldraiFqRArV', 'R_ZawvrJRk8uMlfYl', 'R_2v2BUdfWxVL8GfO', 'R_1Q9qhyKZUxrv0cm', 'R_1mPp2Foamvinmxb', 'R_d5MPobyyjKijEwu', 'R_C1s0qCi1Xjzs2C5', 'R_20T0Xd6INvoAhAg', 'R_2D7wBexgVoxllC3', 'R_3DlCuskbuBZPpgG', 'R_38Yh7Q7BFZ6b25b', 'R_3R9KqeJ2pcMYa95', 'R_2B3F47SeRSbCvIQ', 'R_3jcTFxcwfOQmme0', 'R_1QynaXwNQwwIqjK', 'R_2qvNKdceCgMgSkj', 'R_1jcvldxpLTAg4Kl', 'R_3JgFZplJr6WCdxO', 'R_6QclJXnDn3j4nIi', 'R_3HkmAJmD0r5xHgu', 'R_bvIx7ZsfeDcwobs', 'R_3RmCIsC1WYyQmHi', 'R_aVuVaArvVUCfxpT', 'R_2VwOKGHKToBLjhJ', 'R_OfjzgmG0E3dfiKd', 'R_9zPllRFa4wmth2V', 'R_2Qm7YHkSiR56ZXL', 'R_vIdx5J1CqI8yqLT', 'R_3jYRqe5ov389jVO', 'R_1rwY8iszPK5tGYe', 'R_1ltMCSeRSWXFrLE', 'R_3GwAXStWkCUhVRf', 'R_1NDfVLhkmXFOWSr', 'R_DwbkJJRX099Lh2V', 'R_3s4TAWRES5EQjn8', 'R_W9iDfB76avCgK53', 'R_1pxMCCZWT9pkqHI', 'R_5bc6mW3HSuR2cYV', 'R_3LbtQHH54TrKUVR', 'R_8D45sreYcDKRobf', 'R_22E71U0H8ZCYVYk', 'R_3P4z8QlxrIh83tO', 'R_1IyZPg2r4nOVLdQ', 'R_3ERwwP0YtVmzJJR', 'R_2BmRGDfceTP3p12', 'R_1JCThz9V8ZUKQOS', 'R_8vpPtpRN2w0Mfjr', 'R_2ruUJaSXO6BwFee', 'R_ea4H08XielIbRCx', 'R_2rw78fDEMNtcaz3', 'R_6JMzzUZlLlKsFbo', 'R_2v07A4i1WoCTG30', 'R_2doPxnm4XtYc5UA', 'R_Oa7nnKhZpzAurdL', 'R_3pmv2dawSwACIM4', 'R_28AQRrFw8VM6RJf', 'R_pLPtb0K9jn91Ofv', 'R_1eXk5tRm9ANqsIz', 'R_ulwLNTjqfkl5NWV', 'R_27NiLxE6EVg4Woy', 'R_1fdAMc9yDSdoBJF', 'R_269EJi0hgXhehkd', 'R_s6bQUskpAidhua5', 'R_2urCrS7TxJj9ptf', 'R_1hExCPGhYZ0YQUW', 'R_10ODN39aWLldu7y', 'R_2t4iUAIM1cB13KZ', 'R_3GuDJOeGiBYQgz1', 'R_8iFVOsFwyLq5zqm', 'R_d5PufB7GcfyH1mN', 'R_1gBEemepNzibWDg', 'R_STy0LAAiCW9jynv', 'R_1LeyOhMeBNOsOWk', 'R_1lshi37rdUnedGj', 'R_Zl8uk6XxrD7etzz', 'R_2X4MJhOGffNlxO9', 'R_2vksz9n4zQkTsIB', 'R_vUgPiDqlOsDBPsl', 'R_1rJnXnAbdYrrTts', 'R_Odk9GMwNxkSCTO9', 'R_ZfuTqixWe0qI8zn', 'R_2Pp82oVXdrx2ELv', 'R_8u1CK7ed5EPPD69', 'R_2ONgpGup6oKaFIW', 'R_SDF6DBUZnpC2irL', 'R_8czAvo5ZkJprD57', 'R_2R4EjItTcqz7Wph', 'R_26o2nkPLjQ0CfPS', 'R_Atlt9gNRhevZEbv', 'R_xaeff0aVpZaqR2N', 'R_31Mg3iomuYVF3aN', 'R_2Ybrxy4K04zNITC', 'R_3Q01ZXIr21WKSng', 'R_2ZQAfZJBo1L2jAg', 'R_3HH0u1xKkXaQvrC', 'R_1QB0aVkp9zphSwi', 'R_0MPn9nluT7l14xX', 'R_22u0zGOFpJfDNoO', 'R_cCmvpfqTtD8JSxU', 'R_2hNP63hY40xs970', 'R_2D5FQ7Lch77TS5G', 'R_1LUn1Cmlea0hTfq', 'R_216Wq2uFEgON0uF', 'R_3PaW26ibX6RTMd3', 'R_1hZ3vJsRsVyI0RR', 'R_7OjIAXHappgIXrX', 'R_2uBwmvyCRowRtOb', 'R_vw8W0so9nzrKIzD', 'R_2Y5q0kPJADDCwFT', 'R_10VJwxVAELKQf8a', 'R_2rxcxNUhtiMubgz', 'R_12rtG36H7BY9Cgi', 'R_23duGgQQYRLVzHZ', 'R_24l6vGf01B1xR7K', 'R_8cWZTEL6KDDoxj3', 'R_3jeenH3urPbskjx', 'R_2QWmfiBhIOskbLI', 'R_1F9437rndWDkA10', 'R_Wl1PGqE7zrZMmc1', 'R_2PtgiASUJ2XE8bi', 'R_2asiFDrM2aBtn16', 'R_2TBtzDnIYOjCg55', 'R_11XtokOQxtvcxma', 'R_sMvlqfKC8XoML8B', 'R_vIzdzwRAPiuc0yR', 'R_2s53BjR76gCDXPZ', 'R_1mVJ1wdJxE8kmDY', 'R_2zIK0cn33bHaj7y', 'R_2ZQaglGwwHv1q7C', 'R_1MYgHKHD5mzY0MX', 'R_3kGlWkFgi69Hwcx', 'R_7QYlDFAWlM0QcSy', 'R_2EbOBLiNt0S3KTW', 'R_3DeBdFHGO60rxNH', 'R_2aqNYLACKwj1rJs', 'R_3LclSACMfASrtZk', 'R_3h6GKZGsdkBG0A9', 'R_1I5a7SDaEbmKVUa', 'R_1F8tsk2RGblCvN4', 'R_XUmQn78wvVqsuU9', 'R_3jW1M6CFxbDqBcP', 'R_3kHc5AbErtnWX96', 'R_QfUsDHppxNhOzw5', 'R_7TLrETDdjOlvQhH', 'R_3qjnv9viJKHFVGy', 'R_zZFtkzaqtYYjkdj', 'R_1PY1uuwLC20ssfj', 'R_3jd0hYcexGXRt71', 'R_2tEuZxuHUu7Rj6x', 'R_2tb1BUZ9ahjjwX1', 'R_1IcJsDQi6lADmgE', 'R_1Qm9iptStwjkL0v', 'R_pJyFplvNpIlkiKl', 'R_1lieu7OQMlgjmcz', 'R_3CDXNhm79Ur5YK4', 'R_Q9xcodjaPiBVDEt', 'R_PMrz8ScJzG6stDb', 'R_2pMOAd3Y5MvRQ70', 'R_2X4HpkbHWyDysxJ', 'R_2EskRZwBNUMxxAh', 'R_1q7FDN67YGlCViz', 'R_1pEvMYK7knGQ7iQ', 'R_cZOpCTELxfvEEWR', 'R_qIbqoSqA0QxNjFL', 'R_001Hs0FQGRmsHJk', 'R_1etv9Hi80cuM03x', 'R_2bT5CtzLYFF0lId', 'R_3j6BAuQAE5Kf0aR', 'R_6gxmXRmQhkaw9sB', 'R_3DpAgpYPNzu0h6G', 'R_XO1AYddyPnEdRM5', 'R_3jYSUhoVV5VSFl5', 'R_2ziqnw5ug7Lnfdu', 'R_2fjKkbWkyOEJb9d', 'R_bKsHjFJWoCcyAqW', 'R_2WAptBpOiB9ogW5', 'R_XigQ0SDqyfsTxy9', 'R_33yx6eFBZFm1g3I', 'R_3PbnRJDeFfl22xG', 'R_1mR6RYELoFh8AkU', 'R_3iFpgzzFTvyUsD0', 'R_1GZhWzMRNdLZyNk', 'R_u1w3UCbOJnP56sF', 'R_sdH4zdGhqMvkkEx', 'R_3n1QsmhoSttb7JM', 'R_1laVcsHWqFqbMPa', 'R_0VcNz7mPl1FVqzD', 'R_2CvmU7XgrjCJnsq', 'R_31Fe3FABY5UA0cU', 'R_2CfVV8V7JRc15kF', 'R_9SsH1bPMjcaKwp8', 'R_UFpVC2JAURTmkZX', 'R_6G8XQR7yF14ogFU', 'R_1DJ6ESOdaG5R38x', 'R_3sbsmWE9TAkJ6ka', 'R_295LSVoEUP9avIP', 'R_vHc152PMfSesqoV', 'R_Z4PGfA342Cb9dNT', 'R_qwMV8H9fxbyNTeV', 'R_1gwsd5jAfs9xKo0', 'R_poVQ8eeqHG0Ag7v', 'R_4SogpdM36NiJvup', 'R_3gTxWaEOdEK81D2', 'R_2WU4EPW3pMoPPB7', 'R_eQK6Fv9ruawDiHT', 'R_21oM3GlHbjAefGv', 'R_8GLF87BUnHKmqTD', 'R_2S6RWm0gSRmFas9', 'R_1OOkZK3aXNNxdnZ', 'R_2wplJBhEk0PFEMw', 'R_2Ya1YnGV0vDmr6N', 'R_YWRMcNd3qrlxNfz', 'R_1OVs4Yzq3aFaLZe', 'R_XGJdCdOzRtK45Db', 'R_3qHUAaey3c8MM4K', 'R_Z82Oej7zHz9Y7MB', 'R_1dK7W5XiqF4zZuJ', 'R_2CeOLTy8tpONUzx', 'R_b8jpPat0lvsQXJv', 'R_1Kj1KkXOixe5AF4', 'R_1jOO42RN3jDTrYe', 'R_PMTDk1gBTsrHWH7', 'R_1MRMdn4Ltfipxue', 'R_vpPntbfjmehtKdH', 'R_V37pWIqbRljaxsB', 'R_1IQuJMX1t8VYb8v', 'R_3etsLTFyH8Jo02B', 'R_1do8dlKB01CdiZb', 'R_r11k4GOFyjtv7Zn', 'R_cYdN4QZMDGcvB2p', 'R_1DnVChyeTJQHZkp', 'R_cuoiXrN5mgLU253', 'R_12Fvkd6A46v7vCr', 'R_eFeEndUIs8D6Dvj', 'R_3PB2Vqh6hh996IA', 'R_2wdkK7iuFnzrFjw', 'R_sXVQLKom2fA3SEx', 'R_xuBGTPVWcahF13H', 'R_0MnGkWVAQT8kXS6', 'R_2ea6mHKnZ0ecYS4', 'R_1dnvLxhaJrdoerh', 'R_27kQl2BOyaMTBux', 'R_21uLhjUcglRvzB5', 'R_ODRyvxUqXn4WN5D', 'R_2xyqKdDff0mxZ5T', 'R_Z82Oej7zHz9Y7MB', 'R_27K9t2qjbiSiqAS', 'R_1H833Sq3P0X8n0z', 'R_2zqDqg160olaoo7', 'R_6yw3R6leAE5mrci', 'R_a3mEMasJYhOFAy2', 'R_1rJk2LxRJynD2ka', 'R_2zvbP9YxNAd5Ezg', 'R_1qaDYeBP2rh3R2O', 'R_vBRvipfDYMYHdm1', 'R_1IurGmoAKHwxJbV', 'R_1fdNQdKAmpKsHbX', 'R_3KCUQv7I1yZRV6P', 'R_3gZzUlq34gvLcYw', 'R_2uWMs0s4se9X5tB', 'R_3fos1UVaZUfWKHg', 'R_33xxwp5h9fCeOY2', 'R_eqyiBXjQMSh37jo', 'R_1oGrKrn3PMjYZrN', 'R_ZIg9Mhvvu1Z6TcJ', 'R_2bNoYgA24w8wyu8', 'R_23Vjum6lLbWJepj', 'R_2vetfzbPZkDlY31', 'R_3nMdsTtk2oeVOKe', 'R_2YsmNNmIYG99l1B', 'R_2sQF6UAGKUkJxgJ', 'R_3kneh5jzQKHqOZO', 'R_1ib3gHJQGBpXhfR', 'R_3F3whtQrASHExha', 'R_3O2BxXcpAh8T9cR', 'R_3D2DsF3eKkKT6XF', 'R_3kudAgXJ4VB2PB7', 'R_3nwrX7eMR7zguMn', 'R_3JKvNNOe2Dba0pt', 'R_3gOz5u4Hs9YkSGa', 'R_2Qm4DjvFE2Om0P4', 'R_OBd5rdPLWtlNrbP', 'R_1jCws1wCcM2mT5s', 'R_21jmeWQ1Sc9H3HC', 'R_2scAOul8pUpRap2', 'R_3G6uTlo81B7lmre', 'R_2Crbxvy4vzLSclj', 'R_1K1sEGf4Q8s3qy4', 'R_3lRGbga7TlNw7M1', 'R_3maz5rVc4JzuSCZ', 'R_d5MtJcS3wGcuzCS', 'R_ze8xes1nmjurQch', 'R_AB82DZAM8B1jQ7n', 'R_2CCm5vM16voRBPU', 'R_3Kxp9s9PVtCOiQc', 'R_eh8hTQOAEPoenXr', 'R_3NDQywXkghiwpXK', 'R_9tNbeDXMkxuXmZ0', 'R_31Mp35mfi6967mU', 'R_9LA2lkGQdWscmvT', 'R_3htnMbiAjL0Ohvx', 'R_xxOCvLu1ir0f5Sx', 'R_zckxPB8JPr4k9s5', 'R_22zgxnlBwSjmnHs', 'R_Dd6xLTVfR88O4b7', 'R_10oQgypKypDlyRR', 'R_3iRx0Xetb0L7j4g', 'R_bHgrVvuQNaSSx57', 'R_2YrkBURpUImSZMB', 'R_1MMzZlagprQEkKJ', 'R_Y4dMmKY5wZAtMmB', 'R_vNBqCsL7Nwz4YMh', 'R_UJQKxFDLcqF8ydP', 'R_30pjF4T6TkXVbh3', 'R_2S7F7je3r9m81MW', 'R_wXosdw8QZOThl97', 'R_wSICTOhlPQHMJQR', 'R_3oTOTmCamQ7hkWB', 'R_2zA7JFflWXgF6tE', 'R_vDhiEhm6HD3y6Xf', 'R_1dLBjFL7LZWsdt0', 'R_2P1n73nQ7vu4A57', 'R_1LbVf8rFXkycgxy', 'R_3gNtcAWAt1480MF', 'R_RlUnjV33RXMzOXn', 'R_xia7N5dEIHayfx7', 'R_1I5Y0liS8oEyoLX', 'R_3Le9YQq1iJ9LAxc', 'R_2AZhLV4U3CX3Srs', 'R_yx5iKjegyQiW2tj', 'R_1QmjtMujvhIyXIh', 'R_2CrnhgI4A40xKzh', 'R_1f3rjt0LlEP2Iwx', 'R_2affeEEJmU6Iw8q', 'R_1112Wfl6wvBT6PW', 'R_0CiwHFs9mWNPA2J', 'R_27veGqJZxqUViLM', 'R_3qdLv63BV9R7G3x', 'R_27U9XBygVIFA50w', 'R_295PmDB4MhIV8cp', 'R_RE0vGdiR8uFlKFz', 'R_3I9mHVV1093tCtq', 'R_3Jz2FrRUifCtf2k', 'R_24N1BXPgTRkct7O', 'R_6fhMQef8PKb5pPH', 'R_2dR6bkd54tibET0', 'R_VJ4hnLop7hhW18t', 'R_1hXPZHLtyfqe7E6', 'R_sGrfrp35v0Dj89b', 'R_5sviYHRNKCzzvKe', 'R_1M4jl3LlvJn7xaF', 'R_2WYItIIe0qB2z4a', 'R_25fVeeE6qknwbCS', 'R_3F3fbscF8j6pk95', 'R_3oyVvOLlXR0oiGt', 'R_3PtMD7MU5v0hwN1', 'R_3luJbxpkmUfqagY', 'R_1LTKktMxUjSJB2r', 'R_2QMV7pUyFSy3fhz', 'R_211m3kNhgQ8b9Td', 'R_2WOtpA3QLeRkr0Q', 'R_2VJ66f8q0mZpten', 'R_2xLEbizF7gZtbUO', 'R_2VyFnyE1TVa9Ofb', 'R_3svsMSzSM7Mik9F', 'R_2zpPTwTizBQMd0r', 'R_A4IunQZzH8bdSgN', 'R_30kF0PiG2dBrWCq', 'R_2cvx0FCYzWfSSMV', 'R_2e2NH0ieTCCcFDg', 'R_3hEFqhhpxzxWFrD', 'R_1feECVuIjDMtp5S', 'R_1cZ0rODcrARiWVd', 'R_2AYCs5LfI7eOUz2', 'R_2U41iIGAGVfL7I2', 'R_ZsodnaG0PBzEPn3', 'R_ThCt0Izv32fMb7z', 'R_2wM5uqJBHzYaUQB', 'R_2cijMrDxVDyYOQu', 'R_1hXTy2pQdXhfJem', 'R_1IiMld92H7HQkKW', 'R_2zCPKwQkvce4ggf', 'R_1mW5z6iEGpqHbVG', 'R_2wueOAlxJu04eC4', 'R_BG4e3VdUIbvhuZH', 'R_22lxgL0ZfcaNpdI', 'R_1l9txoucJnAM3yK', 'R_1iljFx9lVDHCwhE', 'R_26m7VnZhwRW0JAS', 'R_31BsdzPOAmosP47', 'R_Xn9w0J3UcR1G9hf', 'R_22XHKfVHOIvkDrf', 'R_3UArkCAzlfCrrWC', 'R_3HTbF7ODP4XfIVf', 'R_3p5VachkaFrq5fo', 'R_3g7nyV6i95sexhc', 'R_xGIjChxRjQY3mUx', 'R_WwX2gnEOocdGqRP', 'R_1lmHfDVd1XMcMSB', 'R_3BDgnToYTOYPtVs', 'R_sY8uV7aw1aeLwqZ', 'R_2U5g3Aj8pg1DXp4', 'R_3lxWsrtqcqXScpV', 'R_1CHAM4vpIpvHnD2', 'R_Q69WIATkkqwq7yF', 'R_1Fy5SsVdPm8WyxK', 'R_1IXWaMSQqNjZYLN', 'R_1N4WWe2yksdh0uv', 'R_10ZYlEVMfkq4yvz', 'R_2OJWNzCZBMegGXp', 'R_eaCsXT37SApgRNL', 'R_2fPX2dkWmUSjNe1', 'R_33jnoBJeT6PbquX', 'R_1BPHd869aiMJvpU', 'R_3QJGkgYfWFLGu9S', 'R_3hrWp4BjoGerKbS', 'R_3QEFYVeusZ67DtC', 'R_5otbrSgWH3RBdpY', 'R_3EA6j4y1uO4NScs', 'R_3EZu8YuANheVA0s', 'R_tKtULLTW2RJreyB', 'R_D6R5WWiKVUpELO9', 'R_3lS4PdPqsM0hqjA', 'R_1jTYr83P9YXVw1E', 'R_3es2qi5pgN4mNUg', 'R_1pPuhkFTRqUEoFJ', 'R_9WAnVWNPdhSOAed', 'R_28N9n0WxJ6OhNXS', 'R_28OFcEzXWXunzfE', 'R_3j6BQJDivmq7lEO', 'R_2pLZCmHF4MzFlZg', 'R_1JJCJ2aoqkfb9P8', 'R_Rt18EjRmh4COrqF', 'R_3jZMROLMHjdz9M0', 'R_vHPCa5OQixocEdH', 'R_12u3ajxY96GS4FQ', 'R_4UaVQMozremhyLL', 'R_9AM0v4iueuBNmDv', 'R_2R1ZYUrIau2v7cO', 'R_24pVKZPkwygCn4d', 'R_2uWYm4EDbzTC6qT', 'R_ZCY0yUDebjZfIRP', 'R_1ob9lkKUnSAIhh6', 'R_2Ec0qK9xybCQVHK', 'R_2riPIFrUygAmqPD', 'R_3mk4wb4wxZNYBOy', 'R_1cYQIzElpWn5SoS', 'R_3s1xYd4p8RzVnSN', 'R_32JWVzv5ELBL5dy', 'R_1nNgSWL8v6nywQX', 'R_SJIraoo44k6GJpv', 'R_1M4doFFPNApw390', 'R_3fkgOURumL8myO6', 'R_AhYd5rOujMqmbU5', 'R_ulSsXGi7em1CZ9L', 'R_ZfP27sNvFuAYh7r', 'R_1Om134W4qEFnU1o', 'R_2E66jmLFZLzGrXZ', 'R_1kREkGdBhOnU2jn', 'R_3PgHhr4dDx04GoP', 'R_yOv0hPOwtKKyH1T', 'R_4HKUWCr3WyBIF8J', 'R_Dxh5H9IWlpL2ugp', 'R_3NDubq5EXhksv0X', 'R_su24wHitFcHeeQx', 'R_er4S5AHZdRviaEp', 'R_23ddScCPtmBYpRd', 'R_3oNuem6nnhI1JNf', 'R_1IoNLHNeLYb6pSw', 'R_3PgUFJQ3afESiha', 'R_1cXMNFjfChmpqnb', 'R_PNyVBjnkIQf8bW9', 'R_3L73WswcIUWtOoR', 'R_1iafvo2rVnLXmwY', 'R_1EZMBI5P7umpMOC', 'R_3fkgGRqsbtDvHKW', 'R_WBxHh5KfDJjo0CJ', 'R_3NU4dtkCXyn8MGn', 'R_3Rfw9QKQcyy3BsU', 'R_3k3ubEsk8i3nR1D', 'R_2X7OJyQP8T2U9py', 'R_DAKd3AfdwQqUOUV', 'R_RblyQc9v0WqUe4x', 'R_3LkeHDqs87Xk8Rl', 'R_szfEjBjOHYusHex', 'R_1CwpaYMFF599LIN', 'R_1rIiTPsEZ9UrMg1', 'R_UmXxFMkGITHIYW5', 'R_1r8rFMkut6xZjbW', 'R_AKyupgdMw3czDHz', 'R_3meLzl5Az3rrYdT', 'R_1PUctb3U85fqBIR', 'R_Q3TNkdk3n8SDzix', 'R_3OdZKntaK5BEBNE', 'R_tWB4PHkKOL7ZccN', 'R_1pXdkzMLujUk41i', 'R_1gV1GOV4f0wMTXU', 'R_DqpqP0KeOqBjHbz', 'R_vq2lKWEX182r9Gp', 'R_3irOxILFsaFMUzG', 'R_1QnZ1kSi5xI8BDy', 'R_eh5f2aCLfvX80Uh', 'R_3qKxNsDz4Xp5HNt', 'R_23eqs1zeNH0EDYV', 'R_R81I5DIm7mdQiJj', 'R_3KVZE0bDTzK9i0F', 'R_AiKqUec87CyJ3b3', 'R_1MWnCsuXwlAHtej', 'R_1OiAV2KhTV9MTNU', 'R_9FuAnNeDDHu7BRk', 'R_d5dSIBNkHuowIpP', 'R_27dMG2Gos06TzO4', 'R_3Ood5e1bUsS2uIG', 'R_1H12oEtNXw0tazc', 'R_9Mu5PRkWehUy6JU', 'R_24ZW3P6LqBhATu1', 'R_835V1DVKXELcz6x', 'R_3KOpQQ5WFZzkw5M', 'R_1n2bi9EjMqu5kbM', 'R_2D0peZ9IRzUxn8M', 'R_r3HfOqzV0osk8b7', 'R_3G34uxIGtuLaLqb', 'R_3OoZQFVMhEUHQLO', 'R_2qfu5CAvCxKiNa0', 'R_5gr9bZhDl8ndYdE', 'R_1FfdN8emvbsqF6h', 'R_1ilnkH4Pmez7uMk', 'R_3fUBSnW2X24MNUi', 'R_bpCHT8nMCJc9tjb', 'R_27kcTpSzxgTzXRv', 'R_31zpNW4yCcPnJS3', 'R_3EQhqVwyHjEkxH1', 'R_d5UmVXA1vPI1637', 'R_1gnYsCl8ECtglSy', 'R_3GfXohEHTOpYefx', 'R_1qUHkmwmlHovuFz', 'R_9st3asAj1UwMsIp', 'R_XSwXiC9LgilhuVz', 'R_2X5SlEAhUmaQg7T', 'R_VU8WK9OAaH0fXMZ', 'R_3gUuvo79Fan50Hm', 'R_Ra9CsjcJal8WtsB', 'R_1mzqnEi5uq3Pmiz', 'R_1OUNikTa1RaZz7W', 'R_eP2bU9txi3FMElb', 'R_2R3S4WnaTRkCDO5', 'R_XGHW2X3ZDgsVFvj', 'R_2fj8n8kEtH45wuZ', 'R_31ntdKyDFFV8m7I', 'R_1LpxWVpSAkt3WMV', 'R_1mPgy7L1RxkQGSC', 'R_3kcUkvUhq8oR1jZ', 'R_1pojhyt3pdcTbvY', 'R_UswMq2A4YXRtGnL', 'R_1rJsKjHf2WNH8Vf', 'R_1jE3VyD07jQYXUo', 'R_2e9UcGn0ktPDUJB', 'R_r9F17BNCT9ZmZYR', 'R_1ikuFGzs50byN7e', 'R_PTFV0AJQl63km4h', 'R_z892f7TYtgXuXiF', 'R_1DOIjAlFfJYkS4v', 'R_2167rDW3WvJz1ya', 'R_2EDVTgCRjUQODr8', 'R_2qmBWfcMzUtoXPF', 'R_237zo4ZCEsKG0r4', 'R_22QhPV1ewMQJGFM', 'R_1LTo4KIvkLlapcW', 'R_1j9AytUnO4Ge9sr', 'R_3OT8K3IUAcVYisN', 'R_qI1wpsRxwmKJp3r', 'R_OvqKGp1X4KqB3pv', 'R_3WO1LtjRzUY8jGV', 'R_2ZR13qOnPoESwiS', 'R_2tgsviivizUoVj6', 'R_C94WEiv7WiSsfkt', 'R_2bPJfRYjuVxqhks', 'R_1ile4Q0ekIQB6pP', 'R_1MMmheIzkhzm9e9', 'R_Ry6FCAVyhlWGhGh', 'R_2CmolzoFXq7LqlA', 'R_bJCPTPNIwrgZdDj', 'R_2Pq8JrMWo1xoelg', 'R_5bc6mW3HSuR2cYV', 'R_3OpIWTqjRfjKM2O', 'R_274nnSruArlFGaZ', 'R_2PhSw6xDxkM3luJ', 'R_SQ4yAiyISOMtPSV', 'R_2OGEp8xN24YVzTa', 'R_7U6dC7bQIJRlYPv', 'R_27lrz7ji1UvCQnY', 'R_2xLA4j4jRne9zt8', 'R_1eRHttb4IM4nEDh', 'R_d9Xhl9lbSPnPhId', 'R_2R3QsTWSRAvKEqb', 'R_0331u9wB0vGOsX7', 'R_1jpNWGfHLHDoGqe', 'R_XMRGnRdn6y2YtZT', 'R_3yfplgpztjETZXb', 'R_3HOAfD14oDuHSr0', 'R_5cL3EwmI3rebZSm', 'R_1DZSP9jBhByfiZv', 'R_2TFeG1fEi0KdS88', 'R_2s6i7lb3g19AWGd', 'R_3RaQW3oTzJLd8Gd', 'R_2V1qdaGMemAJqT6', 'R_1pYYDqE3wdady4v', 'R_2VaRoA883jwfNIB', 'R_10H2EADDON2zoCX', 'R_1iqahQXpgqWWAzh', 'R_2Ce7XPGiUysyxLv', 'R_3DkxLSdzyl1OIf1', 'R_3sppEPSFbp38MUG', 'R_3oNEKxXrxlRjk2Y', 'R_3kuhtjWhNxI808D', 'R_2RazRlitXOUoVzp', 'R_3fObaVCKWRYCZMu', 'R_1NEX990By6yCwiq', 'R_22Y42HYHnu8rQZu', 'R_3EXZwp0BdXC12Kh', 'R_2vczES9ij8lUw7F', 'R_1EXSh31pLjfFiC1', 'R_22laQl8qK2D3DL8', 'R_3frzigrn70OvldU', 'R_2Epfty26zzbGeqo', 'R_1NyriOrho1M6GtU', 'R_3L59hiC7uXjwvXp', 'R_2zkVfL8TozJC0IS', 'R_2B9XFPIHg5laZZ4', 'R_2tyDSyg1CMLDTmO', 'R_2xPNLWlnOEY0nN3', 'R_3nobiKRzcoqWRaa', 'R_enRJ6NVfHolsfv3', 'R_2zMg0KdrJXIx4zG', 'R_24oMD11GjSS1RP8', 'R_3iycVDreGSI6PDR', 'R_8GowSRBGVjwwnfE', 'R_bQP5qMuh33Y7vxA', 'R_2bPgMpN6AoxwU2O', 'R_3lSIrx0M0ktXJCG', 'R_2TT5VGIOfObddNa', 'R_2DTucejfiDEiZu8', 'R_1rpRx9WSxTXYV4i', 'R_2cjEiUmgPbs9wZl', 'R_1r6dn60yACeJYPV', 'R_2A0AFYGF8RAtb6x', 'R_1n7NL1zth8hS75Q', 'R_2rN7JiVS6U815WQ', 'R_1P5iFuHdSEHTgoD', 'R_2f8Map6cuZDxfby', 'R_3siVqa4uUDHvmvC', 'R_1F8szsX1VmYiQj4', 'R_2dzgYIBKwlTGUfk', 'R_2Vr2IaqDCvlPEE7', 'R_UouzHbDCRs2q2ul', 'R_2ToNT8VSy9aeSQP', 'R_2QYQlpqGdenwohE', 'R_8bRShCyWr4B3BTj', 'R_3emcSIZLbjzFgp8', 'R_3ELLCu96EUUTMJ3', 'R_3hc1REUj9k9mgo3', 'R_ZlrMONAtlkMWWcN', 'R_29hQFSkQXQbtKBu', 'R_3HHTaXFR2BVIhWG', 'R_1eyQymfXNahazg3', 'R_0ARyRpHCDK3RoiJ', 'R_202D5wU13Cu30Sl', 'R_PBaKL09r2Bxcchj', 'R_2RV9w3WmYmQCAhN', 'R_1GV3P7f1jNGXVTS', 'R_3pffM9oOwekcduD', 'R_1ez0xnvFgrF0iY1', 'R_3EZu8YuANheVA0s', 'R_pistNmWXYErJa25', 'R_25AyZjZlpJA4H1h', 'R_3pgqY2bGBun4QCB', 'R_22yMuB3rR7JFtAL', 'R_1mEMld5vfdoz30U', 'R_qEhJeJq4xujtrKp', 'R_b77wiCNeexWDNAJ', 'R_26ezRZTfazAGfzi', 'R_3fj8K9YtwN5tA74', 'R_3hsgY4WNEfYkPoh', 'R_BrIdAOB8lI0bVSh', 'R_5apU2vl2pRgXHcl', 'R_A6wVaJRN3WYbxv3', 'R_2Qn7iI09vvXPnRC', 'R_3e1Qe661VG98vdQ', 'R_3oWRJBmcghjrwL8', 'R_83bsSMOfLYm3rsR', 'R_1rIyF9DeDCLvIPw', 'R_2YCWS45YPG8sYaP', 'R_2VvGqK41UgCYeke', 'R_3GfVWFdcBxfzFGB', 'R_enzWaeViYM0z9i9', 'R_RkmQwkkO5KElpzX', 'R_1DnC8PP01YhYIKN', 'R_2zedLQnPjb24DQD', 'R_9uJnA5nHBx8HwWt', 'R_1q7DOcdjlV12VZP', 'R_27pO7tRjZZHapio', 'R_OHCcUtmN5lSPgSR', 'R_T7qhL0b6VIheijL', 'R_8iX51BACq1RnocN', 'R_1nP0h8ru1pQh6R6', 'R_1MMoOW0YwX6Qz80', 'R_302cqPdwYAr6RfE', 'R_empdpSKaF70eh0Z', 'R_1otFBxKhWT4hltO', 'R_25tlNF7LjFhUCoJ', 'R_1LwfsqMnoWy9jAI', 'R_0CKqIk818WZmn2V', 'R_3G3ApVRl10k7h5m', 'R_Rx079qyT6ZHlLu9', 'R_2c1RNgxl4v0DCkc', 'R_1qXwZexYyoTviSJ', 'R_0w8poNG5WmU4gd0', 'R_0VY5EegVvFjvaVz', 'R_8i6Ix577moBkGWd', 'R_3dXERk2bLY9sYqI', 'R_10uA57uF3q2kyv8', 'R_2zO3zUKZanTzyEw', 'R_2wnbgr4BYKKM8VR', 'R_V4KbBsuV1dEBZVT', 'R_z2x6pXfOnwn7bq1', 'R_1i4iS4mI1R3srTd', 'R_3fl3rwO9RWp2Lkn', 'R_2lv3Eycf4O8AG0F', 'R_2Qntk6LRWfmgAug', 'R_2ruZxgkcKDSLfd3', 'R_1kIGd3NnorvaOsk', 'R_3HFSz7p088Gkcfn', 'R_1cZA7S4aXGOpl6r', 'R_qFtK5eCgFWXKPmh', 'R_2tzjWlx7RrKA4Z7', 'R_1Ed21Io0Wv6c7Yw', 'R_2TsLte4hOSY7FDr', 'R_0unZXb6xnJOS11v', 'R_1rJ7BFAkDuzM7HK', 'R_1onDEexIvtEkk7V', 'R_WiCSlxVZBdC11Jf', 'R_3KHfYWbwQ0SOoJt', 'R_3klg8BGzIuWdLGC', 'R_3nHq3hsmOWf7I4E', 'R_3CIcFJgMjiQ6v4i', 'R_1GNCbg8dOu9gA8g', 'R_2AXzoBJ0Th4xeKZ', 'R_1oegfah7WtJfF20', 'R_31H5j9EIOPbuTfQ', 'R_2y9LbdXwP0RYs1v', 'R_1FCy4ILoBoVaqVu', 'R_2y29osQumvLQm2c', 'R_27NfFtvh9wzwN1Q', 'R_2dR1WCdpbWt6WXL', 'R_1ImvMH4QjWXomI1', 'R_Pv3m0qUNyOjlLH3', 'R_2cnXhLUb3AZNsmW', 'R_r9HjEr0085dY3FD', 'R_2fv76NWlYws86Ak', 'R_1hL4WlbeDCL59OX', 'R_1CKNMgD5AnZwlDC', 'R_wXjoTABk2sBRfmV', 'R_ClDEqumQQ6xMDRL', 'R_20kIDHG8g5OJk8p', 'R_2uW1CkrsbPkbCr3', 'R_2CmhpueFQfv1UrA', 'R_3CNvdiTtiNemf93', 'R_2f7gbQK0KueFogv', 'R_3psVguXBDBdrTUm', 'R_1OJ1DTyXnv76bn2', 'R_5c1SoJF61tu7Som', 'R_2UaTadzhKi1RAsP', 'R_2CdJHKuuEd62nT2', 'R_3hiNSw1wwMJ8Ayl', 'R_2rZ3Lm9GEdRKwAi', 'R_1QhZMhHrxlo2n7p', 'R_3q8P2PmWRkspIoA', 'R_BP0DnIsXGfdP8wV', 'R_325CdTmZKGmEPg6', 'R_1JDSOf7IdtgOL3c', 'R_1CqMyhk8UECUaaM', 'R_2E0NTmgb16yFGbd', 'R_3CBEAaZnvEtJAPt', 'R_2V1F8nVZ7JO3Xyx', 'R_27OjsgmMM0kkCl2', 'R_2qpx4Fk6i2Arfqs', 'R_DjD5B3jIuYiUXWp', 'R_0jPF9irhDoqclvr', 'R_1mmfmmra3Ro5QOh', 'R_ptqKYoCNYTzya2d', 'R_1CjsWLGAxDMT6K0', 'R_3QW2uE9oj2ceY8f', 'R_V2Kk31TAiusc0SZ', 'R_0id0rRbeCiUFp6x', 'R_3LZ6eInKE5lCp7J', 'R_6JQVALw2w07I5lT', 'R_32KDYzmYoZErHX7', 'R_273aysuzMwCj3bs', 'R_C4tDd3sad47aI3D', 'R_2e8rNQPMCRBfL5W', 'R_1QA4EWPGA8HC2YU', 'R_AbXC1FY6scT3pWF', 'R_3KolySwa6y6SSD9', 'R_1dp4AxS0VfYxkyU', 'R_eldWM5WpSz7zuzs', 'R_3s48H18PKC7bovG', 'R_2CqxQl9IlERZNED', 'R_1dovhcXa4Ru2Sby', 'R_2bZAmnN81XEeUTK', 'R_5c228YlvGXypz3P', 'R_3yN3Gert4YUbQ65', 'R_3iJ7KDCeMi32lHh', 'R_wMk8q6WDVcCp6et', 'R_rjqiq30P6cmTgNH', 'R_2ffFJZXSFlqM2Qd', 'R_1JJi6HOpwJFToE8', 'R_2xJYX7WExA74hVh', 'R_1n8eO8or8NIKFwY', 'R_2PaNu6BXtKW1Gka', 'R_1CwKXw24gRiW3F5', 'R_9AhhwGXXV6MpKal', 'R_3DuQO2euA9YC4wA', 'R_2qvEEd7eHIpzH0l', 'R_3Kq4evbdUi5L64r', 'R_3MxQNLB9XUrxfUV', 'R_1JRDYxTcmXU1wxc', 'R_3j6Y1xjtZskITch', 'R_zcG3kPzDnsKEHCN', 'R_2VJZkYYRLUapYjt', 'R_1o86fMShJX5cGFQ', 'R_2VORgABQuBmXMm1', 'R_3GAE5HFPW1h46iR', 'R_6FJXSVYYTLADXxQ', 'R_vdFbbqETYFzIvnP', 'R_AoCfcZ1gHwUXteN', 'R_r8rblygAbUvfi81', 'R_6EDQSQH2V8Vts8F', 'R_1P8joYhroDa8RtQ', 'R_2thbJZb7d8jCcvb', 'R_bIZlw2No9YjR4Uu', 'R_RVOIGPUkeCU6ZuF', 'R_9pINirALHuCIO0F', 'R_2ym6hpxv4Ue3UJJ', 'R_3PAmjWvQp69Yl5X', 'R_3kpklGtBQCs4dzc', 'R_240443Xma2T9J7v', 'R_3QW2yI9lQ5MV6Xk', 'R_OlDutsOlDcYPeq5', 'R_d0AEyob2ypkCkUx', 'R_1nZ6TOqZtBQuoYS', 'R_1LTIrSaNtdqDNpa', 'R_9nwGR4i3n8DENC9', 'R_3O9woXFLI3PziZP', 'R_Z2UnikfeADnJ1Ch', 'R_1nVfSTPTEhlnZTq', 'R_RIgdtw02aJpgPjr', 'R_brRhrIw97gwDFjH', 'R_tPA9FedK9RKyiMp', 'R_sbflVw4oxH2ZKQ9', 'R_3JrOXDdSAaSnakC', 'R_2Qy9cL1CpuFcTcG', 'R_2dmXexkTWRHEVdr', 'R_3NzjMXZB1xSNMEt', 'R_3nNrk1balBOdQ8H', 'R_6yRYvIFV6xYF7oJ', 'R_1OuHpEMGIBETO4S', 'R_3dSmZPajBbPI5iY', 'R_3DjuagW6v49I5J3', 'R_1ohGkQFxnzHAp8c', 'R_1EWoqOyebFtRHch', 'R_1QuXaD4iBKZkj8W', 'R_3D5umQCLIigg47w', 'R_3iEFi1HiyOFfIvc', 'R_5Av6hiUrOwiOLWp', 'R_3PcwcpXoM91icUn', 'R_3gQrbHhhzCNrRHg', 'R_cuOotGq2ceKpCTL', 'R_12PcE5fOojc238x', 'R_aW3JlAU5Gc8BvQG', 'R_DdAE9V52eEbtKed', 'R_1mOYSuFz2ybaoso', 'R_czIPfO7KZePhzXo', 'R_1l4vgc3rChq5aVa', 'R_ablLLHBIbK8OXU5', 'R_1MJKfRxGMdapgcK', 'R_30waqeS3uoqug2W', 'R_dbeo5JnHVS2dYnT', 'R_55AfQ90V3RjyKsN', 'R_5zhah1sfCQl3GkV', 'R_2DYVk4HK504h0MM', 'R_1fknY5nXW4OF9YH', 'R_12RrxZyZDKKbuo8', 'R_wQLVoBnHikESpfr', 'R_3DuuucKcInCf9Uw', 'R_2qdFkg4Szt5cEHl', 'R_3s0K4aoKPfrLtnh', 'R_2vjqes0LFtLOW94', 'R_2f240LomvLMDkl8', 'R_da3a9S9PYPPAydE', 'R_3QY3DZpEBY3RGD7', 'R_1HdZbJEkFjceKSi', 'R_w0FLVCQr5gv1p5L', 'R_1Cfr8rUg42VM9vs', 'R_3g5D4FCgIITM5bX', 'R_bCNPZhzHr5zBVAJ', 'R_1mKPqcHJvetTHze', 'R_2WvhViKBvObMLns', 'R_1rihMCBgalgKpIC', 'R_3KpAXvxmT1i9uxM', 'R_2nt0c6uvI4DXDfM', 'R_2rHl6RRddMko3Z8', 'R_2cwsKlsfNvOtxYM', 'R_24AWg2lFxMB0TqN', 'R_4YhD1xEfHopYm4N', 'R_tLjRQGuMUWt6UG5', 'R_1gMI9QKNpsF5DRK', 'R_2asHrxnFvPHFgCN', 'R_1mgTgbsgxctUtdI', 'R_3ixIvINGm7V09Wh', 'R_2w7B7zcoYemm35K', 'R_1QfSRyG5Oe57ycV', 'R_1mgywmEZLisRaDG', 'R_5iIdxgkFBsHpbO1', 'R_1jm30Wd1H8cZwf5', 'R_2VxdJwWgB74L8nz', 'R_Wujfddli4MnMKAh', 'R_1l658ucYhuovcq1', 'R_3KZPH95V4sLs0SA', 'R_2wRhgLIc20vWsAR', 'R_8J5WdIsxjbdJJJA', 'R_23fc6hoO881K4yC', 'R_2BxPdrgzMy81fLL', 'R_3oF3OFOOPFn9fug', 'R_3J9IEZN4XYiC4tH', 'R_1plFn43hfPA8pHK', 'R_1PcSw8KgHnYzBLA', 'R_32VHnkRPvzoXm0d', 'R_2qyjXc7fJNFNEkU', 'R_wXK8b9ApbOavMgF', 'R_2z5r8KWoVE9G9ly', 'R_1Nr9u0taalKvF6C', 'R_24Oz43qMb3tQo89', 'R_2v9fdTOQbQ0qYLT', 'R_1IR6vLKqG58jWD4', 'R_6JuysYsZEwQei3v', 'R_1QrTZBzHNFjjnuS', 'R_1Ol8SgUWfeIqhRs', 'R_xnMNMsQpCIqBVLP', 'R_3IboPnLTgPpWCa0', 'R_BrZt9P1PXKzIVpL', 'R_2ZOFzScOmAK3qNR', 'R_2uxQ2jkPC8v03XH', 'R_2E6tVlaOy6GW8Tk', 'R_5bfjuIl59lQnPsR', 'R_25QGw9vLIUtaY0C', 'R_BPpGBpKGPU19OBH', 'R_5zoTapnFhCw7NmC', 'R_cGz1nEh3mcbRbjz', 'R_31nqcVNHb1ArTMu', 'R_3fID9CinW1hC4VW', 'R_0O37zRdY1QR2bIO', 'R_3ESgtowpTzgXjsf', 'R_2P4DlgaluOe7nUN', 'R_30kOsljpIehr9XY', 'R_3KqndGiHyB2t3Uo', 'R_b1UJtW6AAtLlna1', 'R_3EEd6qyCi7cHrWP', 'R_0qTexmM7Ll2dOud', 'R_1H8tDU1rKi1W0XD', 'R_23k6tNUZVMniW7T', 'R_3qgkkojndvwwkSc', 'R_cYHaGgQ6hKaQHu1', 'R_2rl4RIEvUWNRgT9', 'R_1r3o00TgmqfVLtC', 'R_8qcSvsuyMmOQslH', 'R_2t5vaa9Wg6sIUMz', 'R_31SZ2pcebdmKAbT', 'R_dfXAzqGq34PFVPb', 'R_4UikdyNN0xg22rA', 'R_2zjcC2VDJX3OsUT', 'R_2zIyiyWBYt0123O', 'R_7U6dC7bQIJRlYPv', 'R_1mxUMPYBbrmTVFY', 'R_10SeP8RFGP8I6Mi', 'R_3ewrn9ktk8KIn6R', 'R_12PAw6yzDfqDF4W', 'R_2pPiJPpesELG3n1', 'R_29sruG5nmJEP8Qu', 'R_zf0L0C4jk7yQBA5', 'R_cABr70wpQZOt2q5', 'R_2wyH8OCasZ2oJ9S', 'R_1o6V8ndr3VgPlOu', 'R_3pmqL1FoOUon6IH', 'R_2tDwiAOUVwHnSDg', 'R_2wdkleGrHnS8LBy', 'R_0lEUzCx0opUpUmW', 'R_1GOzhg8sF72W4vX', 'R_27J42dAiCb0IrIl', 'R_7TLrETDdjOlvQhH', 'R_Rlb6JUisUn1Qgrn', 'R_aUZP5dWxQx9AW5o', 'R_2zD2WOA1YnWFIHJ', 'R_2zeFEle6BPwVe5k', 'R_2cCwPzEsb2eHjks', 'R_2a9twCIGpHZjw9q', 'R_1kFxwouObkOTlKn', 'R_3rMuooqRFsICyTW', 'R_3jwo4QKYzJwGJam', 'R_3g5vY4N3RCy5WUG', 'R_ezfeYpX1LziAUUx', 'R_2tzYVBqZECD3FCK', 'R_1QuUeX3Ec1JNZO7', 'R_3HBrr9kqtv5RiZx', 'R_3ek9I2TU4BF9NxI', 'R_3n8TTtvt13oyoMk', 'R_2OOAcDpTUHhHvAD', 'R_239mse884LhoiOW', 'R_2Vqg9T7hwVGn5mj', 'R_1r1SAYv4hEr3sZx', 'R_1Kw1vCqhPHAg34Y', 'R_296q1ERs0qNCo8S', 'R_w4MzWxKgcDtGzpT', 'R_1Ih3ABZImTmfwDw', 'R_27TrhfqQIAe78jQ', 'R_3qNKUshJ76jaEg0', 'R_3HBu5yfc6UpKJPG', 'R_u8MI6cLWX8cOlxL', 'R_2xYjhhl8EB6Lymr', 'R_WcTd0OUXXzSn0Zz', 'R_24wUkJo2dtuKhIe', 'R_3KDSdiGckK7LYup', 'R_1IcuMXU7HPjVWIt', 'R_3KxA8qxyLinwhPx', 'R_AyUP2eytySRGsMx', 'R_2YVdYD6qjR0mS63', 'R_USewFwCbWZEbJhn', 'R_1KjraIW6Rf9wvf0', 'R_1q9ZZbJkOnHr4DA', 'R_3ea9kQvFAtaXZy4', 'R_3fCvdtvNVClb8JA', 'R_2YWVlELSikdAxkD', 'R_12lpkqXshlBs4YI', 'R_2yl5umel5vV12kR', 'R_efytmCgOMk5JPtT', 'R_3QKxbbSbu6Dhqb1', 'R_2q2enV5CkqE86da', 'R_3M5Msv9uB4dldfi', 'R_2WGvVFoKboPpO8t', 'R_2wd8KHOAPb59yVH', 'R_2V2TdxUVPazgPD3', 'R_24tLqHpQQnMQlW0', 'R_XKU6vpU1z38bKUx', 'R_0dNowGjXwHipgUF', 'R_3D77L0sFNKqnpZc', 'R_2f7GO4wU73KpvGj', 'R_cXWHHjbhrUJ0fvU', 'R_4JxfwlzI9BNHHsW', 'R_2w7xEjJJyKmxSx7', 'R_yW0V2f2VltO2M25', 'R_3GppZfQWN1XEOfR', 'R_1NCf5zOLtipLyky', 'R_2P7FaPjCTxPSEqD', 'R_1eX0I4hWHXSkjgc', 'R_2RWaFwU9SSHp4vP', 'R_3j82Mgo8usxCSjP', 'R_3MAJybKXpbzHmNE', 'R_1QgSUNdacE3FYHi', 'R_1ln6twB6pRpcJzZ', 'R_11b8RYAF7yve3wB', 'R_R4iwOUW3OF8y1FL', 'R_31FOZ1UWXH07how', 'R_3nH7ihd4POtF9nP', 'R_5tId2Ge4Fp9CPSh', 'R_e55YgtH56oLkXIy', 'R_2EzQAMtevpSEXUc', 'R_1gGtS7lsIirHoLY', 'R_2ciajJ3yA4GFpcv', 'R_2CVp9djEMHOWXsb', 'R_1LbRT7S9P85zhUx', 'R_28UnidPRslH1GVE', 'R_2rJvMhn1NbqH4Sg', 'R_32IPU9xGq1GmiFV', 'R_3G3ZJDnTcmlITq0', 'R_2DXZY4pUZtndOkR', 'R_1mJoknEhl8Tp1lo', 'R_1LM7mA1f6xF2UmU', 'R_2XmUROCCEIHippc', 'R_2dSYNClCZ6LxmGd', 'R_6SwpSpuY8moah1k', 'R_OcXV6NwFISwhnEJ', 'R_1IyGNByN4t6Sa03', 'R_306o97535ialqYS', 'R_XSBlJHBHo0BghEJ', 'R_1Lu5Wih1L6oAASy', 'R_2Yy5FWOODQMBnfS', 'R_3dGn80d8H08AnUi', 'R_8x19qustZeoO1xk', 'R_3HNPI31af2uPOmO', 'R_3DpfpZmodBYN3Je', 'R_3mlC6Y4GSilkwHj', 'R_XHeic21gwf4Dw7n', 'R_2wu901vayI4tFfW', 'R_5sSZeIT6QxHCQGl', 'R_2xDFIHEaRLBsoT3', 'R_2uX2uhfq5EPHqkJ', 'R_OfhyGspKDMEBh8B', 'R_3QEHEOqeQTpsBZS', 'R_4Vl10tsvdMZpBW9', 'R_XhvZXZNqekbh7BT', 'R_3ew95p0JRffYFB8', 'R_yWQehnPQ1gmtsdz', 'R_1GCztXGJdvAU0rw', 'R_2vdJT1SlSw1ZKdF', 'R_28Gxa6yx4eLCpPi', 'R_4ZUCvorBfw2QPRf', 'R_2wFy2LUZaVkykuA', 'R_2eX8laFr8kfqa3V', 'R_1IFboBvmFpG8ftu', 'R_yR3QwQfrbRitIEV', 'R_3dSd6elOK7wTjnq', 'R_SZZwFDkovEBNwXv', 'R_3DxteAKE5XDxDDr', 'R_2wS0aCBrruRKtyr', 'R_3gLcZt6g1LRZsuX', 'R_10CRF2kJjI2gVy1', 'R_eKFOZAmH2DKqegF', 'R_2qgQN3rCULqFuFr', 'R_3FVj6hQ1aHzr8WQ', 'R_wZEMC8bg0bPbZgB', 'R_2CxEmalyyDdu2hy', 'R_OdLLwQGl07Pa6EF', 'R_3KIuosK19Ji05YB', 'R_2DRYnmUZxEF8742', 'R_2bJMVia5z4ElUhg', 'R_ueuAncPCgoEUKwV', 'R_1FkqDX77lwtQINJ', 'R_ehBKK1sDYs0XgVX', 'R_1pA5YkhJngtgkwU', 'R_2ONkhH7oZf3vZO7', 'R_2aQqphnfVRNMfmc', 'R_3EyhzwnNEeyeeoq', 'R_3m4dhz3lpV3t4pR', 'R_3gYQPZx8a3li5gB', 'R_3dXkilehYklYUFy', 'R_1ghzZ03J5ZbVLf3', 'R_1C2TPa4ynEBdyU3', 'R_27xSAPH5BgBKPHL', 'R_2pWd7XZHndbGofs', 'R_3Dw0f7pqOpZkIg2', 'R_a00W1d78QchahmK', 'R_3fjeJ2IO7xZzss6', 'R_DN39WLhpr0LqwiR', 'R_BQuA4w0p5A6WPQZ', 'R_Ce43NaaLMPr226R', 'R_2Cv4VoWHg92MPYx', 'R_3LXrQ1yrovSsUuk', 'R_1GUpVrvy4wCJJfv', 'R_2wmNXCz2pEcRwkI', 'R_2zkVxlOWPOFXgct', 'R_72it1EcXpTjrVq9', 'R_1eJNKugS5nGKxbH', 'R_3QWWcjabVXCGL3j', 'R_31F5xMU2ySymMtR', 'R_125TLPpujloWmSZ', 'R_27OqMrqTKoaCM72', 'R_9MugRUunbxefPgZ', 'R_cDaSf88tBC8gEfL', 'R_31jviZUripLpVUL', 'R_2qqNkqzWjezRVEQ', 'R_2SGobuTH9TwbHf2', 'R_2dF0gubafexOPs2', 'R_331pAG4wS6xJPQ8', 'R_1pyCUPZuuxV26gp', 'R_3kLoV2O31KAAU9q', 'R_2xx6x3q9hoDDbcL', 'R_3ML33kPgxyt7rKA', 'R_2aJ5m5tWhuLmm2U', 'R_2tzXAGTnKeuNSHH', 'R_1rOKIjgfrQ5XIGv', 'R_3rNf7mxCCwnCeB7', 'R_3BGZ9u2yf9bYcfL', 'R_2QgQXhlmw3PBxBp', 'R_O0RqnRHTSxvUMYp', 'R_1rpqUH3I6xy6cgK', 'R_cAUoc230rlTH40F', 'R_b3K5v647jMnaW8V', 'R_10C2lOYt1cIw7ZY', 'R_1hDO1bu6UqrWdGy', 'R_czEb2V5kDurgt1A', 'R_5v6DAuzmSTfwkU1', 'R_1LApkHJpUsvHg9Z', 'R_2gbY76sUrJ46Bjj', 'R_O8rsF9jGRI5PsTT', 'R_3HA02IRcsxsM0km', 'R_9z3C6ydE9RdE0Kt', 'R_7QDaGWHTyi9w0pj', 'R_1o1m0nevpPhQad8', 'R_2QXkTUt9evThqss', 'R_1oc2k3Z5xEkfsbW', 'R_ANJKijZKS0vei4N', 'R_2R49poxgzYXEcJH', 'R_3IWXXVnfFEM75lG', 'R_1g168FQaWzQyBDz', 'R_4YMVThuNe3AzNZv', 'R_2ibnjgdPyVrJLLH', 'R_2xLhpzH9J3k6U08', 'R_OCDg5Jm15eFMXmx', 'R_VQEOyqWw1ig1Qf7', 'R_2rPctPvO804T6zK', 'R_BE1OegRuJ1PWUFz', 'R_CgIJwo5oFNRTBh7', 'R_XZ1BbINqSGGwzx7', 'R_1hzKYcmEDQilyPt', 'R_2y9GN1I7sQ2WCOH', 'R_cOOdM0EDr4unEJ3', 'R_RmMCVzW6GZTPB0B', 'R_2bIA15uFprtPooB', 'R_27gubOma9FKS5qZ', 'R_1Cl5L5LzdqdxPVQ', 'R_3mgXPVMwJCyfSQ6', 'R_1OPQ0udGJV9I8Ri', 'R_1et0sAqvnJz60vl', 'R_R9KfV6DG7MtM0yB', 'R_xo5nzjdcqznpPbP', 'R_1IinI11h7o0fxOK', 'R_3hymsFxh8bNOG0N', 'R_2DUhaKurgZzuMDv', 'R_xf61kTzkBzhcizv', 'R_12bAgTrpRXaMlzY', 'R_2TtpHupU5Dz1qpA', 'R_uaFwBBWT2UUHjsR', 'R_yD4ukZhDJLImgWR', 'R_2abIXlgZcPsPeby', 'R_5umFdloaLzL6LSm', 'R_pbyUVis1QrKn4FH', 'R_2pY9nwwex0cqOi8', 'R_3KOeREUqUDyhnUn', 'R_2AWgHDcGqzPPHfs', 'R_2BwVBx2WJZSslCn', 'R_72vs7W4Wnf60lD0', 'R_20NWgh1XtBT8IbC', 'R_1N7ZQIoVd7w0Gtx', 'R_RgazJySHs4jGZnb', 'R_eVwRofYuvMLQefs', 'R_02Rq1bsmhsoyUyB', 'R_p4nUIgocp6NB3gt', 'R_1MQao8Twzl4F8Dp', 'R_OQgXUt4F3WSLVjb', 'R_8lkBETGvBLsaINE', 'R_2CJohclfsWvoj6V', 'R_3G2trJh5ptlBe61', 'R_eroHaEhDprgLBoB', 'R_pRvH496BqgdTd8R', 'R_3PU1LVnLxPtRksE', 'R_3qyRQKZQ4r9Paff', 'R_ekzGwH8OXCEZuZM', 'R_6JQzBu5XBzxq8OG', 'R_1DUN1eGBwFPbhPe', 'R_wYNTAYX7FV4BbLH', 'R_2UfM9iJPybxGO42', 'R_2ruOMyxm6d8hUEO', 'R_Odk9GMwNxkSCTO9', 'R_2ctHvylLK4udN0Z', 'R_22M05uoznSpkkFd', 'R_1S1Ct5h5SHVrGkK', 'R_sRLI6zAbBFewlHP', 'R_DNu9aBd2iNdaHst', 'R_dmcX2I7C4LFj0Vw', 'R_43fgfXNQR3QoDmx', 'R_yEKJHLHcq1SrJIJ', 'R_qF0cvKcA3HBzgeR', 'R_3G8QyEIRBBa0dFj', 'R_3eySdocsGBd64BZ', 'R_XNB7y37MsT6vmLL', 'R_1Ia2VyFDKM144TD', 'R_1GwDSe1ZF7TAOKM', 'R_a5bj6asekWLW8VU', 'R_tVRZ6v6bDUy0AuZ', 'R_pcRjTsDxFgNQLqV', 'R_2EbMHCBPmOEPQfS', 'R_2U5g3Aj8pg1DXp4', 'R_2b1rz82N3mU4Syq', 'R_3kpwg03Y6ZyQRPg', 'R_qzl5Xy0z8E2rL3P', 'R_3hfhQ6O3hjfci1M', 'R_1RkFSiqs2gvGcbc', 'R_1MLgma9m1DQfAre', 'R_10Gai2zWzVuSa0C', 'R_2zTigMgnJMolWfx', 'R_xg3G3CsBBMYK7SN', 'R_3kFZt9gyQnspsvo', 'R_elWBIGuWCktNDY5', 'R_2uxLx4SJbde47uJ', 'R_3k4XQgUgdAwOIr7', 'R_3aP6KIPy8VVlNRf', 'R_Ycv5rMDpuf3ZvPP', 'R_1Nku8USC0i7ZXXR', 'R_1f3BDjaTjEczH72', 'R_1UlExWeCCCJQZY5', 'R_3oWIXJKJfbURUGZ', 'R_1PSkm5NM3kBST03', 'R_12igv0BkHgb1RSN', 'R_3qovZmlOHV5nVNc', 'R_2Y2M3aw8IhBPAUo', 'R_2y2QjOB5JtUQc6A', 'R_3OqYIvjB3nRuSj1', 'R_1eOZ938JSxku8WS', 'R_sFKw31zlVInO9Wx', 'R_2upI4POMAlO5fc9', 'R_9yK6RmE3mldqbER', 'R_3COw4cPRUWXPHU6', 'R_3HpfHnoOIvx51Yv', 'R_3ea9kQvFAtaXZy4', 'R_OdKiXevUrvQT2x3', 'R_29193UysuaY3Tjj', 'R_qF0cvKcA3HBzgeR', 'R_21poW7ANOqw6kGz', 'R_3lt5WpXlVvcKQWH', 'R_1dz3fNeyQ54Y1QS', 'R_8ojSuWBsE1wVsc1', 'R_3m3pYtMjZhC5B2d', 'R_2nNuJbvK04m2PV7', 'R_2qawykJq8HwOsmx', 'R_3HThUNfmT2RvpOt', 'R_6lZ2O82VJd7Zy13', 'R_2s6ZzYtCF2ytn8X', 'R_2Euhm0RB6CLyNVu', 'R_2q4s6CcpWmOE0ha', 'R_2zcoBpVPlOla3vc', 'R_1N8mU6O9khFaDgj', 'R_3P4s3WRtnBQfIVI', 'R_111wkbMVecq8T4f', 'R_1riV6SsT9FbzE8N', 'R_20MqMjFxou6xdAP', 'R_1mPnyqwzA0fSm6m', 'R_33gnQQnKFnCKY4g', 'R_6Wq2fQEjghvN3zz', 'R_25A6pcVBkwW9Z2B', 'R_27Ba1OHSrRMmpBH', 'R_OjP8xJUj059jsBP', 'R_3keasFcLn58ZlfO', 'R_21A4wc2C94y6SzF', 'R_UYBZGNUk89ugKit', 'R_8CFfxeb1kmCC406', 'R_3M6Anm6Fx3sJsOo', 'R_3D7SczuUBXKituO', 'R_ZIzQXswSB2Pvuw1', 'R_3kvW1FhwPrOArmb', 'R_1pPBhdm1reWTdTj', 'R_1AEhgPdSRfg31h7', 'R_3g263kjDHOrG3pV', 'R_cUARNnRUPKyaMzc', 'R_bsFlw9jbfy8LKGq', 'R_2cj8c5atH7IbgaO', 'R_21FdMKfWtZ6k6dl', 'R_22rmD470ggwCcQH', 'R_2rBi3Mz2iaGn68I', 'R_23fcNU9YplHoFN8', 'R_3GoF7XyYcfJUUZz', 'R_2PzkdekHXiTHDRc', 'R_py0Q94y8KdX3ZsZ', 'R_2OHIqSL4pH5r15g', 'R_ABUppRaqzBpFjjz', 'R_5bWVBzndVna5jQR', 'R_uafDkR4oFINWc9j', 'R_zeArr9e6FvS182t', 'R_2CqzH8eNRKroL2I', 'R_2xxSZmNE3YrzPAd', 'R_1H8F61QXgo15r84', 'R_RE8F7lBwWE0J2KJ', 'R_0TIFgouVoEeivBL', 'R_stZeODAnX9POkut', 'R_veEEdfJHfb7GLjr', 'R_3OZlHp9TD3HSQui', 'R_1CBVMeL5d5InvOZ', 'R_1kGGxZ5XUsJNyur', 'R_2xJmoFIaHISVCi4', 'R_2VjRLLjuoM0JIkf', 'R_3ErMRxA0MGiESqc', 'R_1E0dvKv9wA4cFTe', 'R_1hPSqpj3qNWG1bQ', 'R_2R7Z2T4jXMGUZRQ', 'R_vf7WYP4zBylgYpz', 'R_3DiP7J3AOME3L2b', 'R_czIxaJpX7jvEI7k', 'R_2XapL5CJWYE3hzS', 'R_8tOWrCn64S9LcRj', 'R_un6R6Jg6V7rKRgt', 'R_4Scw7BCs1wXqNzj', 'R_86UPEQr8irstuFj', 'R_1rxgP6oXJ98t2bf', 'R_1oGDvEEauCIIsdu', 'R_2wMEnqkdMVt4hrI', 'R_2fJ5gTWVeAtajC1', 'R_3pgQF1erN2TwBLU', 'R_3mkFEa7ShBvgpIf', 'R_1H8cBb8F3hnuHkn', 'R_1dmg31Gx2TMJYoC', 'R_1H0rbKr7DgbvoBm', 'R_UGdXus2W5mnBZId', 'R_7UsTLiDtVV2pb3E', 'R_3lukF65So5pRUyK', 'R_3hAdUar5T1j3mkh', 'R_1CIbKous65gV93A', 'R_a5DmbW5g74yDQXL', 'R_2w0lyZNeVqVL0CR', 'R_27xv4SKrnr47wIU', 'R_3MmTDgUuVYq7U9y', 'R_2VJ5VkqauwcpUKq', 'R_1Q4TevXwyP9kgXW', 'R_1LuItcRyN2LowQc', 'R_sAIJJLxbYDbZATD', 'R_12h6XAW5mOGHpUX', 'R_3dWfpXkrMAir4US', 'R_z0QXZ3x2FjNl2Wl', 'R_rqfchBaktzec5ZT', 'R_seaICN8g3iYBFzX', 'R_3p2Va9BOU74wxED', 'R_1daUJbabC2wwlOM', 'R_3phA3n3Kiut7Wn2', 'R_cw3XECi9TGsg4xz', 'R_2TZZgzIZj3DNBBD', 'R_XQYsFKMPqYgPpSh', 'R_1LcWzVj5O2SvEuz', 'R_3sphZ56mFkZeRJf', 'R_1N8iZVMEQjegGgP', 'R_1QmAyMjbZo2AovO', 'R_dbXN3DLCX1MLkiO', 'R_3eYJ244jZPtThfj', 'R_wXmw8z9igSPujrr', 'R_ZJLwlQiA1XNLAqt', 'R_bIAfFLX6pXdfGtw', 'R_1EcUZjF0NorOBoF', 'R_VU65lgkElZoQI13', 'R_308mJ71BXSOBNOp', 'R_C9NfezhaCmOzfCV', 'R_1gu4sfkd815Pf8N', 'R_2Tv3RzEdnQ8iMhN', 'R_10H4EHL9BX3k0xM', 'R_ctEJdTOHGYCj4FH', 'R_2CJRoNQcUeIU4nv', 'R_26o5pJ0DE2lxChX', 'R_BL094KBEBBV3f0t', 'R_27JunUCgKfyYMPZ', 'R_2q8z4l5BgHub15M', 'R_2rDvCT0mkGjBr3A', 'R_2ASuuRQ4OQQEqZy', 'R_Pwg75h1xx2HnMSB', 'R_1gAdSeoQanp6K4w', 'R_06WDDiTlMgC7WbT', 'R_2waiYWGNPycb0rA', 'R_0NSX8CPCLUxdQC5', 'R_32ORi9ywY8glX7f', 'R_1DYhpsfeBIvKV4I', 'R_3KCoaa30qfYq70n', 'R_1jv2YpO0sD9TywF', 'R_2dRBUJ0KXLNk9TD', 'R_2f82Fqdf2GZSjv9', 'R_3EKk9Sq8tAq6yHC', 'R_2qeKU0hoHRBs2pK', 'R_3JC0WEtWqhfnqoR', 'R_RnnhMxlCUV3N8bv', 'R_2bVsgpfuPROmt69', 'R_10YmPHvuelFBGY9', 'R_3IRkaUvGBKgTrKx', 'R_ANebswx2Mab1aN3', 'R_78Svks8AJItgBdY', 'R_1jYZ1mE0d96gZ8p', 'R_1jUsWMGxK13REEN', 'R_oZY31AIZzcchdOF', 'R_12ame5HdcJCLpeP', 'R_2Cxg2sHdgYi5KAS', 'R_yxWccf9UN4MWBc5', 'R_1lfY3bGpIWLBmCQ', 'R_2pXXF5DgGjRxvfk', 'R_2B8QYaWc73j5CH7', 'R_WjPFhmMYMevyrZv', 'R_29dnmbBIKMpn2Yp', 'R_1dHsm7QyvO8SrRp', 'R_1EbtOF3LuSQBnyS', 'R_3n93v0JzjxVzsox', 'R_1iqTngbvf2hxD6r', 'R_1poCQVer29YxvPA', 'R_1LG8E1rFUWxm38Y', 'R_1mOdM9i3Atta4f8', 'R_9Anz31kBMl0bm6t', 'R_2qjxjI1gijt9Pvw', 'R_1100sB3NsU8vPwz', 'R_C8rseM7TfFcJcAh', 'R_3EbeTxCgnOaNbfn', 'R_XL2I1fvMS7FTOpz', 'R_1l4C0zjfSGflBb6', 'R_2UaUH039DIFe2tU', 'R_3lLkCMEphVMwWed', 'R_33d2bNkhYly6kmd', 'R_3qEdQ6OXWMM6Ldu', 'R_2akjWoN1RjL6fdw', 'R_1IEGH4BvMPzN8KH', 'R_2oCMRs6R4YfHnix', 'R_1mmSZ1IUSc9YC0V', 'R_dnGqAtQPC3DGty1', 'R_2uOmlElWHCnZFDB', 'R_2RPz18IYj2MKK8I', 'R_1i3ZwwbGYZ4EXpH', 'R_2sTRWGnSMLMdEwM', 'R_6kZteM0UakJMqrL', 'R_2pQZSk3buHNfOsF', 'R_WjrSvGuRB6msrDj', 'R_2sR5jwyovObGNP7', 'R_vO0kEqSkCRjZ7xL', 'R_10osNGtbuCqnzHh', 'R_2U0drokW1gFmss8', 'R_1Cpd5ZDovNsTgDf', 'R_27DqdreUIZjS7dK', 'R_2v35qRmDGGlO8Hs', 'R_3257S345SCi4tbr', 'R_3Hj1DpdDHJI8BqP', 'R_Atlt9gNRhevZEbv', 'R_Pwg75h1xx2HnMSB', 'R_rfGJXz1qBPMP8xb', 'R_ebQLhAkgMZnj2pz', 'R_rfrUA0uS3gRBZzr', 'R_Y05H96VZ3BS63U5', 'R_1gvjnWDpBckpGdw', 'R_2v9848jSe9yxr19', 'R_3EiPoh48wL4hdsF', 'R_2s5t4RyzqiHlRrS', 'R_SJjEL5uj5tNjKJX', 'R_30uBCIawoCZU68B', 'R_DGe7eJdc4aWBxbb', 'R_3gRPT8Ih4rEiHlU', 'R_qCnVmxB9dPrbsyd', 'R_Ab75IzeLlBBy4ZX', 'R_udN2thWuqdD3ZGp', 'R_2QMQtAbD8AHx1Lg', 'R_2A0iNDPxqgI9MOB', 'R_O3XsrUlEl7XlLlT', 'R_2fy3jM2krjAFQry', 'R_2pJnm2f9BbFb8B5', 'R_1BY3qRrPKIC6cuE', 'R_2do2oOJCFDYQLwy', 'R_33dJxVIimT9Gfge', 'R_bgxrSlQQr8JA8g1', 'R_88oCeXNHgV4bTq1', 'R_Ryn1tNsKj7GUpyh', 'R_sc0jQjrePnTdvxf', 'R_1JF3A4lpGNowoaw', 'R_D7WwzGVvr53dJGF', 'R_2PaS8f6DJS5eF6u', 'R_2Vf12uwDA31IuPO', 'R_3s4DAstNRDMZcOB', 'R_eVvCGtdfXFoWGoF', 'R_1Y41Mhm2OW9zXme', 'R_2q43AsiGiTvG7ig', 'R_3Jqm8pEjOc72WQ9', 'R_a4CbsttVVfU9f4B', 'R_1KjQ2oVKiWtrNn8', 'R_6S7912mOrW96x4l', 'R_21FdMKfWtZ6k6dl', 'R_3fV6wmAZ21X7c6q', 'R_72tEwW8kIsfHSuZ', 'R_2CJP0CIOe0RipaU', 'R_24HHaj8XTLcZ1iM', 'R_z8axSoHe9y6YO8V', 'R_1feGis9HSYWnHPA', 'R_2CKCM1OlPXsEnyX', 'R_1n0eIj5wpx6wDoh', 'R_stZeODAnX9POkut', 'R_1P8fkXTL5YWxTQJ', 'R_2aKz7I1GE51MrNG', 'R_s52pxub7QhtsWWJ', 'R_zdmuw0mwBokTshr', 'R_247CwFAw0p9uevq', 'R_1MJTAsMFxOB3LBj', 'R_1lmg3dClxBtgSMG', 'R_3qsV6tl27jnSUEs', 'R_3lSIvMSqZk5ME2b', 'R_2uwecaMFuP3Zxf8', 'R_0Mt2ylwAletocu2', 'R_9z3C6ydE9RdE0Kt', 'R_5myoy98ieWYOWpb', 'R_DuW1eWkmzSAmyul', 'R_0ppPibhP7ul0W77', 'R_2s7KJSFkiFSu3es', 'R_2iCLIBve5sBbodP', 'R_24IOXWHAd9IGN6R', 'R_3I6jkXLARhBqHvD', 'R_DHnSVc9NXZNt2eZ', 'R_5tDZS6La4A6CKBj', 'R_2PBeqoWL2lcpUuu', 'R_2dGg7gzYzpcYjV8', 'R_2bHNukVfUk84GKj', 'R_2P0EtG1wKJyCZx6', 'R_AhZ6AL8E0ZYJWjT', 'R_1g7SjsJbvBvRWdw', 'R_1g09RBneCccRREM', 'R_1C9gEP39mcDRN7y', 'R_2TLxjc70izwWc05', 'R_3CI1guuGjJ2Xkt1', 'R_1cS2K2kgaWmwQBn', 'R_UyctOso7wTNYiCB', 'R_3kG5YWvgU1jZs4P', 'R_1mW6U7oCfQ6kVJP', 'R_RV4YyQumhTg3Nqp', 'R_3EHlEtsHwrza2Fw', 'R_1MMpVo3a0Yydcw7', 'R_1CqCV1xi4h8gt7Z', 'R_1HoCcxOeWaR9yHe', 'R_2PBa1Q5XbA2Qwzu', 'R_3lrJcTRui5B3iBv', 'R_2QiehWbP2NQlUof', 'R_2PtBNypsW5shAtO', 'R_5pBB55RGBQx4Q81', 'R_bw8gmlqioHNe0WB', 'R_1JOW2yu9Vc2MXzD', 'R_1imsD2NxveRh1Xl', 'R_12D1E2kTmkS4DHX', 'R_31yevD0ctvwS0Rk', 'R_PYAyTZM2KyZlLON', 'R_7a3XSl3f6VJfw2Z', 'R_27waRMZDMDVHwiV', 'R_1OuxopeFQJLl804', 'R_3rGNqpNa211pLak', 'R_0uOoDzOabIcEC6W', 'R_1M6AmEDBmlHTHZe', 'R_2aLYLT533LvutVx', 'R_1duC7srIbuQQfa0', 'R_2b3ll0HaCJ85rwK', 'R_2sXCmJjgcjG0UhC', 'R_2YfFZRufZUo5QVC', 'R_6A9EbeQQstyXxy9', 'R_3j7GOY7SH1hYwbb', 'R_2xORTl7o87cLx9t', 'R_Rz8dx2LMorAyIVz', 'R_1JFLZENwKclAPaC', 'R_3NDrVZYLJjjFoVk', 'R_yqkTNe7Bu4nRJa9', 'R_2fkByDp8D5NdcWy', 'R_bkqNTuvONp18SWO', 'R_b8jpPat0lvsQXJv', 'R_1OIiC2orSoLufa3', 'R_2tDKXKOWDtJWWJZ', 'R_4GRptlDOrQ5LKvv', 'R_1Qt0S2EN6lHPzTY', 'R_3dMMn9wxN6qV2KP', 'R_2WYbr2Ecg8W1lFa', 'R_21yox2vXXCaq9at', 'R_5BflaPkYzQvFk7s', 'R_3jVhhaQhDFwQCFw', 'R_88iQgg8bMKRB88e', 'R_1N2EYQiorCq11E8', 'R_2SqUMs63KrSBGzR', 'R_VQNxQGMQJmCJ5ER', 'R_3KCoiNC7ZUnQPwj', 'R_31ouyZizGa8SIoL', 'R_2s6WEs5S08mRfOa', 'R_eEYxe135d4Bqm3Q', 'R_2dQOI0aLGqhoPpI', 'R_1gT4sMV9ONAKxEp', 'R_3fYLkA5loWPclbt', 'R_Uhwe948xSNCHGoh', 'R_2v1Aj1sAZ7GTC6l', 'R_12R7kQjFRaLLgFt', 'R_wSloPplC47zkIkV', 'R_9AbIvHU7fHi0KKG', 'R_d0y5Ns3JejuClZ7', 'R_qUYXLmrA4eVZXUd', 'R_d5PufB7GcfyH1mN', 'R_ujCc5PUDwZzwtsB', 'R_26lNvPUmOkZs9MZ', 'R_1EbSMLKg3WX7IaL', 'R_1EZLCpiX7nQvqdX', 'R_2q7pGo1RWtqlgDk', 'R_3iRzKUTxaVMW4Rs', 'R_1mKvRMsc4lBOgkZ', 'R_1C8aiFN0o9H0wfT', 'R_2Bsx9GLr20Cahs6', 'R_1gMGBYFwHpV9FAs', 'R_3Dke8zDx9FEhx5a', 'R_2arS35jaCrWmqUa', 'R_3hnGsosvmbv0ASR', 'R_2xFWFL1yzFZBX9f', 'R_eKgkP64M3nR6FUZ', 'R_3e9LPfMm8NxzFlp', 'R_3BOprJdwZadHjjj', 'R_3Jrx7CYtCeWFIt2', 'R_33l3qtkV2RQkK8I', 'R_2ffmlf1OFk8ZnXo', 'R_bsy2qxx0pX1Ow2l', 'R_10TtPTSalvYSVD6', 'R_2CmlYLPSSolwoYb', 'R_1LIs4zOwkG7eG58', 'R_p5dBcJ3TzpVgy77', 'R_0DkzN0c78GmaAHD', 'R_XhvP2pSjAtDL8Hf', 'R_2zCuxqxPhcKrsoq', 'R_QbPRIHov0BwJ7R7', 'R_3MumrxbFrEC4Efa', 'R_271J7DzhvyJz7pQ', 'R_3m9ILuBwbXEqmiN', 'R_1mymHui46XHiRiy', 'R_20U4QIwsq1XkUoE', 'R_1jcAxOssPMPnrf2', 'R_2xE33rHB04IZm2n', 'R_bINpUJJyp9COxHE', 'R_6hSsxW6if02f8g9', 'R_RKVtMa0HOx47Unn', 'R_2zApDBQteKBboGZ', 'R_28SwUTj0QoCjewZ', 'R_27jUpCDSxxF4axT', 'R_29tapva32FnSFH1', 'R_2Cg4lJLYi86ZLSN', 'R_1ibarbSulOlqm9o', 'R_3EElGWJRWI67Gsn', 'R_3gZQja1vspSb8TY', 'R_3hsGAiurBWfiiQs', 'R_UPGxe0zP8olO4xz', 'R_cYn9hPez9SnVbLX', 'R_3MompA0QUN67YOU', 'R_2V3AHUMry3nZFMu', 'R_BR2AmucvBOW9PQR', 'R_27qGkSwYG4ToiOY', 'R_2wpIUoDMy2smn8U', 'R_1ltrWkvJedNZUDf', 'R_23gbzuOITFge5qU', 'R_2CQy3dk3CL4PiUr', 'R_31zMjV4axRlExtG', 'R_1FRkxZmZwxE8dW4', 'R_1mDvQQP2dv6hkHZ', 'R_2Yn89PtdyS4RrXk', 'R_3huuu6Dr67u8rHB', 'R_3nfaexPEv7qasVZ', 'R_23elRhzeUE6ssDv', 'R_3jSsseyVzXXOH0Q', 'R_33ltGqRLcF85qmy', 'R_2TvruVB3infgXYX', 'R_3EKir30DLVHlB0w', 'R_2f0z8DRhRf3hmVX', 'R_1LZMPumKzqNsPUa', 'R_5dJrhE1m6ZwO4NP', 'R_cwKtcGcO1DIShYR', 'R_3F4ZcVlMJotlQJp', 'R_1mnoThoN4DWtLyW', 'R_3EirRTmo90OVmj8', 'R_3HtaQbtGaPjXKt9', 'R_1E68BYsIcmLNaHP', 'R_9AKKS2VejGZzKLv', 'R_bJwnqYKn2rFhWv4', 'R_3nklYGYIZGvIXzE', 'R_1k0QsjiT6rxH8jN', 'R_2dReHfHDIO2Mlqa', 'R_33wgouwnw0DOORk', 'R_3dS00v6fKJsdWH0', 'R_u3KzyuTDwbO33Gh', 'R_1C3yBBaIt7J370I', 'R_xs982AaId3HGJTH', 'R_DBv8Ceym9pnC3Jv', 'R_2t551nVw8zeIL6p', 'R_sFNmCAdk8IAT0yJ', 'R_8J6XVhuKG8KwjGK', 'R_2ZEsDbV5cLoLvgq', 'R_27liNW33TfCGhl6', 'R_231blxGBVu0m3nb', 'R_2yd2USHYQqCNwMZ', 'R_XLYg2mcrpLr2pDr', 'R_22RJwcROgPRu6OZ', 'R_1r0mHNtTIlx06nx', 'R_DcoJisma3yqQuTD', 'R_3231H35Y3XAj1YQ', 'R_vYRhrtJWKQWQU6t', 'R_3kbrtI8uYOYN9Ps', 'R_2WOJVzHNXOeylqS', 'R_2abEItrxP9voxDH', 'R_1pJpN0PhlwbaExP', 'R_3O6PTWQixoxkIjs', 'R_2uEUj3AhiFk9WHp', 'R_2RNSvhUQ0yaKI2j', 'R_2WBfLToF4MmSGaJ', 'R_oXBKqCo3scX7UFH', 'R_2dmSLs959JH97Zj', 'R_3MhDDgKC6wu9CVc', 'R_2duKhIYUccMoDvr', 'R_10Ml2ju3eqXG3UZ', 'R_1GwqI0oIq38nX00', 'R_31aAllsJ3IX7fwf', 'R_31Gj2i6JfcWqBu1', 'R_1oAVCu9WJsnvhK2', 'R_w0KKgD6BDQfkjgR', 'R_1dboSniTnjnhegt', 'R_3k6cqTkwcR16ekB', 'R_1hyC9odGL5qBHmQ', 'R_2vczES9ij8lUw7F', 'R_2V4oh2DLFkCTypR', 'R_2zRWOqAR6MjXtz2', 'R_2zSfKjOOwbpKLoF', 'R_uxeu3DZU0af2WRj', 'R_C7zmZ4Lc3LWSXnz', 'R_2sXWSAZGVLHMlZd', 'R_4SY4twFMq9rDBct', 'R_2YsoO4m2N7A8DEf', 'R_2rNt2ciM2xPdB8s']\n"
          ]
        }
      ]
    },
    {
      "cell_type": "code",
      "source": [
        "print(len(c_leak_detect))\n",
        "print(df_dislike_gl.shape)"
      ],
      "metadata": {
        "colab": {
          "base_uri": "https://localhost:8080/"
        },
        "id": "-QXZ0nP0ipk3",
        "outputId": "f28a78ed-f51c-428e-89c0-dfe59db052da"
      },
      "execution_count": null,
      "outputs": [
        {
          "output_type": "stream",
          "name": "stdout",
          "text": [
            "7654\n",
            "(10001, 100)\n"
          ]
        }
      ]
    },
    {
      "cell_type": "code",
      "source": [
        "#sentences from articles\n",
        "path4='/content/drive/MyDrive/stem_lem021721_caVSco_lg.csv'\n",
        "df_synthet2=pd.read_csv(path4, encoding=\"unicode_escape\", header=0)\n",
        "print(df_synthet2.shape)"
      ],
      "metadata": {
        "colab": {
          "base_uri": "https://localhost:8080/"
        },
        "id": "_sHL5LZ6B92m",
        "outputId": "b0c0e5f9-0bd8-45fb-9f8d-536e62bcd14b"
      },
      "execution_count": null,
      "outputs": [
        {
          "output_type": "stream",
          "name": "stdout",
          "text": [
            "(926, 8)\n"
          ]
        }
      ]
    },
    {
      "cell_type": "code",
      "source": [
        "#business book titles that I thought may provide some synthetic data via LFs\n",
        "path5= '/content/drive/MyDrive/business_bk_titles.csv'\n",
        "df_synthet3=pd.read_csv(path5, encoding=\"unicode_escape\", header=0)\n",
        "print(df_synthet3.shape)"
      ],
      "metadata": {
        "colab": {
          "base_uri": "https://localhost:8080/"
        },
        "id": "R7saRqysEe8S",
        "outputId": "7baa381c-457f-4b11-e061-cb93b9764e85"
      },
      "execution_count": null,
      "outputs": [
        {
          "output_type": "stream",
          "name": "stdout",
          "text": [
            "(1000, 10)\n"
          ]
        }
      ]
    },
    {
      "cell_type": "code",
      "source": [
        "print(df_dislike_gl.shape)\n",
        "#for idx, x in enumerate(xs):\n",
        "    #print(idx, x)\n",
        "for i, heading in enumerate(df_dislike_gl):\n",
        "  print(i, heading)"
      ],
      "metadata": {
        "id": "sVvgcD6iK0_8",
        "colab": {
          "base_uri": "https://localhost:8080/"
        },
        "outputId": "ef0b1947-c6c6-45c1-a6f9-0e3c881016e9"
      },
      "execution_count": null,
      "outputs": [
        {
          "output_type": "stream",
          "name": "stdout",
          "text": [
            "(10001, 100)\n",
            "0 orig_indx\n",
            "1 response_id\n",
            "2 response\n",
            "3 Acoustics\n",
            "4 Aesthetics\n",
            "5 Ailments\n",
            "6 Air_Quality\n",
            "7 Air_Temperature\n",
            "8 Amenities\n",
            "9 Art\n",
            "10 Bad_Culture\n",
            "11 Basement\n",
            "12 Bathroom\n",
            "13 Benefits\n",
            "14 Cafeteria\n",
            "15 Ceiling\n",
            "16 Chair\n",
            "17 Change_Of_Pace\n",
            "18 Childcare\n",
            "19 Clean_Neat\n",
            "20 Collaboration\n",
            "21 Collaboration_Room\n",
            "22 Comfort\n",
            "23 Communication\n",
            "24 Commute\n",
            "25 Computer\n",
            "26 Conversation\n",
            "27 Covid_19\n",
            "28 Cramped\n",
            "29 Cubicle\n",
            "30 Desk\n",
            "31 Distraction\n",
            "32 Do_Not_Know\n",
            "33 Door\n",
            "34 Electric_Vehicle\n",
            "35 Elevator\n",
            "36 Enjoyment\n",
            "37 Everything\n",
            "38 Fitness\n",
            "39 Flooring\n",
            "40 Focus\n",
            "41 Food_Drink\n",
            "42 Formality\n",
            "43 Furniture\n",
            "44 Good_Culture\n",
            "45 Greenery\n",
            "46 Hall\n",
            "47 Handicap\n",
            "48 Homeless\n",
            "49 Hot_Desk\n",
            "50 Impromptu\n",
            "51 In_Office\n",
            "52 Interaction\n",
            "53 Isolation\n",
            "54 Kitchen\n",
            "55 Lactation\n",
            "56 Layout\n",
            "57 Leadership\n",
            "58 Learning\n",
            "59 Lighting_Indoor\n",
            "60 Lighting_Outdoor\n",
            "61 Lobby\n",
            "62 Location\n",
            "63 Locker_Room\n",
            "64 Lounge\n",
            "65 Meetings_In_Person\n",
            "66 Meeting_Room\n",
            "67 Messiness_Or_Unclean\n",
            "68 Mold\n",
            "69 Music\n",
            "70 Natural_Light\n",
            "71 No\n",
            "72 Noise\n",
            "73 Not_Applicable\n",
            "74 Open_Plan\n",
            "75 Personalization\n",
            "76 Printer_Copier\n",
            "77 Privacy\n",
            "78 Productivity\n",
            "79 Return_To_Office\n",
            "80 Roof\n",
            "81 Security\n",
            "82 Signage\n",
            "83 Smell\n",
            "84 Socialize_In_Person\n",
            "85 Stairs\n",
            "86 Storage\n",
            "87 Stress\n",
            "88 Supplies\n",
            "89 Team\n",
            "90 Technology\n",
            "91 Telecommuting\n",
            "92 Training_Room\n",
            "93 Trust\n",
            "94 Vermin\n",
            "95 Video_Conference\n",
            "96 View\n",
            "97 Walls\n",
            "98 Window_Covering\n",
            "99 Wellness\n"
          ]
        }
      ]
    },
    {
      "cell_type": "code",
      "source": [
        "#any labels in labeling functions not in gold label\n",
        "#design was not a label used in gold labels\n",
        "c_gl_miss = [i for i in Label_Names_Lst if i not in new_column_names]\n",
        "print(c_gl_miss)"
      ],
      "metadata": {
        "colab": {
          "base_uri": "https://localhost:8080/"
        },
        "id": "-MuVO0-GjXcI",
        "outputId": "4abc526d-0c8a-4d67-c1c8-f7104212cd00"
      },
      "execution_count": null,
      "outputs": [
        {
          "output_type": "stream",
          "name": "stdout",
          "text": [
            "['Design']\n"
          ]
        }
      ]
    },
    {
      "cell_type": "code",
      "source": [
        "c_synth_miss = [i for i in Label_Names_Lst if i not in new_column_names_syn]\n",
        "print(c_synth_miss)"
      ],
      "metadata": {
        "colab": {
          "base_uri": "https://localhost:8080/"
        },
        "id": "BAyf5Iv81j3W",
        "outputId": "9200a834-732c-4dbb-d563-f24ff0af5eee"
      },
      "execution_count": null,
      "outputs": [
        {
          "output_type": "stream",
          "name": "stdout",
          "text": [
            "['Design']\n"
          ]
        }
      ]
    },
    {
      "cell_type": "code",
      "source": [
        "#sum up category rows to find then find the gold labels\n",
        "df_dislike_gl.fillna(0, inplace=True)\n",
        "df_dislike_gl[\"SUM\"]=df_dislike_gl.iloc[:, 3:].sum(axis=1)\n",
        "\n",
        "print(df_dislike_gl)\n"
      ],
      "metadata": {
        "colab": {
          "base_uri": "https://localhost:8080/"
        },
        "id": "9WweSwg_XcEF",
        "outputId": "cb7cae05-dccb-46e6-95a1-b31b503e79dc"
      },
      "execution_count": null,
      "outputs": [
        {
          "output_type": "stream",
          "name": "stdout",
          "text": [
            "       orig_indx        response_id  \\\n",
            "0         137747  R_2uqWxJXFyaZvCmH   \n",
            "1           7543  R_1cZDXzZD4mZ9gj4   \n",
            "2          59362  R_1C76pcMZ3h3wcRj   \n",
            "3         155040  R_1CBIFUxEHSH5IVV   \n",
            "4          66130  R_1qWoFBEt4ptFuvQ   \n",
            "...          ...                ...   \n",
            "9996       31852  R_2YsoO4m2N7A8DEf   \n",
            "9997       49178  R_3D5u7dPGi80CQgC   \n",
            "9998       98571  R_1qWAN5zZhfDBQ8l   \n",
            "9999      168017  R_1dcZwcAiAM5dDAA   \n",
            "10000     162475  R_2rNt2ciM2xPdB8s   \n",
            "\n",
            "                                                response  Acoustics  \\\n",
            "0      The acoustics. I am fortunate to have an offic...        1.0   \n",
            "1      At times, distractions from offices in close p...        0.0   \n",
            "2      Limited privacy, difficult to signal that you ...        0.0   \n",
            "3      Ã¤Â¼ÂšÃ¨Â­Â°Ã¥Â®Â¤Ã£Â€ÂÃ¤Â¼ÂšÃ¨Â­Â°Ã£Â‚Â¹Ã£Âƒ...        0.0   \n",
            "4      No access to natural light.\\nStorage spread ac...        0.0   \n",
            "...                                                  ...        ...   \n",
            "9996                               noise and distraction        0.0   \n",
            "9997   No se cuenta con baÃƒÂ±os separados de damas y...        0.0   \n",
            "9998                        The constant moving recently        0.0   \n",
            "9999   Too noisy and too many people put into a room ...        0.0   \n",
            "10000                              Not flexible o modern        0.0   \n",
            "\n",
            "       Aesthetics  Ailments  Air_Quality  Air_Temperature  Amenities  Art  \\\n",
            "0             0.0       0.0          0.0              1.0        0.0  0.0   \n",
            "1             0.0       0.0          0.0              0.0        0.0  0.0   \n",
            "2             0.0       0.0          0.0              0.0        0.0  0.0   \n",
            "3             0.0       0.0          0.0              0.0        0.0  0.0   \n",
            "4             0.0       0.0          0.0              0.0        0.0  0.0   \n",
            "...           ...       ...          ...              ...        ...  ...   \n",
            "9996          0.0       0.0          0.0              0.0        0.0  0.0   \n",
            "9997          0.0       0.0          0.0              0.0        0.0  0.0   \n",
            "9998          0.0       0.0          0.0              0.0        0.0  0.0   \n",
            "9999          0.0       0.0          0.0              0.0        0.0  0.0   \n",
            "10000         0.0       0.0          0.0              0.0        0.0  0.0   \n",
            "\n",
            "       ...  Telecommuting  Training_Room  Trust  Vermin  Video_Conference  \\\n",
            "0      ...            0.0            0.0    0.0     0.0               0.0   \n",
            "1      ...            0.0            0.0    0.0     0.0               0.0   \n",
            "2      ...            0.0            0.0    0.0     0.0               0.0   \n",
            "3      ...            0.0            0.0    0.0     0.0               0.0   \n",
            "4      ...            0.0            0.0    0.0     0.0               0.0   \n",
            "...    ...            ...            ...    ...     ...               ...   \n",
            "9996   ...            0.0            0.0    0.0     0.0               0.0   \n",
            "9997   ...            0.0            0.0    0.0     0.0               0.0   \n",
            "9998   ...            0.0            0.0    0.0     0.0               0.0   \n",
            "9999   ...            0.0            0.0    0.0     0.0               0.0   \n",
            "10000  ...            0.0            0.0    0.0     0.0               0.0   \n",
            "\n",
            "       View  Walls  Window_Covering  Wellness  SUM  \n",
            "0       0.0    0.0              0.0       0.0  3.0  \n",
            "1       0.0    0.0              0.0       0.0  1.0  \n",
            "2       0.0    0.0              0.0       0.0  2.0  \n",
            "3       0.0    0.0              0.0       0.0  1.0  \n",
            "4       0.0    0.0              0.0       0.0  3.0  \n",
            "...     ...    ...              ...       ...  ...  \n",
            "9996    0.0    0.0              0.0       0.0  0.0  \n",
            "9997    0.0    0.0              0.0       0.0  0.0  \n",
            "9998    0.0    0.0              0.0       0.0  0.0  \n",
            "9999    0.0    0.0              0.0       0.0  0.0  \n",
            "10000   0.0    0.0              0.0       0.0  0.0  \n",
            "\n",
            "[10001 rows x 101 columns]\n"
          ]
        }
      ]
    },
    {
      "cell_type": "code",
      "source": [
        "df_gl_trim=df_dislike_gl[df_dislike_gl[\"SUM\"]>0]\n",
        "#840 rows\n",
        "print(df_gl_trim)"
      ],
      "metadata": {
        "id": "FHHF65V-zUKQ",
        "colab": {
          "base_uri": "https://localhost:8080/"
        },
        "outputId": "8c25c0de-ffbc-4aaf-e8da-240d3f101b77"
      },
      "execution_count": null,
      "outputs": [
        {
          "output_type": "stream",
          "name": "stdout",
          "text": [
            "     orig_indx        response_id  \\\n",
            "0       137747  R_2uqWxJXFyaZvCmH   \n",
            "1         7543  R_1cZDXzZD4mZ9gj4   \n",
            "2        59362  R_1C76pcMZ3h3wcRj   \n",
            "3       155040  R_1CBIFUxEHSH5IVV   \n",
            "4        66130  R_1qWoFBEt4ptFuvQ   \n",
            "..         ...                ...   \n",
            "923      96970  R_1r0VKvK2TckKhmb   \n",
            "925      76559  R_5c228YlvGXypz3P   \n",
            "926      57191  R_3svIG5YtUDIBi0X   \n",
            "928     125688  R_2V2SLDhb4lU1FVi   \n",
            "930      46304  R_1ODgvJIEOklc04d   \n",
            "\n",
            "                                              response  Acoustics  Aesthetics  \\\n",
            "0    The acoustics. I am fortunate to have an offic...        1.0         0.0   \n",
            "1    At times, distractions from offices in close p...        0.0         0.0   \n",
            "2    Limited privacy, difficult to signal that you ...        0.0         0.0   \n",
            "3    Ã¤Â¼ÂšÃ¨Â­Â°Ã¥Â®Â¤Ã£Â€ÂÃ¤Â¼ÂšÃ¨Â­Â°Ã£Â‚Â¹Ã£Âƒ...        0.0         0.0   \n",
            "4    No access to natural light.\\nStorage spread ac...        0.0         0.0   \n",
            "..                                                 ...        ...         ...   \n",
            "923  Noise, inability to find space for private con...        0.0         0.0   \n",
            "925  Loud at times and being disturbed at times by ...        0.0         0.0   \n",
            "926                                El espacio saturado        0.0         0.0   \n",
            "928  Lost productive time due to travel and other m...        0.0         0.0   \n",
            "930  Hard to find a private space to be left alone ...        0.0         0.0   \n",
            "\n",
            "     Ailments  Air_Quality  Air_Temperature  Amenities  Art  ...  \\\n",
            "0         0.0          0.0              1.0        0.0  0.0  ...   \n",
            "1         0.0          0.0              0.0        0.0  0.0  ...   \n",
            "2         0.0          0.0              0.0        0.0  0.0  ...   \n",
            "3         0.0          0.0              0.0        0.0  0.0  ...   \n",
            "4         0.0          0.0              0.0        0.0  0.0  ...   \n",
            "..        ...          ...              ...        ...  ...  ...   \n",
            "923       0.0          0.0              0.0        0.0  0.0  ...   \n",
            "925       0.0          0.0              0.0        0.0  0.0  ...   \n",
            "926       0.0          0.0              0.0        0.0  0.0  ...   \n",
            "928       0.0          0.0              0.0        0.0  0.0  ...   \n",
            "930       0.0          0.0              0.0        0.0  0.0  ...   \n",
            "\n",
            "     Telecommuting  Training_Room  Trust  Vermin  Video_Conference  View  \\\n",
            "0              0.0            0.0    0.0     0.0               0.0   0.0   \n",
            "1              0.0            0.0    0.0     0.0               0.0   0.0   \n",
            "2              0.0            0.0    0.0     0.0               0.0   0.0   \n",
            "3              0.0            0.0    0.0     0.0               0.0   0.0   \n",
            "4              0.0            0.0    0.0     0.0               0.0   0.0   \n",
            "..             ...            ...    ...     ...               ...   ...   \n",
            "923            0.0            0.0    0.0     0.0               0.0   0.0   \n",
            "925            0.0            0.0    0.0     0.0               0.0   0.0   \n",
            "926            0.0            0.0    0.0     0.0               0.0   0.0   \n",
            "928            0.0            0.0    0.0     0.0               0.0   0.0   \n",
            "930            0.0            0.0    0.0     0.0               0.0   0.0   \n",
            "\n",
            "     Walls  Window_Covering  Wellness  SUM  \n",
            "0      0.0              0.0       0.0  3.0  \n",
            "1      0.0              0.0       0.0  1.0  \n",
            "2      0.0              0.0       0.0  2.0  \n",
            "3      0.0              0.0       0.0  1.0  \n",
            "4      0.0              0.0       0.0  3.0  \n",
            "..     ...              ...       ...  ...  \n",
            "923    0.0              0.0       0.0  3.0  \n",
            "925    0.0              0.0       0.0  2.0  \n",
            "926    0.0              0.0       0.0  1.0  \n",
            "928    0.0              0.0       0.0  2.0  \n",
            "930    0.0              0.0       0.0  1.0  \n",
            "\n",
            "[840 rows x 101 columns]\n"
          ]
        }
      ]
    },
    {
      "cell_type": "code",
      "source": [
        "!pip install langdetect"
      ],
      "metadata": {
        "colab": {
          "base_uri": "https://localhost:8080/"
        },
        "id": "9QXQZSpqzzF-",
        "outputId": "154518d4-80de-47c7-8653-53955e16040d"
      },
      "execution_count": null,
      "outputs": [
        {
          "output_type": "stream",
          "name": "stdout",
          "text": [
            "Collecting langdetect\n",
            "  Downloading langdetect-1.0.9.tar.gz (981 kB)\n",
            "\u001b[2K     \u001b[90m━━━━━━━━━━━━━━━━━━━━━━━━━━━━━━━━━━━━━━━━\u001b[0m \u001b[32m981.5/981.5 kB\u001b[0m \u001b[31m7.0 MB/s\u001b[0m eta \u001b[36m0:00:00\u001b[0m\n",
            "\u001b[?25h  Preparing metadata (setup.py) ... \u001b[?25l\u001b[?25hdone\n",
            "Requirement already satisfied: six in /usr/local/lib/python3.10/dist-packages (from langdetect) (1.16.0)\n",
            "Building wheels for collected packages: langdetect\n",
            "  Building wheel for langdetect (setup.py) ... \u001b[?25l\u001b[?25hdone\n",
            "  Created wheel for langdetect: filename=langdetect-1.0.9-py3-none-any.whl size=993225 sha256=65def501177269b87faa59d58cbdf343e33192d155f7c7e2b95ca2dcd0f27836\n",
            "  Stored in directory: /root/.cache/pip/wheels/95/03/7d/59ea870c70ce4e5a370638b5462a7711ab78fba2f655d05106\n",
            "Successfully built langdetect\n",
            "Installing collected packages: langdetect\n",
            "Successfully installed langdetect-1.0.9\n"
          ]
        }
      ]
    },
    {
      "cell_type": "code",
      "source": [
        "from langdetect import detect\n",
        "#detect(\"War doesn't show who's right, just who's left.\")"
      ],
      "metadata": {
        "id": "V8TrdBbT0LVh"
      },
      "execution_count": null,
      "outputs": []
    },
    {
      "cell_type": "code",
      "source": [
        "def lang_detect(text):\n",
        "  try:\n",
        "    lang=detect(text)\n",
        "    if lang == \"en\":\n",
        "      return 1\n",
        "    else:\n",
        "      return 0\n",
        "  except:\n",
        "    return 0\n",
        "\n",
        "\n",
        "df_gl_trim[\"Eng_Detect\"]= df_gl_trim.apply(lambda x: lang_detect(x['response']), axis=1)"
      ],
      "metadata": {
        "colab": {
          "base_uri": "https://localhost:8080/"
        },
        "id": "-wdfDuLF0Ob_",
        "outputId": "a0e6a6bd-9395-4018-8504-4e87b2983d88"
      },
      "execution_count": null,
      "outputs": [
        {
          "output_type": "stream",
          "name": "stderr",
          "text": [
            "<ipython-input-84-cfad8295234f>:12: SettingWithCopyWarning: \n",
            "A value is trying to be set on a copy of a slice from a DataFrame.\n",
            "Try using .loc[row_indexer,col_indexer] = value instead\n",
            "\n",
            "See the caveats in the documentation: https://pandas.pydata.org/pandas-docs/stable/user_guide/indexing.html#returning-a-view-versus-a-copy\n",
            "  df_gl_trim[\"Eng_Detect\"]= df_gl_trim.apply(lambda x: lang_detect(x['response']), axis=1)\n"
          ]
        }
      ]
    },
    {
      "cell_type": "code",
      "source": [
        "#this will be the test\n",
        "df_eng_gl=df_gl_trim[df_gl_trim[\"Eng_Detect\"]==1]\n",
        "print(df_eng_gl.shape)"
      ],
      "metadata": {
        "colab": {
          "base_uri": "https://localhost:8080/"
        },
        "id": "LTiEoE0A8G3G",
        "outputId": "48e91106-877e-4248-8de9-d2cc207f7399"
      },
      "execution_count": null,
      "outputs": [
        {
          "output_type": "stream",
          "name": "stdout",
          "text": [
            "(699, 102)\n"
          ]
        }
      ]
    },
    {
      "cell_type": "code",
      "source": [
        "#takeout gls out of training data\n",
        "\n",
        "response_id=df_eng_gl[\"response_id\"].tolist()\n",
        "\n",
        "df_train=df_dislike_trn[~df_dislike_trn.response_id.isin(response_id)]\n"
      ],
      "metadata": {
        "id": "eUgzjeExMu1r"
      },
      "execution_count": null,
      "outputs": []
    },
    {
      "cell_type": "code",
      "source": [
        "print(df_train.shape)"
      ],
      "metadata": {
        "colab": {
          "base_uri": "https://localhost:8080/"
        },
        "id": "2KaE_tE1NO0k",
        "outputId": "7c385349-3f07-422a-8780-0eb685ff9e04"
      },
      "execution_count": null,
      "outputs": [
        {
          "output_type": "stream",
          "name": "stdout",
          "text": [
            "(131704, 46)\n"
          ]
        }
      ]
    },
    {
      "cell_type": "code",
      "source": [
        "#STOPPED HERE WHAT ABOUT TWO WORD NAMES? Don't USE?\n",
        "\n",
        "#Workforce_Needs=[\"Policy_Benefits\", \"Health_Safety\"]\n",
        "#Workforce Needs\n",
        "#Health_Safety=[\"Mold\", \"Vermin\", \"Homeless\", \"Clean_Neat\", \"Messiness_Or_Unclean\", \"Security\", \"Bathrooms\", \"Handicap\"]\n",
        "#Policy_Benefits=[\"Policy\", \"Benefits\", \"Fitness\", \"Childcare\", \"Telecommuting\", \"Food_Drinks\", \"Learning\", \"Miscellaneous\"]\n",
        "#Policy_Benefits Sub-Subcategory\n",
        "#Miscellaneous=[\"Anything\", \"Everything\", \"Nothing\", \"Do_Not_Know\"]\n",
        "\n",
        "import itertools\n",
        "from itertools import chain\n",
        "\n",
        "#>>> def flatten_chain(matrix):\n",
        "#...     return list(chain.from_iterable(matrix))\n",
        "Workforce_Needs_LFs=[]\n",
        "\n",
        "for itms in Workforce_Needs:\n",
        "  Workforce_Needs_LFs.append(itms)\n",
        "  #the series of \"try\" are to add in any list with the name of the\n",
        "  #item in the for loop\n",
        "  try:\n",
        "    lf_lst=eval(itms)\n",
        "    print(lf_lst)\n",
        "    for lf in lf_lst:\n",
        "      print(lf)\n",
        "      Workforce_Needs_LFs.append(lf)\n",
        "      try:\n",
        "        sub_lfs=eval(lf)\n",
        "        for sub_lf in sub_lfs:\n",
        "          Workforce_Needs_LFs.append(sub_lf)\n",
        "      except:\n",
        "        pass\n",
        "  except:\n",
        "    pass\n",
        "\n",
        "print(len(Workforce_Needs_LFs))\n",
        "print(Workforce_Needs_LFs)\n",
        "\n",
        "\n",
        "#Fin_LFs_Dct=dict.fromkeys(\"Workforce_Needs_LFs\": Workforce_Needs_LFs)"
      ],
      "metadata": {
        "colab": {
          "base_uri": "https://localhost:8080/"
        },
        "id": "3g2WwwaX3wKT",
        "outputId": "393444aa-4764-4049-e9d3-415e7b71c545"
      },
      "execution_count": null,
      "outputs": [
        {
          "output_type": "stream",
          "name": "stdout",
          "text": [
            "['Policy', 'Benefits', 'Fitness', 'Childcare', 'Telecommuting', 'Food_Drinks', 'Learning', 'Miscellaneous']\n",
            "Policy\n",
            "Benefits\n",
            "Fitness\n",
            "Childcare\n",
            "Telecommuting\n",
            "Food_Drinks\n",
            "Learning\n",
            "Miscellaneous\n",
            "['Mold', 'Vermin', 'Homeless', 'Clean_Neat', 'Messiness_Or_Unclean', 'Security', 'Bathrooms', 'Handicap']\n",
            "Mold\n",
            "Vermin\n",
            "Homeless\n",
            "Clean_Neat\n",
            "Messiness_Or_Unclean\n",
            "Security\n",
            "Bathrooms\n",
            "Handicap\n",
            "164\n",
            "['Policy_Benefits', 'Policy', 'Benefits', 'pto', 'time off', 'vacation', 'health insurance', '401K', 'benefits', 'paid time off', 'profit sharing', 'insurance', 'leave time', 'Fitness', 'gym', 'fitness', 'workout', 'yoga', 'wellness', 'exercise', 'gymnasium', 'weights', 'treadmill', 'treadmills', 'peloton', 'aerobics', 'pilates', 'barre', 'pools', 'swimming', 'pool', 'onsite fitness', 'Childcare', 'day care', 'daycare', 'after school', 'afterschool', 'child care', 'childcare', 'preschool', 'pre-school', 'Telecommuting', 'telecommute', 'working from home', 'telecommuting', 'telecommuted', 'teleworking', 'working virtually', 'home office', 'homeoffice', 'telework', 'virtual work', 'remote', 'remotely', 'work from home', 'cyber commuting', 'cybercommuting', 'hybrid', 'Food_Drinks', 'Learning', 'learning', 'training', 'sharing knowledge', 'knowledge building', 'learn', 'courses', 'education', 'educate', 'Miscellaneous', 'Anything', 'Everything', 'Nothing', 'Do_Not_Know', 'Health_Safety', 'Mold', 'mold', 'mildew', 'fungus', 'Vermin', 'insects', 'spiders', 'spider', 'flies', 'cockroaches', 'bugs', 'bug', 'roach', 'roaches', 'mice', 'rat', 'rats', 'rodent', 'rodents', 'pests', 'critters', 'mosquito', 'mosquitos', 'vermin', 'mices', 'moths', 'fruit flies', 'mouse', 'Homeless', 'homeless', 'vagrants', 'panhandlers', 'waif', 'homelessness', 'tent city', 'Clean_Neat', 'cleanliness', 'cleaning', 'clean', 'cleaned', 'tidy', 'cleanest', 'cleaniest', 'neat', 'neatness', 'hygiene', 'sanitary', 'sanitation', 'orderly', 'stained', 'hygienic', 'cleanest', 'vacuum', 'housekeeping', 'cleaners', 'cleanliness', 'Messiness_Or_Unclean', 'messiness', 'dirty', 'untidy', 'unhygienic', 'unsanitary', 'garbage', 'dust', 'stains', 'cruddy', 'stained', 'soiled', 'sullied', 'unclean', 'uncleanly', 'insanitary', 'sordid', 'germs', 'germy', 'tainted', 'Security', 'security', 'safety', 'unsecure', 'alarm', 'unsafe', 'Bathrooms', 'Handicap', 'handicap access', 'ADA', 'accessible', 'accesible', 'inclusive design', 'universal design']\n",
            "TRUE\n"
          ]
        }
      ]
    },
    {
      "cell_type": "code",
      "source": [
        "Health_Safety_LFs=[]\n",
        "\n",
        "for itms in Health_Safety:\n",
        "  Health_Safety_LFs.append(itms)\n",
        "  #the series of \"try\" are to add in any list with the name of the\n",
        "  #item in the for loop\n",
        "  try:\n",
        "    lf_lst=eval(itms)\n",
        "    print(lf_lst)\n",
        "    for lf in lf_lst:\n",
        "      print(lf)\n",
        "      Health_Safety_LFs.append(lf)\n",
        "\n",
        "  except:\n",
        "    pass\n",
        "\n",
        "print(len(Health_Safety_LFs))\n",
        "print(Health_Safety_LFs)\n",
        "\n",
        "\n"
      ],
      "metadata": {
        "colab": {
          "base_uri": "https://localhost:8080/"
        },
        "id": "rbK4r_fN-HeF",
        "outputId": "03667a75-cdcc-4671-e3b1-97d18d36dceb"
      },
      "execution_count": null,
      "outputs": [
        {
          "output_type": "stream",
          "name": "stdout",
          "text": [
            "['mold', 'mildew', 'fungus']\n",
            "mold\n",
            "mildew\n",
            "fungus\n",
            "['insects', 'spiders', 'spider', 'flies', 'cockroaches', 'bugs', 'bug', 'roach', 'roaches', 'mice', 'rat', 'rats', 'rodent', 'rodents', 'pests', 'critters', 'mosquito', 'mosquitos', 'vermin', 'mices', 'moths', 'fruit flies', 'mouse']\n",
            "insects\n",
            "spiders\n",
            "spider\n",
            "flies\n",
            "cockroaches\n",
            "bugs\n",
            "bug\n",
            "roach\n",
            "roaches\n",
            "mice\n",
            "rat\n",
            "rats\n",
            "rodent\n",
            "rodents\n",
            "pests\n",
            "critters\n",
            "mosquito\n",
            "mosquitos\n",
            "vermin\n",
            "mices\n",
            "moths\n",
            "fruit flies\n",
            "mouse\n",
            "['homeless', 'vagrants', 'panhandlers', 'waif', 'homelessness', 'tent city']\n",
            "homeless\n",
            "vagrants\n",
            "panhandlers\n",
            "waif\n",
            "homelessness\n",
            "tent city\n",
            "['cleanliness', 'cleaning', 'clean', 'cleaned', 'tidy', 'cleanest', 'cleaniest', 'neat', 'neatness', 'hygiene', 'sanitary', 'sanitation', 'orderly', 'stained', 'hygienic', 'cleanest', 'vacuum', 'housekeeping', 'cleaners', 'cleanliness']\n",
            "cleanliness\n",
            "cleaning\n",
            "clean\n",
            "cleaned\n",
            "tidy\n",
            "cleanest\n",
            "cleaniest\n",
            "neat\n",
            "neatness\n",
            "hygiene\n",
            "sanitary\n",
            "sanitation\n",
            "orderly\n",
            "stained\n",
            "hygienic\n",
            "cleanest\n",
            "vacuum\n",
            "housekeeping\n",
            "cleaners\n",
            "cleanliness\n",
            "['messiness', 'dirty', 'untidy', 'unhygienic', 'unsanitary', 'garbage', 'dust', 'stains', 'cruddy', 'stained', 'soiled', 'sullied', 'unclean', 'uncleanly', 'insanitary', 'sordid', 'germs', 'germy', 'tainted']\n",
            "messiness\n",
            "dirty\n",
            "untidy\n",
            "unhygienic\n",
            "unsanitary\n",
            "garbage\n",
            "dust\n",
            "stains\n",
            "cruddy\n",
            "stained\n",
            "soiled\n",
            "sullied\n",
            "unclean\n",
            "uncleanly\n",
            "insanitary\n",
            "sordid\n",
            "germs\n",
            "germy\n",
            "tainted\n",
            "['security', 'safety', 'unsecure', 'alarm', 'unsafe']\n",
            "security\n",
            "safety\n",
            "unsecure\n",
            "alarm\n",
            "unsafe\n",
            "['handicap access', 'ADA', 'accessible', 'accesible', 'inclusive design', 'universal design']\n",
            "handicap access\n",
            "ADA\n",
            "accessible\n",
            "accesible\n",
            "inclusive design\n",
            "universal design\n",
            "90\n",
            "['Mold', 'mold', 'mildew', 'fungus', 'Vermin', 'insects', 'spiders', 'spider', 'flies', 'cockroaches', 'bugs', 'bug', 'roach', 'roaches', 'mice', 'rat', 'rats', 'rodent', 'rodents', 'pests', 'critters', 'mosquito', 'mosquitos', 'vermin', 'mices', 'moths', 'fruit flies', 'mouse', 'Homeless', 'homeless', 'vagrants', 'panhandlers', 'waif', 'homelessness', 'tent city', 'Clean_Neat', 'cleanliness', 'cleaning', 'clean', 'cleaned', 'tidy', 'cleanest', 'cleaniest', 'neat', 'neatness', 'hygiene', 'sanitary', 'sanitation', 'orderly', 'stained', 'hygienic', 'cleanest', 'vacuum', 'housekeeping', 'cleaners', 'cleanliness', 'Messiness_Or_Unclean', 'messiness', 'dirty', 'untidy', 'unhygienic', 'unsanitary', 'garbage', 'dust', 'stains', 'cruddy', 'stained', 'soiled', 'sullied', 'unclean', 'uncleanly', 'insanitary', 'sordid', 'germs', 'germy', 'tainted', 'Security', 'security', 'safety', 'unsecure', 'alarm', 'unsafe', 'Bathrooms', 'Handicap', 'handicap access', 'ADA', 'accessible', 'accesible', 'inclusive design', 'universal design']\n"
          ]
        }
      ]
    },
    {
      "cell_type": "code",
      "source": [
        "from google.colab import files\n",
        "\n",
        "\n",
        "\n",
        "df_eng_gl.to_csv('df_dislike_gl012024.csv')\n",
        "files.download('df_dislike_gl012024.csv')"
      ],
      "metadata": {
        "colab": {
          "base_uri": "https://localhost:8080/",
          "height": 17
        },
        "id": "NAmk1HpH-BBf",
        "outputId": "426ca621-0381-4123-98f1-3ad32aafb22d"
      },
      "execution_count": null,
      "outputs": [
        {
          "output_type": "display_data",
          "data": {
            "text/plain": [
              "<IPython.core.display.Javascript object>"
            ],
            "application/javascript": [
              "\n",
              "    async function download(id, filename, size) {\n",
              "      if (!google.colab.kernel.accessAllowed) {\n",
              "        return;\n",
              "      }\n",
              "      const div = document.createElement('div');\n",
              "      const label = document.createElement('label');\n",
              "      label.textContent = `Downloading \"${filename}\": `;\n",
              "      div.appendChild(label);\n",
              "      const progress = document.createElement('progress');\n",
              "      progress.max = size;\n",
              "      div.appendChild(progress);\n",
              "      document.body.appendChild(div);\n",
              "\n",
              "      const buffers = [];\n",
              "      let downloaded = 0;\n",
              "\n",
              "      const channel = await google.colab.kernel.comms.open(id);\n",
              "      // Send a message to notify the kernel that we're ready.\n",
              "      channel.send({})\n",
              "\n",
              "      for await (const message of channel.messages) {\n",
              "        // Send a message to notify the kernel that we're ready.\n",
              "        channel.send({})\n",
              "        if (message.buffers) {\n",
              "          for (const buffer of message.buffers) {\n",
              "            buffers.push(buffer);\n",
              "            downloaded += buffer.byteLength;\n",
              "            progress.value = downloaded;\n",
              "          }\n",
              "        }\n",
              "      }\n",
              "      const blob = new Blob(buffers, {type: 'application/binary'});\n",
              "      const a = document.createElement('a');\n",
              "      a.href = window.URL.createObjectURL(blob);\n",
              "      a.download = filename;\n",
              "      div.appendChild(a);\n",
              "      a.click();\n",
              "      div.remove();\n",
              "    }\n",
              "  "
            ]
          },
          "metadata": {}
        },
        {
          "output_type": "display_data",
          "data": {
            "text/plain": [
              "<IPython.core.display.Javascript object>"
            ],
            "application/javascript": [
              "download(\"download_7def4a8d-f921-459e-b30d-0323b10cc3bc\", \"df_dislike_gl012024.csv\", 379403)"
            ]
          },
          "metadata": {}
        }
      ]
    },
    {
      "cell_type": "code",
      "source": [
        "df_train.to_csv('df_dislike_train012024.csv')\n",
        "files.download('df_dislike_train012024.csv')"
      ],
      "metadata": {
        "colab": {
          "base_uri": "https://localhost:8080/",
          "height": 17
        },
        "id": "HigUwFke_snI",
        "outputId": "fd28dfe2-a735-42ac-fc31-5851da9ae627"
      },
      "execution_count": null,
      "outputs": [
        {
          "output_type": "display_data",
          "data": {
            "text/plain": [
              "<IPython.core.display.Javascript object>"
            ],
            "application/javascript": [
              "\n",
              "    async function download(id, filename, size) {\n",
              "      if (!google.colab.kernel.accessAllowed) {\n",
              "        return;\n",
              "      }\n",
              "      const div = document.createElement('div');\n",
              "      const label = document.createElement('label');\n",
              "      label.textContent = `Downloading \"${filename}\": `;\n",
              "      div.appendChild(label);\n",
              "      const progress = document.createElement('progress');\n",
              "      progress.max = size;\n",
              "      div.appendChild(progress);\n",
              "      document.body.appendChild(div);\n",
              "\n",
              "      const buffers = [];\n",
              "      let downloaded = 0;\n",
              "\n",
              "      const channel = await google.colab.kernel.comms.open(id);\n",
              "      // Send a message to notify the kernel that we're ready.\n",
              "      channel.send({})\n",
              "\n",
              "      for await (const message of channel.messages) {\n",
              "        // Send a message to notify the kernel that we're ready.\n",
              "        channel.send({})\n",
              "        if (message.buffers) {\n",
              "          for (const buffer of message.buffers) {\n",
              "            buffers.push(buffer);\n",
              "            downloaded += buffer.byteLength;\n",
              "            progress.value = downloaded;\n",
              "          }\n",
              "        }\n",
              "      }\n",
              "      const blob = new Blob(buffers, {type: 'application/binary'});\n",
              "      const a = document.createElement('a');\n",
              "      a.href = window.URL.createObjectURL(blob);\n",
              "      a.download = filename;\n",
              "      div.appendChild(a);\n",
              "      a.click();\n",
              "      div.remove();\n",
              "    }\n",
              "  "
            ]
          },
          "metadata": {}
        },
        {
          "output_type": "display_data",
          "data": {
            "text/plain": [
              "<IPython.core.display.Javascript object>"
            ],
            "application/javascript": [
              "download(\"download_0e637eb4-9fc8-49ee-b52e-27aa4e18b102\", \"df_dislike_train012024.csv\", 121126116)"
            ]
          },
          "metadata": {}
        }
      ]
    },
    {
      "cell_type": "code",
      "source": [
        "filename = 'df_dislike_gl012024.csv'\n",
        "\n",
        "df_eng_gl.to_csv('/content/drive/MyDrive/' + filename)\n"
      ],
      "metadata": {
        "id": "XZw3brY0AAKS"
      },
      "execution_count": null,
      "outputs": []
    },
    {
      "cell_type": "code",
      "source": [
        "filename = 'df_dislike_train012024.csv'\n",
        "\n",
        "df_train.to_csv('/content/drive/MyDrive/' + filename)"
      ],
      "metadata": {
        "id": "zVFgx48sASMQ"
      },
      "execution_count": null,
      "outputs": []
    },
    {
      "cell_type": "code",
      "source": [
        "filename = 'df_Sub_LFs012024.csv'\n",
        "\n",
        "df_train.to_csv('/content/drive/MyDrive/' + filename)"
      ],
      "metadata": {
        "id": "2UDoe2TYAYdp"
      },
      "execution_count": null,
      "outputs": []
    },
    {
      "cell_type": "code",
      "source": [
        "for heading in LFs:\n",
        "  print(heading)"
      ],
      "metadata": {
        "colab": {
          "base_uri": "https://localhost:8080/",
          "height": 193
        },
        "id": "4Qa_JT9mQ5KQ",
        "outputId": "36b772f3-dfdc-486e-aef3-f79be82c850c"
      },
      "execution_count": null,
      "outputs": [
        {
          "output_type": "error",
          "ename": "NameError",
          "evalue": "name 'LFs' is not defined",
          "traceback": [
            "\u001b[0;31m---------------------------------------------------------------------------\u001b[0m",
            "\u001b[0;31mNameError\u001b[0m                                 Traceback (most recent call last)",
            "\u001b[0;32m<ipython-input-88-9f503d3fc447>\u001b[0m in \u001b[0;36m<cell line: 1>\u001b[0;34m()\u001b[0m\n\u001b[0;32m----> 1\u001b[0;31m \u001b[0;32mfor\u001b[0m \u001b[0mheading\u001b[0m \u001b[0;32min\u001b[0m \u001b[0mLFs\u001b[0m\u001b[0;34m:\u001b[0m\u001b[0;34m\u001b[0m\u001b[0;34m\u001b[0m\u001b[0m\n\u001b[0m\u001b[1;32m      2\u001b[0m   \u001b[0mprint\u001b[0m\u001b[0;34m(\u001b[0m\u001b[0mheading\u001b[0m\u001b[0;34m)\u001b[0m\u001b[0;34m\u001b[0m\u001b[0;34m\u001b[0m\u001b[0m\n",
            "\u001b[0;31mNameError\u001b[0m: name 'LFs' is not defined"
          ]
        }
      ]
    },
    {
      "cell_type": "code",
      "source": [
        "print((LFs.loc[2:, 1:]))\n",
        "\n"
      ],
      "metadata": {
        "colab": {
          "base_uri": "https://localhost:8080/",
          "height": 355
        },
        "id": "gntd_8EgUq7H",
        "outputId": "d4024696-7aa2-4dc8-ecc4-94cd82dbe209"
      },
      "execution_count": null,
      "outputs": [
        {
          "output_type": "error",
          "ename": "TypeError",
          "evalue": "ignored",
          "traceback": [
            "\u001b[0;31m---------------------------------------------------------------------------\u001b[0m",
            "\u001b[0;31mTypeError\u001b[0m                                 Traceback (most recent call last)",
            "\u001b[0;32m<ipython-input-30-93c0d04a70fa>\u001b[0m in \u001b[0;36m<cell line: 1>\u001b[0;34m()\u001b[0m\n\u001b[0;32m----> 1\u001b[0;31m \u001b[0mprint\u001b[0m\u001b[0;34m(\u001b[0m\u001b[0;34m(\u001b[0m\u001b[0mLFs\u001b[0m\u001b[0;34m.\u001b[0m\u001b[0mloc\u001b[0m\u001b[0;34m[\u001b[0m\u001b[0;36m2\u001b[0m\u001b[0;34m:\u001b[0m\u001b[0;34m,\u001b[0m \u001b[0;36m1\u001b[0m\u001b[0;34m:\u001b[0m\u001b[0;34m]\u001b[0m\u001b[0;34m)\u001b[0m\u001b[0;34m)\u001b[0m\u001b[0;34m\u001b[0m\u001b[0;34m\u001b[0m\u001b[0m\n\u001b[0m\u001b[1;32m      2\u001b[0m \u001b[0;34m\u001b[0m\u001b[0m\n",
            "\u001b[0;32m/usr/local/lib/python3.10/dist-packages/pandas/core/indexing.py\u001b[0m in \u001b[0;36m__getitem__\u001b[0;34m(self, key)\u001b[0m\n\u001b[1;32m   1065\u001b[0m             \u001b[0;32mif\u001b[0m \u001b[0mself\u001b[0m\u001b[0;34m.\u001b[0m\u001b[0m_is_scalar_access\u001b[0m\u001b[0;34m(\u001b[0m\u001b[0mkey\u001b[0m\u001b[0;34m)\u001b[0m\u001b[0;34m:\u001b[0m\u001b[0;34m\u001b[0m\u001b[0;34m\u001b[0m\u001b[0m\n\u001b[1;32m   1066\u001b[0m                 \u001b[0;32mreturn\u001b[0m \u001b[0mself\u001b[0m\u001b[0;34m.\u001b[0m\u001b[0mobj\u001b[0m\u001b[0;34m.\u001b[0m\u001b[0m_get_value\u001b[0m\u001b[0;34m(\u001b[0m\u001b[0;34m*\u001b[0m\u001b[0mkey\u001b[0m\u001b[0;34m,\u001b[0m \u001b[0mtakeable\u001b[0m\u001b[0;34m=\u001b[0m\u001b[0mself\u001b[0m\u001b[0;34m.\u001b[0m\u001b[0m_takeable\u001b[0m\u001b[0;34m)\u001b[0m\u001b[0;34m\u001b[0m\u001b[0;34m\u001b[0m\u001b[0m\n\u001b[0;32m-> 1067\u001b[0;31m             \u001b[0;32mreturn\u001b[0m \u001b[0mself\u001b[0m\u001b[0;34m.\u001b[0m\u001b[0m_getitem_tuple\u001b[0m\u001b[0;34m(\u001b[0m\u001b[0mkey\u001b[0m\u001b[0;34m)\u001b[0m\u001b[0;34m\u001b[0m\u001b[0;34m\u001b[0m\u001b[0m\n\u001b[0m\u001b[1;32m   1068\u001b[0m         \u001b[0;32melse\u001b[0m\u001b[0;34m:\u001b[0m\u001b[0;34m\u001b[0m\u001b[0;34m\u001b[0m\u001b[0m\n\u001b[1;32m   1069\u001b[0m             \u001b[0;31m# we by definition only have the 0th axis\u001b[0m\u001b[0;34m\u001b[0m\u001b[0;34m\u001b[0m\u001b[0m\n",
            "\u001b[0;32m/usr/local/lib/python3.10/dist-packages/pandas/core/indexing.py\u001b[0m in \u001b[0;36m_getitem_tuple\u001b[0;34m(self, tup)\u001b[0m\n\u001b[1;32m   1254\u001b[0m             \u001b[0;32mreturn\u001b[0m \u001b[0mself\u001b[0m\u001b[0;34m.\u001b[0m\u001b[0m_multi_take\u001b[0m\u001b[0;34m(\u001b[0m\u001b[0mtup\u001b[0m\u001b[0;34m)\u001b[0m\u001b[0;34m\u001b[0m\u001b[0;34m\u001b[0m\u001b[0m\n\u001b[1;32m   1255\u001b[0m \u001b[0;34m\u001b[0m\u001b[0m\n\u001b[0;32m-> 1256\u001b[0;31m         \u001b[0;32mreturn\u001b[0m \u001b[0mself\u001b[0m\u001b[0;34m.\u001b[0m\u001b[0m_getitem_tuple_same_dim\u001b[0m\u001b[0;34m(\u001b[0m\u001b[0mtup\u001b[0m\u001b[0;34m)\u001b[0m\u001b[0;34m\u001b[0m\u001b[0;34m\u001b[0m\u001b[0m\n\u001b[0m\u001b[1;32m   1257\u001b[0m \u001b[0;34m\u001b[0m\u001b[0m\n\u001b[1;32m   1258\u001b[0m     \u001b[0;32mdef\u001b[0m \u001b[0m_get_label\u001b[0m\u001b[0;34m(\u001b[0m\u001b[0mself\u001b[0m\u001b[0;34m,\u001b[0m \u001b[0mlabel\u001b[0m\u001b[0;34m,\u001b[0m \u001b[0maxis\u001b[0m\u001b[0;34m:\u001b[0m \u001b[0mint\u001b[0m\u001b[0;34m)\u001b[0m\u001b[0;34m:\u001b[0m\u001b[0;34m\u001b[0m\u001b[0;34m\u001b[0m\u001b[0m\n",
            "\u001b[0;32m/usr/local/lib/python3.10/dist-packages/pandas/core/indexing.py\u001b[0m in \u001b[0;36m_getitem_tuple_same_dim\u001b[0;34m(self, tup)\u001b[0m\n\u001b[1;32m    922\u001b[0m                 \u001b[0;32mcontinue\u001b[0m\u001b[0;34m\u001b[0m\u001b[0;34m\u001b[0m\u001b[0m\n\u001b[1;32m    923\u001b[0m \u001b[0;34m\u001b[0m\u001b[0m\n\u001b[0;32m--> 924\u001b[0;31m             \u001b[0mretval\u001b[0m \u001b[0;34m=\u001b[0m \u001b[0mgetattr\u001b[0m\u001b[0;34m(\u001b[0m\u001b[0mretval\u001b[0m\u001b[0;34m,\u001b[0m \u001b[0mself\u001b[0m\u001b[0;34m.\u001b[0m\u001b[0mname\u001b[0m\u001b[0;34m)\u001b[0m\u001b[0;34m.\u001b[0m\u001b[0m_getitem_axis\u001b[0m\u001b[0;34m(\u001b[0m\u001b[0mkey\u001b[0m\u001b[0;34m,\u001b[0m \u001b[0maxis\u001b[0m\u001b[0;34m=\u001b[0m\u001b[0mi\u001b[0m\u001b[0;34m)\u001b[0m\u001b[0;34m\u001b[0m\u001b[0;34m\u001b[0m\u001b[0m\n\u001b[0m\u001b[1;32m    925\u001b[0m             \u001b[0;31m# We should never have retval.ndim < self.ndim, as that should\u001b[0m\u001b[0;34m\u001b[0m\u001b[0;34m\u001b[0m\u001b[0m\n\u001b[1;32m    926\u001b[0m             \u001b[0;31m#  be handled by the _getitem_lowerdim call above.\u001b[0m\u001b[0;34m\u001b[0m\u001b[0;34m\u001b[0m\u001b[0m\n",
            "\u001b[0;32m/usr/local/lib/python3.10/dist-packages/pandas/core/indexing.py\u001b[0m in \u001b[0;36m_getitem_axis\u001b[0;34m(self, key, axis)\u001b[0m\n\u001b[1;32m   1288\u001b[0m         \u001b[0;32mif\u001b[0m \u001b[0misinstance\u001b[0m\u001b[0;34m(\u001b[0m\u001b[0mkey\u001b[0m\u001b[0;34m,\u001b[0m \u001b[0mslice\u001b[0m\u001b[0;34m)\u001b[0m\u001b[0;34m:\u001b[0m\u001b[0;34m\u001b[0m\u001b[0;34m\u001b[0m\u001b[0m\n\u001b[1;32m   1289\u001b[0m             \u001b[0mself\u001b[0m\u001b[0;34m.\u001b[0m\u001b[0m_validate_key\u001b[0m\u001b[0;34m(\u001b[0m\u001b[0mkey\u001b[0m\u001b[0;34m,\u001b[0m \u001b[0maxis\u001b[0m\u001b[0;34m)\u001b[0m\u001b[0;34m\u001b[0m\u001b[0;34m\u001b[0m\u001b[0m\n\u001b[0;32m-> 1290\u001b[0;31m             \u001b[0;32mreturn\u001b[0m \u001b[0mself\u001b[0m\u001b[0;34m.\u001b[0m\u001b[0m_get_slice_axis\u001b[0m\u001b[0;34m(\u001b[0m\u001b[0mkey\u001b[0m\u001b[0;34m,\u001b[0m \u001b[0maxis\u001b[0m\u001b[0;34m=\u001b[0m\u001b[0maxis\u001b[0m\u001b[0;34m)\u001b[0m\u001b[0;34m\u001b[0m\u001b[0;34m\u001b[0m\u001b[0m\n\u001b[0m\u001b[1;32m   1291\u001b[0m         \u001b[0;32melif\u001b[0m \u001b[0mcom\u001b[0m\u001b[0;34m.\u001b[0m\u001b[0mis_bool_indexer\u001b[0m\u001b[0;34m(\u001b[0m\u001b[0mkey\u001b[0m\u001b[0;34m)\u001b[0m\u001b[0;34m:\u001b[0m\u001b[0;34m\u001b[0m\u001b[0;34m\u001b[0m\u001b[0m\n\u001b[1;32m   1292\u001b[0m             \u001b[0;32mreturn\u001b[0m \u001b[0mself\u001b[0m\u001b[0;34m.\u001b[0m\u001b[0m_getbool_axis\u001b[0m\u001b[0;34m(\u001b[0m\u001b[0mkey\u001b[0m\u001b[0;34m,\u001b[0m \u001b[0maxis\u001b[0m\u001b[0;34m=\u001b[0m\u001b[0maxis\u001b[0m\u001b[0;34m)\u001b[0m\u001b[0;34m\u001b[0m\u001b[0;34m\u001b[0m\u001b[0m\n",
            "\u001b[0;32m/usr/local/lib/python3.10/dist-packages/pandas/core/indexing.py\u001b[0m in \u001b[0;36m_get_slice_axis\u001b[0;34m(self, slice_obj, axis)\u001b[0m\n\u001b[1;32m   1322\u001b[0m \u001b[0;34m\u001b[0m\u001b[0m\n\u001b[1;32m   1323\u001b[0m         \u001b[0mlabels\u001b[0m \u001b[0;34m=\u001b[0m \u001b[0mobj\u001b[0m\u001b[0;34m.\u001b[0m\u001b[0m_get_axis\u001b[0m\u001b[0;34m(\u001b[0m\u001b[0maxis\u001b[0m\u001b[0;34m)\u001b[0m\u001b[0;34m\u001b[0m\u001b[0;34m\u001b[0m\u001b[0m\n\u001b[0;32m-> 1324\u001b[0;31m         \u001b[0mindexer\u001b[0m \u001b[0;34m=\u001b[0m \u001b[0mlabels\u001b[0m\u001b[0;34m.\u001b[0m\u001b[0mslice_indexer\u001b[0m\u001b[0;34m(\u001b[0m\u001b[0mslice_obj\u001b[0m\u001b[0;34m.\u001b[0m\u001b[0mstart\u001b[0m\u001b[0;34m,\u001b[0m \u001b[0mslice_obj\u001b[0m\u001b[0;34m.\u001b[0m\u001b[0mstop\u001b[0m\u001b[0;34m,\u001b[0m \u001b[0mslice_obj\u001b[0m\u001b[0;34m.\u001b[0m\u001b[0mstep\u001b[0m\u001b[0;34m)\u001b[0m\u001b[0;34m\u001b[0m\u001b[0;34m\u001b[0m\u001b[0m\n\u001b[0m\u001b[1;32m   1325\u001b[0m \u001b[0;34m\u001b[0m\u001b[0m\n\u001b[1;32m   1326\u001b[0m         \u001b[0;32mif\u001b[0m \u001b[0misinstance\u001b[0m\u001b[0;34m(\u001b[0m\u001b[0mindexer\u001b[0m\u001b[0;34m,\u001b[0m \u001b[0mslice\u001b[0m\u001b[0;34m)\u001b[0m\u001b[0;34m:\u001b[0m\u001b[0;34m\u001b[0m\u001b[0;34m\u001b[0m\u001b[0m\n",
            "\u001b[0;32m/usr/local/lib/python3.10/dist-packages/pandas/core/indexes/base.py\u001b[0m in \u001b[0;36mslice_indexer\u001b[0;34m(self, start, end, step, kind)\u001b[0m\n\u001b[1;32m   6557\u001b[0m         \u001b[0mself\u001b[0m\u001b[0;34m.\u001b[0m\u001b[0m_deprecated_arg\u001b[0m\u001b[0;34m(\u001b[0m\u001b[0mkind\u001b[0m\u001b[0;34m,\u001b[0m \u001b[0;34m\"kind\"\u001b[0m\u001b[0;34m,\u001b[0m \u001b[0;34m\"slice_indexer\"\u001b[0m\u001b[0;34m)\u001b[0m\u001b[0;34m\u001b[0m\u001b[0;34m\u001b[0m\u001b[0m\n\u001b[1;32m   6558\u001b[0m \u001b[0;34m\u001b[0m\u001b[0m\n\u001b[0;32m-> 6559\u001b[0;31m         \u001b[0mstart_slice\u001b[0m\u001b[0;34m,\u001b[0m \u001b[0mend_slice\u001b[0m \u001b[0;34m=\u001b[0m \u001b[0mself\u001b[0m\u001b[0;34m.\u001b[0m\u001b[0mslice_locs\u001b[0m\u001b[0;34m(\u001b[0m\u001b[0mstart\u001b[0m\u001b[0;34m,\u001b[0m \u001b[0mend\u001b[0m\u001b[0;34m,\u001b[0m \u001b[0mstep\u001b[0m\u001b[0;34m=\u001b[0m\u001b[0mstep\u001b[0m\u001b[0;34m)\u001b[0m\u001b[0;34m\u001b[0m\u001b[0;34m\u001b[0m\u001b[0m\n\u001b[0m\u001b[1;32m   6560\u001b[0m \u001b[0;34m\u001b[0m\u001b[0m\n\u001b[1;32m   6561\u001b[0m         \u001b[0;31m# return a slice\u001b[0m\u001b[0;34m\u001b[0m\u001b[0;34m\u001b[0m\u001b[0m\n",
            "\u001b[0;32m/usr/local/lib/python3.10/dist-packages/pandas/core/indexes/base.py\u001b[0m in \u001b[0;36mslice_locs\u001b[0;34m(self, start, end, step, kind)\u001b[0m\n\u001b[1;32m   6765\u001b[0m         \u001b[0mstart_slice\u001b[0m \u001b[0;34m=\u001b[0m \u001b[0;32mNone\u001b[0m\u001b[0;34m\u001b[0m\u001b[0;34m\u001b[0m\u001b[0m\n\u001b[1;32m   6766\u001b[0m         \u001b[0;32mif\u001b[0m \u001b[0mstart\u001b[0m \u001b[0;32mis\u001b[0m \u001b[0;32mnot\u001b[0m \u001b[0;32mNone\u001b[0m\u001b[0;34m:\u001b[0m\u001b[0;34m\u001b[0m\u001b[0;34m\u001b[0m\u001b[0m\n\u001b[0;32m-> 6767\u001b[0;31m             \u001b[0mstart_slice\u001b[0m \u001b[0;34m=\u001b[0m \u001b[0mself\u001b[0m\u001b[0;34m.\u001b[0m\u001b[0mget_slice_bound\u001b[0m\u001b[0;34m(\u001b[0m\u001b[0mstart\u001b[0m\u001b[0;34m,\u001b[0m \u001b[0;34m\"left\"\u001b[0m\u001b[0;34m)\u001b[0m\u001b[0;34m\u001b[0m\u001b[0;34m\u001b[0m\u001b[0m\n\u001b[0m\u001b[1;32m   6768\u001b[0m         \u001b[0;32mif\u001b[0m \u001b[0mstart_slice\u001b[0m \u001b[0;32mis\u001b[0m \u001b[0;32mNone\u001b[0m\u001b[0;34m:\u001b[0m\u001b[0;34m\u001b[0m\u001b[0;34m\u001b[0m\u001b[0m\n\u001b[1;32m   6769\u001b[0m             \u001b[0mstart_slice\u001b[0m \u001b[0;34m=\u001b[0m \u001b[0;36m0\u001b[0m\u001b[0;34m\u001b[0m\u001b[0;34m\u001b[0m\u001b[0m\n",
            "\u001b[0;32m/usr/local/lib/python3.10/dist-packages/pandas/core/indexes/base.py\u001b[0m in \u001b[0;36mget_slice_bound\u001b[0;34m(self, label, side, kind)\u001b[0m\n\u001b[1;32m   6674\u001b[0m         \u001b[0;31m# For datetime indices label may be a string that has to be converted\u001b[0m\u001b[0;34m\u001b[0m\u001b[0;34m\u001b[0m\u001b[0m\n\u001b[1;32m   6675\u001b[0m         \u001b[0;31m# to datetime boundary according to its resolution.\u001b[0m\u001b[0;34m\u001b[0m\u001b[0;34m\u001b[0m\u001b[0m\n\u001b[0;32m-> 6676\u001b[0;31m         \u001b[0mlabel\u001b[0m \u001b[0;34m=\u001b[0m \u001b[0mself\u001b[0m\u001b[0;34m.\u001b[0m\u001b[0m_maybe_cast_slice_bound\u001b[0m\u001b[0;34m(\u001b[0m\u001b[0mlabel\u001b[0m\u001b[0;34m,\u001b[0m \u001b[0mside\u001b[0m\u001b[0;34m)\u001b[0m\u001b[0;34m\u001b[0m\u001b[0;34m\u001b[0m\u001b[0m\n\u001b[0m\u001b[1;32m   6677\u001b[0m \u001b[0;34m\u001b[0m\u001b[0m\n\u001b[1;32m   6678\u001b[0m         \u001b[0;31m# we need to look up the label\u001b[0m\u001b[0;34m\u001b[0m\u001b[0;34m\u001b[0m\u001b[0m\n",
            "\u001b[0;32m/usr/local/lib/python3.10/dist-packages/pandas/core/indexes/base.py\u001b[0m in \u001b[0;36m_maybe_cast_slice_bound\u001b[0;34m(self, label, side, kind)\u001b[0m\n\u001b[1;32m   6621\u001b[0m         \u001b[0;31m# reject them, if index does not contain label\u001b[0m\u001b[0;34m\u001b[0m\u001b[0;34m\u001b[0m\u001b[0m\n\u001b[1;32m   6622\u001b[0m         \u001b[0;32mif\u001b[0m \u001b[0;34m(\u001b[0m\u001b[0mis_float\u001b[0m\u001b[0;34m(\u001b[0m\u001b[0mlabel\u001b[0m\u001b[0;34m)\u001b[0m \u001b[0;32mor\u001b[0m \u001b[0mis_integer\u001b[0m\u001b[0;34m(\u001b[0m\u001b[0mlabel\u001b[0m\u001b[0;34m)\u001b[0m\u001b[0;34m)\u001b[0m \u001b[0;32mand\u001b[0m \u001b[0mlabel\u001b[0m \u001b[0;32mnot\u001b[0m \u001b[0;32min\u001b[0m \u001b[0mself\u001b[0m\u001b[0;34m:\u001b[0m\u001b[0;34m\u001b[0m\u001b[0;34m\u001b[0m\u001b[0m\n\u001b[0;32m-> 6623\u001b[0;31m             \u001b[0;32mraise\u001b[0m \u001b[0mself\u001b[0m\u001b[0;34m.\u001b[0m\u001b[0m_invalid_indexer\u001b[0m\u001b[0;34m(\u001b[0m\u001b[0;34m\"slice\"\u001b[0m\u001b[0;34m,\u001b[0m \u001b[0mlabel\u001b[0m\u001b[0;34m)\u001b[0m\u001b[0;34m\u001b[0m\u001b[0;34m\u001b[0m\u001b[0m\n\u001b[0m\u001b[1;32m   6624\u001b[0m \u001b[0;34m\u001b[0m\u001b[0m\n\u001b[1;32m   6625\u001b[0m         \u001b[0;32mreturn\u001b[0m \u001b[0mlabel\u001b[0m\u001b[0;34m\u001b[0m\u001b[0;34m\u001b[0m\u001b[0m\n",
            "\u001b[0;31mTypeError\u001b[0m: cannot do slice indexing on Index with these indexers [1] of type int"
          ]
        }
      ]
    },
    {
      "cell_type": "code",
      "source": [
        "verb_tax1.rename(columns={'Category Number': 'Category_Number', 'Category': 'Category_Name', \"Verb_x\": \"Verb\", \"Freq\": \"Freq1\"}, inplace=True)"
      ],
      "metadata": {
        "id": "ZguTGEuTUgk5"
      },
      "execution_count": null,
      "outputs": []
    },
    {
      "cell_type": "code",
      "source": [
        "print(type(LFs))\n",
        "LFs.reset_index(drop=True, inplace=True)\n",
        "LFs.column_names\n",
        "print(LFs[\"Labeling_Function_Words\"])"
      ],
      "metadata": {
        "id": "04kMpYWyTFnb"
      },
      "execution_count": null,
      "outputs": []
    },
    {
      "cell_type": "code",
      "source": [
        "# prompt: rename all columns in dataframe\n",
        "\n",
        "LFs.rename(columns={'response': 'text'}, inplace=True)\n"
      ],
      "metadata": {
        "id": "zijcn5J9UDiN"
      },
      "execution_count": null,
      "outputs": []
    },
    {
      "cell_type": "code",
      "source": [
        "print(LFs[\"Labeling_Function_Words\"][2])"
      ],
      "metadata": {
        "colab": {
          "base_uri": "https://localhost:8080/",
          "height": 546
        },
        "id": "oR5G95diS25K",
        "outputId": "6b3ff913-5f4f-423a-d9dd-89840131c50a"
      },
      "execution_count": null,
      "outputs": [
        {
          "output_type": "error",
          "ename": "KeyError",
          "evalue": "ignored",
          "traceback": [
            "\u001b[0;31m---------------------------------------------------------------------------\u001b[0m",
            "\u001b[0;31mKeyError\u001b[0m                                  Traceback (most recent call last)",
            "\u001b[0;32m/usr/local/lib/python3.10/dist-packages/pandas/core/indexes/base.py\u001b[0m in \u001b[0;36mget_loc\u001b[0;34m(self, key, method, tolerance)\u001b[0m\n\u001b[1;32m   3801\u001b[0m             \u001b[0;32mtry\u001b[0m\u001b[0;34m:\u001b[0m\u001b[0;34m\u001b[0m\u001b[0;34m\u001b[0m\u001b[0m\n\u001b[0;32m-> 3802\u001b[0;31m                 \u001b[0;32mreturn\u001b[0m \u001b[0mself\u001b[0m\u001b[0;34m.\u001b[0m\u001b[0m_engine\u001b[0m\u001b[0;34m.\u001b[0m\u001b[0mget_loc\u001b[0m\u001b[0;34m(\u001b[0m\u001b[0mcasted_key\u001b[0m\u001b[0;34m)\u001b[0m\u001b[0;34m\u001b[0m\u001b[0;34m\u001b[0m\u001b[0m\n\u001b[0m\u001b[1;32m   3803\u001b[0m             \u001b[0;32mexcept\u001b[0m \u001b[0mKeyError\u001b[0m \u001b[0;32mas\u001b[0m \u001b[0merr\u001b[0m\u001b[0;34m:\u001b[0m\u001b[0;34m\u001b[0m\u001b[0;34m\u001b[0m\u001b[0m\n",
            "\u001b[0;32m/usr/local/lib/python3.10/dist-packages/pandas/_libs/index.pyx\u001b[0m in \u001b[0;36mpandas._libs.index.IndexEngine.get_loc\u001b[0;34m()\u001b[0m\n",
            "\u001b[0;32m/usr/local/lib/python3.10/dist-packages/pandas/_libs/index.pyx\u001b[0m in \u001b[0;36mpandas._libs.index.IndexEngine.get_loc\u001b[0;34m()\u001b[0m\n",
            "\u001b[0;32mpandas/_libs/hashtable_class_helper.pxi\u001b[0m in \u001b[0;36mpandas._libs.hashtable.PyObjectHashTable.get_item\u001b[0;34m()\u001b[0m\n",
            "\u001b[0;32mpandas/_libs/hashtable_class_helper.pxi\u001b[0m in \u001b[0;36mpandas._libs.hashtable.PyObjectHashTable.get_item\u001b[0;34m()\u001b[0m\n",
            "\u001b[0;31mKeyError\u001b[0m: 'Labeling_Function_Words'",
            "\nThe above exception was the direct cause of the following exception:\n",
            "\u001b[0;31mKeyError\u001b[0m                                  Traceback (most recent call last)",
            "\u001b[0;32m<ipython-input-57-fbccc574449c>\u001b[0m in \u001b[0;36m<cell line: 1>\u001b[0;34m()\u001b[0m\n\u001b[0;32m----> 1\u001b[0;31m \u001b[0mprint\u001b[0m\u001b[0;34m(\u001b[0m\u001b[0mLFs\u001b[0m\u001b[0;34m[\u001b[0m\u001b[0;34m\"Labeling_Function_Words\"\u001b[0m\u001b[0;34m]\u001b[0m\u001b[0;34m[\u001b[0m\u001b[0;36m2\u001b[0m\u001b[0;34m]\u001b[0m\u001b[0;34m)\u001b[0m\u001b[0;34m\u001b[0m\u001b[0;34m\u001b[0m\u001b[0m\n\u001b[0m",
            "\u001b[0;32m/usr/local/lib/python3.10/dist-packages/pandas/core/frame.py\u001b[0m in \u001b[0;36m__getitem__\u001b[0;34m(self, key)\u001b[0m\n\u001b[1;32m   3805\u001b[0m             \u001b[0;32mif\u001b[0m \u001b[0mself\u001b[0m\u001b[0;34m.\u001b[0m\u001b[0mcolumns\u001b[0m\u001b[0;34m.\u001b[0m\u001b[0mnlevels\u001b[0m \u001b[0;34m>\u001b[0m \u001b[0;36m1\u001b[0m\u001b[0;34m:\u001b[0m\u001b[0;34m\u001b[0m\u001b[0;34m\u001b[0m\u001b[0m\n\u001b[1;32m   3806\u001b[0m                 \u001b[0;32mreturn\u001b[0m \u001b[0mself\u001b[0m\u001b[0;34m.\u001b[0m\u001b[0m_getitem_multilevel\u001b[0m\u001b[0;34m(\u001b[0m\u001b[0mkey\u001b[0m\u001b[0;34m)\u001b[0m\u001b[0;34m\u001b[0m\u001b[0;34m\u001b[0m\u001b[0m\n\u001b[0;32m-> 3807\u001b[0;31m             \u001b[0mindexer\u001b[0m \u001b[0;34m=\u001b[0m \u001b[0mself\u001b[0m\u001b[0;34m.\u001b[0m\u001b[0mcolumns\u001b[0m\u001b[0;34m.\u001b[0m\u001b[0mget_loc\u001b[0m\u001b[0;34m(\u001b[0m\u001b[0mkey\u001b[0m\u001b[0;34m)\u001b[0m\u001b[0;34m\u001b[0m\u001b[0;34m\u001b[0m\u001b[0m\n\u001b[0m\u001b[1;32m   3808\u001b[0m             \u001b[0;32mif\u001b[0m \u001b[0mis_integer\u001b[0m\u001b[0;34m(\u001b[0m\u001b[0mindexer\u001b[0m\u001b[0;34m)\u001b[0m\u001b[0;34m:\u001b[0m\u001b[0;34m\u001b[0m\u001b[0;34m\u001b[0m\u001b[0m\n\u001b[1;32m   3809\u001b[0m                 \u001b[0mindexer\u001b[0m \u001b[0;34m=\u001b[0m \u001b[0;34m[\u001b[0m\u001b[0mindexer\u001b[0m\u001b[0;34m]\u001b[0m\u001b[0;34m\u001b[0m\u001b[0;34m\u001b[0m\u001b[0m\n",
            "\u001b[0;32m/usr/local/lib/python3.10/dist-packages/pandas/core/indexes/base.py\u001b[0m in \u001b[0;36mget_loc\u001b[0;34m(self, key, method, tolerance)\u001b[0m\n\u001b[1;32m   3802\u001b[0m                 \u001b[0;32mreturn\u001b[0m \u001b[0mself\u001b[0m\u001b[0;34m.\u001b[0m\u001b[0m_engine\u001b[0m\u001b[0;34m.\u001b[0m\u001b[0mget_loc\u001b[0m\u001b[0;34m(\u001b[0m\u001b[0mcasted_key\u001b[0m\u001b[0;34m)\u001b[0m\u001b[0;34m\u001b[0m\u001b[0;34m\u001b[0m\u001b[0m\n\u001b[1;32m   3803\u001b[0m             \u001b[0;32mexcept\u001b[0m \u001b[0mKeyError\u001b[0m \u001b[0;32mas\u001b[0m \u001b[0merr\u001b[0m\u001b[0;34m:\u001b[0m\u001b[0;34m\u001b[0m\u001b[0;34m\u001b[0m\u001b[0m\n\u001b[0;32m-> 3804\u001b[0;31m                 \u001b[0;32mraise\u001b[0m \u001b[0mKeyError\u001b[0m\u001b[0;34m(\u001b[0m\u001b[0mkey\u001b[0m\u001b[0;34m)\u001b[0m \u001b[0;32mfrom\u001b[0m \u001b[0merr\u001b[0m\u001b[0;34m\u001b[0m\u001b[0;34m\u001b[0m\u001b[0m\n\u001b[0m\u001b[1;32m   3805\u001b[0m             \u001b[0;32mexcept\u001b[0m \u001b[0mTypeError\u001b[0m\u001b[0;34m:\u001b[0m\u001b[0;34m\u001b[0m\u001b[0;34m\u001b[0m\u001b[0m\n\u001b[1;32m   3806\u001b[0m                 \u001b[0;31m# If we have a listlike key, _check_indexing_error will raise\u001b[0m\u001b[0;34m\u001b[0m\u001b[0;34m\u001b[0m\u001b[0m\n",
            "\u001b[0;31mKeyError\u001b[0m: 'Labeling_Function_Words'"
          ]
        }
      ]
    },
    {
      "cell_type": "code",
      "source": [
        "print(LFs.head())"
      ],
      "metadata": {
        "colab": {
          "base_uri": "https://localhost:8080/"
        },
        "id": "D-ROjBPWSymR",
        "outputId": "472bc7ac-4018-4e1e-ba9a-4e9a261d2884"
      },
      "execution_count": null,
      "outputs": [
        {
          "output_type": "stream",
          "name": "stdout",
          "text": [
            "  Broad_Category      Subctegory       Label_Name  \\\n",
            "0          Space       Acoustics        Acoustics   \n",
            "1          Space       Interiors       Aesthetics   \n",
            "2       Wellness  Not applicable         Ailments   \n",
            "3          Space      Facilities      Air_Quality   \n",
            "4          Space       Interiors  Air_Temperature   \n",
            "\n",
            "                            Labeling_Function_Words    TUP  \n",
            "0  acoustics, acoustic, echoes, soundproof, sound...  None  \n",
            "1  aesthetic, aesthetically, aesthetics, atmosphe...  None  \n",
            "2  migraine, headache, migraines, headaches, migr...  None  \n",
            "3  pollution, breathable, air quality, ventilatio...  None  \n",
            "4  temperature, temp, hot, climate, freezing, col...  None  \n"
          ]
        }
      ]
    },
    {
      "cell_type": "code",
      "source": [
        "LFs = LFs.set_index(['Label_Name', 'Labeling_Function_Words'])"
      ],
      "metadata": {
        "id": "AMj44f3RRY2S"
      },
      "execution_count": null,
      "outputs": []
    },
    {
      "cell_type": "code",
      "source": [
        "#apply labeling functions to training data\n",
        "print(LFs)\n",
        "import ast\n",
        "def LF_Tuple(Label, Words):\n",
        "  print(Words)\n",
        "  print(type(Words))\n",
        "  tup= []\n",
        "  try:\n",
        "    words=ast.literal_eval(Words)\n",
        "    print(type(words))\n",
        "    tup.append([Label, words])\n",
        "    return tup\n",
        "  except:\n",
        "    tup.append([Label, Words])\n",
        "\n",
        "LFs['TUP'] = LFs.apply(lambda x: LF_Tuple(x['Label_Name'], x.get('Labeling_Function_Words')), axis=1)\n",
        "#LFs['TUP'] = LFs.apply(lambda x: LF_Tuple(x['Label_Name'], x['Labeling_Function_Words']), axis=1)\n",
        "\n",
        "\n",
        "\n"
      ],
      "metadata": {
        "colab": {
          "base_uri": "https://localhost:8080/"
        },
        "id": "uVt71nGtNs_O",
        "outputId": "ab0de0b8-2c78-4df8-a50a-8b3732182b98"
      },
      "execution_count": null,
      "outputs": [
        {
          "output_type": "stream",
          "name": "stdout",
          "text": [
            "   Broad_Category      Subctegory        Label_Name  \\\n",
            "0           Space       Acoustics         Acoustics   \n",
            "1           Space       Interiors        Aesthetics   \n",
            "2        Wellness  Not applicable          Ailments   \n",
            "3           Space      Facilities       Air_Quality   \n",
            "4           Space       Interiors   Air_Temperature   \n",
            "..            ...             ...               ...   \n",
            "92     Technology  Not applicable  Video_conference   \n",
            "93          Space      Facilities              View   \n",
            "94          Space       Interiors             Walls   \n",
            "95          Space       Interiors   Window_covering   \n",
            "96          Other          Policy          Wellness   \n",
            "\n",
            "                             Labeling_Function_Words    TUP  \n",
            "0   acoustics, acoustic, echoes, soundproof, sound...  None  \n",
            "1   aesthetic, aesthetically, aesthetics, atmosphe...  None  \n",
            "2   migraine, headache, migraines, headaches, migr...  None  \n",
            "3   pollution, breathable, air quality, ventilatio...  None  \n",
            "4   temperature, temp, hot, climate, freezing, col...  None  \n",
            "..                                                ...   ...  \n",
            "92  video conference, videoconference, videoconfer...  None  \n",
            "93                          view, views, unobstructed  None  \n",
            "94                      wall, walls, wallpaper, paint  None  \n",
            "95  blinds, shades, curtain, curtains, drapes, win...  None  \n",
            "96  wellness, well being, happy, wellbeing, health...  None  \n",
            "\n",
            "[97 rows x 5 columns]\n",
            "None\n",
            "<class 'NoneType'>\n",
            "None\n",
            "<class 'NoneType'>\n",
            "None\n",
            "<class 'NoneType'>\n",
            "None\n",
            "<class 'NoneType'>\n",
            "None\n",
            "<class 'NoneType'>\n",
            "None\n",
            "<class 'NoneType'>\n",
            "None\n",
            "<class 'NoneType'>\n",
            "None\n",
            "<class 'NoneType'>\n",
            "None\n",
            "<class 'NoneType'>\n",
            "None\n",
            "<class 'NoneType'>\n",
            "None\n",
            "<class 'NoneType'>\n",
            "None\n",
            "<class 'NoneType'>\n",
            "None\n",
            "<class 'NoneType'>\n",
            "None\n",
            "<class 'NoneType'>\n",
            "None\n",
            "<class 'NoneType'>\n",
            "None\n",
            "<class 'NoneType'>\n",
            "None\n",
            "<class 'NoneType'>\n",
            "None\n",
            "<class 'NoneType'>\n",
            "None\n",
            "<class 'NoneType'>\n",
            "None\n",
            "<class 'NoneType'>\n",
            "None\n",
            "<class 'NoneType'>\n",
            "None\n",
            "<class 'NoneType'>\n",
            "None\n",
            "<class 'NoneType'>\n",
            "None\n",
            "<class 'NoneType'>\n",
            "None\n",
            "<class 'NoneType'>\n",
            "None\n",
            "<class 'NoneType'>\n",
            "None\n",
            "<class 'NoneType'>\n",
            "None\n",
            "<class 'NoneType'>\n",
            "None\n",
            "<class 'NoneType'>\n",
            "None\n",
            "<class 'NoneType'>\n",
            "None\n",
            "<class 'NoneType'>\n",
            "None\n",
            "<class 'NoneType'>\n",
            "None\n",
            "<class 'NoneType'>\n",
            "None\n",
            "<class 'NoneType'>\n",
            "None\n",
            "<class 'NoneType'>\n",
            "None\n",
            "<class 'NoneType'>\n",
            "None\n",
            "<class 'NoneType'>\n",
            "None\n",
            "<class 'NoneType'>\n",
            "None\n",
            "<class 'NoneType'>\n",
            "None\n",
            "<class 'NoneType'>\n",
            "None\n",
            "<class 'NoneType'>\n",
            "None\n",
            "<class 'NoneType'>\n",
            "None\n",
            "<class 'NoneType'>\n",
            "None\n",
            "<class 'NoneType'>\n",
            "None\n",
            "<class 'NoneType'>\n",
            "None\n",
            "<class 'NoneType'>\n",
            "None\n",
            "<class 'NoneType'>\n",
            "None\n",
            "<class 'NoneType'>\n",
            "None\n",
            "<class 'NoneType'>\n",
            "None\n",
            "<class 'NoneType'>\n",
            "None\n",
            "<class 'NoneType'>\n",
            "None\n",
            "<class 'NoneType'>\n",
            "None\n",
            "<class 'NoneType'>\n",
            "None\n",
            "<class 'NoneType'>\n",
            "None\n",
            "<class 'NoneType'>\n",
            "None\n",
            "<class 'NoneType'>\n",
            "None\n",
            "<class 'NoneType'>\n",
            "None\n",
            "<class 'NoneType'>\n",
            "None\n",
            "<class 'NoneType'>\n",
            "None\n",
            "<class 'NoneType'>\n",
            "None\n",
            "<class 'NoneType'>\n",
            "None\n",
            "<class 'NoneType'>\n",
            "None\n",
            "<class 'NoneType'>\n",
            "None\n",
            "<class 'NoneType'>\n",
            "None\n",
            "<class 'NoneType'>\n",
            "None\n",
            "<class 'NoneType'>\n",
            "None\n",
            "<class 'NoneType'>\n",
            "None\n",
            "<class 'NoneType'>\n",
            "None\n",
            "<class 'NoneType'>\n",
            "None\n",
            "<class 'NoneType'>\n",
            "None\n",
            "<class 'NoneType'>\n",
            "None\n",
            "<class 'NoneType'>\n",
            "None\n",
            "<class 'NoneType'>\n",
            "None\n",
            "<class 'NoneType'>\n",
            "None\n",
            "<class 'NoneType'>\n",
            "None\n",
            "<class 'NoneType'>\n",
            "None\n",
            "<class 'NoneType'>\n",
            "None\n",
            "<class 'NoneType'>\n",
            "None\n",
            "<class 'NoneType'>\n",
            "None\n",
            "<class 'NoneType'>\n",
            "None\n",
            "<class 'NoneType'>\n",
            "None\n",
            "<class 'NoneType'>\n",
            "None\n",
            "<class 'NoneType'>\n",
            "None\n",
            "<class 'NoneType'>\n",
            "None\n",
            "<class 'NoneType'>\n",
            "None\n",
            "<class 'NoneType'>\n",
            "None\n",
            "<class 'NoneType'>\n",
            "None\n",
            "<class 'NoneType'>\n",
            "None\n",
            "<class 'NoneType'>\n",
            "None\n",
            "<class 'NoneType'>\n",
            "None\n",
            "<class 'NoneType'>\n",
            "None\n",
            "<class 'NoneType'>\n",
            "None\n",
            "<class 'NoneType'>\n",
            "None\n",
            "<class 'NoneType'>\n",
            "None\n",
            "<class 'NoneType'>\n",
            "None\n",
            "<class 'NoneType'>\n",
            "None\n",
            "<class 'NoneType'>\n"
          ]
        }
      ]
    },
    {
      "cell_type": "code",
      "source": [
        "from google.colab import files\n",
        "\n",
        "\n",
        "\n",
        "df1_LFs.to_csv('LFs_exp.csv')\n",
        "files.download('LFs_exp.csv')\n"
      ],
      "metadata": {
        "colab": {
          "base_uri": "https://localhost:8080/",
          "height": 17
        },
        "id": "9BucIDhWSiUr",
        "outputId": "1efb2cbb-ed79-4973-ef9f-ba73e1947e7f"
      },
      "execution_count": null,
      "outputs": [
        {
          "output_type": "display_data",
          "data": {
            "text/plain": [
              "<IPython.core.display.Javascript object>"
            ],
            "application/javascript": [
              "\n",
              "    async function download(id, filename, size) {\n",
              "      if (!google.colab.kernel.accessAllowed) {\n",
              "        return;\n",
              "      }\n",
              "      const div = document.createElement('div');\n",
              "      const label = document.createElement('label');\n",
              "      label.textContent = `Downloading \"${filename}\": `;\n",
              "      div.appendChild(label);\n",
              "      const progress = document.createElement('progress');\n",
              "      progress.max = size;\n",
              "      div.appendChild(progress);\n",
              "      document.body.appendChild(div);\n",
              "\n",
              "      const buffers = [];\n",
              "      let downloaded = 0;\n",
              "\n",
              "      const channel = await google.colab.kernel.comms.open(id);\n",
              "      // Send a message to notify the kernel that we're ready.\n",
              "      channel.send({})\n",
              "\n",
              "      for await (const message of channel.messages) {\n",
              "        // Send a message to notify the kernel that we're ready.\n",
              "        channel.send({})\n",
              "        if (message.buffers) {\n",
              "          for (const buffer of message.buffers) {\n",
              "            buffers.push(buffer);\n",
              "            downloaded += buffer.byteLength;\n",
              "            progress.value = downloaded;\n",
              "          }\n",
              "        }\n",
              "      }\n",
              "      const blob = new Blob(buffers, {type: 'application/binary'});\n",
              "      const a = document.createElement('a');\n",
              "      a.href = window.URL.createObjectURL(blob);\n",
              "      a.download = filename;\n",
              "      div.appendChild(a);\n",
              "      a.click();\n",
              "      div.remove();\n",
              "    }\n",
              "  "
            ]
          },
          "metadata": {}
        },
        {
          "output_type": "display_data",
          "data": {
            "text/plain": [
              "<IPython.core.display.Javascript object>"
            ],
            "application/javascript": [
              "download(\"download_5a65a9f5-f920-42d0-af2b-090e77fa33f5\", \"LFs_exp.csv\", 3527)"
            ]
          },
          "metadata": {}
        }
      ]
    },
    {
      "cell_type": "code",
      "source": [
        " #make sure categories have the same name\n",
        " #will show which column headings don't match\n",
        " compare=df_eng_gl.columns.difference(df_train.columns)\n",
        " print(compare)\n",
        " #for heading in df_dislike_test:\n",
        "   #print(heading)\n",
        "\n"
      ],
      "metadata": {
        "colab": {
          "base_uri": "https://localhost:8080/"
        },
        "id": "QCxpUv8z9Loi",
        "outputId": "71f05e1e-67bb-4f0e-ef5b-b3ec28d52050"
      },
      "execution_count": null,
      "outputs": [
        {
          "output_type": "stream",
          "name": "stdout",
          "text": [
            "Index(['Acoustics', 'Aesthetics', 'Ailments', 'Amenities', 'Art', 'Basement',\n",
            "       'Benefits', 'Cafeteria', 'Ceiling', 'Change_of_pace', 'Childcare',\n",
            "       'Clean_Neat', 'Collaboration_room', 'Comfort', 'Communication',\n",
            "       'Commute', 'Computer', 'Conversation', 'Covid_19', 'Cramped',\n",
            "       'Do_not_know', 'Door', 'Electric_Vehicles', 'Elevator', 'Eng_Detect',\n",
            "       'Enjoyment', 'Everything', 'Fitness', 'Flooring', 'Focus',\n",
            "       'Food_Drinks', 'Formality', 'Good_Culture', 'Greenery', 'Hall',\n",
            "       'Handicap', 'Homeless', 'Impromptu', 'In_Office_dislike', 'Interaction',\n",
            "       'Isolation', 'Kitchen', 'Lactation', 'Layout', 'Leadership', 'Learning',\n",
            "       'Lighting_indoor', 'Lighting_outdoor', 'Lobby', 'Location',\n",
            "       'Locker_Room', 'Meetings_in_person', 'Messy_or_unclean', 'Mold',\n",
            "       'Music', 'No', 'Not_applicable', 'Printer_Copier', 'Productivity',\n",
            "       'Return_to_Office', 'Roof', 'Security', 'Signage', 'Smell',\n",
            "       'Socialize_in_person', 'Stairs', 'Storage', 'Stress', 'Sum', 'Supplies',\n",
            "       'Team', 'Telecommuting', 'Training_room', 'Trust', 'Video_conference',\n",
            "       'View', 'Walls', 'Wellness', 'Window_covering', 'orig_indx'],\n",
            "      dtype='object')\n"
          ]
        }
      ]
    },
    {
      "cell_type": "markdown",
      "metadata": {
        "id": "dLcetMjZFjSH"
      },
      "source": [
        "## Load and Preprocess Training Data"
      ]
    },
    {
      "cell_type": "markdown",
      "metadata": {
        "id": "2dal0ggBcYdD"
      },
      "source": [
        "Dataset will be tokenized then split into training and validation sets. The validation set will be used to monitor training. For testing a separate test set will be loaded for analysis."
      ]
    },
    {
      "cell_type": "code",
      "metadata": {
        "id": "6AhWrzX7nITB",
        "colab": {
          "base_uri": "https://localhost:8080/"
        },
        "outputId": "7fa4b38e-dc5e-49a7-bc59-ba2d7c4bc849"
      },
      "source": [
        "print('Unique comments: ', df_dislike_train.response_id.nunique() == df_dislike_train.shape[0])\n",
        "print('Null values: ', df_dislike_train.isnull().values.any())\n",
        "# df[df.isna().any(axis=1)]\n",
        "\n",
        "print('Unique comments: ', df_dislike_test.response_id.nunique() == df_dislike_test.shape[0])\n",
        "print('Null values: ', df_dislike_test.isnull().values.any())\n",
        "\n",
        "df_null_test= df_dislike_test.isna().any(axis=1)\n",
        "\n",
        "print(df_dislike_test.head())"
      ],
      "execution_count": null,
      "outputs": [
        {
          "output_type": "stream",
          "name": "stdout",
          "text": [
            "Unique comments:  True\n",
            "Null values:  True\n",
            "Unique comments:  True\n",
            "Null values:  False\n",
            "   Unnamed: 0        response_id  \\\n",
            "0           0  R_6xJLjOI8utYd6gx   \n",
            "1           1  R_2xGig1T6gS6YipW   \n",
            "2           2  R_31hZVop7HM3NjpG   \n",
            "3           3  R_2fCzn1tAHzCqRYg   \n",
            "4           5  R_299PCPurUypZaPz   \n",
            "\n",
            "                                              Trans2  Air_Quality  \\\n",
            "0                       Privacy and individual work.            0   \n",
            "1                          not enough work from home            0   \n",
            "2  Noise level, lack of personal development time...            0   \n",
            "3  Sometimes the temperature could be too cold or...            0   \n",
            "4  The parking.  Sometimes it is very difficult t...            0   \n",
            "\n",
            "   Air_Temperature  Bad_Culture  Bathrooms  Chair  Collaboration  Cubicle  \\\n",
            "0                0            0          0      0              0        0   \n",
            "1                0            0          0      0              0        0   \n",
            "2                0            1          0      0              0        0   \n",
            "3                1            0          0      0              0        0   \n",
            "4                0            0          0      0              0        0   \n",
            "\n",
            "   ...  Lounge  Meeting_room  Natural_Light  Noise  Open_design  \\\n",
            "0  ...       0             0              0      0            0   \n",
            "1  ...       0             0              0      0            0   \n",
            "2  ...       0             0              0      1            0   \n",
            "3  ...       0             0              0      0            0   \n",
            "4  ...       0             0              0      0            0   \n",
            "\n",
            "   Personalization  Privacy  Technology  Vermin  \\\n",
            "0                0        1           0       0   \n",
            "1                0        0           0       0   \n",
            "2                0        0           0       0   \n",
            "3                0        0           0       0   \n",
            "4                0        0           0       0   \n",
            "\n",
            "                                         Preprocess3  \n",
            "0                        privacy and individual work  \n",
            "1                          not enough work from home  \n",
            "2  noise level lack of personal development time ...  \n",
            "3  sometimes the temperature could be too cold or...  \n",
            "4  the parking sometimes it is very difficult to ...  \n",
            "\n",
            "[5 rows x 24 columns]\n"
          ]
        }
      ]
    },
    {
      "cell_type": "code",
      "metadata": {
        "id": "OkKpz_9eJRt7",
        "colab": {
          "base_uri": "https://localhost:8080/"
        },
        "outputId": "beb3d77d-7bf6-4df7-cbe5-e616fdcf9b1e"
      },
      "source": [
        "print('average sentence length: ', df_dislike_train.Preprocess3.str.split().str.len().mean())\n",
        "print('stdev sentence length: ', df_dislike_train.Preprocess3.str.split().str.len().std())\n",
        "\n",
        "print('average sentence length: ', df_dislike_test.Preprocess3.str.split().str.len().mean())\n",
        "print('stdev sentence length: ', df_dislike_test.Preprocess3.str.split().str.len().std())\n"
      ],
      "execution_count": null,
      "outputs": [
        {
          "output_type": "stream",
          "name": "stdout",
          "text": [
            "average sentence length:  18.89201022352621\n",
            "stdev sentence length:  29.0659744448374\n",
            "average sentence length:  20.161847389558233\n",
            "stdev sentence length:  37.910330519599356\n"
          ]
        }
      ]
    },
    {
      "cell_type": "code",
      "metadata": {
        "id": "UVI59S9VaAfB",
        "colab": {
          "base_uri": "https://localhost:8080/"
        },
        "outputId": "e2ef85b6-4f3d-41b5-e2c6-04e2ae796340"
      },
      "source": [
        "for i, heading in enumerate(df_dislike_test):\n",
        "  print(i, heading)\n",
        "\n",
        "#for one file that's training and testing\n",
        "cols_test = df_dislike_test.columns\n",
        "#catefory columns\n",
        "label_cols_test = list(cols_test[3:23])\n",
        "num_labels_test = len(label_cols_test)\n",
        "print('Label columns: ', label_cols_test)\n",
        "print(num_labels_test)\n",
        "\n",
        "#training dataframe\n",
        "cols_train = df_dislike_train.columns\n",
        "#catefory columns\n",
        "label_cols_train = list(cols_train[21:41])\n",
        "num_labels_train = len(label_cols_train)\n",
        "print('Label columns: ', label_cols_train)\n",
        "print(num_labels_train)"
      ],
      "execution_count": null,
      "outputs": [
        {
          "output_type": "stream",
          "name": "stdout",
          "text": [
            "0 Unnamed: 0\n",
            "1 response_id\n",
            "2 Trans2\n",
            "3 Air_Quality\n",
            "4 Air_Temperature\n",
            "5 Bad_Culture\n",
            "6 Bathrooms\n",
            "7 Chair\n",
            "8 Collaboration\n",
            "9 Cubicle\n",
            "10 Desk\n",
            "11 Distraction\n",
            "12 Furniture\n",
            "13 Hot_Desk\n",
            "14 Lounge\n",
            "15 Meeting_room\n",
            "16 Natural_Light\n",
            "17 Noise\n",
            "18 Open_design\n",
            "19 Personalization\n",
            "20 Privacy\n",
            "21 Technology\n",
            "22 Vermin\n",
            "23 Preprocess3\n",
            "Label columns:  ['Air_Quality', 'Air_Temperature', 'Bad_Culture', 'Bathrooms', 'Chair', 'Collaboration', 'Cubicle', 'Desk', 'Distraction', 'Furniture', 'Hot_Desk', 'Lounge', 'Meeting_room', 'Natural_Light', 'Noise', 'Open_design', 'Personalization', 'Privacy', 'Technology', 'Vermin']\n",
            "20\n",
            "Label columns:  ['Air_Quality', 'Air_Temperature', 'Bad_Culture', 'Bathrooms', 'Chair', 'Collaboration', 'Cubicle', 'Desk', 'Distraction', 'Furniture', 'Hot_Desk', 'Lounge', 'Meeting_room', 'Natural_Light', 'Noise', 'Open_design', 'Personalization', 'Privacy', 'Technology', 'Vermin']\n",
            "20\n"
          ]
        }
      ]
    },
    {
      "cell_type": "code",
      "metadata": {
        "id": "xzgA5qQgYIBZ",
        "colab": {
          "base_uri": "https://localhost:8080/",
          "height": 784
        },
        "outputId": "1a80c54c-ab04-4661-8a3c-b36976a8acf7"
      },
      "source": [
        "#print('Count of 1 per label: \\n', df_dislike_train[label_cols_train].sum(), '\\n') # Label counts, may need to downsample or upsample\n",
        "#print('Count of 0 per label: \\n', df_dislike_train[label_cols_train].eq(0).sum())\n",
        "\n",
        "# Calculating Percentage\n",
        "numb_comments=df_dislike_train[label_cols_train].sum()\n",
        "zero_comments=df_dislike_train[label_cols_train].eq(0).sum()\n",
        "#print(type(numb_comments))\n",
        "#print(numb_comments)\n",
        "#convert series with number of each topic to dataframe\n",
        "top_count=pd.DataFrame({'topic':numb_comments.index, '1_count':numb_comments.values})\n",
        "#print(top_count)\n",
        "\n",
        "top_count.set_index('topic', inplace=True)\n",
        "zero_count=pd.DataFrame({'topic':zero_comments.index, '0_count':zero_comments.values})\n",
        "\n",
        "\n",
        "zero_count.set_index('topic', inplace=True)\n",
        "top_count=pd.concat([top_count, zero_count[\"0_count\"]], axis=1)\n",
        "#print(top_count)\n",
        "total_comments=top_count[\"1_count\"].sum()\n",
        "print(total_comments)\n",
        "top_count[\"Topic_Percentage\"]=top_count[\"1_count\"]/top_count[\"0_count\"]\n",
        "top_count[\"Total_Percentage\"]=top_count[\"1_count\"]/total_comments\n",
        "\n",
        "print(top_count)\n",
        "top_count[\"Topic_Percentage\"].plot(kind=\"bar\")\n",
        "\n",
        "from matplotlib import pyplot as plt\n",
        "top_count['Topic_Percentage'].plot(kind=\"bar\", title=\"Topic Percentage\")\n",
        "plt.title(\"Least Like Topic Percentage Training Data (from Auto Tagging)\")\n",
        "plt.xlabel(\"Topic\")\n",
        "plt.ylabel(\"Percentage\")"
      ],
      "execution_count": null,
      "outputs": [
        {
          "output_type": "stream",
          "name": "stdout",
          "text": [
            "122960\n",
            "                 1_count  0_count  Topic_Percentage  Total_Percentage\n",
            "topic                                                                \n",
            "Air_Quality         2838   129406          0.021931          0.023081\n",
            "Air_Temperature    13779   118465          0.116313          0.112061\n",
            "Bad_Culture          211   132033          0.001598          0.001716\n",
            "Bathrooms           6431   125813          0.051116          0.052302\n",
            "Chair               8414   123830          0.067948          0.068429\n",
            "Collaboration       3340   128904          0.025911          0.027163\n",
            "Cubicle             5667   126577          0.044771          0.046088\n",
            "Desk               11108   121136          0.091699          0.090338\n",
            "Distraction        13390   118854          0.112659          0.108897\n",
            "Furniture           2218   130026          0.017058          0.018038\n",
            "Hot_Desk             193   132051          0.001462          0.001570\n",
            "Lounge               837   131407          0.006370          0.006807\n",
            "Meeting_room        1676   130568          0.012836          0.013630\n",
            "Natural_Light       9142   123102          0.074264          0.074349\n",
            "Noise              25408   106836          0.237822          0.206636\n",
            "Open_design         1950   130294          0.014966          0.015859\n",
            "Personalization      120   132124          0.000908          0.000976\n",
            "Privacy            10894   121350          0.089773          0.088598\n",
            "Technology          4832   127412          0.037924          0.039297\n",
            "Vermin               512   131732          0.003887          0.004164\n"
          ]
        },
        {
          "output_type": "execute_result",
          "data": {
            "text/plain": [
              "Text(0, 0.5, 'Percentage')"
            ]
          },
          "metadata": {},
          "execution_count": 12
        },
        {
          "output_type": "display_data",
          "data": {
            "text/plain": [
              "<Figure size 432x288 with 1 Axes>"
            ],
            "image/png": "[encoded data removed]"
          },
          "metadata": {
            "needs_background": "light"
          }
        }
      ]
    },
    {
      "cell_type": "code",
      "metadata": {
        "id": "uFpSd4JzaAae"
      },
      "source": [
        "df_train = df_dislike_train.sample(frac=1).reset_index(drop=True) #shuffle rows\n",
        "df_test=df_dislike_test.sample(frac=1).reset_index(drop=True)\n",
        "\n"
      ],
      "execution_count": null,
      "outputs": []
    },
    {
      "cell_type": "code",
      "metadata": {
        "id": "0DF3ddjej5vd",
        "colab": {
          "base_uri": "https://localhost:8080/"
        },
        "outputId": "1c7960b6-497b-43db-d8fc-bda66bb87b35"
      },
      "source": [
        "#need one hot labels to be integers\n",
        "import numpy as np\n",
        "\n",
        "#get Ys into a single list\n",
        "df_train['one_hot_labels'] = list(df_train[label_cols_train].values.astype(np.int64))\n",
        "\n",
        "df_test['one_hot_labels'] = list(df_test[label_cols_test].values.astype(np.int64))\n",
        "print(df_test.head())"
      ],
      "execution_count": null,
      "outputs": [
        {
          "output_type": "stream",
          "name": "stdout",
          "text": [
            "   Unnamed: 0        response_id  \\\n",
            "0        2028  R_39Fp2XsIYpNVs3f   \n",
            "1        1608  R_2YxGw5belFJ0U4b   \n",
            "2        2123  R_u3uJYypEgEvEpXj   \n",
            "3        1394  R_2PgOCQ4yKapi5oI   \n",
            "4        1604  R_1rigeTk414vbtV0   \n",
            "\n",
            "                                              Trans2  Air_Quality  \\\n",
            "0  Lack of large rooms and rooms with technology,...            0   \n",
            "1  right outside a conference room - very noisy, ...            0   \n",
            "2  How open it is, this creates a lot of noise th...            0   \n",
            "3  need more filing space in the office- not outs...            1   \n",
            "4  Somehow the space is a bit noisier. When on co...            0   \n",
            "\n",
            "   Air_Temperature  Bad_Culture  Bathrooms  Chair  Collaboration  Cubicle  \\\n",
            "0                0            0          0      0              1        0   \n",
            "1                0            0          0      0              0        0   \n",
            "2                0            0          0      0              0        0   \n",
            "3                1            0          0      0              0        0   \n",
            "4                0            0          0      0              0        0   \n",
            "\n",
            "   ...  Meeting_room  Natural_Light  Noise  Open_design  Personalization  \\\n",
            "0  ...             1              0      0            0                0   \n",
            "1  ...             0              0      1            0                0   \n",
            "2  ...             0              0      1            1                0   \n",
            "3  ...             0              0      0            0                0   \n",
            "4  ...             0              0      1            0                0   \n",
            "\n",
            "   Privacy  Technology  Vermin  \\\n",
            "0        0           0       0   \n",
            "1        0           0       0   \n",
            "2        0           0       0   \n",
            "3        0           0       0   \n",
            "4        0           0       0   \n",
            "\n",
            "                                         Preprocess3  \\\n",
            "0  lack of large rooms and rooms with technology ...   \n",
            "1  right outside a conference room very noisy lot...   \n",
            "2  how open it is this creates a lot of noise tha...   \n",
            "3  need more filing space in the office not outsi...   \n",
            "4  somehow the space is a bit noise when on confe...   \n",
            "\n",
            "                                      one_hot_labels  \n",
            "0  [0, 0, 0, 0, 0, 1, 0, 0, 0, 0, 0, 0, 1, 0, 0, ...  \n",
            "1  [0, 0, 0, 0, 0, 0, 0, 0, 1, 0, 0, 0, 0, 0, 1, ...  \n",
            "2  [0, 0, 0, 0, 0, 0, 0, 0, 1, 0, 0, 0, 0, 0, 1, ...  \n",
            "3  [1, 1, 0, 0, 0, 0, 0, 0, 0, 0, 0, 0, 0, 0, 0, ...  \n",
            "4  [0, 0, 0, 0, 0, 0, 0, 0, 1, 0, 0, 0, 0, 0, 1, ...  \n",
            "\n",
            "[5 rows x 25 columns]\n"
          ]
        }
      ]
    },
    {
      "cell_type": "code",
      "metadata": {
        "id": "MlhHifh5bW7e"
      },
      "source": [
        "labels_train = list(df_train.one_hot_labels.values)\n",
        "comments_train = list(df_train.Preprocess3.values)\n",
        "\n",
        "labels_test = list(df_test.one_hot_labels.values)\n",
        "comments_test = list(df_test.Preprocess3.values)"
      ],
      "execution_count": null,
      "outputs": []
    },
    {
      "cell_type": "markdown",
      "metadata": {
        "id": "IlMHfElhGJzc"
      },
      "source": [
        "Load the pretrained tokenizer that corresponds to your choice in model. e.g.,\n",
        "\n",
        "```\n",
        "BERT:\n",
        "tokenizer = BertTokenizer.from_pretrained('bert-base-uncased', do_lower_case=True)\n",
        "\n",
        "XLNet:\n",
        "tokenizer = XLNetTokenizer.from_pretrained('xlnet-base-cased', do_lower_case=False)\n",
        "\n",
        "RoBERTa:\n",
        "tokenizer = RobertaTokenizer.from_pretrained('roberta-base', do_lower_case=False)\n",
        "```\n"
      ]
    },
    {
      "cell_type": "code",
      "source": [
        "#BERT\n",
        "tokenizer = BertTokenizer.from_pretrained('bert-base-uncased', do_lower_case=True)"
      ],
      "metadata": {
        "colab": {
          "base_uri": "https://localhost:8080/"
        },
        "id": "bp-AVdz89Ux6",
        "outputId": "b9441d60-f1f8-4e92-ec7b-f9e1f928d9d1"
      },
      "execution_count": null,
      "outputs": [
        {
          "output_type": "stream",
          "name": "stderr",
          "text": [
            "loading file vocab.txt from cache at /root/.cache/huggingface/hub/models--bert-base-uncased/snapshots/0a6aa9128b6194f4f3c4db429b6cb4891cdb421b/vocab.txt\n",
            "loading file added_tokens.json from cache at None\n",
            "loading file special_tokens_map.json from cache at None\n",
            "loading file tokenizer_config.json from cache at /root/.cache/huggingface/hub/models--bert-base-uncased/snapshots/0a6aa9128b6194f4f3c4db429b6cb4891cdb421b/tokenizer_config.json\n",
            "loading configuration file config.json from cache at /root/.cache/huggingface/hub/models--bert-base-uncased/snapshots/0a6aa9128b6194f4f3c4db429b6cb4891cdb421b/config.json\n",
            "Model config BertConfig {\n",
            "  \"_name_or_path\": \"bert-base-uncased\",\n",
            "  \"architectures\": [\n",
            "    \"BertForMaskedLM\"\n",
            "  ],\n",
            "  \"attention_probs_dropout_prob\": 0.1,\n",
            "  \"classifier_dropout\": null,\n",
            "  \"gradient_checkpointing\": false,\n",
            "  \"hidden_act\": \"gelu\",\n",
            "  \"hidden_dropout_prob\": 0.1,\n",
            "  \"hidden_size\": 768,\n",
            "  \"initializer_range\": 0.02,\n",
            "  \"intermediate_size\": 3072,\n",
            "  \"layer_norm_eps\": 1e-12,\n",
            "  \"max_position_embeddings\": 512,\n",
            "  \"model_type\": \"bert\",\n",
            "  \"num_attention_heads\": 12,\n",
            "  \"num_hidden_layers\": 12,\n",
            "  \"pad_token_id\": 0,\n",
            "  \"position_embedding_type\": \"absolute\",\n",
            "  \"transformers_version\": \"4.26.1\",\n",
            "  \"type_vocab_size\": 2,\n",
            "  \"use_cache\": true,\n",
            "  \"vocab_size\": 30522\n",
            "}\n",
            "\n"
          ]
        }
      ]
    },
    {
      "cell_type": "markdown",
      "metadata": {
        "id": "IhVr8SziL_PY"
      },
      "source": [
        "In order to avoid memory issues with Google Colab, I enforce a max_length of 100 tokens. Note that some sentences may not adequately represent each label because of this."
      ]
    },
    {
      "cell_type": "code",
      "metadata": {
        "id": "HNsEu-vUur-4",
        "colab": {
          "base_uri": "https://localhost:8080/"
        },
        "outputId": "abb29a41-46bc-4af0-be71-cbeff9bd17ef"
      },
      "source": [
        "max_length = 100\n",
        "tokenizer = BertTokenizer.from_pretrained('bert-base-uncased', do_lower_case=True) # tokenizer\n",
        "encodings = tokenizer.batch_encode_plus(comments_train, max_length=max_length,pad_to_max_length=True) # tokenizer's encoding method\n",
        "print('tokenizer outputs: ', encodings.keys())"
      ],
      "execution_count": null,
      "outputs": [
        {
          "output_type": "stream",
          "name": "stderr",
          "text": [
            "loading file vocab.txt from cache at /root/.cache/huggingface/hub/models--bert-base-uncased/snapshots/0a6aa9128b6194f4f3c4db429b6cb4891cdb421b/vocab.txt\n",
            "loading file added_tokens.json from cache at None\n",
            "loading file special_tokens_map.json from cache at None\n",
            "loading file tokenizer_config.json from cache at /root/.cache/huggingface/hub/models--bert-base-uncased/snapshots/0a6aa9128b6194f4f3c4db429b6cb4891cdb421b/tokenizer_config.json\n",
            "loading configuration file config.json from cache at /root/.cache/huggingface/hub/models--bert-base-uncased/snapshots/0a6aa9128b6194f4f3c4db429b6cb4891cdb421b/config.json\n",
            "Model config BertConfig {\n",
            "  \"_name_or_path\": \"bert-base-uncased\",\n",
            "  \"architectures\": [\n",
            "    \"BertForMaskedLM\"\n",
            "  ],\n",
            "  \"attention_probs_dropout_prob\": 0.1,\n",
            "  \"classifier_dropout\": null,\n",
            "  \"gradient_checkpointing\": false,\n",
            "  \"hidden_act\": \"gelu\",\n",
            "  \"hidden_dropout_prob\": 0.1,\n",
            "  \"hidden_size\": 768,\n",
            "  \"initializer_range\": 0.02,\n",
            "  \"intermediate_size\": 3072,\n",
            "  \"layer_norm_eps\": 1e-12,\n",
            "  \"max_position_embeddings\": 512,\n",
            "  \"model_type\": \"bert\",\n",
            "  \"num_attention_heads\": 12,\n",
            "  \"num_hidden_layers\": 12,\n",
            "  \"pad_token_id\": 0,\n",
            "  \"position_embedding_type\": \"absolute\",\n",
            "  \"transformers_version\": \"4.26.1\",\n",
            "  \"type_vocab_size\": 2,\n",
            "  \"use_cache\": true,\n",
            "  \"vocab_size\": 30522\n",
            "}\n",
            "\n",
            "Truncation was not explicitly activated but `max_length` is provided a specific value, please use `truncation=True` to explicitly truncate examples to max length. Defaulting to 'longest_first' truncation strategy. If you encode pairs of sequences (GLUE-style) with the tokenizer you can select this strategy more precisely by providing a specific strategy to `truncation`.\n",
            "/usr/local/lib/python3.8/dist-packages/transformers/tokenization_utils_base.py:2339: FutureWarning: The `pad_to_max_length` argument is deprecated and will be removed in a future version, use `padding=True` or `padding='longest'` to pad to the longest sequence in the batch, or use `padding='max_length'` to pad to a max length. In this case, you can give a specific length with `max_length` (e.g. `max_length=45`) or leave max_length to None to pad to the maximal input size of the model (e.g. 512 for Bert).\n",
            "  warnings.warn(\n"
          ]
        },
        {
          "output_type": "stream",
          "name": "stdout",
          "text": [
            "tokenizer outputs:  dict_keys(['input_ids', 'token_type_ids', 'attention_mask'])\n"
          ]
        }
      ]
    },
    {
      "cell_type": "code",
      "metadata": {
        "id": "l6CCLSjfur-9"
      },
      "source": [
        "input_ids_train = encodings['input_ids'] # tokenized and encoded sentences\n",
        "token_type_ids_train = encodings['token_type_ids'] # token type ids\n",
        "attention_masks_train = encodings['attention_mask'] # attention masks\n",
        "\n",
        "input_ids_test = encodings['input_ids'] # tokenized and encoded sentences\n",
        "token_type_ids_test = encodings['token_type_ids'] # token type ids\n",
        "attention_masks_test = encodings['attention_mask'] # attention masks"
      ],
      "execution_count": null,
      "outputs": []
    },
    {
      "cell_type": "code",
      "metadata": {
        "id": "vSOFbThlYcpb",
        "colab": {
          "base_uri": "https://localhost:8080/"
        },
        "outputId": "588b7dd2-b61c-4abb-e4d4-1bffc2b5c55e"
      },
      "source": [
        "# Identifying indices of 'one_hot_labels' entries that only occur once - this will allow us to stratify split our training data later\n",
        "label_counts_train = df_train.one_hot_labels.astype(str).value_counts()\n",
        "one_freq_train = label_counts_train[label_counts_train==1].keys()\n",
        "one_freq_idxs_train = sorted(list(df_train[df_train.one_hot_labels.astype(str).isin(one_freq_train)].index), reverse=True)\n",
        "print('df label indices with only one instance: ', one_freq_idxs_train)\n",
        "\n",
        "# Identifying indices of 'one_hot_labels' entries that only occur once - this will allow us to stratify split our training data later\n",
        "label_counts_test = df_test.one_hot_labels.astype(str).value_counts()\n",
        "one_freq_test = label_counts_test[label_counts_test==1000].keys()\n",
        "one_freq_idxs_test = sorted(list(df_test[df_test.one_hot_labels.astype(str).isin(one_freq_test)].index), reverse=True)\n",
        "print('df label indices with only 1000 instance: ', one_freq_idxs_test)"
      ],
      "execution_count": null,
      "outputs": [
        {
          "output_type": "stream",
          "name": "stdout",
          "text": [
            "df label indices with only one instance:  [132235, 132188, 132177, 132093, 132082, 131863, 131363, 131348, 131246, 131235, 131207, 131108, 131009, 130922, 130815, 130796, 130757, 130628, 130567, 130555, 130478, 130456, 130423, 130254, 130219, 129973, 129965, 129807, 129638, 129483, 129385, 129301, 129197, 129070, 129021, 129001, 128975, 128910, 128737, 128732, 128672, 128621, 128606, 128471, 128373, 127745, 127737, 127730, 127573, 127337, 127126, 126976, 126967, 126952, 126899, 126503, 126426, 126354, 126351, 126065, 125980, 125901, 125885, 125653, 125338, 125316, 125154, 124824, 124780, 124269, 124101, 124091, 123976, 123971, 123862, 123741, 123718, 123595, 123437, 123197, 123123, 123042, 123038, 123025, 122954, 122778, 122566, 122370, 122260, 122254, 122209, 122145, 121891, 121780, 121676, 121643, 121612, 121479, 121378, 121376, 121364, 121312, 121263, 121178, 121159, 121105, 121023, 120928, 120896, 120866, 120834, 120592, 120488, 120483, 120440, 120385, 120276, 120269, 120247, 120157, 120122, 120089, 119649, 119601, 119564, 119511, 119510, 119491, 119470, 119291, 119265, 119198, 119174, 118995, 118726, 118398, 118359, 118289, 118141, 118087, 118016, 117811, 117616, 117549, 117472, 117341, 117337, 116963, 116904, 116892, 116593, 116360, 116122, 116062, 116053, 115898, 115859, 115772, 115754, 115736, 115686, 115676, 115550, 115534, 115511, 115394, 115304, 115220, 115197, 114974, 114790, 114600, 114588, 114574, 114437, 114424, 114400, 114342, 114196, 114079, 113933, 113867, 113596, 113382, 113332, 113120, 113066, 112691, 112380, 111986, 111951, 111937, 111935, 111916, 111850, 111849, 111690, 111651, 111542, 111500, 111420, 111378, 111313, 111041, 110926, 110897, 110856, 110583, 110569, 110376, 110358, 110034, 109920, 109837, 109810, 109734, 109679, 109675, 109640, 109520, 109378, 109337, 109288, 109194, 108989, 108887, 108716, 108706, 108700, 108699, 108646, 108599, 108357, 108318, 108155, 108151, 107979, 107929, 107758, 107719, 107646, 107613, 107458, 107084, 106961, 106617, 106606, 106528, 106478, 106410, 106351, 106181, 106143, 105891, 105436, 105119, 105113, 104831, 104781, 104537, 104339, 104317, 104264, 104161, 104112, 104103, 104077, 103977, 103751, 103720, 103659, 103566, 103540, 103479, 103461, 103448, 103437, 103175, 103110, 102691, 102255, 102238, 102013, 102011, 102007, 101949, 101706, 101302, 101286, 101239, 101165, 101137, 101065, 101059, 101045, 100916, 100815, 100679, 100624, 100616, 100546, 100530, 100347, 100023, 99945, 99859, 99835, 99731, 99689, 99607, 99428, 99409, 99378, 99341, 99288, 99151, 98900, 98869, 98710, 98655, 98643, 98604, 98541, 98244, 98183, 97826, 97821, 97698, 97654, 97561, 97447, 97397, 97367, 97101, 97058, 97011, 96896, 96808, 96751, 96744, 96550, 96470, 96466, 96393, 96311, 96251, 96206, 96123, 96082, 95996, 95839, 95708, 95704, 95578, 95396, 95039, 94750, 94680, 94559, 94510, 94384, 94368, 94238, 94048, 93970, 93907, 93832, 93587, 93500, 93033, 92643, 92599, 92344, 92135, 92027, 91979, 91746, 91603, 91530, 91363, 90919, 90584, 90502, 90401, 90310, 90136, 90081, 90046, 89920, 89778, 89776, 89702, 89459, 89309, 89264, 89126, 89074, 89026, 88920, 88710, 88652, 88343, 88320, 88189, 88167, 87978, 87892, 87874, 87857, 87852, 87781, 87722, 87349, 87286, 87207, 87064, 87046, 86966, 86897, 86860, 86663, 86529, 86470, 86463, 86462, 86441, 86425, 86025, 86021, 85892, 85890, 85732, 85518, 85304, 85239, 85211, 85210, 85140, 85126, 84992, 84895, 84783, 84699, 84576, 84488, 84446, 84295, 84165, 84162, 84101, 84081, 84037, 84036, 84008, 83990, 83952, 83833, 83655, 83434, 83381, 83348, 83176, 83121, 83107, 83086, 82753, 82746, 82550, 82429, 82266, 82126, 82049, 81795, 81694, 81653, 81577, 81444, 81344, 81302, 81158, 81087, 80886, 80884, 80823, 80813, 80800, 80263, 80170, 80109, 80076, 80041, 79895, 79807, 79745, 79731, 79697, 79657, 79465, 79313, 79283, 79121, 79114, 79108, 78780, 78618, 78614, 78512, 78202, 78060, 77878, 77674, 77644, 77270, 77266, 77105, 76716, 76669, 76628, 76587, 76305, 76128, 76064, 76023, 75611, 75503, 75440, 75296, 75183, 75175, 75118, 74993, 74969, 74866, 74852, 74776, 74712, 74634, 74627, 74363, 74341, 74242, 74239, 74236, 74227, 74197, 74129, 73934, 73855, 73799, 73761, 73499, 73404, 73197, 73149, 73009, 72988, 72821, 72819, 72656, 72592, 72341, 72137, 71968, 71828, 71503, 71281, 71249, 71013, 70991, 70931, 70923, 70808, 70725, 70590, 70352, 70179, 70174, 70167, 70030, 69992, 69936, 69707, 69688, 69675, 69661, 69520, 69489, 69438, 69361, 69279, 69270, 69229, 69154, 68852, 68798, 68519, 68518, 68452, 68419, 68333, 68310, 68192, 68051, 67891, 67844, 67752, 67685, 67518, 67291, 67244, 67235, 66825, 66576, 66310, 66106, 65961, 65937, 65837, 65821, 65777, 65670, 65600, 65412, 65305, 65298, 65217, 65106, 64595, 64457, 64357, 64312, 64309, 64305, 64291, 64214, 64183, 64005, 63907, 63853, 63675, 63498, 63491, 63487, 63414, 62841, 62793, 62661, 62634, 62461, 62441, 62401, 62390, 62293, 62208, 62113, 61992, 61945, 61888, 61643, 61640, 61484, 61465, 61421, 61371, 61354, 61272, 61134, 60981, 60922, 60772, 60603, 60517, 60469, 60345, 60307, 60286, 60216, 60170, 59975, 59938, 59921, 59843, 59548, 59325, 59283, 59195, 59141, 59100, 59099, 59085, 59059, 59001, 58959, 58935, 58905, 58852, 58710, 58607, 58579, 58571, 58507, 58380, 58328, 58143, 57979, 57908, 57819, 57712, 57559, 57547, 57236, 57165, 56975, 56745, 56419, 55988, 55951, 55941, 55877, 55866, 55668, 55638, 55600, 55487, 55252, 55094, 55069, 55058, 54928, 54794, 54664, 54406, 54072, 53978, 53780, 53632, 53478, 53464, 53366, 53205, 53101, 53038, 52747, 52743, 52510, 52507, 52493, 52383, 52149, 52142, 51909, 51896, 51884, 51752, 51645, 51644, 51638, 51408, 51379, 51263, 51161, 51104, 50893, 50731, 50715, 50545, 50475, 50458, 50409, 50333, 50045, 49654, 49613, 49523, 49465, 49459, 49432, 49403, 49185, 49105, 49019, 48821, 48760, 48701, 48496, 48376, 48315, 48193, 48004, 47887, 47697, 47678, 47412, 47362, 47311, 47301, 47245, 47106, 47053, 46913, 46884, 46676, 46636, 46523, 46510, 46419, 46402, 46192, 45850, 45689, 45509, 45441, 45438, 45263, 45239, 45007, 44739, 44717, 44709, 44613, 44608, 44501, 44347, 43582, 43399, 43369, 43017, 42919, 42866, 42858, 42847, 42618, 42614, 42605, 42556, 42539, 42311, 42178, 41691, 41602, 41571, 41527, 41515, 41451, 41439, 40679, 40440, 40233, 40214, 39889, 39813, 39791, 39691, 39690, 39660, 39305, 39205, 39180, 38916, 38867, 38731, 38636, 38509, 38405, 38358, 38330, 38217, 38175, 38171, 38148, 38132, 38115, 37971, 37948, 37849, 37807, 37695, 37678, 37585, 37583, 37562, 37529, 37500, 37388, 37373, 37363, 37352, 37237, 37225, 37128, 36832, 36720, 36704, 36689, 36686, 36661, 36607, 36546, 36362, 36241, 36008, 35964, 35808, 35629, 35522, 35469, 35457, 35338, 35312, 35219, 35069, 34963, 34722, 34657, 34635, 34283, 34073, 33961, 33944, 33783, 33632, 33387, 33350, 33321, 33252, 33021, 32954, 32845, 32833, 32689, 32549, 32295, 32007, 31915, 31899, 31866, 31823, 31647, 31304, 31289, 31245, 31127, 30791, 30709, 30598, 30542, 30346, 30314, 30096, 30065, 29739, 29560, 29555, 29541, 29495, 29360, 29337, 29271, 29184, 29139, 28896, 28729, 28710, 28669, 28662, 28422, 28405, 28318, 28020, 27867, 27689, 27481, 27474, 27416, 27303, 26745, 26688, 26590, 26573, 26536, 26530, 26528, 26473, 26444, 26418, 26396, 26292, 26217, 26198, 25806, 25392, 25264, 25159, 25126, 25082, 24933, 24807, 24803, 24745, 24445, 24413, 24406, 24347, 24139, 23971, 23922, 23793, 23718, 23470, 23384, 23322, 23161, 23149, 23114, 23064, 23032, 22876, 22798, 22782, 22617, 22553, 22407, 22067, 21960, 21812, 21723, 21510, 21276, 21232, 21137, 21076, 21014, 20955, 20672, 20671, 20512, 20424, 20339, 20284, 20187, 20134, 20128, 20053, 19988, 19676, 19653, 19618, 19544, 19472, 19424, 19247, 19126, 19112, 19073, 18896, 18808, 18614, 18525, 18346, 18317, 18237, 18199, 18165, 18026, 17993, 17896, 17879, 17819, 17302, 17258, 17202, 17005, 16951, 16573, 16554, 16448, 16364, 16289, 16153, 16035, 15941, 15926, 15906, 15902, 15863, 15860, 15851, 15626, 15535, 15490, 15474, 15407, 15242, 15213, 15204, 15033, 14790, 14752, 14738, 14717, 14616, 14521, 14357, 14344, 14323, 14291, 14204, 14184, 14125, 14007, 14001, 13880, 13723, 13698, 13674, 13090, 13053, 13006, 12971, 12849, 12846, 12836, 12615, 12604, 12574, 12394, 12277, 12250, 12075, 11863, 11575, 11514, 11493, 11405, 11254, 11200, 11181, 11144, 10715, 10636, 10580, 10578, 10441, 10270, 10216, 10196, 10096, 10058, 10015, 10008, 9987, 9978, 9976, 9887, 9812, 9802, 9763, 9625, 9155, 8892, 8815, 8791, 8740, 8663, 8594, 8532, 8385, 8341, 8301, 8229, 8228, 8124, 8040, 7970, 7928, 7781, 7723, 7620, 7543, 7467, 7253, 7138, 6984, 6717, 6676, 6511, 6449, 6374, 6291, 6221, 6054, 5781, 5685, 5664, 5611, 5590, 5571, 5132, 5130, 4909, 4630, 4629, 4582, 4330, 4236, 4121, 3992, 3786, 3743, 3617, 3408, 3330, 3315, 3276, 3271, 3162, 2674, 2553, 2524, 2487, 2486, 2351, 2094, 2090, 1867, 1752, 1637, 1593, 1226, 1020, 802, 788, 703, 612, 541, 417, 317, 150, 129, 49]\n",
            "df label indices with only 0 instance:  []\n"
          ]
        }
      ]
    },
    {
      "cell_type": "code",
      "metadata": {
        "id": "CQQ7CoOag_r7"
      },
      "source": [
        "# Gathering single instance inputs to force into the training set after stratified split\n",
        "one_freq_input_ids_train = [input_ids_train.pop(i) for i in one_freq_idxs_train]\n",
        "one_freq_token_types_train = [token_type_ids_train.pop(i) for i in one_freq_idxs_train]\n",
        "one_freq_attention_masks_train = [attention_masks_train.pop(i) for i in one_freq_idxs_train]\n",
        "one_freq_labels_train = [labels_train.pop(i) for i in one_freq_idxs_train]\n",
        "\n",
        "one_freq_input_ids_test = [input_ids_test.pop(i) for i in one_freq_idxs_test]\n",
        "one_freq_token_types_test = [token_type_ids_test.pop(i) for i in one_freq_idxs_test]\n",
        "one_freq_attention_masks_test = [attention_masks_test.pop(i) for i in one_freq_idxs_test]\n",
        "one_freq_labels_test = [labels_test.pop(i) for i in one_freq_idxs_test]"
      ],
      "execution_count": null,
      "outputs": []
    },
    {
      "cell_type": "markdown",
      "metadata": {
        "id": "r9PxAt48HRRj"
      },
      "source": [
        "Be sure to handle all classes during validation using \"stratify\" during train/validation split:"
      ]
    },
    {
      "cell_type": "code",
      "metadata": {
        "id": "WPFaq4ufnIT2",
        "colab": {
          "base_uri": "https://localhost:8080/"
        },
        "outputId": "20fa034f-f87a-4b2b-d22b-6094d7bab052"
      },
      "source": [
        "###not splitting; already split\n",
        "# Use train_test_split to split our data into train and validation sets\n",
        "\n",
        "#train_inputs, validation_inputs, train_labels, validation_labels, train_token_types, validation_token_types, train_masks, validation_masks = train_test_split(input_ids, labels, token_type_ids,attention_masks, random_state=2020, test_size=0.10, stratify = labels)\n",
        "\n",
        "\n",
        "train_inputs=input_ids_train\n",
        "train_labels=labels_train\n",
        "train_masks=token_type_ids_train\n",
        "train_token_types=attention_masks_train\n",
        "\n",
        "# Add one frequency data to train data\n",
        "train_inputs.extend(one_freq_input_ids_train)\n",
        "train_labels.extend(one_freq_labels_train)\n",
        "train_masks.extend(one_freq_attention_masks_train)\n",
        "train_token_types.extend(one_freq_token_types_train)\n",
        "\n",
        "\n",
        "\n",
        "# Convert all of our data into torch tensors, the required datatype for our model\n",
        "train_inputs = torch.tensor(train_inputs)\n",
        "train_labels = torch.tensor(train_labels)\n",
        "train_masks = torch.tensor(train_masks)\n",
        "train_token_types = torch.tensor(train_token_types)\n",
        "\n",
        "test_inputs=input_ids_test\n",
        "test_labels=labels_test\n",
        "test_masks=token_type_ids_test\n",
        "test_token_types=attention_masks_test\n",
        "\n",
        "validation_inputs = torch.tensor(test_inputs)\n",
        "validation_labels = torch.tensor(test_labels)\n",
        "validation_masks = torch.tensor(test_masks)\n",
        "validation_token_types = torch.tensor(test_token_types)"
      ],
      "execution_count": null,
      "outputs": [
        {
          "output_type": "stream",
          "name": "stderr",
          "text": [
            "<ipython-input-25-a9843a04922b>:22: UserWarning: Creating a tensor from a list of numpy.ndarrays is extremely slow. Please consider converting the list to a single numpy.ndarray with numpy.array() before converting to a tensor. (Triggered internally at ../torch/csrc/utils/tensor_new.cpp:230.)\n",
            "  train_labels = torch.tensor(train_labels)\n"
          ]
        }
      ]
    },
    {
      "cell_type": "code",
      "metadata": {
        "id": "ZRnuLna-nIT4"
      },
      "source": [
        "# Select a batch size for training. For fine-tuning with XLNet, the authors recommend a batch size of 32, 48, or 128. We will use 32 here to avoid memory issues.\n",
        "batch_size = 32\n",
        "\n",
        "# Create an iterator of our data with torch DataLoader. This helps save on memory during training because, unlike a for loop,\n",
        "# with an iterator the entire dataset does not need to be loaded into memory\n",
        "\n",
        "train_data = TensorDataset(train_inputs, train_masks, train_labels, train_token_types)\n",
        "train_sampler = RandomSampler(train_data)\n",
        "train_dataloader = DataLoader(train_data, sampler=train_sampler, batch_size=batch_size)\n",
        "\n",
        "#validation_data = TensorDataset(validation_inputs, validation_masks, validation_labels, validation_token_types)\n",
        "#validation_sampler = SequentialSampler(validation_data)\n",
        "#validation_dataloader = DataLoader(validation_data, sampler=validation_sampler, batch_size=batch_size)"
      ],
      "execution_count": null,
      "outputs": []
    },
    {
      "cell_type": "code",
      "metadata": {
        "id": "iiFRnP_ZTBFa"
      },
      "source": [
        "#torch.save(validation_dataloader,'validation_data_loader')\n",
        "torch.save(train_dataloader,'train_data_loader')"
      ],
      "execution_count": null,
      "outputs": []
    },
    {
      "cell_type": "markdown",
      "metadata": {
        "id": "ncGteBuSFuZM"
      },
      "source": [
        "## Load Model & Set Params"
      ]
    },
    {
      "cell_type": "markdown",
      "metadata": {
        "id": "Z0dL-Bz_NrGj"
      },
      "source": [
        "Load the appropriate model below, each model already contains a single dense layer for classification on top.\n",
        "\n",
        "\n",
        "\n",
        "```\n",
        "BERT:\n",
        "model = BertForSequenceClassification.from_pretrained(\"bert-base-uncased\", num_labels=num_labels)\n",
        "\n",
        "XLNet:\n",
        "model = XLNetForSequenceClassification.from_pretrained(\"xlnet-base-cased\", num_labels=num_labels)\n",
        "\n",
        "RoBERTa:\n",
        "model = RobertaForSequenceClassification.from_pretrained('roberta-base', num_labels=num_labels)\n",
        "```\n",
        "\n"
      ]
    },
    {
      "cell_type": "code",
      "metadata": {
        "id": "Ujk4k16DnIT6",
        "colab": {
          "base_uri": "https://localhost:8080/",
          "height": 200
        },
        "outputId": "cd228b68-5d94-4928-84c6-00d996583265"
      },
      "source": [
        "# Load model, the pretrained model will include a single linear classification layer on top for classification.\n",
        "model = BertForSequenceClassification.from_pretrained(\"bert-base-uncased\", num_labels=num_labels)\n",
        "model.cuda()"
      ],
      "execution_count": null,
      "outputs": [
        {
          "output_type": "error",
          "ename": "NameError",
          "evalue": "ignored",
          "traceback": [
            "\u001b[0;31m---------------------------------------------------------------------------\u001b[0m",
            "\u001b[0;31mNameError\u001b[0m                                 Traceback (most recent call last)",
            "\u001b[0;32m<ipython-input-29-64ad1b349f81>\u001b[0m in \u001b[0;36m<module>\u001b[0;34m\u001b[0m\n\u001b[1;32m      1\u001b[0m \u001b[0;31m# Load model, the pretrained model will include a single linear classification layer on top for classification.\u001b[0m\u001b[0;34m\u001b[0m\u001b[0;34m\u001b[0m\u001b[0;34m\u001b[0m\u001b[0m\n\u001b[0;32m----> 2\u001b[0;31m \u001b[0mmodel\u001b[0m \u001b[0;34m=\u001b[0m \u001b[0mBertForSequenceClassification\u001b[0m\u001b[0;34m.\u001b[0m\u001b[0mfrom_pretrained\u001b[0m\u001b[0;34m(\u001b[0m\u001b[0;34m\"bert-base-uncased\"\u001b[0m\u001b[0;34m,\u001b[0m \u001b[0mnum_labels\u001b[0m\u001b[0;34m=\u001b[0m\u001b[0mnum_labels\u001b[0m\u001b[0;34m)\u001b[0m\u001b[0;34m\u001b[0m\u001b[0;34m\u001b[0m\u001b[0m\n\u001b[0m\u001b[1;32m      3\u001b[0m \u001b[0mmodel\u001b[0m\u001b[0;34m.\u001b[0m\u001b[0mcuda\u001b[0m\u001b[0;34m(\u001b[0m\u001b[0;34m)\u001b[0m\u001b[0;34m\u001b[0m\u001b[0;34m\u001b[0m\u001b[0m\n",
            "\u001b[0;31mNameError\u001b[0m: name 'num_labels' is not defined"
          ]
        }
      ]
    },
    {
      "cell_type": "markdown",
      "metadata": {
        "id": "jGE4gv9qfhRG"
      },
      "source": [
        "Setting custom optimization parameters for the AdamW optimizer https://huggingface.co/transformers/main_classes/optimizer_schedules.html"
      ]
    },
    {
      "cell_type": "code",
      "metadata": {
        "id": "GsV8zwWYnIT9"
      },
      "source": [
        "# setting custom optimization parameters. You may implement a scheduler here as well.\n",
        "param_optimizer = list(model.named_parameters())\n",
        "no_decay = ['bias', 'gamma', 'beta']\n",
        "optimizer_grouped_parameters = [\n",
        "    {'params': [p for n, p in param_optimizer if not any(nd in n for nd in no_decay)],\n",
        "     'weight_decay_rate': 0.01},\n",
        "    {'params': [p for n, p in param_optimizer if any(nd in n for nd in no_decay)],\n",
        "     'weight_decay_rate': 0.0}\n",
        "]"
      ],
      "execution_count": null,
      "outputs": []
    },
    {
      "cell_type": "code",
      "metadata": {
        "id": "aOomZIEIoHOL"
      },
      "source": [
        "optimizer = AdamW(optimizer_grouped_parameters,lr=2e-5,correct_bias=True)\n",
        "# optimizer = AdamW(model.parameters(),lr=2e-5)  # Default optimization"
      ],
      "execution_count": null,
      "outputs": []
    },
    {
      "cell_type": "markdown",
      "metadata": {
        "id": "JRQQZ8zIFzLW"
      },
      "source": [
        "## Train Model"
      ]
    },
    {
      "cell_type": "code",
      "metadata": {
        "id": "uDLZmEC_oKo3"
      },
      "source": [
        "# Store our loss and accuracy for plotting\n",
        "train_loss_set = []\n",
        "\n",
        "# Number of training epochs (authors recommend between 2 and 4)\n",
        "epochs = 3\n",
        "\n",
        "# trange is a tqdm wrapper around the normal python range\n",
        "for _ in trange(epochs, desc=\"Epoch\"):\n",
        "\n",
        "  # Training\n",
        "\n",
        "  # Set our model to training mode (as opposed to evaluation mode)\n",
        "  model.train()\n",
        "\n",
        "  # Tracking variables\n",
        "  tr_loss = 0 #running loss\n",
        "  nb_tr_examples, nb_tr_steps = 0, 0\n",
        "\n",
        "  # Train the data for one epoch\n",
        "  for step, batch in enumerate(train_dataloader):\n",
        "    # Add batch to GPU\n",
        "    batch = tuple(t.to(device) for t in batch)\n",
        "    # Unpack the inputs from our dataloader\n",
        "    b_input_ids, b_input_mask, b_labels, b_token_types = batch\n",
        "    # Clear out the gradients (by default they accumulate)\n",
        "    optimizer.zero_grad()\n",
        "\n",
        "    # # Forward pass for multiclass classification\n",
        "    # outputs = model(b_input_ids, token_type_ids=None, attention_mask=b_input_mask, labels=b_labels)\n",
        "    # loss = outputs[0]\n",
        "    # logits = outputs[1]\n",
        "\n",
        "    # Forward pass for multilabel classification\n",
        "    outputs = model(b_input_ids, token_type_ids=None, attention_mask=b_input_mask)\n",
        "    logits = outputs[0]\n",
        "    loss_func = BCEWithLogitsLoss()\n",
        "    loss = loss_func(logits.view(-1,num_labels),b_labels.type_as(logits).view(-1,num_labels)) #convert labels to float for calculation\n",
        "    # loss_func = BCELoss()\n",
        "    # loss = loss_func(torch.sigmoid(logits.view(-1,num_labels)),b_labels.type_as(logits).view(-1,num_labels)) #convert labels to float for calculation\n",
        "    train_loss_set.append(loss.item())\n",
        "\n",
        "    # Backward pass\n",
        "    loss.backward()\n",
        "    # Update parameters and take a step using the computed gradient\n",
        "    optimizer.step()\n",
        "    # scheduler.step()\n",
        "    # Update tracking variables\n",
        "    tr_loss += loss.item()\n",
        "    nb_tr_examples += b_input_ids.size(0)\n",
        "    nb_tr_steps += 1\n",
        "\n",
        "  print(\"Train loss: {}\".format(tr_loss/nb_tr_steps))\n",
        "\n",
        "###############################################################################\n",
        "\n",
        "  # Validation\n",
        "\n",
        "  # Put model in evaluation mode to evaluate loss on the validation set\n",
        "  model.eval()\n",
        "\n",
        "  # Variables to gather full output\n",
        "  logit_preds,true_labels,pred_labels,tokenized_texts = [],[],[],[]\n",
        "\n",
        "  # Predict\n",
        "  for i, batch in enumerate(validation_dataloader):\n",
        "    batch = tuple(t.to(device) for t in batch)\n",
        "    # Unpack the inputs from our dataloader\n",
        "    b_input_ids, b_input_mask, b_labels, b_token_types = batch\n",
        "    with torch.no_grad():\n",
        "      # Forward pass\n",
        "      outs = model(b_input_ids, token_type_ids=None, attention_mask=b_input_mask)\n",
        "      b_logit_pred = outs[0]\n",
        "      pred_label = torch.sigmoid(b_logit_pred)\n",
        "\n",
        "      b_logit_pred = b_logit_pred.detach().cpu().numpy()\n",
        "      pred_label = pred_label.to('cpu').numpy()\n",
        "      b_labels = b_labels.to('cpu').numpy()\n",
        "\n",
        "    tokenized_texts.append(b_input_ids)\n",
        "    logit_preds.append(b_logit_pred)\n",
        "    true_labels.append(b_labels)\n",
        "    pred_labels.append(pred_label)\n",
        "\n",
        "  # Flatten outputs\n",
        "  pred_labels = [item for sublist in pred_labels for item in sublist]\n",
        "  true_labels = [item for sublist in true_labels for item in sublist]\n",
        "\n",
        "  # Calculate Accuracy\n",
        "  threshold = 0.50\n",
        "  pred_bools = [pl>threshold for pl in pred_labels]\n",
        "  true_bools = [tl==1 for tl in true_labels]\n",
        "  val_f1_accuracy = f1_score(true_bools,pred_bools,average='micro')*100\n",
        "  val_flat_accuracy = accuracy_score(true_bools, pred_bools)*100\n",
        "\n",
        "  print('F1 Validation Accuracy: ', val_f1_accuracy)\n",
        "  print('Flat Validation Accuracy: ', val_flat_accuracy)"
      ],
      "execution_count": null,
      "outputs": []
    },
    {
      "cell_type": "code",
      "metadata": {
        "id": "aiBeiBSRoOuz"
      },
      "source": [
        "torch.save(model.state_dict(), 'bert_dislike_gl')"
      ],
      "execution_count": null,
      "outputs": []
    },
    {
      "cell_type": "markdown",
      "metadata": {
        "id": "_7dd2GE3F4yK"
      },
      "source": [
        "## Load and Preprocess Test Data"
      ]
    },
    {
      "cell_type": "code",
      "metadata": {
        "id": "G5Q7hC4GFOLJ"
      },
      "source": [
        "test_df = pd.read_csv('test.csv')\n",
        "test_labels_df = pd.read_csv('test_labels.csv')\n",
        "test_df = test_df.merge(test_labels_df, on='id', how='left')\n",
        "test_label_cols = list(test_df.columns[2:])\n",
        "print('Null values: ', test_df.isnull().values.any()) #should not be any null sentences or labels\n",
        "print('Same columns between train and test: ', label_cols == test_label_cols) #columns should be the same\n",
        "test_df.head()"
      ],
      "execution_count": null,
      "outputs": []
    },
    {
      "cell_type": "code",
      "metadata": {
        "id": "77rjCrMGpYxz"
      },
      "source": [
        "test_df = test_df[~test_df[test_label_cols].eq(-1).any(axis=1)] #remove irrelevant rows/comments with -1 values\n",
        "test_df['one_hot_labels'] = list(test_df[test_label_cols].values)\n",
        "test_df.head()"
      ],
      "execution_count": null,
      "outputs": []
    },
    {
      "cell_type": "code",
      "metadata": {
        "id": "1a41OmU2i7qp"
      },
      "source": [
        "# Gathering input data\n",
        "test_labels = list(test_df.one_hot_labels.values)\n",
        "test_comments = list(test_df.comment_text.values)"
      ],
      "execution_count": null,
      "outputs": []
    },
    {
      "cell_type": "code",
      "metadata": {
        "id": "amySMO8EQzf2"
      },
      "source": [
        "# Encoding input data\n",
        "test_encodings = tokenizer.batch_encode_plus(test_comments,max_length=max_length,pad_to_max_length=True)\n",
        "test_input_ids = test_encodings['input_ids']\n",
        "test_token_type_ids = test_encodings['token_type_ids']\n",
        "test_attention_masks = test_encodings['attention_mask']"
      ],
      "execution_count": null,
      "outputs": []
    },
    {
      "cell_type": "code",
      "metadata": {
        "id": "hqOfi9fkRaRN"
      },
      "source": [
        "# Make tensors out of data\n",
        "test_inputs = torch.tensor(test_input_ids)\n",
        "test_labels = torch.tensor(test_labels)\n",
        "test_masks = torch.tensor(test_attention_masks)\n",
        "test_token_types = torch.tensor(test_token_type_ids)\n",
        "# Create test dataloader\n",
        "test_data = TensorDataset(test_inputs, test_masks, test_labels, test_token_types)\n",
        "test_sampler = SequentialSampler(test_data)\n",
        "test_dataloader = DataLoader(test_data, sampler=test_sampler, batch_size=batch_size)\n",
        "# Save test dataloader\n",
        "torch.save(test_dataloader,'test_data_loader')"
      ],
      "execution_count": null,
      "outputs": []
    },
    {
      "cell_type": "markdown",
      "metadata": {
        "id": "PFTWxCA_GBau"
      },
      "source": [
        "## Prediction and Metics"
      ]
    },
    {
      "cell_type": "code",
      "metadata": {
        "id": "NPvrL6OFSQvf"
      },
      "source": [
        "# Test\n",
        "\n",
        "# Put model in evaluation mode to evaluate loss on the validation set\n",
        "model.eval()\n",
        "\n",
        "#track variables\n",
        "logit_preds,true_labels,pred_labels,tokenized_texts = [],[],[],[]\n",
        "\n",
        "# Predict\n",
        "for i, batch in enumerate(test_dataloader):\n",
        "  batch = tuple(t.to(device) for t in batch)\n",
        "  # Unpack the inputs from our dataloader\n",
        "  b_input_ids, b_input_mask, b_labels, b_token_types = batch\n",
        "  with torch.no_grad():\n",
        "    # Forward pass\n",
        "    outs = model(b_input_ids, token_type_ids=None, attention_mask=b_input_mask)\n",
        "    b_logit_pred = outs[0]\n",
        "    pred_label = torch.sigmoid(b_logit_pred)\n",
        "\n",
        "    b_logit_pred = b_logit_pred.detach().cpu().numpy()\n",
        "    pred_label = pred_label.to('cpu').numpy()\n",
        "    b_labels = b_labels.to('cpu').numpy()\n",
        "\n",
        "  tokenized_texts.append(b_input_ids)\n",
        "  logit_preds.append(b_logit_pred)\n",
        "  true_labels.append(b_labels)\n",
        "  pred_labels.append(pred_label)\n",
        "\n",
        "# Flatten outputs\n",
        "tokenized_texts = [item for sublist in tokenized_texts for item in sublist]\n",
        "pred_labels = [item for sublist in pred_labels for item in sublist]\n",
        "true_labels = [item for sublist in true_labels for item in sublist]\n",
        "# Converting flattened binary values to boolean values\n",
        "true_bools = [tl==1 for tl in true_labels]"
      ],
      "execution_count": null,
      "outputs": []
    },
    {
      "cell_type": "markdown",
      "metadata": {
        "id": "bQeGWqeMzAoZ"
      },
      "source": [
        "We need to threshold our sigmoid function outputs which range from [0, 1]. Below I use 0.50 as a threshold."
      ]
    },
    {
      "cell_type": "code",
      "metadata": {
        "id": "BZcZUcYOxxmM"
      },
      "source": [
        "pred_bools = [pl>0.50 for pl in pred_labels] #boolean output after thresholding\n",
        "\n",
        "# Print and save classification report\n",
        "print('Test F1 Accuracy: ', f1_score(true_bools, pred_bools,average='micro'))\n",
        "print('Test Flat Accuracy: ', accuracy_score(true_bools, pred_bools),'\\n')\n",
        "clf_report = classification_report(true_bools,pred_bools,target_names=test_label_cols)\n",
        "pickle.dump(clf_report, open('classification_report.txt','wb')) #save report\n",
        "print(clf_report)"
      ],
      "execution_count": null,
      "outputs": []
    },
    {
      "cell_type": "markdown",
      "metadata": {
        "id": "5rLqrHK87eir"
      },
      "source": [
        "## Output Dataframe"
      ]
    },
    {
      "cell_type": "code",
      "metadata": {
        "id": "CJBkRdGN1hzx"
      },
      "source": [
        "idx2label = dict(zip(range(6),label_cols))\n",
        "print(idx2label)"
      ],
      "execution_count": null,
      "outputs": []
    },
    {
      "cell_type": "code",
      "metadata": {
        "id": "QZUglV_A4BF_"
      },
      "source": [
        "# Getting indices of where boolean one hot vector true_bools is True so we can use idx2label to gather label names\n",
        "true_label_idxs, pred_label_idxs=[],[]\n",
        "for vals in true_bools:\n",
        "  true_label_idxs.append(np.where(vals)[0].flatten().tolist())\n",
        "for vals in pred_bools:\n",
        "  pred_label_idxs.append(np.where(vals)[0].flatten().tolist())"
      ],
      "execution_count": null,
      "outputs": []
    },
    {
      "cell_type": "code",
      "metadata": {
        "id": "OOGhXM3R4a91"
      },
      "source": [
        "# Gathering vectors of label names using idx2label\n",
        "true_label_texts, pred_label_texts = [], []\n",
        "for vals in true_label_idxs:\n",
        "  if vals:\n",
        "    true_label_texts.append([idx2label[val] for val in vals])\n",
        "  else:\n",
        "    true_label_texts.append(vals)\n",
        "\n",
        "for vals in pred_label_idxs:\n",
        "  if vals:\n",
        "    pred_label_texts.append([idx2label[val] for val in vals])\n",
        "  else:\n",
        "    pred_label_texts.append(vals)"
      ],
      "execution_count": null,
      "outputs": []
    },
    {
      "cell_type": "code",
      "metadata": {
        "id": "5HaqV6pn_HCG"
      },
      "source": [
        "# Decoding input ids to comment text\n",
        "comment_texts = [tokenizer.decode(text,skip_special_tokens=True,clean_up_tokenization_spaces=False) for text in tokenized_texts]"
      ],
      "execution_count": null,
      "outputs": []
    },
    {
      "cell_type": "code",
      "metadata": {
        "id": "R7kk0Mgl1L-T"
      },
      "source": [
        "# Converting lists to df\n",
        "comparisons_df = pd.DataFrame({'comment_text': comment_texts, 'true_labels': true_label_texts, 'pred_labels':pred_label_texts})\n",
        "comparisons_df.to_csv('comparisons.csv')\n",
        "comparisons_df.head()"
      ],
      "execution_count": null,
      "outputs": []
    },
    {
      "cell_type": "markdown",
      "metadata": {
        "id": "PWFd18u3zlF8"
      },
      "source": [
        "## Bonus - Optimizing threshold value for micro F1 score"
      ]
    },
    {
      "cell_type": "markdown",
      "metadata": {
        "id": "c6mDy1lw0S4y"
      },
      "source": [
        "Doing this may result in a trade offs between precision, flat accuracy and micro F1 accuracy. You may tune the threshold however you want."
      ]
    },
    {
      "cell_type": "code",
      "metadata": {
        "id": "PHlhb2lvar8V"
      },
      "source": [
        "# Calculate Accuracy - maximize F1 accuracy by tuning threshold values. First with 'macro_thresholds' on the order of e^-1 then with 'micro_thresholds' on the order of e^-2\n",
        "\n",
        "macro_thresholds = np.array(range(1,10))/10\n",
        "\n",
        "f1_results, flat_acc_results = [], []\n",
        "for th in macro_thresholds:\n",
        "  pred_bools = [pl>th for pl in pred_labels]\n",
        "  test_f1_accuracy = f1_score(true_bools,pred_bools,average='micro')\n",
        "  test_flat_accuracy = accuracy_score(true_bools, pred_bools)\n",
        "  f1_results.append(test_f1_accuracy)\n",
        "  flat_acc_results.append(test_flat_accuracy)\n",
        "\n",
        "best_macro_th = macro_thresholds[np.argmax(f1_results)] #best macro threshold value\n",
        "\n",
        "micro_thresholds = (np.array(range(10))/100)+best_macro_th #calculating micro threshold values\n",
        "\n",
        "f1_results, flat_acc_results = [], []\n",
        "for th in micro_thresholds:\n",
        "  pred_bools = [pl>th for pl in pred_labels]\n",
        "  test_f1_accuracy = f1_score(true_bools,pred_bools,average='micro')\n",
        "  test_flat_accuracy = accuracy_score(true_bools, pred_bools)\n",
        "  f1_results.append(test_f1_accuracy)\n",
        "  flat_acc_results.append(test_flat_accuracy)\n",
        "\n",
        "best_f1_idx = np.argmax(f1_results) #best threshold value\n",
        "\n",
        "# Printing and saving classification report\n",
        "print('Best Threshold: ', micro_thresholds[best_f1_idx])\n",
        "print('Test F1 Accuracy: ', f1_results[best_f1_idx])\n",
        "print('Test Flat Accuracy: ', flat_acc_results[best_f1_idx], '\\n')\n",
        "\n",
        "best_pred_bools = [pl>micro_thresholds[best_f1_idx] for pl in pred_labels]\n",
        "clf_report_optimized = classification_report(true_bools,best_pred_bools, target_names=label_cols)\n",
        "pickle.dump(clf_report_optimized, open('classification_report_optimized.txt','wb'))\n",
        "print(clf_report_optimized)"
      ],
      "execution_count": null,
      "outputs": []
    },
    {
      "cell_type": "code",
      "metadata": {
        "id": "oBg6UCYAYtIe"
      },
      "source": [],
      "execution_count": null,
      "outputs": []
    }
  ]
}